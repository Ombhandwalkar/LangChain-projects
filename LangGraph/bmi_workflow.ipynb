{
 "cells": [
  {
   "cell_type": "code",
   "execution_count": 1,
   "id": "c3db1637",
   "metadata": {},
   "outputs": [],
   "source": [
    "from langgraph.graph import StateGraph, START,END\n",
    "from typing import TypedDict"
   ]
  },
  {
   "cell_type": "code",
   "execution_count": 9,
   "id": "591bf333",
   "metadata": {},
   "outputs": [],
   "source": [
    "# Define Type\n",
    "class bmi_workflow(TypedDict):\n",
    "    weight: float\n",
    "    height: float\n",
    "    bmi: float\n",
    "    category: str "
   ]
  },
  {
   "cell_type": "code",
   "execution_count": 10,
   "id": "bf49bc51",
   "metadata": {},
   "outputs": [],
   "source": [
    "def max_value(state:bmi_workflow)->bmi_workflow:\n",
    "    weight= state['weight']\n",
    "    height= state['height']\n",
    "    bmi= weight/(height**2)\n",
    "    state['bmi']= round(bmi) \n",
    "    return state"
   ]
  },
  {
   "cell_type": "code",
   "execution_count": 11,
   "id": "ee09a97c",
   "metadata": {},
   "outputs": [],
   "source": [
    "def bmi_category(state:bmi_workflow)->bmi_workflow:\n",
    "    bmi= state['bmi']\n",
    "\n",
    "    if bmi < 18.5:\n",
    "        state['category']='Underweight'\n",
    "    elif 18.5< bmi >30:\n",
    "        state['category']='Normal'\n",
    "    else:\n",
    "        state['category']='Overwight'\n",
    "\n",
    "    return state"
   ]
  },
  {
   "cell_type": "code",
   "execution_count": 12,
   "id": "5d4a953f",
   "metadata": {},
   "outputs": [],
   "source": [
    "# Define your Graph\n",
    "graph= StateGraph(bmi_workflow)\n",
    "\n",
    "# Define Nodes\n",
    "graph.add_node('max_value',max_value)\n",
    "graph.add_node('bmi_category',bmi_category)\n",
    "\n",
    "# Add edges\n",
    "graph.add_edge(START, 'max_value')\n",
    "graph.add_edge('max_value','bmi_category')\n",
    "graph.add_edge('bmi_category',END)\n",
    "\n",
    "work= graph.compile()"
   ]
  },
  {
   "cell_type": "code",
   "execution_count": 13,
   "id": "50c7a39c",
   "metadata": {},
   "outputs": [
    {
     "name": "stdout",
     "output_type": "stream",
     "text": [
      "<langgraph.graph.state.CompiledStateGraph object at 0x000001A4301445F0>\n"
     ]
    }
   ],
   "source": [
    "print(work)"
   ]
  },
  {
   "cell_type": "code",
   "execution_count": 14,
   "id": "c4177805",
   "metadata": {},
   "outputs": [
    {
     "data": {
      "text/plain": [
       "{'weight': 72.4, 'height': 1.5, 'bmi': 32, 'category': 'Normal'}"
      ]
     },
     "execution_count": 14,
     "metadata": {},
     "output_type": "execute_result"
    }
   ],
   "source": [
    "stage={'weight':72.4,'height':1.5}\n",
    "work.invoke(stage)"
   ]
  },
  {
   "cell_type": "code",
   "execution_count": null,
   "id": "e20b60cb",
   "metadata": {},
   "outputs": [],
   "source": []
  }
 ],
 "metadata": {
  "kernelspec": {
   "display_name": "myenv",
   "language": "python",
   "name": "python3"
  },
  "language_info": {
   "codemirror_mode": {
    "name": "ipython",
    "version": 3
   },
   "file_extension": ".py",
   "mimetype": "text/x-python",
   "name": "python",
   "nbconvert_exporter": "python",
   "pygments_lexer": "ipython3",
   "version": "3.12.3"
  }
 },
 "nbformat": 4,
 "nbformat_minor": 5
}
