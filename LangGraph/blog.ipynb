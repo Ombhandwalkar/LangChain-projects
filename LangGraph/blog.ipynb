{
 "cells": [
  {
   "cell_type": "code",
   "execution_count": 2,
   "id": "d1278dca",
   "metadata": {},
   "outputs": [],
   "source": [
    "from langgraph.graph import StateGraph, START, END\n",
    "from langchain_google_genai import ChatGoogleGenerativeAI\n",
    "from typing import TypedDict\n",
    "from dotenv import load_dotenv\n",
    "load_dotenv()\n",
    "model= ChatGoogleGenerativeAI(model='gemini-1.5-flash')"
   ]
  },
  {
   "cell_type": "code",
   "execution_count": 4,
   "id": "7c484d51",
   "metadata": {},
   "outputs": [],
   "source": [
    "# To define the input/output structure, we define the TypeDict\n",
    "class BlogStage(TypedDict):\n",
    "    title:str \n",
    "    outline:str \n",
    "    content:str "
   ]
  },
  {
   "cell_type": "code",
   "execution_count": 11,
   "id": "115bb266",
   "metadata": {},
   "outputs": [],
   "source": [
    "# Create fiest Node\n",
    "def create_outline(state:BlogStage):\n",
    "    title=state['title']\n",
    "\n",
    "    prompt=f\"On the title {title} create the outline for it\"\n",
    "\n",
    "    outline= model.invoke(prompt)\n",
    "    state['outline']=outline\n",
    "    return state"
   ]
  },
  {
   "cell_type": "code",
   "execution_count": 12,
   "id": "c39704d4",
   "metadata": {},
   "outputs": [],
   "source": [
    "# Create Blog- Second node\n",
    "def create_blog(state:BlogStage):\n",
    "    title=state['title']\n",
    "    outline=state['outline']\n",
    "    \n",
    "    prompt=f\"On the basis of {title} and {outline} create a content\"\n",
    "\n",
    "    blog=model.invoke(prompt)\n",
    "    state['content']=blog\n",
    "    return state"
   ]
  },
  {
   "cell_type": "code",
   "execution_count": 13,
   "id": "2ab45a68",
   "metadata": {},
   "outputs": [],
   "source": [
    "# Create a Graph\n",
    "graph= StateGraph(BlogStage)\n",
    "\n",
    "# Create a Node\n",
    "graph.add_node('create_outline',create_outline)\n",
    "graph.add_node('create_blog',create_blog)\n",
    "\n",
    "# Create Edge- Connects the workfunction\n",
    "graph.add_edge(START,'create_outline')\n",
    "graph.add_edge('create_outline','create_blog')\n",
    "graph.add_edge('create_blog',END)\n",
    "\n",
    "workflow= graph.compile()"
   ]
  },
  {
   "cell_type": "code",
   "execution_count": 14,
   "id": "22ea8db4",
   "metadata": {},
   "outputs": [
    {
     "name": "stdout",
     "output_type": "stream",
     "text": [
      "content=\"## Rise of AI in India: Outline\\n\\n**I. Introduction**\\n    * Briefly define Artificial Intelligence (AI) and its various applications.\\n    * Highlight India's growing importance in the global tech landscape.\\n    * Thesis statement:  The rise of AI in India is driven by a confluence of factors, including government initiatives, a burgeoning talent pool, increasing investment, and a vast data landscape, presenting both significant opportunities and challenges.\\n\\n**II. Drivers of AI Growth in India**\\n    * **A. Government Initiatives:**\\n        * National AI Strategy/Policy (mention specific policies and their impact)\\n        * Funding and grants for AI research and development\\n        * Digital India program and its role in creating AI-ready infrastructure\\n        * Initiatives promoting AI education and skill development\\n    * **B. Talent Pool:**\\n        * Large pool of skilled engineers and scientists\\n        * Growing number of AI graduates and researchers from top universities\\n        * Increasing participation in international AI competitions and conferences\\n        * Brain drain vs. brain gain – discussion on talent retention and attraction\\n    * **C. Investment and Funding:**\\n        * Rise of venture capital and private equity investment in Indian AI startups\\n        * Government funding and support for AI research and development\\n        * Foreign direct investment in the Indian AI sector\\n    * **D. Data Availability:**\\n        * Large and diverse population generating massive amounts of data\\n        * Opportunities in data analytics and AI-driven insights across various sectors\\n        * Data privacy concerns and regulations – balancing innovation with ethical considerations\\n\\n**III. Applications of AI in India**\\n    * **A. Specific Sectors:**\\n        * Agriculture (precision farming, crop yield prediction)\\n        * Healthcare (disease diagnosis, drug discovery, personalized medicine)\\n        * Finance (fraud detection, algorithmic trading, risk management)\\n        * Education (personalized learning, automated grading)\\n        * Transportation (autonomous vehicles, traffic management)\\n        * E-commerce (recommendation systems, customer service chatbots)\\n        * Manufacturing (predictive maintenance, automation)\\n    * **B. Case Studies:**  Showcase successful examples of AI implementation in India across different sectors.\\n\\n**IV. Challenges and Concerns**\\n    * **A. Infrastructure limitations:** Access to high-speed internet and computing power in certain regions.\\n    * **B. Ethical considerations:** Bias in algorithms, job displacement, data privacy and security.\\n    * **C. Skill gap:** Need for upskilling and reskilling the workforce to meet the demands of the AI industry.\\n    * **D. Regulatory framework:** Developing robust regulations to govern the use of AI and address ethical concerns.\\n    * **E. Competition:** Global competition from established AI players.\\n\\n\\n**V. Future Outlook and Conclusion**\\n    * Potential for future growth and innovation in the Indian AI sector.\\n    * Predictions for the impact of AI on the Indian economy and society.\\n    * Recommendations for fostering responsible and inclusive AI development in India.\\n    * Summarize the key arguments and reiterate the significance of AI's rise in India.\\n\\n\\nThis outline provides a framework; you can adjust the depth and focus of each section based on your specific needs and the available information.  Remember to cite your sources appropriately.\" additional_kwargs={} response_metadata={'prompt_feedback': {'block_reason': 0, 'safety_ratings': []}, 'finish_reason': 'STOP', 'model_name': 'gemini-1.5-flash', 'safety_ratings': []} id='run--a380dd31-1e66-437b-ad13-1b1d07756e64-0' usage_metadata={'input_tokens': 13, 'output_tokens': 674, 'total_tokens': 687, 'input_token_details': {'cache_read': 0}}\n",
      "content=\"## Rise of AI in India: A Comprehensive Overview\\n\\n**I. Introduction**\\n\\nArtificial intelligence (AI) is rapidly transforming industries globally.  AI encompasses a broad range of technologies, including machine learning, deep learning, natural language processing, and computer vision, enabling machines to mimic human intelligence and perform tasks that typically require human cognitive abilities.  India, already a significant player in the global technology landscape, is experiencing a remarkable surge in AI adoption and development, driven by a confluence of factors. This paper argues that the rise of AI in India is fueled by strategic government initiatives, a burgeoning pool of skilled professionals, substantial investment, and the availability of vast datasets, presenting both unprecedented opportunities and significant challenges for the nation's future.\\n\\n\\n**II. Drivers of AI Growth in India**\\n\\n**A. Government Initiatives:** The Indian government has recognized AI's transformative potential and has launched several initiatives to foster its growth.  The National AI Strategy, for example, outlines a comprehensive roadmap for AI development, including investments in research and infrastructure.  Specific policies like the Digital India program have played a crucial role in creating the necessary digital infrastructure to support AI applications.  Furthermore, government funding and grants are actively supporting AI research and development across various institutions, promoting innovation and technological advancements.  Initiatives focusing on AI education and skill development are also crucial, ensuring a future workforce equipped to leverage AI technologies.\\n\\n**B. Talent Pool:** India boasts a large and skilled workforce, particularly in engineering and technology.  A growing number of graduates and researchers from leading Indian universities are specializing in AI, contributing to a burgeoning pool of talent.  Increased participation in international AI competitions and conferences showcases India's growing expertise and fosters collaboration on a global scale. While concerns exist regarding brain drain – the emigration of skilled professionals – India is actively working to attract and retain talent through competitive salaries, research opportunities, and a supportive ecosystem.\\n\\n**C. Investment and Funding:**  The Indian AI sector is attracting significant investment. Venture capital and private equity firms are increasingly investing in Indian AI startups, fueling innovation and growth.  Government funding, coupled with foreign direct investment, further strengthens the financial backing for AI research and development.  This influx of capital is essential for translating research into commercially viable products and services.\\n\\n**D. Data Availability:** India's large and diverse population generates an enormous amount of data, providing a rich resource for training and developing AI models.  This data holds immense potential for data analytics and AI-driven insights across various sectors, from healthcare and finance to agriculture and e-commerce.  However, this abundance of data also necessitates a robust regulatory framework to address concerns about data privacy and security, ensuring ethical and responsible data usage.\\n\\n\\n**III. Applications of AI in India**\\n\\n**A. Specific Sectors:** AI is rapidly transforming various sectors in India.  In agriculture, AI-powered solutions are improving crop yield prediction and enabling precision farming techniques.  Healthcare benefits from AI-driven disease diagnosis, drug discovery, and personalized medicine.  The finance sector utilizes AI for fraud detection, algorithmic trading, and risk management.  Education is leveraging AI for personalized learning and automated grading.  Transportation is exploring autonomous vehicles and AI-powered traffic management systems.  E-commerce employs AI for recommendation systems and customer service chatbots.  Manufacturing benefits from AI-driven predictive maintenance and automation.\\n\\n**B. Case Studies:**  [This section requires specific examples of successful AI implementations in India.  For instance, mention specific companies utilizing AI in the aforementioned sectors, highlighting their achievements and impact.  Include quantifiable results wherever possible.]\\n\\n\\n**IV. Challenges and Concerns**\\n\\n**A. Infrastructure Limitations:**  Uneven access to high-speed internet and computing power, particularly in rural areas, poses a significant challenge.\\n\\n**B. Ethical Considerations:**  Bias in algorithms, potential job displacement, and concerns around data privacy and security require careful consideration and robust ethical guidelines.\\n\\n**C. Skill Gap:**  The rapid growth of the AI sector necessitates upskilling and reskilling initiatives to bridge the existing skill gap and ensure a workforce equipped to meet the demands of the industry.\\n\\n**D. Regulatory Framework:**  A comprehensive and adaptable regulatory framework is crucial to govern the responsible development and deployment of AI, addressing ethical concerns and promoting innovation.\\n\\n**E. Competition:**  India faces global competition from established AI players, requiring strategic planning and focused efforts to maintain a competitive edge.\\n\\n\\n**V. Future Outlook and Conclusion**\\n\\nThe future of AI in India is promising.  Continued government support, private investment, and a growing talent pool position India to become a global leader in AI.  AI is predicted to significantly contribute to India's economic growth and societal transformation.  However, addressing the challenges related to infrastructure, ethics, skills, and regulation is crucial for fostering responsible and inclusive AI development.  A focus on collaboration between academia, industry, and the government will be vital in navigating these challenges and realizing the full potential of AI for the benefit of all Indians.  The rise of AI in India is not merely a technological advancement but a societal transformation, requiring careful planning and execution to ensure its benefits are widely shared.\" additional_kwargs={} response_metadata={'prompt_feedback': {'block_reason': 0, 'safety_ratings': []}, 'finish_reason': 'STOP', 'model_name': 'gemini-1.5-flash', 'safety_ratings': []} id='run--e4adc707-8907-474d-913f-1e88779fbad0-0' usage_metadata={'input_tokens': 872, 'output_tokens': 1052, 'total_tokens': 1924, 'input_token_details': {'cache_read': 0}}\n"
     ]
    }
   ],
   "source": [
    "prompt={'title':\"Rise of AI in India\"}\n",
    "answer= workflow.invoke(prompt)\n",
    "print(answer['outline'])\n",
    "print(answer['content'])"
   ]
  },
  {
   "cell_type": "code",
   "execution_count": null,
   "id": "80f23ea9",
   "metadata": {},
   "outputs": [],
   "source": []
  }
 ],
 "metadata": {
  "kernelspec": {
   "display_name": "myenv",
   "language": "python",
   "name": "python3"
  },
  "language_info": {
   "codemirror_mode": {
    "name": "ipython",
    "version": 3
   },
   "file_extension": ".py",
   "mimetype": "text/x-python",
   "name": "python",
   "nbconvert_exporter": "python",
   "pygments_lexer": "ipython3",
   "version": "3.12.3"
  }
 },
 "nbformat": 4,
 "nbformat_minor": 5
}
