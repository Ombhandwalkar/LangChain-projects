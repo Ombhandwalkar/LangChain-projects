{
 "cells": [
  {
   "cell_type": "code",
   "execution_count": 24,
   "id": "911c1e00",
   "metadata": {},
   "outputs": [],
   "source": [
    "from langgraph.graph import StateGraph, START, END\n",
    "from langgraph.checkpoint.memory import MemorySaver, InMemorySaver\n",
    "from langchain_google_genai import ChatGoogleGenerativeAI\n",
    "from typing import Literal, Annotated, TypedDict\n",
    "from pydantic import BaseModel, Field\n",
    "from dotenv import load_dotenv\n",
    "load_dotenv()\n",
    "import time\n",
    "llm = ChatGoogleGenerativeAI(model='gemini-1.5-flash')"
   ]
  },
  {
   "cell_type": "code",
   "execution_count": 4,
   "id": "8bd94332",
   "metadata": {},
   "outputs": [],
   "source": [
    "class jokestart(TypedDict):\n",
    "    topic: str\n",
    "    joke: str \n",
    "    explaination: str"
   ]
  },
  {
   "cell_type": "code",
   "execution_count": 5,
   "id": "9ffa607d",
   "metadata": {},
   "outputs": [],
   "source": [
    "def generate_joke(state: jokestart):\n",
    "    prompt= f\"Generate a joke on topic - {state['topic']}\"\n",
    "\n",
    "    respone= llm.invoke(prompt).content \n",
    "    return {'joke':respone}"
   ]
  },
  {
   "cell_type": "code",
   "execution_count": 6,
   "id": "cc81f911",
   "metadata": {},
   "outputs": [],
   "source": [
    "def generate_explaination(state:jokestart):\n",
    "    prompt= f\"Generate a explaination on joke - {state['joke']}\"\n",
    "    \n",
    "    response= llm.invoke(prompt).content \n",
    "    return {'explaination':response}\n"
   ]
  },
  {
   "cell_type": "code",
   "execution_count": 11,
   "id": "a82b2d71",
   "metadata": {},
   "outputs": [],
   "source": [
    "graph= StateGraph(jokestart)\n",
    "\n",
    "graph.add_node('generate_joke',generate_joke)\n",
    "graph.add_node('generate_explaination', generate_explaination)\n",
    "\n",
    "graph.add_edge(START, 'generate_joke')\n",
    "graph.add_edge('generate_joke','generate_explaination')\n",
    "graph.add_edge('generate_explaination',END)\n",
    "\n",
    "checkpointer= MemorySaver()\n",
    "\n",
    "workflow= graph.compile(checkpointer=checkpointer)"
   ]
  },
  {
   "cell_type": "code",
   "execution_count": 12,
   "id": "fb9f6b89",
   "metadata": {},
   "outputs": [
    {
     "data": {
      "text/plain": [
       "{'topic': 'pizza',\n",
       " 'joke': \"Why does the pizza slice like the mushroom so much?\\n\\nBecause he's a fungi!\",\n",
       " 'explaination': 'This joke relies on a pun, using the similar-sounding words \"fungi\" and \"fun guy.\"\\n\\n* **Fungi:**  This is the plural of fungus, a type of organism like mushrooms.\\n\\n* **Fun guy:** This is a playful phrase describing someone who is enjoyable to be around.\\n\\nThe joke sets up the expectation that the pizza slice might like the mushroom for some culinary reason.  Instead, the punchline unexpectedly uses \"fungi\" to create a humorous connection to \"fun guy,\" implying the pizza slice enjoys the mushroom\\'s company because the mushroom is a fun companion.  The unexpected shift in meaning is what makes the joke funny.'}"
      ]
     },
     "execution_count": 12,
     "metadata": {},
     "output_type": "execute_result"
    }
   ],
   "source": [
    "config1= {'configurable':{'thread_id':'1'}}\n",
    "workflow.invoke({'topic':'pizza'},config=config1)"
   ]
  },
  {
   "cell_type": "code",
   "execution_count": 13,
   "id": "b09b3e84",
   "metadata": {},
   "outputs": [
    {
     "data": {
      "text/plain": [
       "StateSnapshot(values={'topic': 'pizza', 'joke': \"Why does the pizza slice like the mushroom so much?\\n\\nBecause he's a fungi!\", 'explaination': 'This joke relies on a pun, using the similar-sounding words \"fungi\" and \"fun guy.\"\\n\\n* **Fungi:**  This is the plural of fungus, a type of organism like mushrooms.\\n\\n* **Fun guy:** This is a playful phrase describing someone who is enjoyable to be around.\\n\\nThe joke sets up the expectation that the pizza slice might like the mushroom for some culinary reason.  Instead, the punchline unexpectedly uses \"fungi\" to create a humorous connection to \"fun guy,\" implying the pizza slice enjoys the mushroom\\'s company because the mushroom is a fun companion.  The unexpected shift in meaning is what makes the joke funny.'}, next=(), config={'configurable': {'thread_id': '1', 'checkpoint_ns': '', 'checkpoint_id': '1f06ead1-c3a6-697f-8002-b59025534c99'}}, metadata={'source': 'loop', 'step': 2, 'parents': {}, 'thread_id': '1'}, created_at='2025-08-01T07:57:03.047308+00:00', parent_config={'configurable': {'thread_id': '1', 'checkpoint_ns': '', 'checkpoint_id': '1f06ead1-b676-6e30-8001-4bb5a24c448d'}}, tasks=(), interrupts=())"
      ]
     },
     "execution_count": 13,
     "metadata": {},
     "output_type": "execute_result"
    }
   ],
   "source": [
    "workflow.get_state(config1)"
   ]
  },
  {
   "cell_type": "code",
   "execution_count": 14,
   "id": "cbb69b49",
   "metadata": {},
   "outputs": [
    {
     "data": {
      "text/plain": [
       "[StateSnapshot(values={'topic': 'pizza', 'joke': \"Why does the pizza slice like the mushroom so much?\\n\\nBecause he's a fungi!\", 'explaination': 'This joke relies on a pun, using the similar-sounding words \"fungi\" and \"fun guy.\"\\n\\n* **Fungi:**  This is the plural of fungus, a type of organism like mushrooms.\\n\\n* **Fun guy:** This is a playful phrase describing someone who is enjoyable to be around.\\n\\nThe joke sets up the expectation that the pizza slice might like the mushroom for some culinary reason.  Instead, the punchline unexpectedly uses \"fungi\" to create a humorous connection to \"fun guy,\" implying the pizza slice enjoys the mushroom\\'s company because the mushroom is a fun companion.  The unexpected shift in meaning is what makes the joke funny.'}, next=(), config={'configurable': {'thread_id': '1', 'checkpoint_ns': '', 'checkpoint_id': '1f06ead1-c3a6-697f-8002-b59025534c99'}}, metadata={'source': 'loop', 'step': 2, 'parents': {}, 'thread_id': '1'}, created_at='2025-08-01T07:57:03.047308+00:00', parent_config={'configurable': {'thread_id': '1', 'checkpoint_ns': '', 'checkpoint_id': '1f06ead1-b676-6e30-8001-4bb5a24c448d'}}, tasks=(), interrupts=()),\n",
       " StateSnapshot(values={'topic': 'pizza', 'joke': \"Why does the pizza slice like the mushroom so much?\\n\\nBecause he's a fungi!\"}, next=('generate_explaination',), config={'configurable': {'thread_id': '1', 'checkpoint_ns': '', 'checkpoint_id': '1f06ead1-b676-6e30-8001-4bb5a24c448d'}}, metadata={'source': 'loop', 'step': 1, 'parents': {}, 'thread_id': '1'}, created_at='2025-08-01T07:57:01.664619+00:00', parent_config={'configurable': {'thread_id': '1', 'checkpoint_ns': '', 'checkpoint_id': '1f06ead1-ae8c-68fd-8000-009a895d9dc0'}}, tasks=(PregelTask(id='a5ba29e5-114e-4941-ccc3-82aafac0d01d', name='generate_explaination', path=('__pregel_pull', 'generate_explaination'), error=None, interrupts=(), state=None, result={'explaination': 'This joke relies on a pun, using the similar-sounding words \"fungi\" and \"fun guy.\"\\n\\n* **Fungi:**  This is the plural of fungus, a type of organism like mushrooms.\\n\\n* **Fun guy:** This is a playful phrase describing someone who is enjoyable to be around.\\n\\nThe joke sets up the expectation that the pizza slice might like the mushroom for some culinary reason.  Instead, the punchline unexpectedly uses \"fungi\" to create a humorous connection to \"fun guy,\" implying the pizza slice enjoys the mushroom\\'s company because the mushroom is a fun companion.  The unexpected shift in meaning is what makes the joke funny.'}),), interrupts=()),\n",
       " StateSnapshot(values={'topic': 'pizza'}, next=('generate_joke',), config={'configurable': {'thread_id': '1', 'checkpoint_ns': '', 'checkpoint_id': '1f06ead1-ae8c-68fd-8000-009a895d9dc0'}}, metadata={'source': 'loop', 'step': 0, 'parents': {}, 'thread_id': '1'}, created_at='2025-08-01T07:57:00.834636+00:00', parent_config={'configurable': {'thread_id': '1', 'checkpoint_ns': '', 'checkpoint_id': '1f06ead1-ae87-6cab-bfff-7dca221b51cd'}}, tasks=(PregelTask(id='aeed028b-abbb-01ee-5476-a0c5534fb541', name='generate_joke', path=('__pregel_pull', 'generate_joke'), error=None, interrupts=(), state=None, result={'joke': \"Why does the pizza slice like the mushroom so much?\\n\\nBecause he's a fungi!\"}),), interrupts=()),\n",
       " StateSnapshot(values={}, next=('__start__',), config={'configurable': {'thread_id': '1', 'checkpoint_ns': '', 'checkpoint_id': '1f06ead1-ae87-6cab-bfff-7dca221b51cd'}}, metadata={'source': 'input', 'step': -1, 'parents': {}, 'thread_id': '1'}, created_at='2025-08-01T07:57:00.832682+00:00', parent_config=None, tasks=(PregelTask(id='2e514fa8-b972-74e6-bce6-70d589a2b0f7', name='__start__', path=('__pregel_pull', '__start__'), error=None, interrupts=(), state=None, result={'topic': 'pizza'}),), interrupts=())]"
      ]
     },
     "execution_count": 14,
     "metadata": {},
     "output_type": "execute_result"
    }
   ],
   "source": [
    "list(workflow.get_state_history(config1))"
   ]
  },
  {
   "cell_type": "code",
   "execution_count": 15,
   "id": "5c58f0f1",
   "metadata": {},
   "outputs": [
    {
     "data": {
      "text/plain": [
       "{'topic': 'pasta',\n",
       " 'joke': \"Why did the Italian chef quit his job?  Because he didn't get enough *pasta*bilities!\",\n",
       " 'explaination': 'This joke relies on a pun, using the similar-sounding words \"pasta\" and \"possibilities.\"\\n\\nThe setup creates an expectation of a typical reason for quitting a job, perhaps low pay or difficult working conditions.  Instead, the punchline uses \"pasta-bilities\" – a playful combination of \"pasta\" (a key ingredient in Italian cuisine) and \"possibilities\" – to imply the chef felt his job lacked opportunities or creative freedom.  The humor comes from the unexpected and slightly absurd connection between the culinary world and the concept of career prospects.  It\\'s funny because it\\'s a clever wordplay that subverts the initial serious tone of the question.'}"
      ]
     },
     "execution_count": 15,
     "metadata": {},
     "output_type": "execute_result"
    }
   ],
   "source": [
    "config2 = {\"configurable\": {\"thread_id\": \"2\"}}\n",
    "workflow.invoke({'topic':'pasta'}, config=config2)"
   ]
  },
  {
   "cell_type": "code",
   "execution_count": 16,
   "id": "47e5d075",
   "metadata": {},
   "outputs": [
    {
     "data": {
      "text/plain": [
       "StateSnapshot(values={'topic': 'pizza', 'joke': \"Why does the pizza slice like the mushroom so much?\\n\\nBecause he's a fungi!\", 'explaination': 'This joke relies on a pun, using the similar-sounding words \"fungi\" and \"fun guy.\"\\n\\n* **Fungi:**  This is the plural of fungus, a type of organism like mushrooms.\\n\\n* **Fun guy:** This is a playful phrase describing someone who is enjoyable to be around.\\n\\nThe joke sets up the expectation that the pizza slice might like the mushroom for some culinary reason.  Instead, the punchline unexpectedly uses \"fungi\" to create a humorous connection to \"fun guy,\" implying the pizza slice enjoys the mushroom\\'s company because the mushroom is a fun companion.  The unexpected shift in meaning is what makes the joke funny.'}, next=(), config={'configurable': {'thread_id': '1', 'checkpoint_ns': '', 'checkpoint_id': '1f06ead1-c3a6-697f-8002-b59025534c99'}}, metadata={'source': 'loop', 'step': 2, 'parents': {}, 'thread_id': '1'}, created_at='2025-08-01T07:57:03.047308+00:00', parent_config={'configurable': {'thread_id': '1', 'checkpoint_ns': '', 'checkpoint_id': '1f06ead1-b676-6e30-8001-4bb5a24c448d'}}, tasks=(), interrupts=())"
      ]
     },
     "execution_count": 16,
     "metadata": {},
     "output_type": "execute_result"
    }
   ],
   "source": [
    "workflow.get_state(config1)"
   ]
  },
  {
   "cell_type": "markdown",
   "id": "86d67489",
   "metadata": {},
   "source": [
    "# Time Travel"
   ]
  },
  {
   "cell_type": "code",
   "execution_count": 17,
   "id": "befebb21",
   "metadata": {},
   "outputs": [
    {
     "data": {
      "text/plain": [
       "StateSnapshot(values={'topic': 'pizza', 'joke': \"Why does the pizza slice like the mushroom so much?\\n\\nBecause he's a fungi!\"}, next=('generate_explaination',), config={'configurable': {'thread_id': '1', 'checkpoint_id': '1f06ead1-b676-6e30-8001-4bb5a24c448d'}}, metadata={'source': 'loop', 'step': 1, 'parents': {}, 'thread_id': '1'}, created_at='2025-08-01T07:57:01.664619+00:00', parent_config={'configurable': {'thread_id': '1', 'checkpoint_ns': '', 'checkpoint_id': '1f06ead1-ae8c-68fd-8000-009a895d9dc0'}}, tasks=(PregelTask(id='a5ba29e5-114e-4941-ccc3-82aafac0d01d', name='generate_explaination', path=('__pregel_pull', 'generate_explaination'), error=None, interrupts=(), state=None, result={'explaination': 'This joke relies on a pun, using the similar-sounding words \"fungi\" and \"fun guy.\"\\n\\n* **Fungi:**  This is the plural of fungus, a type of organism like mushrooms.\\n\\n* **Fun guy:** This is a playful phrase describing someone who is enjoyable to be around.\\n\\nThe joke sets up the expectation that the pizza slice might like the mushroom for some culinary reason.  Instead, the punchline unexpectedly uses \"fungi\" to create a humorous connection to \"fun guy,\" implying the pizza slice enjoys the mushroom\\'s company because the mushroom is a fun companion.  The unexpected shift in meaning is what makes the joke funny.'}),), interrupts=())"
      ]
     },
     "execution_count": 17,
     "metadata": {},
     "output_type": "execute_result"
    }
   ],
   "source": [
    "workflow.get_state({\"configurable\": {\"thread_id\": \"1\", \"checkpoint_id\": \"1f06ead1-b676-6e30-8001-4bb5a24c448d\"}})"
   ]
  },
  {
   "cell_type": "code",
   "execution_count": 18,
   "id": "7ad25978",
   "metadata": {},
   "outputs": [
    {
     "data": {
      "text/plain": [
       "{'topic': 'pizza',\n",
       " 'joke': \"Why does the pizza slice like the mushroom so much?\\n\\nBecause he's a fungi!\",\n",
       " 'explaination': 'This joke relies on a pun, using the similar-sounding words \"fungi\" and \"fun guy.\"\\n\\n* **Fungi:**  Refers to a kingdom of organisms including mushrooms, molds, and yeasts.\\n* **Fun guy:**  Means a person who is enjoyable to be around, someone who is fun.\\n\\nThe joke sets up the expectation that the pizza slice liking the mushroom will have a straightforward, possibly culinary, explanation.  Instead, it uses the word \"fungi\" to create a humorous double meaning, implying the pizza slice enjoys the mushroom\\'s company because the mushroom is a \"fun guy.\"  The unexpected shift from a literal to a playful interpretation is what makes the joke funny.'}"
      ]
     },
     "execution_count": 18,
     "metadata": {},
     "output_type": "execute_result"
    }
   ],
   "source": [
    "workflow.invoke(None, {'configurable':{'thread_id':'1', 'checkpoint_id':'1f06ead1-b676-6e30-8001-4bb5a24c448d'}})"
   ]
  },
  {
   "cell_type": "code",
   "execution_count": 19,
   "id": "7f13bb50",
   "metadata": {},
   "outputs": [
    {
     "data": {
      "text/plain": [
       "[StateSnapshot(values={'topic': 'pizza', 'joke': \"Why does the pizza slice like the mushroom so much?\\n\\nBecause he's a fungi!\", 'explaination': 'This joke relies on a pun, using the similar-sounding words \"fungi\" and \"fun guy.\"\\n\\n* **Fungi:**  Refers to a kingdom of organisms including mushrooms, molds, and yeasts.\\n* **Fun guy:**  Means a person who is enjoyable to be around, someone who is fun.\\n\\nThe joke sets up the expectation that the pizza slice liking the mushroom will have a straightforward, possibly culinary, explanation.  Instead, it uses the word \"fungi\" to create a humorous double meaning, implying the pizza slice enjoys the mushroom\\'s company because the mushroom is a \"fun guy.\"  The unexpected shift from a literal to a playful interpretation is what makes the joke funny.'}, next=(), config={'configurable': {'thread_id': '1', 'checkpoint_ns': '', 'checkpoint_id': '1f06ead7-fd3e-6e1d-8002-d686eae6322b'}}, metadata={'source': 'loop', 'step': 2, 'parents': {}, 'thread_id': '1'}, created_at='2025-08-01T07:59:50.147842+00:00', parent_config={'configurable': {'thread_id': '1', 'checkpoint_ns': '', 'checkpoint_id': '1f06ead1-b676-6e30-8001-4bb5a24c448d'}}, tasks=(), interrupts=()),\n",
       " StateSnapshot(values={'topic': 'pizza', 'joke': \"Why does the pizza slice like the mushroom so much?\\n\\nBecause he's a fungi!\", 'explaination': 'This joke relies on a pun, using the similar-sounding words \"fungi\" and \"fun guy.\"\\n\\n* **Fungi:**  This is the plural of fungus, a type of organism like mushrooms.\\n\\n* **Fun guy:** This is a playful phrase describing someone who is enjoyable to be around.\\n\\nThe joke sets up the expectation that the pizza slice might like the mushroom for some culinary reason.  Instead, the punchline unexpectedly uses \"fungi\" to create a humorous connection to \"fun guy,\" implying the pizza slice enjoys the mushroom\\'s company because the mushroom is a fun companion.  The unexpected shift in meaning is what makes the joke funny.'}, next=(), config={'configurable': {'thread_id': '1', 'checkpoint_ns': '', 'checkpoint_id': '1f06ead1-c3a6-697f-8002-b59025534c99'}}, metadata={'source': 'loop', 'step': 2, 'parents': {}, 'thread_id': '1'}, created_at='2025-08-01T07:57:03.047308+00:00', parent_config={'configurable': {'thread_id': '1', 'checkpoint_ns': '', 'checkpoint_id': '1f06ead1-b676-6e30-8001-4bb5a24c448d'}}, tasks=(), interrupts=()),\n",
       " StateSnapshot(values={'topic': 'pizza', 'joke': \"Why does the pizza slice like the mushroom so much?\\n\\nBecause he's a fungi!\"}, next=('generate_explaination',), config={'configurable': {'thread_id': '1', 'checkpoint_ns': '', 'checkpoint_id': '1f06ead1-b676-6e30-8001-4bb5a24c448d'}}, metadata={'source': 'loop', 'step': 1, 'parents': {}, 'thread_id': '1'}, created_at='2025-08-01T07:57:01.664619+00:00', parent_config={'configurable': {'thread_id': '1', 'checkpoint_ns': '', 'checkpoint_id': '1f06ead1-ae8c-68fd-8000-009a895d9dc0'}}, tasks=(PregelTask(id='a5ba29e5-114e-4941-ccc3-82aafac0d01d', name='generate_explaination', path=('__pregel_pull', 'generate_explaination'), error=None, interrupts=(), state=None, result={'explaination': 'This joke relies on a pun, using the similar-sounding words \"fungi\" and \"fun guy.\"\\n\\n* **Fungi:**  This is the plural of fungus, a type of organism like mushrooms.\\n\\n* **Fun guy:** This is a playful phrase describing someone who is enjoyable to be around.\\n\\nThe joke sets up the expectation that the pizza slice might like the mushroom for some culinary reason.  Instead, the punchline unexpectedly uses \"fungi\" to create a humorous connection to \"fun guy,\" implying the pizza slice enjoys the mushroom\\'s company because the mushroom is a fun companion.  The unexpected shift in meaning is what makes the joke funny.'}),), interrupts=()),\n",
       " StateSnapshot(values={'topic': 'pizza'}, next=('generate_joke',), config={'configurable': {'thread_id': '1', 'checkpoint_ns': '', 'checkpoint_id': '1f06ead1-ae8c-68fd-8000-009a895d9dc0'}}, metadata={'source': 'loop', 'step': 0, 'parents': {}, 'thread_id': '1'}, created_at='2025-08-01T07:57:00.834636+00:00', parent_config={'configurable': {'thread_id': '1', 'checkpoint_ns': '', 'checkpoint_id': '1f06ead1-ae87-6cab-bfff-7dca221b51cd'}}, tasks=(PregelTask(id='aeed028b-abbb-01ee-5476-a0c5534fb541', name='generate_joke', path=('__pregel_pull', 'generate_joke'), error=None, interrupts=(), state=None, result={'joke': \"Why does the pizza slice like the mushroom so much?\\n\\nBecause he's a fungi!\"}),), interrupts=()),\n",
       " StateSnapshot(values={}, next=('__start__',), config={'configurable': {'thread_id': '1', 'checkpoint_ns': '', 'checkpoint_id': '1f06ead1-ae87-6cab-bfff-7dca221b51cd'}}, metadata={'source': 'input', 'step': -1, 'parents': {}, 'thread_id': '1'}, created_at='2025-08-01T07:57:00.832682+00:00', parent_config=None, tasks=(PregelTask(id='2e514fa8-b972-74e6-bce6-70d589a2b0f7', name='__start__', path=('__pregel_pull', '__start__'), error=None, interrupts=(), state=None, result={'topic': 'pizza'}),), interrupts=())]"
      ]
     },
     "execution_count": 19,
     "metadata": {},
     "output_type": "execute_result"
    }
   ],
   "source": [
    "list(workflow.get_state_history(config1))"
   ]
  },
  {
   "cell_type": "markdown",
   "id": "74bf66ec",
   "metadata": {},
   "source": [
    "# Fault Tolerance"
   ]
  },
  {
   "cell_type": "code",
   "execution_count": 21,
   "id": "c5e24790",
   "metadata": {},
   "outputs": [],
   "source": [
    "class CrashState(TypedDict):\n",
    "    input: str\n",
    "    step1: str \n",
    "    step2: str "
   ]
  },
  {
   "cell_type": "code",
   "execution_count": 22,
   "id": "f6508501",
   "metadata": {},
   "outputs": [],
   "source": [
    "# 2. Define steps\n",
    "def step_1(state: CrashState) -> CrashState:\n",
    "    print(\"✅ Step 1 executed\")\n",
    "    return {\"step1\": \"done\", \"input\": state[\"input\"]}\n",
    "\n",
    "def step_2(state: CrashState) -> CrashState:\n",
    "    print(\"⏳ Step 2 hanging... now manually interrupt from the notebook toolbar (STOP button)\")\n",
    "    time.sleep(1000)  # Simulate long-running hang\n",
    "    return {\"step2\": \"done\"}\n",
    "\n",
    "def step_3(state: CrashState) -> CrashState:\n",
    "    print(\"✅ Step 3 executed\")\n",
    "    return {\"done\": True}"
   ]
  },
  {
   "cell_type": "code",
   "execution_count": 25,
   "id": "c5d51780",
   "metadata": {},
   "outputs": [],
   "source": [
    "# 3. Build the graph\n",
    "builder = StateGraph(CrashState)\n",
    "builder.add_node(\"step_1\", step_1)\n",
    "builder.add_node(\"step_2\", step_2)\n",
    "builder.add_node(\"step_3\", step_3)\n",
    "\n",
    "builder.set_entry_point(\"step_1\")\n",
    "builder.add_edge(\"step_1\", \"step_2\")\n",
    "builder.add_edge(\"step_2\", \"step_3\")\n",
    "builder.add_edge(\"step_3\", END)\n",
    "\n",
    "checkpointer = InMemorySaver()\n",
    "graph = builder.compile(checkpointer=checkpointer)"
   ]
  },
  {
   "cell_type": "code",
   "execution_count": 26,
   "id": "d121ea45",
   "metadata": {},
   "outputs": [
    {
     "name": "stdout",
     "output_type": "stream",
     "text": [
      "▶️ Running graph: Please manually interrupt during Step 2...\n",
      "✅ Step 1 executed\n",
      "⏳ Step 2 hanging... now manually interrupt from the notebook toolbar (STOP button)\n",
      "❌ Kernel manually interrupted (crash simulated).\n"
     ]
    }
   ],
   "source": [
    "try:\n",
    "    print(\"▶️ Running graph: Please manually interrupt during Step 2...\")\n",
    "    graph.invoke({\"input\": \"start\"}, config={\"configurable\": {\"thread_id\": 'thread-1'}})\n",
    "except KeyboardInterrupt:\n",
    "    print(\"❌ Kernel manually interrupted (crash simulated).\")"
   ]
  },
  {
   "cell_type": "code",
   "execution_count": null,
   "id": "21fa25d6",
   "metadata": {},
   "outputs": [],
   "source": [
    "# 6. Re-run to show fault-tolerant resume\n",
    "print(\"\\n🔁 Re-running the graph to demonstrate fault tolerance...\")\n",
    "final_state = graph.invoke(None, config={\"configurable\": {\"thread_id\": 'thread-1'}})\n",
    "print(\"\\n✅ Final State:\", final_state)"
   ]
  }
 ],
 "metadata": {
  "kernelspec": {
   "display_name": "myenv",
   "language": "python",
   "name": "python3"
  },
  "language_info": {
   "codemirror_mode": {
    "name": "ipython",
    "version": 3
   },
   "file_extension": ".py",
   "mimetype": "text/x-python",
   "name": "python",
   "nbconvert_exporter": "python",
   "pygments_lexer": "ipython3",
   "version": "3.12.3"
  }
 },
 "nbformat": 4,
 "nbformat_minor": 5
}
