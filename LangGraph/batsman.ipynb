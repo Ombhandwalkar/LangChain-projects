{
 "cells": [
  {
   "cell_type": "code",
   "execution_count": 1,
   "id": "870606f6",
   "metadata": {},
   "outputs": [],
   "source": [
    "from langgraph.graph import StateGraph, START, END\n",
    "from typing import TypedDict\n"
   ]
  },
  {
   "cell_type": "code",
   "execution_count": 2,
   "id": "b0b5a09b",
   "metadata": {},
   "outputs": [],
   "source": [
    "class batsman_score(TypedDict):\n",
    "    runs:int\n",
    "    balls:int\n",
    "    boundery:int\n",
    "    six:int \n",
    "\n",
    "    sr:float\n",
    "    bnp:float\n",
    "    bounder_percent:float\n",
    "    summary:str "
   ]
  },
  {
   "cell_type": "code",
   "execution_count": 8,
   "id": "6747832a",
   "metadata": {},
   "outputs": [],
   "source": [
    "def srr (state:batsman_score):\n",
    "    sr= (state['runs']/state['balls'])*100\n",
    "    state['sr']=sr \n",
    "    return state['sr']\n"
   ]
  },
  {
   "cell_type": "code",
   "execution_count": 9,
   "id": "03b0f36a",
   "metadata": {},
   "outputs": [],
   "source": [
    "def bnpp(state:batsman_score):\n",
    "    bnp=((state['balls'])/(state['boundery']+ state['six']))*100\n",
    "    state['bnp']=bnp\n",
    "\n",
    "    return state['bnp']"
   ]
  },
  {
   "cell_type": "code",
   "execution_count": 10,
   "id": "6fc501f8",
   "metadata": {},
   "outputs": [],
   "source": [
    "def boundery_per(state:batsman_score):\n",
    "    percent= ((((state['boundery']*4))+(state['six']*6))/ state['balls'])*100\n",
    "\n",
    "    state['bounder_percent']=percent\n",
    "    return state['bounder_percent']"
   ]
  },
  {
   "cell_type": "code",
   "execution_count": 11,
   "id": "ddb7c5ca",
   "metadata": {},
   "outputs": [],
   "source": [
    "def summ(state:batsman_score):\n",
    "    sr= state['sr']\n",
    "    bnp=state['bnp']\n",
    "    boundery_per=state['bounder_percent']\n",
    "\n",
    "    summary=f\"\"\"\n",
    "        The strike rate is {sr},\n",
    "        The boundary per ball is {bnp},\n",
    "        The boudery percentage is {boundery_per}.\n",
    "        \"\"\"\n",
    "    state['summary']=summary\n",
    "\n",
    "    return state['summary']"
   ]
  },
  {
   "cell_type": "code",
   "execution_count": 13,
   "id": "ba2cbfc6",
   "metadata": {},
   "outputs": [],
   "source": [
    "# Create graph\n",
    "graph= StateGraph(batsman_score)\n",
    "\n",
    "# Create Node\n",
    "graph.add_node('srr',srr)\n",
    "graph.add_node('bnpp',bnpp)\n",
    "graph.add_node('boundery_per',boundery_per)\n",
    "graph.add_node('summ',summ)\n",
    "\n",
    "# Add edge\n",
    "\n",
    "graph.add_edge(START,\"srr\")\n",
    "graph.add_edge(START,\"bnpp\")\n",
    "graph.add_edge(START,\"boundery_per\")\n",
    "graph.add_edge('srr','summ')\n",
    "graph.add_edge('bnpp','summ')\n",
    "graph.add_edge('boundery_per','summ')\n",
    "graph.add_edge('summ',END)\n",
    "\n",
    "\n",
    "work= graph.compile()"
   ]
  },
  {
   "cell_type": "code",
   "execution_count": 14,
   "id": "787e4b2b",
   "metadata": {},
   "outputs": [
    {
     "data": {
      "image/png": "[encoded data removed]",
      "text/plain": [
       "<langgraph.graph.state.CompiledStateGraph object at 0x0000020E578919D0>"
      ]
     },
     "execution_count": 14,
     "metadata": {},
     "output_type": "execute_result"
    }
   ],
   "source": [
    "work"
   ]
  },
  {
   "cell_type": "code",
   "execution_count": null,
   "id": "9448b667",
   "metadata": {},
   "outputs": [],
   "source": [
    "intial_state = {\n",
    "    'runs': 100,\n",
    "    'balls': 50,\n",
    "    'fours': 6,\n",
    "    'sixes': 4\n",
    "}\n",
    "\n",
    "work.invoke(intial_state)"
   ]
  },
  {
   "cell_type": "code",
   "execution_count": null,
   "id": "d83955f7",
   "metadata": {},
   "outputs": [],
   "source": []
  }
 ],
 "metadata": {
  "kernelspec": {
   "display_name": "myenv",
   "language": "python",
   "name": "python3"
  },
  "language_info": {
   "codemirror_mode": {
    "name": "ipython",
    "version": 3
   },
   "file_extension": ".py",
   "mimetype": "text/x-python",
   "name": "python",
   "nbconvert_exporter": "python",
   "pygments_lexer": "ipython3",
   "version": "3.12.3"
  }
 },
 "nbformat": 4,
 "nbformat_minor": 5
}
