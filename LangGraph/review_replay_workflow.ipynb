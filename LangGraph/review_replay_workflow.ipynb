{
 "cells": [
  {
   "cell_type": "code",
   "execution_count": 17,
   "id": "caac4e32",
   "metadata": {},
   "outputs": [],
   "source": [
    "from langgraph.graph import StateGraph, START, END\n",
    "from langchain_google_genai import ChatGoogleGenerativeAI\n",
    "from typing import TypedDict, Literal\n",
    "from pydantic import BaseModel, Field\n",
    "from dotenv import load_dotenv\n",
    "load_dotenv()\n",
    "model = ChatGoogleGenerativeAI(model='gemini-1.5-flash')"
   ]
  },
  {
   "cell_type": "code",
   "execution_count": 18,
   "id": "964cfab1",
   "metadata": {},
   "outputs": [],
   "source": [
    "class SentimentSchema(BaseModel):\n",
    "    sentiment : Literal['positive','negative']= Field(description=\" Sentiment of the review\")"
   ]
  },
  {
   "cell_type": "code",
   "execution_count": 19,
   "id": "78bc9a00",
   "metadata": {},
   "outputs": [],
   "source": [
    "class DignosisSchema(BaseModel):\n",
    "    issue_type: Literal['UX','Performance','Bug','Support','Other'] = Field(description='The category of issue mentioned in the reviw')\n",
    "    tone : Literal['angry','frustruted','disspointed','calm']= Field(description='The emotional tone expressed by the user')\n",
    "    urgency: Literal['low','medium','high']= Field(description='how urgernt or critical the issue appearses to be ')"
   ]
  },
  {
   "cell_type": "code",
   "execution_count": 20,
   "id": "fbd14565",
   "metadata": {},
   "outputs": [],
   "source": [
    "structured_model= model.with_structured_output(SentimentSchema)\n",
    "structured_model1= model.with_structured_output(DignosisSchema)"
   ]
  },
  {
   "cell_type": "code",
   "execution_count": 21,
   "id": "ee25b7a3",
   "metadata": {},
   "outputs": [
    {
     "data": {
      "text/plain": [
       "'negative'"
      ]
     },
     "execution_count": 21,
     "metadata": {},
     "output_type": "execute_result"
    }
   ],
   "source": [
    "prompt= 'What is the sentiment of following sentence - I will pray for the god today\"s day will never come into my life'\n",
    "structured_model.invoke(prompt).sentiment"
   ]
  },
  {
   "cell_type": "code",
   "execution_count": 22,
   "id": "a6f98362",
   "metadata": {},
   "outputs": [],
   "source": [
    "class ReviewState(TypedDict):\n",
    "    review:str\n",
    "    sentiment: Literal['positive','negative']\n",
    "    dignosis: dict \n",
    "    response: str "
   ]
  },
  {
   "cell_type": "code",
   "execution_count": 23,
   "id": "7ec0bb3c",
   "metadata": {},
   "outputs": [],
   "source": [
    "def find_sentiment(state: ReviewState):\n",
    "    prompt = f\" For the following review find out the sentiment - {state['review']}\"\n",
    "    sentiment = structured_model.invoke(prompt).sentiment\n",
    "    return {'sentiment': sentiment}\n",
    "\n",
    "def check_sentiment(state: ReviewState) -> Literal['positive_response','run_dignosis']:\n",
    "    if state['sentiment'] == 'positive':\n",
    "        return 'positive_response'\n",
    "    else:\n",
    "        'run_dignosis'\n",
    "\n",
    "def positive_response(state: ReviewState):\n",
    "    prompt = f\"\"\"\n",
    "            Write warm thank you message in response to this review - \n",
    "            \\n {state['review']}\n",
    "            \\n Also, kindly ask user to leave feedback on our website\n",
    "            \"\"\"\n",
    "    response= model.invoke(prompt).content\n",
    "\n",
    "    return {'response':response}\n",
    "\n",
    "def run_dignosis(state: ReviewState):\n",
    "    prompt= f\"\"\"\n",
    "            Dignose this negative review -\n",
    "            \\n {state['review']}\n",
    "            \\n Return issue_type, tone, urgency\n",
    "            \"\"\"\n",
    "    response= structured_model1.invoke(prompt)\n",
    "\n",
    "    return {'dignosis': response.model_dump()}\n",
    "\n",
    "def negative_response(state: ReviewState):\n",
    "    dignosis= state['dignosis']\n",
    "\n",
    "    prompt= f\"\"\"\n",
    "            You are support assistent.\n",
    "            The user had a '{dignosis['issue_type']}' issue, sounded '{dignosis['tone']}', and marked urgency as '{dignosis['urgency']}'.\n",
    "            write an empathetic, helpful resolution message.\n",
    "            \"\"\"\n",
    "    response= model.invoke(prompt).content\n",
    "    return {'response':response}"
   ]
  },
  {
   "cell_type": "code",
   "execution_count": 25,
   "id": "83f2073f",
   "metadata": {},
   "outputs": [
    {
     "data": {
      "image/png": "[encoded data removed]",
      "text/plain": [
       "<langgraph.graph.state.CompiledStateGraph object at 0x0000021499F8F950>"
      ]
     },
     "execution_count": 25,
     "metadata": {},
     "output_type": "execute_result"
    }
   ],
   "source": [
    "graph= StateGraph(ReviewState)\n",
    "\n",
    "graph.add_node('find_sentiment',find_sentiment)\n",
    "graph.add_node('positive_response',positive_response)\n",
    "graph.add_node('run_dignosis',run_dignosis)\n",
    "graph.add_node('negative_response',negative_response)\n",
    "\n",
    "graph.add_edge(START,'find_sentiment')\n",
    "\n",
    "graph.add_conditional_edges('find_sentiment',check_sentiment)\n",
    "\n",
    "graph.add_edge('positive_response',END)\n",
    "\n",
    "graph.add_edge('run_dignosis','negative_response')\n",
    "graph.add_edge('negative_response',END)\n",
    "\n",
    "workflow= graph.compile()\n",
    "workflow"
   ]
  },
  {
   "cell_type": "code",
   "execution_count": null,
   "id": "9115f651",
   "metadata": {},
   "outputs": [],
   "source": [
    "intial_state={\n",
    "    'review': \"I’ve been trying to log in for over an hour now, and the app keeps freezing on the authentication screen. I even tried reinstalling it, but no luck. This kind of bug is unacceptable, especially when it affects basic functionality.\"\n",
    "}\n",
    "workflow.invoke(intial_state)"
   ]
  },
  {
   "cell_type": "code",
   "execution_count": null,
   "id": "7b2586b1",
   "metadata": {},
   "outputs": [],
   "source": []
  }
 ],
 "metadata": {
  "kernelspec": {
   "display_name": "myenv",
   "language": "python",
   "name": "python3"
  },
  "language_info": {
   "codemirror_mode": {
    "name": "ipython",
    "version": 3
   },
   "file_extension": ".py",
   "mimetype": "text/x-python",
   "name": "python",
   "nbconvert_exporter": "python",
   "pygments_lexer": "ipython3",
   "version": "3.12.3"
  }
 },
 "nbformat": 4,
 "nbformat_minor": 5
}
