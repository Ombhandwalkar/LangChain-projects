{
 "cells": [
  {
   "cell_type": "code",
   "execution_count": 5,
   "id": "dd4e2c9c",
   "metadata": {},
   "outputs": [],
   "source": [
    "from langgraph.graph import StateGraph, START, END\n",
    "from langchain_google_genai import ChatGoogleGenerativeAI\n",
    "from typing import TypedDict,Annotated\n",
    "from dotenv import load_dotenv\n",
    "load_dotenv()\n",
    "model= ChatGoogleGenerativeAI(model='gemini-1.5-flash')"
   ]
  },
  {
   "cell_type": "code",
   "execution_count": 8,
   "id": "ef0afac6",
   "metadata": {},
   "outputs": [],
   "source": [
    "# Define TypeDict\n",
    "class LLMState(TypedDict):\n",
    "    question: str\n",
    "    answer: str "
   ]
  },
  {
   "cell_type": "code",
   "execution_count": 11,
   "id": "255d565e",
   "metadata": {},
   "outputs": [],
   "source": [
    "def llm_state(state:LLMState)->LLMState:\n",
    "    question=state['question']\n",
    "    prompt=f\"Please explain the {question}\"\n",
    "\n",
    "    answer= model.invoke(prompt)\n",
    "    state['answer']=answer\n",
    "\n",
    "    return state"
   ]
  },
  {
   "cell_type": "code",
   "execution_count": 12,
   "id": "cfaa299e",
   "metadata": {},
   "outputs": [],
   "source": [
    "# Create Graph\n",
    "graph= StateGraph(LLMState)\n",
    "\n",
    "# Create Node\n",
    "graph.add_node('llm_state',llm_state)\n",
    "\n",
    "# Cerate edge\n",
    "graph.add_edge(START,'llm_state')\n",
    "graph.add_edge('llm_state',END)\n",
    "\n",
    "workflow=graph.compile()\n",
    "\n"
   ]
  },
  {
   "cell_type": "code",
   "execution_count": 17,
   "id": "d2783048",
   "metadata": {},
   "outputs": [
    {
     "name": "stdout",
     "output_type": "stream",
     "text": [
      "content=\"The Moon's distance from Earth isn't constant.  Its orbit is elliptical, meaning it's sometimes closer and sometimes farther away.\\n\\n* **Average distance:**  The average distance between the Earth and the Moon is approximately **238,855 miles (384,400 kilometers)**.  This is a commonly cited figure.\\n\\n* **Perigee (closest approach):** At its closest point (perigee), the Moon can be as close as about **225,623 miles (363,104 kilometers)**.\\n\\n* **Apogee (farthest distance):** At its farthest point (apogee), the Moon can be as far as about **252,088 miles (405,696 kilometers)**.\\n\\nSo, while the average distance is a useful number, it's important to remember that the actual distance varies throughout the lunar month.\" additional_kwargs={} response_metadata={'prompt_feedback': {'block_reason': 0, 'safety_ratings': []}, 'finish_reason': 'STOP', 'model_name': 'gemini-1.5-flash', 'safety_ratings': []} id='run--727d661e-c70a-48a4-b1dd-01b585571551-0' usage_metadata={'input_tokens': 9, 'output_tokens': 199, 'total_tokens': 208, 'input_token_details': {'cache_read': 0}}\n"
     ]
    }
   ],
   "source": [
    "question={'question':'How far moon from the earth'}\n",
    "answer= workflow.invoke(question)\n",
    "print(answer['answer'])"
   ]
  },
  {
   "cell_type": "code",
   "execution_count": null,
   "id": "b1e22bba",
   "metadata": {},
   "outputs": [],
   "source": []
  }
 ],
 "metadata": {
  "kernelspec": {
   "display_name": "myenv",
   "language": "python",
   "name": "python3"
  },
  "language_info": {
   "codemirror_mode": {
    "name": "ipython",
    "version": 3
   },
   "file_extension": ".py",
   "mimetype": "text/x-python",
   "name": "python",
   "nbconvert_exporter": "python",
   "pygments_lexer": "ipython3",
   "version": "3.12.3"
  }
 },
 "nbformat": 4,
 "nbformat_minor": 5
}
