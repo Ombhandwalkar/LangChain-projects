{
  "nbformat": 4,
  "nbformat_minor": 0,
  "metadata": {
    "colab": {
      "provenance": []
    },
    "kernelspec": {
      "name": "python3",
      "display_name": "Python 3"
    },
    "language_info": {
      "name": "python"
    }
  },
  "cells": [
    {
      "cell_type": "markdown",
      "source": [
        "# Multilingual and Cross-lingual Prompting\n",
        "As AI language models become increasingly sophisticated, there's a growing need to leverage their capabilities across linguistic boundaries. Multilingual and cross-lingual prompting techniques allow us to create more inclusive and globally accessible AI applications, breaking down language barriers and enabling seamless communication across diverse linguistic landscapes.\n",
        "\n",
        "## Key Components\n",
        "\n",
        "1. Multilingual Prompt Design: Strategies for creating prompts that work effectively in multiple languages.\n",
        "2. Language Detection and Adaptation: Techniques for identifying the input language and adapting the model's response accordingly.\n",
        "3. Cross-lingual Translation: Methods for using language models to perform translation tasks between different languages.\n",
        "4. Prompt Templating for Multilingual Support: Using LangChain's PromptTemplate for creating flexible, language-aware prompts.\n",
        "5. Handling Non-Latin Scripts: Considerations and techniques for working with languages that use non-Latin alphabets."
      ],
      "metadata": {
        "id": "g2D6QaKWgYYc"
      }
    },
    {
      "cell_type": "code",
      "source": [
        "! pip install langchain langchain-google-genai"
      ],
      "metadata": {
        "colab": {
          "base_uri": "https://localhost:8080/",
          "height": 1000
        },
        "id": "I-Jc--7TgqLe",
        "outputId": "362aa028-0a8e-4fe3-cc21-198250457078"
      },
      "execution_count": 1,
      "outputs": [
        {
          "output_type": "stream",
          "name": "stdout",
          "text": [
            "Requirement already satisfied: langchain in /usr/local/lib/python3.11/dist-packages (0.3.19)\n",
            "Collecting langchain-google-genai\n",
            "  Downloading langchain_google_genai-2.1.4-py3-none-any.whl.metadata (5.2 kB)\n",
            "Requirement already satisfied: langchain-core<1.0.0,>=0.3.35 in /usr/local/lib/python3.11/dist-packages (from langchain) (0.3.40)\n",
            "Requirement already satisfied: langchain-text-splitters<1.0.0,>=0.3.6 in /usr/local/lib/python3.11/dist-packages (from langchain) (0.3.6)\n",
            "Requirement already satisfied: langsmith<0.4,>=0.1.17 in /usr/local/lib/python3.11/dist-packages (from langchain) (0.3.11)\n",
            "Requirement already satisfied: pydantic<3.0.0,>=2.7.4 in /usr/local/lib/python3.11/dist-packages (from langchain) (2.10.6)\n",
            "Requirement already satisfied: SQLAlchemy<3,>=1.4 in /usr/local/lib/python3.11/dist-packages (from langchain) (2.0.38)\n",
            "Requirement already satisfied: requests<3,>=2 in /usr/local/lib/python3.11/dist-packages (from langchain) (2.32.3)\n",
            "Requirement already satisfied: PyYAML>=5.3 in /usr/local/lib/python3.11/dist-packages (from langchain) (6.0.2)\n",
            "Requirement already satisfied: aiohttp<4.0.0,>=3.8.3 in /usr/local/lib/python3.11/dist-packages (from langchain) (3.11.13)\n",
            "Requirement already satisfied: tenacity!=8.4.0,<10,>=8.1.0 in /usr/local/lib/python3.11/dist-packages (from langchain) (9.0.0)\n",
            "Requirement already satisfied: numpy<2,>=1.26.4 in /usr/local/lib/python3.11/dist-packages (from langchain) (1.26.4)\n",
            "Collecting filetype<2.0.0,>=1.2.0 (from langchain-google-genai)\n",
            "  Downloading filetype-1.2.0-py2.py3-none-any.whl.metadata (6.5 kB)\n",
            "Collecting google-ai-generativelanguage<0.7.0,>=0.6.18 (from langchain-google-genai)\n",
            "  Downloading google_ai_generativelanguage-0.6.18-py3-none-any.whl.metadata (9.8 kB)\n",
            "Collecting langchain-core<1.0.0,>=0.3.35 (from langchain)\n",
            "  Downloading langchain_core-0.3.59-py3-none-any.whl.metadata (5.9 kB)\n",
            "Requirement already satisfied: aiohappyeyeballs>=2.3.0 in /usr/local/lib/python3.11/dist-packages (from aiohttp<4.0.0,>=3.8.3->langchain) (2.4.6)\n",
            "Requirement already satisfied: aiosignal>=1.1.2 in /usr/local/lib/python3.11/dist-packages (from aiohttp<4.0.0,>=3.8.3->langchain) (1.3.2)\n",
            "Requirement already satisfied: attrs>=17.3.0 in /usr/local/lib/python3.11/dist-packages (from aiohttp<4.0.0,>=3.8.3->langchain) (25.1.0)\n",
            "Requirement already satisfied: frozenlist>=1.1.1 in /usr/local/lib/python3.11/dist-packages (from aiohttp<4.0.0,>=3.8.3->langchain) (1.5.0)\n",
            "Requirement already satisfied: multidict<7.0,>=4.5 in /usr/local/lib/python3.11/dist-packages (from aiohttp<4.0.0,>=3.8.3->langchain) (6.1.0)\n",
            "Requirement already satisfied: propcache>=0.2.0 in /usr/local/lib/python3.11/dist-packages (from aiohttp<4.0.0,>=3.8.3->langchain) (0.3.0)\n",
            "Requirement already satisfied: yarl<2.0,>=1.17.0 in /usr/local/lib/python3.11/dist-packages (from aiohttp<4.0.0,>=3.8.3->langchain) (1.18.3)\n",
            "Requirement already satisfied: google-api-core!=2.0.*,!=2.1.*,!=2.10.*,!=2.2.*,!=2.3.*,!=2.4.*,!=2.5.*,!=2.6.*,!=2.7.*,!=2.8.*,!=2.9.*,<3.0.0,>=1.34.1 in /usr/local/lib/python3.11/dist-packages (from google-api-core[grpc]!=2.0.*,!=2.1.*,!=2.10.*,!=2.2.*,!=2.3.*,!=2.4.*,!=2.5.*,!=2.6.*,!=2.7.*,!=2.8.*,!=2.9.*,<3.0.0,>=1.34.1->google-ai-generativelanguage<0.7.0,>=0.6.18->langchain-google-genai) (2.24.1)\n",
            "Requirement already satisfied: google-auth!=2.24.0,!=2.25.0,<3.0.0,>=2.14.1 in /usr/local/lib/python3.11/dist-packages (from google-ai-generativelanguage<0.7.0,>=0.6.18->langchain-google-genai) (2.38.0)\n",
            "Requirement already satisfied: proto-plus<2.0.0,>=1.22.3 in /usr/local/lib/python3.11/dist-packages (from google-ai-generativelanguage<0.7.0,>=0.6.18->langchain-google-genai) (1.26.0)\n",
            "Requirement already satisfied: protobuf!=4.21.0,!=4.21.1,!=4.21.2,!=4.21.3,!=4.21.4,!=4.21.5,<7.0.0,>=3.20.2 in /usr/local/lib/python3.11/dist-packages (from google-ai-generativelanguage<0.7.0,>=0.6.18->langchain-google-genai) (4.25.6)\n",
            "Requirement already satisfied: jsonpatch<2.0,>=1.33 in /usr/local/lib/python3.11/dist-packages (from langchain-core<1.0.0,>=0.3.35->langchain) (1.33)\n",
            "Requirement already satisfied: packaging<25,>=23.2 in /usr/local/lib/python3.11/dist-packages (from langchain-core<1.0.0,>=0.3.35->langchain) (24.2)\n",
            "Requirement already satisfied: typing-extensions>=4.7 in /usr/local/lib/python3.11/dist-packages (from langchain-core<1.0.0,>=0.3.35->langchain) (4.12.2)\n",
            "Requirement already satisfied: httpx<1,>=0.23.0 in /usr/local/lib/python3.11/dist-packages (from langsmith<0.4,>=0.1.17->langchain) (0.28.1)\n",
            "Requirement already satisfied: orjson<4.0.0,>=3.9.14 in /usr/local/lib/python3.11/dist-packages (from langsmith<0.4,>=0.1.17->langchain) (3.10.15)\n",
            "Requirement already satisfied: requests-toolbelt<2.0.0,>=1.0.0 in /usr/local/lib/python3.11/dist-packages (from langsmith<0.4,>=0.1.17->langchain) (1.0.0)\n",
            "Requirement already satisfied: zstandard<0.24.0,>=0.23.0 in /usr/local/lib/python3.11/dist-packages (from langsmith<0.4,>=0.1.17->langchain) (0.23.0)\n",
            "Requirement already satisfied: annotated-types>=0.6.0 in /usr/local/lib/python3.11/dist-packages (from pydantic<3.0.0,>=2.7.4->langchain) (0.7.0)\n",
            "Requirement already satisfied: pydantic-core==2.27.2 in /usr/local/lib/python3.11/dist-packages (from pydantic<3.0.0,>=2.7.4->langchain) (2.27.2)\n",
            "Requirement already satisfied: charset-normalizer<4,>=2 in /usr/local/lib/python3.11/dist-packages (from requests<3,>=2->langchain) (3.4.1)\n",
            "Requirement already satisfied: idna<4,>=2.5 in /usr/local/lib/python3.11/dist-packages (from requests<3,>=2->langchain) (3.10)\n",
            "Requirement already satisfied: urllib3<3,>=1.21.1 in /usr/local/lib/python3.11/dist-packages (from requests<3,>=2->langchain) (2.3.0)\n",
            "Requirement already satisfied: certifi>=2017.4.17 in /usr/local/lib/python3.11/dist-packages (from requests<3,>=2->langchain) (2025.1.31)\n",
            "Requirement already satisfied: greenlet!=0.4.17 in /usr/local/lib/python3.11/dist-packages (from SQLAlchemy<3,>=1.4->langchain) (3.1.1)\n",
            "Requirement already satisfied: googleapis-common-protos<2.0.dev0,>=1.56.2 in /usr/local/lib/python3.11/dist-packages (from google-api-core!=2.0.*,!=2.1.*,!=2.10.*,!=2.2.*,!=2.3.*,!=2.4.*,!=2.5.*,!=2.6.*,!=2.7.*,!=2.8.*,!=2.9.*,<3.0.0,>=1.34.1->google-api-core[grpc]!=2.0.*,!=2.1.*,!=2.10.*,!=2.2.*,!=2.3.*,!=2.4.*,!=2.5.*,!=2.6.*,!=2.7.*,!=2.8.*,!=2.9.*,<3.0.0,>=1.34.1->google-ai-generativelanguage<0.7.0,>=0.6.18->langchain-google-genai) (1.69.0)\n",
            "Requirement already satisfied: grpcio<2.0dev,>=1.33.2 in /usr/local/lib/python3.11/dist-packages (from google-api-core[grpc]!=2.0.*,!=2.1.*,!=2.10.*,!=2.2.*,!=2.3.*,!=2.4.*,!=2.5.*,!=2.6.*,!=2.7.*,!=2.8.*,!=2.9.*,<3.0.0,>=1.34.1->google-ai-generativelanguage<0.7.0,>=0.6.18->langchain-google-genai) (1.70.0)\n",
            "Requirement already satisfied: grpcio-status<2.0.dev0,>=1.33.2 in /usr/local/lib/python3.11/dist-packages (from google-api-core[grpc]!=2.0.*,!=2.1.*,!=2.10.*,!=2.2.*,!=2.3.*,!=2.4.*,!=2.5.*,!=2.6.*,!=2.7.*,!=2.8.*,!=2.9.*,<3.0.0,>=1.34.1->google-ai-generativelanguage<0.7.0,>=0.6.18->langchain-google-genai) (1.62.3)\n",
            "Requirement already satisfied: cachetools<6.0,>=2.0.0 in /usr/local/lib/python3.11/dist-packages (from google-auth!=2.24.0,!=2.25.0,<3.0.0,>=2.14.1->google-ai-generativelanguage<0.7.0,>=0.6.18->langchain-google-genai) (5.5.2)\n",
            "Requirement already satisfied: pyasn1-modules>=0.2.1 in /usr/local/lib/python3.11/dist-packages (from google-auth!=2.24.0,!=2.25.0,<3.0.0,>=2.14.1->google-ai-generativelanguage<0.7.0,>=0.6.18->langchain-google-genai) (0.4.1)\n",
            "Requirement already satisfied: rsa<5,>=3.1.4 in /usr/local/lib/python3.11/dist-packages (from google-auth!=2.24.0,!=2.25.0,<3.0.0,>=2.14.1->google-ai-generativelanguage<0.7.0,>=0.6.18->langchain-google-genai) (4.9)\n",
            "Requirement already satisfied: anyio in /usr/local/lib/python3.11/dist-packages (from httpx<1,>=0.23.0->langsmith<0.4,>=0.1.17->langchain) (3.7.1)\n",
            "Requirement already satisfied: httpcore==1.* in /usr/local/lib/python3.11/dist-packages (from httpx<1,>=0.23.0->langsmith<0.4,>=0.1.17->langchain) (1.0.7)\n",
            "Requirement already satisfied: h11<0.15,>=0.13 in /usr/local/lib/python3.11/dist-packages (from httpcore==1.*->httpx<1,>=0.23.0->langsmith<0.4,>=0.1.17->langchain) (0.14.0)\n",
            "Requirement already satisfied: jsonpointer>=1.9 in /usr/local/lib/python3.11/dist-packages (from jsonpatch<2.0,>=1.33->langchain-core<1.0.0,>=0.3.35->langchain) (3.0.0)\n",
            "Requirement already satisfied: pyasn1<0.7.0,>=0.4.6 in /usr/local/lib/python3.11/dist-packages (from pyasn1-modules>=0.2.1->google-auth!=2.24.0,!=2.25.0,<3.0.0,>=2.14.1->google-ai-generativelanguage<0.7.0,>=0.6.18->langchain-google-genai) (0.6.1)\n",
            "Requirement already satisfied: sniffio>=1.1 in /usr/local/lib/python3.11/dist-packages (from anyio->httpx<1,>=0.23.0->langsmith<0.4,>=0.1.17->langchain) (1.3.1)\n",
            "Downloading langchain_google_genai-2.1.4-py3-none-any.whl (44 kB)\n",
            "\u001b[2K   \u001b[90m━━━━━━━━━━━━━━━━━━━━━━━━━━━━━━━━━━━━━━━━\u001b[0m \u001b[32m44.3/44.3 kB\u001b[0m \u001b[31m1.2 MB/s\u001b[0m eta \u001b[36m0:00:00\u001b[0m\n",
            "\u001b[?25hDownloading filetype-1.2.0-py2.py3-none-any.whl (19 kB)\n",
            "Downloading google_ai_generativelanguage-0.6.18-py3-none-any.whl (1.4 MB)\n",
            "\u001b[2K   \u001b[90m━━━━━━━━━━━━━━━━━━━━━━━━━━━━━━━━━━━━━━━━\u001b[0m \u001b[32m1.4/1.4 MB\u001b[0m \u001b[31m19.9 MB/s\u001b[0m eta \u001b[36m0:00:00\u001b[0m\n",
            "\u001b[?25hDownloading langchain_core-0.3.59-py3-none-any.whl (437 kB)\n",
            "\u001b[2K   \u001b[90m━━━━━━━━━━━━━━━━━━━━━━━━━━━━━━━━━━━━━━━━\u001b[0m \u001b[32m437.7/437.7 kB\u001b[0m \u001b[31m20.4 MB/s\u001b[0m eta \u001b[36m0:00:00\u001b[0m\n",
            "\u001b[?25hInstalling collected packages: filetype, langchain-core, google-ai-generativelanguage, langchain-google-genai\n",
            "  Attempting uninstall: langchain-core\n",
            "    Found existing installation: langchain-core 0.3.40\n",
            "    Uninstalling langchain-core-0.3.40:\n",
            "      Successfully uninstalled langchain-core-0.3.40\n",
            "  Attempting uninstall: google-ai-generativelanguage\n",
            "    Found existing installation: google-ai-generativelanguage 0.6.15\n",
            "    Uninstalling google-ai-generativelanguage-0.6.15:\n",
            "      Successfully uninstalled google-ai-generativelanguage-0.6.15\n",
            "\u001b[31mERROR: pip's dependency resolver does not currently take into account all the packages that are installed. This behaviour is the source of the following dependency conflicts.\n",
            "google-generativeai 0.8.4 requires google-ai-generativelanguage==0.6.15, but you have google-ai-generativelanguage 0.6.18 which is incompatible.\u001b[0m\u001b[31m\n",
            "\u001b[0mSuccessfully installed filetype-1.2.0 google-ai-generativelanguage-0.6.18 langchain-core-0.3.59 langchain-google-genai-2.1.4\n"
          ]
        },
        {
          "output_type": "display_data",
          "data": {
            "application/vnd.colab-display-data+json": {
              "pip_warning": {
                "packages": [
                  "google"
                ]
              },
              "id": "0883922ca2e348b294d777d25c551531"
            }
          },
          "metadata": {}
        }
      ]
    },
    {
      "cell_type": "code",
      "execution_count": 2,
      "metadata": {
        "id": "SrH3rXddgIZ-"
      },
      "outputs": [],
      "source": [
        "import os\n",
        "from langchain_google_genai import ChatGoogleGenerativeAI\n",
        "from langchain.prompts import PromptTemplate\n",
        "\n",
        "os.environ['GOOGLE_API_KEY']=''\n",
        "\n",
        "# Inatiate the LLM\n",
        "llm=ChatGoogleGenerativeAI(model='gemini-1.5-flash')\n",
        "\n",
        "# Helper function to print responses\n",
        "def print_response(response):\n",
        "    print(response.content)"
      ]
    },
    {
      "cell_type": "markdown",
      "source": [
        "# Multilingual Prompt Design"
      ],
      "metadata": {
        "id": "O8B4qBW0g2Yr"
      }
    },
    {
      "cell_type": "code",
      "source": [
        "multilingual_greeting = PromptTemplate(\n",
        "    input_variables=[\"language\"],\n",
        "    template=\"Greet the user in {language} and provide a short introduction about the weather in a country where this language is spoken.\"\n",
        ")\n",
        "\n",
        "# Test the multilingual greeting prompt\n",
        "languages = [\"Bengoli\", \"Hindi\", \"Bhojpuri\", \"Marathi\", \"Sanskrit\"]\n",
        "\n",
        "for lang in languages:\n",
        "    prompt = multilingual_greeting.format(language=lang)\n",
        "    response = llm.invoke(prompt)\n",
        "    print(f\"{lang}:\")\n",
        "    print_response(response)\n",
        "    print()"
      ],
      "metadata": {
        "colab": {
          "base_uri": "https://localhost:8080/"
        },
        "id": "Dtci3mJDgjBE",
        "outputId": "2c5b3e6a-efc1-4ff7-f515-d1b48c7a954c"
      },
      "execution_count": 5,
      "outputs": [
        {
          "output_type": "stream",
          "name": "stdout",
          "text": [
            "Bengoli:\n",
            "নমস্কার! (Nomoskar!)  Hello!\n",
            "\n",
            "আজকের আবহাওয়ার কথা বলতে গেলে, বাংলাদেশে এখন বর্ষাকাল চলছে।  (Ajker abahoyar kotha bolte gele, Bangladesh-e ekhon borshakalo cholche.)\n",
            "\n",
            "This translates to:\n",
            "\n",
            "Hello!  Regarding today's weather,  it's currently monsoon season in Bangladesh.\n",
            "\n",
            "Hindi:\n",
            "नमस्ते! (Namaste!)\n",
            "\n",
            "आज हम भारत के मौसम के बारे में थोड़ी बात करेंगे।  (Aaj hum Bharat ke mausam ke baare mein thodi baat karenge.)\n",
            "\n",
            "Currently, much of India is experiencing [Insert current general weather condition for India, e.g.,  the monsoon season with heavy rainfall in many parts, or  a heatwave in the north, etc.].  However, weather conditions vary significantly across the vast country, from the Himalayas to the southern coast.  More specific information will depend on the region.\n",
            "\n",
            "Bhojpuri:\n",
            "नमस्कार साहेब/साहेबा!  (Namaste Saheb/Saheba!)  \n",
            "\n",
            "आजु के मौसम के बारे में बात करीं, त  भारत के बहुत सारा हिस्सा में, खास करके बिहार, उत्तर प्रदेश आ झारखंड में,  एह समय गर्मी बहुत तेज बा।  दिन में  तापमान 40 डिग्री सेल्सियस से ऊपर जा सकेला।  रात के थोड़ा ठंडा होला, लेकिन फिर भी गर्मी से राहत ना मिलेला।  अगर आप एह इलाका में आवत बानीं त  पानी जरूर साथे रखीं आ  धूप से बचाव के उपाय करीं।\n",
            "\n",
            "(Translation: Hello Sir/Madam!\n",
            "\n",
            "Talking about today's weather, in many parts of India, especially in Bihar, Uttar Pradesh and Jharkhand, the heat is very intense right now.  The temperature during the day can go above 40 degrees Celsius. It gets a little cooler at night, but still no relief from the heat. If you are coming to this area, please keep water with you and take precautions against the sun.)\n",
            "\n",
            "Marathi:\n",
            "नमस्कार! (Namaskar!)\n",
            "\n",
            "आज आपण भारतातील हवामानाविषयी थोडेसे बोलूया.  भारतात हवामान खूप विविध आहे.  उत्तरेकडे हिमालयाच्या पर्वतांमध्ये हिमवर्षाव होतो, तर दक्षिणेकडे उष्ण आणि आर्द्र हवामान असते.  पश्चिम किनाऱ्यावर मान्सूनचा पाऊस पडतो, तर पूर्व किनाऱ्यावर तुलनेने कमी पाऊस पडतो.  सध्याच्या हवामानाची माहिती मिळवण्यासाठी स्थानिक बातम्या किंवा हवामान अंदाज पहावेत.\n",
            "\n",
            "(Translation: Namaskar! Today let's talk a little about the weather in India. The weather in India is very diverse. In the north, in the Himalayan mountains, there is snowfall, while in the south there is hot and humid weather. The west coast receives monsoon rains, while the east coast receives comparatively less rain. To get information about the current weather, one should check local news or weather forecasts.)\n",
            "\n",
            "Sanskrit:\n",
            "नमस्ते! (Namaste!)\n",
            "\n",
            "आज भारतस्य मौसमः  सुखदः अस्ति।  (Āja Bhāratasya mausaamaḥ sukhadaḥ asti.)\n",
            "\n",
            "Translation:\n",
            "\n",
            "Hello!\n",
            "\n",
            "Today, the weather in India is pleasant.\n",
            "\n",
            "\n",
            "This greeting uses a common and versatile Sanskrit greeting, followed by a simple sentence describing the weather in India (a country where Sanskrit is considered a sacred language, though not a widely spoken vernacular).  You can adjust the description of the weather (\"सुखदः अस्ति\" - sukhadaḥ asti - is pleasant) to reflect the actual conditions. For example, you could say:\n",
            "\n",
            "* **उष्णः अस्ति** (uṣṇaḥ asti) - It is hot.\n",
            "* **शीतलः अस्ति** (śītalah asti) - It is cool.\n",
            "* **वर्षति** (varṣati) - It is raining.\n",
            "\n"
          ]
        }
      ]
    },
    {
      "cell_type": "markdown",
      "source": [
        "# Cross-lingual Translation"
      ],
      "metadata": {
        "id": "hIC8seH0heAC"
      }
    },
    {
      "cell_type": "code",
      "source": [
        "translation_prompt = PromptTemplate(\n",
        "    input_variables=[\"source_lang\", \"target_lang\", \"text\"],\n",
        "    template=\"\"\"Translate the following text from {source_lang} to {target_lang}:\n",
        "    {source_lang} text: {text}\n",
        "    {target_lang} translation:\"\"\"\n",
        ")\n",
        "\n",
        "# Test the translation prompt\n",
        "translations = [\n",
        "    {\"source_lang\": \"English\", \"target_lang\": \"French\", \"text\": \"The quick brown fox jumps over the lazy dog.\"},\n",
        "    {\"source_lang\": \"Spanish\", \"target_lang\": \"German\", \"text\": \"La vida es bella.\"},\n",
        "    {\"source_lang\": \"Japanese\", \"target_lang\": \"English\", \"text\": \"桜の花が満開です。\"}\n",
        "]\n",
        "\n",
        "for t in translations:\n",
        "    prompt = translation_prompt.format(**t)\n",
        "    response = llm.invoke(prompt)\n",
        "    print(f\"From {t['source_lang']} to {t['target_lang']}:\")\n",
        "    print(f\"Original: {t['text']}\")\n",
        "    print(\"Translation:\")\n",
        "    print_response(response)\n",
        "    print()"
      ],
      "metadata": {
        "colab": {
          "base_uri": "https://localhost:8080/"
        },
        "id": "_hpR7RXag67U",
        "outputId": "27b1d1c5-4c4a-4575-92ba-b3e602897994"
      },
      "execution_count": 7,
      "outputs": [
        {
          "output_type": "stream",
          "name": "stdout",
          "text": [
            "From English to French:\n",
            "Original: The quick brown fox jumps over the lazy dog.\n",
            "Translation:\n",
            "Le rapide renard brun saute par-dessus le chien paresseux.\n",
            "\n",
            "From Spanish to German:\n",
            "Original: La vida es bella.\n",
            "Translation:\n",
            "Das Leben ist schön.\n",
            "\n",
            "From Japanese to English:\n",
            "Original: 桜の花が満開です。\n",
            "Translation:\n",
            "The cherry blossoms are in full bloom.\n",
            "\n"
          ]
        }
      ]
    },
    {
      "cell_type": "code",
      "source": [
        "non_latin_prompt = PromptTemplate(\n",
        "    input_variables=[\"text\", \"script\"],\n",
        "    template=\"\"\"Provide the following information for the given text:\n",
        "    1. The original text\n",
        "    2. The name of the script/writing system\n",
        "    3. A transliteration to Latin alphabet\n",
        "    4. An English translation\n",
        "\n",
        "    Text: {text}\n",
        "    Script: {script}\n",
        "    \"\"\"\n",
        ")\n",
        "\n",
        "# Test the non-Latin script prompt\n",
        "non_latin_texts = [\n",
        "    {\"text\": \"こんにちは、世界\", \"script\": \"Japanese\"},\n",
        "    {\"text\": \"Здравствуй, мир\", \"script\": \"Cyrillic\"},\n",
        "    {\"text\": \"नमस्ते दुनिया\", \"script\": \"Devanagari\"}\n",
        "]\n",
        "\n",
        "for text in non_latin_texts:\n",
        "    prompt = non_latin_prompt.format(**text)\n",
        "    response = llm.invoke(prompt)\n",
        "    print_response(response)\n",
        "    print()"
      ],
      "metadata": {
        "colab": {
          "base_uri": "https://localhost:8080/"
        },
        "id": "-izQMJFChiIB",
        "outputId": "4887d5e0-3242-40b4-c5c6-b8c6a0c02878"
      },
      "execution_count": 8,
      "outputs": [
        {
          "output_type": "stream",
          "name": "stdout",
          "text": [
            "1. **Original Text:** こんにちは、世界\n",
            "\n",
            "2. **Script/Writing System:** Hiragana and Katakana (with punctuation using Latin script)\n",
            "\n",
            "3. **Transliteration to Latin Alphabet:** Konnichiwa, sekai\n",
            "\n",
            "4. **English Translation:** Hello, world\n",
            "\n",
            "1. **Original Text:** Здравствуй, мир\n",
            "\n",
            "2. **Script/Writing System:** Cyrillic\n",
            "\n",
            "3. **Transliteration to Latin Alphabet:** Zdravstvuy, mir\n",
            "\n",
            "4. **English Translation:** Hello, world\n",
            "\n",
            "1. **Original Text:** नमस्ते दुनिया\n",
            "\n",
            "2. **Script/Writing System:** Devanagari\n",
            "\n",
            "3. **Transliteration to Latin Alphabet:** Namaste duniyā\n",
            "\n",
            "4. **English Translation:** Hello world\n",
            "\n"
          ]
        }
      ]
    },
    {
      "cell_type": "code",
      "source": [
        "cultural_translation_prompt = PromptTemplate(\n",
        "    input_variables=[\"source_lang\", \"target_lang\", \"text\"],\n",
        "    template=\"\"\"Translate the following text from {source_lang} to {target_lang}, paying special attention to cultural context and idiomatic expressions. Provide:\n",
        "    1. A direct translation\n",
        "    2. A culturally adapted translation (if different)\n",
        "    3. Explanations of any cultural nuances or idioms\n",
        "\n",
        "    {source_lang} text: {text}\n",
        "    {target_lang} translation and explanation:\"\"\"\n",
        ")\n",
        "\n",
        "# Test the cultural translation prompt\n",
        "cultural_texts = [\n",
        "    {\"source_lang\": \"English\", \"target_lang\": \"Japanese\", \"text\": \"It's raining cats and dogs.\"},\n",
        "    {\"source_lang\": \"French\", \"target_lang\": \"English\", \"text\": \"Je suis dans le pétrin.\"},\n",
        "    {\"source_lang\": \"Spanish\", \"target_lang\": \"German\", \"text\": \"Cuesta un ojo de la cara.\"}\n",
        "]\n",
        "\n",
        "for text in cultural_texts:\n",
        "    prompt = cultural_translation_prompt.format(**text)\n",
        "    response = llm.invoke(prompt)\n",
        "    print(f\"From {text['source_lang']} to {text['target_lang']}:\")\n",
        "    print(f\"Original: {text['text']}\")\n",
        "    print(\"Translation and Explanation:\")\n",
        "    print_response(response)\n",
        "    print()"
      ],
      "metadata": {
        "colab": {
          "base_uri": "https://localhost:8080/"
        },
        "id": "YWYgGOCUhw9J",
        "outputId": "13188286-edf9-4d56-fa34-b68407545ca4"
      },
      "execution_count": 9,
      "outputs": [
        {
          "output_type": "stream",
          "name": "stdout",
          "text": [
            "From English to Japanese:\n",
            "Original: It's raining cats and dogs.\n",
            "Translation and Explanation:\n",
            "The English idiom \"It's raining cats and dogs\" doesn't have a direct equivalent in Japanese that captures the same whimsical, hyperbolic imagery.  Therefore, a direct translation wouldn't make sense.\n",
            "\n",
            "**1. Direct Translation (Not recommended):**\n",
            "\n",
            "猫と犬が降っている。(Neko to inu ga futteiru.) - Literally: Cats and dogs are falling.\n",
            "\n",
            "This is grammatically correct Japanese, but completely nonsensical and wouldn't be understood as the intended meaning.\n",
            "\n",
            "**2. Culturally Adapted Translations:**\n",
            "\n",
            "Several options exist depending on the context and desired level of formality:\n",
            "\n",
            "* **豪雨だ。(Gōu da.)** - This translates to \"It's a downpour!\" or \"It's a heavy rain!\" This is the most straightforward and commonly used option. It focuses on the intensity of the rain rather than the bizarre imagery.\n",
            "\n",
            "* **土砂降りだ。(Doshaburi da.)** - This translates to \"It's a torrential rain.\"  This is a more vivid and slightly more dramatic way to describe heavy rain.\n",
            "\n",
            "* **雨がすごい！(Ame ga sugoi!)** - This translates to \"The rain is amazing!\" or more accurately, \"The rain is incredible!\"  The word \"すごい\" (sugoi) expresses strong intensity, and in this context, it's used to convey the impressiveness of the heavy rain.  This option is more informal.\n",
            "\n",
            "\n",
            "**3. Cultural Nuances and Idioms:**\n",
            "\n",
            "The English idiom \"raining cats and dogs\" is a colourful exaggeration.  Japanese culture, while having its own expressive language, generally prefers more literal and less metaphorical descriptions in everyday conversation.  The lack of a direct equivalent reflects this cultural difference.  Japanese focuses on conveying the factual information (the intensity of the rain) rather than employing a whimsical image to describe it.  Using the direct translation would be considered odd and possibly even humorous due to its literal absurdity.  The culturally adapted translations prioritize clear communication and understanding.\n",
            "\n",
            "From French to English:\n",
            "Original: Je suis dans le pétrin.\n",
            "Translation and Explanation:\n",
            "**1. Direct Translation:** I am in the dough/batter.\n",
            "\n",
            "**2. Culturally Adapted Translation:** I'm in a mess. / I'm in deep trouble. / I'm in hot water.\n",
            "\n",
            "**3. Explanations of Cultural Nuances and Idioms:**\n",
            "\n",
            "The French expression \"être dans le pétrin\" literally translates to \"to be in the dough\" or \"to be in the batter.\"  However, this direct translation doesn't convey the meaning in English.  The idiom refers to a difficult or compromising situation.  The image is that of being stuck, entangled, or overwhelmed, much like being submerged in sticky dough.\n",
            "\n",
            "The culturally adapted translations offer more accurate equivalents in English.  \"I'm in a mess\" is a general expression for being in a difficult situation. \"I'm in deep trouble\" suggests a more serious predicament, while \"I'm in hot water\" implies trouble with authority or consequences for one's actions.  The choice of which translation to use depends on the context of the original French sentence and the desired level of seriousness.  The direct translation would be largely incomprehensible to an English speaker unless they already knew the French idiom.\n",
            "\n",
            "From Spanish to German:\n",
            "Original: Cuesta un ojo de la cara.\n",
            "Translation and Explanation:\n",
            "The Spanish phrase \"Cuesta un ojo de la cara\" literally translates to \"It costs an eye from the face.\"  This is clearly not a literal description of cost.\n",
            "\n",
            "**1. Direct Translation:**\n",
            "\n",
            "A direct, literal translation would be something like \"Es kostet ein Auge aus dem Gesicht.\"  This is grammatically correct German, but completely nonsensical and unusable.\n",
            "\n",
            "**2. Culturally Adapted Translation:**\n",
            "\n",
            "There are several ways to translate this idiom into German, depending on the nuance you want to convey:\n",
            "\n",
            "* **Das kostet ein Vermögen:** This translates to \"That costs a fortune.\" This is the most common and closest equivalent, capturing the meaning of extreme expensiveness.\n",
            "* **Das ist wahnsinnig teuer:** This translates to \"That's insanely expensive.\" This emphasizes the surprising or shocking nature of the high price.\n",
            "* **Das ist unverschämt teuer:** This translates to \"That's outrageously expensive.\" This highlights the unfairness or excessiveness of the price.\n",
            "* **Das schlägt alles:** This translates to \"That beats everything\" or \"That tops everything\". This implies that the price is higher than anything else comparable.\n",
            "\n",
            "\n",
            "**3. Explanations of Cultural Nuances and Idioms:**\n",
            "\n",
            "The Spanish idiom \"cuesta un ojo de la cara\" is a hyperbolic expression.  It uses a graphic and slightly absurd image to convey the idea of something being extremely expensive.  There's no direct equivalent in German that uses a similarly bizarre image.  German idioms for expressing high cost tend to be more straightforward, focusing on the monetary aspect (Vermögen, teuer) or the feeling it evokes (unverschämt, wahnsinnig).  The German options provided above all convey the same meaning of extreme cost, but lack the vivid, slightly shocking imagery of the Spanish original.  The choice of the best German translation depends on the specific context and the desired emphasis.\n",
            "\n"
          ]
        }
      ]
    },
    {
      "cell_type": "code",
      "source": [],
      "metadata": {
        "id": "9gt93Rejhzmk"
      },
      "execution_count": null,
      "outputs": []
    }
  ]
}