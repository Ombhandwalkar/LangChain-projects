{
 "cells": [
  {
   "cell_type": "code",
   "execution_count": 13,
   "id": "c330c2c2",
   "metadata": {},
   "outputs": [],
   "source": [
    "import os \n",
    "from langchain_google_genai import ChatGoogleGenerativeAI\n",
    "from jinja2 import Template\n",
    "from dotenv import load_dotenv\n",
    "from langchain.output_parsers import StructuredOutputParser\n",
    "load_dotenv()\n",
    "\n",
    "llm=ChatGoogleGenerativeAI(model='gemini-1.5-flash')\n"
   ]
  },
  {
   "cell_type": "markdown",
   "id": "15b517a7",
   "metadata": {},
   "source": [
    "# Creating Reusable Prompt Templates\n",
    "we will create a PromptTemplate class that uses Jinja2 for templating.\n",
    "* Jinja2 provides more power,flexibility in template rendering than simple string formatting. \n",
    "* Jinja2 supports loops,contitionals,filters,readability and ideal for prompts, which lack in python string formatting."
   ]
  },
  {
   "cell_type": "code",
   "execution_count": 3,
   "id": "a6da7bf1",
   "metadata": {},
   "outputs": [
    {
     "name": "stdout",
     "output_type": "stream",
     "text": [
      "Simple Template Result:\n",
      "content='Photosynthesis is the process used by plants, algae, and some bacteria to convert light energy into chemical energy in the form of sugars.  This happens in two main stages: the light-dependent reactions, which capture light energy and convert it to chemical energy (ATP and NADPH), and the light-independent reactions (Calvin cycle), which use that energy to convert carbon dioxide into glucose.  In short, it\\'s how plants \"make their food\" using sunlight, water, and carbon dioxide.' additional_kwargs={} response_metadata={'prompt_feedback': {'block_reason': 0, 'safety_ratings': []}, 'finish_reason': 'STOP', 'safety_ratings': []} id='run-8aa5d86a-4cb9-40f4-b938-ade6ff0a8994-0' usage_metadata={'input_tokens': 8, 'output_tokens': 102, 'total_tokens': 110, 'input_token_details': {'cache_read': 0}}\n",
      "********************************************************************************************************************************************************************************************************************************************************************************************************************************************************************************************************************************************************************************************************************\n",
      "Complex Template Result:\n",
      "content='Imagine a network of interconnected nodes, like a brain.  Neural networks are computer systems inspired by this structure.  They learn from data by adjusting the connections between nodes, strengthening some and weakening others.  This allows them to recognize patterns, make predictions, and solve complex problems, like image recognition or language translation, without being explicitly programmed for each specific task.  Essentially, they learn to learn.' additional_kwargs={} response_metadata={'prompt_feedback': {'block_reason': 0, 'safety_ratings': []}, 'finish_reason': 'STOP', 'safety_ratings': []} id='run-6c919671-fd29-4e8b-bf7f-1c4e8cd0372a-0' usage_metadata={'input_tokens': 24, 'output_tokens': 81, 'total_tokens': 105, 'input_token_details': {'cache_read': 0}}\n"
     ]
    }
   ],
   "source": [
    "class PromptTemplate:\n",
    "     ''' A class to represent a template for generating prompts with variables\n",
    "    Attributes:\n",
    "        template (str): The template string with variables\n",
    "        input_variables (list): A list of the variable names in the template\n",
    "    '''\n",
    "     def __init__(self,template,input_variables):\n",
    "          self.template= Template(template)\n",
    "          self.input_variables=input_variables\n",
    "\n",
    "     def format(self, **kwargs):\n",
    "          return self.template.render(**kwargs)\n",
    "\n",
    "# Simple template with one variable\n",
    "simple_template=PromptTemplate(\n",
    "     template=\"Provide a brief explanation of {{topic}}.\",\n",
    "     input_variables=['topic']\n",
    ") \n",
    "\n",
    "# More complex template with multiple variables\n",
    "complex_template=PromptTemplate(\n",
    "     template=\"Exmplain the concept of {{concept}} in the field of {{field}} to a {{audiance}} audiance, coniesly.\",\n",
    "     input_variables=['concept','field','audiance']\n",
    ")\n",
    "\n",
    "# Using simple template\n",
    "print('Simple Template Result:')\n",
    "prompt=simple_template.format(topic='Photosynthesis')\n",
    "print(llm.invoke(prompt))\n",
    "\n",
    "print('*'*500)\n",
    "\n",
    "# Using complex template\n",
    "print('Complex Template Result:')\n",
    "prompt=complex_template.format(\n",
    "     concept='Neural Networks',\n",
    "     field='Artificial Intelligence',\n",
    "     audience='Begineer'\n",
    ")\n",
    "print(llm.invoke(prompt))\n"
   ]
  },
  {
   "cell_type": "markdown",
   "id": "49c526c3",
   "metadata": {},
   "source": [
    "# 2. Using Variables for Dynamic Content."
   ]
  },
  {
   "cell_type": "code",
   "execution_count": 5,
   "id": "fa6b3e3e",
   "metadata": {},
   "outputs": [
    {
     "name": "stdout",
     "output_type": "stream",
     "text": [
      "Conditional Template Result (with profession)\n",
      "content='Akira, focus on specialization (e.g., AI, cloud, cybersecurity), continuous learning (courses, certifications), networking (conferences, online communities), and building a strong portfolio showcasing your skills. Consider leadership roles or freelancing as potential paths.' additional_kwargs={} response_metadata={'prompt_feedback': {'block_reason': 0, 'safety_ratings': []}, 'finish_reason': 'STOP', 'safety_ratings': []} id='run-c0da4c0e-e424-4285-9194-762e22132d7c-0' usage_metadata={'input_tokens': 35, 'output_tokens': 51, 'total_tokens': 86, 'input_token_details': {'cache_read': 0}}\n",
      "********************************************************************************************************************************************************************************************************************************************************************************************************************************************************************************************************************************************************************************************************************\n",
      "\n",
      " Conditional Template Result (without profession)\n",
      "content='Explore your interests and skills.  Consider entry-level positions, internships, or volunteering to gain experience.  Utilize online resources for job searching and skill development.' additional_kwargs={} response_metadata={'prompt_feedback': {'block_reason': 0, 'safety_ratings': []}, 'finish_reason': 'STOP', 'safety_ratings': []} id='run-ad5e3a57-b9d2-47a6-88e1-7bb2a3f4d75a-0' usage_metadata={'input_tokens': 34, 'output_tokens': 34, 'total_tokens': 68, 'input_token_details': {'cache_read': 0}}\n"
     ]
    }
   ],
   "source": [
    "# Template with conditional content\n",
    "conditional_template= PromptTemplate(\n",
    "    template=\"My name is {{ name }} and I am {{ age }} years old. \"\n",
    "              \"{% if profession %}I work as a {{ profession }}.{% else %}I am currently not employed.{% endif %} \"\n",
    "              \"Can you give me career advice based on this information? answer concisely.\",\n",
    "    input_variables=['name','age','profession']\n",
    ")\n",
    "\n",
    "# Using conditional template\n",
    "print('Conditional Template Result (with profession)')\n",
    "prompt=conditional_template.format(\n",
    "    name='Akira',\n",
    "    age='28',\n",
    "    profession='Software developer'\n",
    ")\n",
    "print(llm.invoke(prompt))\n",
    "\n",
    "print(\"*\"*500)\n",
    "\n",
    "print('\\n Conditional Template Result (without profession)')\n",
    "prompt=conditional_template.format(\n",
    "    name='Sam',\n",
    "    age='22',\n",
    "    profession=''\n",
    ")\n",
    "print(llm.invoke(prompt))\n",
    "\n"
   ]
  },
  {
   "cell_type": "code",
   "execution_count": 12,
   "id": "392f3d3e",
   "metadata": {},
   "outputs": [
    {
     "name": "stdout",
     "output_type": "stream",
     "text": [
      "List Template Result:\n",
      "content=\"Here's a categorization of the items:\\n\\n**Category 1: Fruit**\\n* Apple\\n* Banana\\n\\n**Category 2: Vegetables**\\n* Carrot\\n\\n**Category 3: Hand Tools**\\n* Hammer\\n* Screwdriver\\n* Pliers\\n\\n**Category 4: Printed Materials**\\n* Novel\\n* Textbook\\n* Magazine\" additional_kwargs={} response_metadata={'prompt_feedback': {'block_reason': 0, 'safety_ratings': []}, 'finish_reason': 'STOP', 'safety_ratings': []} id='run-1740eede-d883-4a6d-a4f7-b420d2bc91f9-0' usage_metadata={'input_tokens': 35, 'output_tokens': 73, 'total_tokens': 108, 'input_token_details': {'cache_read': 0}}\n"
     ]
    }
   ],
   "source": [
    "# Template for list processing\n",
    "list_template=PromptTemplate(\n",
    "    template=\"Categorize these items into groups: {{ items }}. Provide the categories and the items in each category.\",\n",
    "    input_variables=['items']\n",
    ")\n",
    "# Using list template\n",
    "print('List Template Result:')\n",
    "prompt=list_template.format(\n",
    "    items='apple, banana, carrot, hammer, screwdriver, pliers, novel, textbook, magazine'\n",
    "\n",
    ")\n",
    "print(llm.invoke(prompt))"
   ]
  },
  {
   "cell_type": "markdown",
   "id": "5be99930",
   "metadata": {},
   "source": [
    "# Advanced Template Techniques"
   ]
  },
  {
   "cell_type": "code",
   "execution_count": 14,
   "id": "ec70eb01",
   "metadata": {},
   "outputs": [
    {
     "name": "stdout",
     "output_type": "stream",
     "text": [
      "Formatted list Template Result:\n",
      "content=\"This list contains a mix of programming languages, scripting languages, and front-end/back-end web development frameworks.  We can group them as follows:\\n\\n**1. Programming/Scripting Languages:**\\n\\n* **Python:** A general-purpose, high-level programming language used extensively in web development (backend), data science, machine learning, and more.\\n* **JavaScript:** A primarily client-side scripting language for web browsers, increasingly used on the server-side (Node.js).\\n* **HTML (HyperText Markup Language):**  Not a programming language, but a markup language used to structure web pages.  It's foundational to web development but doesn't contain logic.\\n* **CSS (Cascading Style Sheets):**  Not a programming language either, but a stylesheet language used to style HTML elements, controlling the visual presentation of web pages.\\n\\n\\n**2. Web Development Frameworks/Libraries:**\\n\\n* **React:** A JavaScript library for building user interfaces (UI) specifically for single-page applications and interactive components.  It's a front-end framework.\\n* **Django:** A high-level Python web framework that encourages rapid development and clean, pragmatic design. It's a back-end framework.\\n* **Flask:** A lightweight Python web framework, providing more flexibility and control than Django.  Also a back-end framework.\\n* **Node.js:** A JavaScript runtime environment that allows execution of JavaScript code outside of web browsers, enabling server-side JavaScript development.  It's a back-end framework/runtime environment.\\n\\n\\n**Patterns and Observations:**\\n\\n* **Front-end vs. Back-end:** The list clearly distinguishes between front-end technologies (HTML, CSS, JavaScript, React) and back-end technologies (Python, Django, Flask, Node.js).  React interacts with back-end frameworks through APIs.\\n* **Python Ecosystem:** Django and Flask are both Python-based web frameworks, showcasing the breadth of Python's use in web development.\\n* **JavaScript Ecosystem:** React and Node.js represent the growing power of JavaScript beyond the browser, enabling full-stack JavaScript development.\\n* **Language and Framework Relationship:**  Each framework is tied to a specific programming language (except for Node.js which is a runtime for JavaScript).\\n\\n\\nIn summary, the list represents a core set of technologies commonly used in modern web development, covering both front-end and back-end aspects.  The groupings highlight the ecosystems built around specific programming languages and the separation of concerns between presentation (front-end) and logic/data management (back-end).\" additional_kwargs={} response_metadata={'prompt_feedback': {'block_reason': 0, 'safety_ratings': []}, 'finish_reason': 'STOP', 'safety_ratings': []} id='run-36c8f580-4c40-4f20-a07e-b2c9b4a0b585-0' usage_metadata={'input_tokens': 47, 'output_tokens': 541, 'total_tokens': 588, 'input_token_details': {'cache_read': 0}}\n"
     ]
    }
   ],
   "source": [
    "list_format_template=PromptTemplate(\n",
    "    template=\"Analyze the following list of items:\\n\"\n",
    "              \"{% for item in items.split(',') %}\"\n",
    "              \"- {{ item.strip() }}\\n\"\n",
    "              \"{% endfor %}\"\n",
    "              \"\\nProvide a summary of the list and suggest any patterns or groupings.\",\n",
    "    input_variables=[\"items\"]\n",
    ")\n",
    "\n",
    "# Using the formatted list template\n",
    "print(\"Formatted list Template Result:\")\n",
    "prompt=list_format_template.format(\n",
    "    items='Python, JavaScript, HTML, CSS, React, Django, Flask, Node.js'\n",
    ")\n",
    "print(llm.invoke(prompt))"
   ]
  },
  {
   "cell_type": "code",
   "execution_count": 15,
   "id": "b5d3edfe",
   "metadata": {},
   "outputs": [
    {
     "name": "stdout",
     "output_type": "stream",
     "text": [
      "Dynamic instruction template result\n",
      "content='## Logo Concept:  \"Synaptic Bloom\"\\n\\n**Concept:**  The logo combines the imagery of a synapse (representing AI and neural networks) with a stylized flower (representing growth, health, and life). This visually connects the AI technology with its application in healthcare.\\n\\n**Visual Elements:**\\n\\n* **Shape:** A stylized abstract flower with five petals, each petal subtly curving to resemble a synapse\\'s branching structure.  The petals are not perfectly symmetrical for a more organic and less clinical feel.\\n* **Color:** A gradient blend of teal (a mix of blue and green) forms the majority of the flower.  The center of the flower can be a slightly darker teal or a deep, muted green to provide contrast and focus.\\n* **Simplicity:** The overall shape is simple and easily recognizable even at small sizes.  There are no unnecessary details or complex lines.\\n\\n**Color Palette:**\\n\\n* **Main Color:** #008080 (Teal) – a calming and trustworthy color associated with technology and nature.\\n* **Accent Color:** #228B22 (Forest Green) – for the center, adding depth and representing growth.\\n\\n\\n**Why this works:**\\n\\n* **Relevance:**  The synapse directly relates to AI and neural networks, core to the startup\\'s technology. The flower symbolizes health, growth, and positive outcomes – key aspects of healthcare.\\n* **Simplicity:**  The design is clean and uncluttered, ensuring memorability and scalability.\\n* **Color Scheme:**  The blue-green palette conveys trustworthiness, technology, and nature, aligning well with the AI-driven healthcare sector.\\n* **Memorability:** The unique combination of synapse and flower creates a distinct and memorable image.\\n\\n\\n**Possible Variations:**\\n\\n* The logo could be presented with or without a company name underneath.\\n* The gradient could be subtly adjusted to create different moods.\\n* A very thin, almost invisible outline could be added to enhance the shape\\'s definition at small sizes.\\n\\n\\nThis concept provides a strong visual identity that effectively communicates the startup\\'s focus on AI-driven healthcare solutions while meeting all the specified constraints.  A professional designer could further refine this concept into a polished and high-quality logo.' additional_kwargs={} response_metadata={'prompt_feedback': {'block_reason': 0, 'safety_ratings': []}, 'finish_reason': 'STOP', 'safety_ratings': []} id='run-008aaf03-d7a6-49af-8427-4209e22ada93-0' usage_metadata={'input_tokens': 64, 'output_tokens': 461, 'total_tokens': 525, 'input_token_details': {'cache_read': 0}}\n"
     ]
    }
   ],
   "source": [
    "# Template with dynamic instructions\n",
    "dynamic_instruction_template = PromptTemplate(\n",
    "    template=\"Task: {{ task }}\\n\"\n",
    "              \"Context: {{ context }}\\n\"\n",
    "              \"Constraints: {{ constraints }}\\n\\n\"\n",
    "              \"Please provide a solution that addresses the task, considers the context, and adheres to the constraints.\",\n",
    "    input_variables=[\"task\", \"context\", \"constraints\"]\n",
    ")\n",
    "\n",
    "# Using the dynamic instruction template\n",
    "print(\"Dynamic instruction template result\")\n",
    "prompt=dynamic_instruction_template.format(\n",
    "    task='Design a logo for a tech startup',\n",
    "    context='The startup focuses on AI-driven healthcare solutions',\n",
    "    constraints='Must use blue and green colors,and should be simple enough to be recognizaalbe when small'\n",
    ")\n",
    "print(llm.invoke(prompt))"
   ]
  },
  {
   "cell_type": "code",
   "execution_count": null,
   "id": "657be577",
   "metadata": {},
   "outputs": [],
   "source": []
  }
 ],
 "metadata": {
  "kernelspec": {
   "display_name": "venv",
   "language": "python",
   "name": "python3"
  },
  "language_info": {
   "codemirror_mode": {
    "name": "ipython",
    "version": 3
   },
   "file_extension": ".py",
   "mimetype": "text/x-python",
   "name": "python",
   "nbconvert_exporter": "python",
   "pygments_lexer": "ipython3",
   "version": "3.11.5"
  }
 },
 "nbformat": 4,
 "nbformat_minor": 5
}
