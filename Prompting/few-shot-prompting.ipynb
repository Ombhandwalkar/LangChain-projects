{
 "cells": [
  {
   "cell_type": "code",
   "execution_count": 1,
   "id": "bc4cae3f",
   "metadata": {},
   "outputs": [],
   "source": [
    "from langchain_core.prompts import PromptTemplate\n",
    "from langchain.chains import LLMChain\n",
    "from langchain_google_genai import ChatGoogleGenerativeAI\n",
    "from dotenv import load_dotenv\n",
    "load_dotenv()\n",
    "import os"
   ]
  },
  {
   "cell_type": "code",
   "execution_count": 4,
   "id": "a3515a26",
   "metadata": {},
   "outputs": [],
   "source": [
    "llm=ChatGoogleGenerativeAI(model='gemini-1.5-flash')\n",
    "\n",
    "def create_chains(prompt_template):\n",
    "    prompt=PromptTemplate.from_template(prompt_template)\n",
    "    return prompt | llm"
   ]
  },
  {
   "cell_type": "markdown",
   "id": "5d2fede4",
   "metadata": {},
   "source": [
    "# Direct Task Specification"
   ]
  },
  {
   "cell_type": "code",
   "execution_count": 5,
   "id": "25bc851b",
   "metadata": {},
   "outputs": [
    {
     "name": "stdout",
     "output_type": "stream",
     "text": [
      "Text:I absolutely loved the movie! The acting was superb.\n",
      "Sentiment:Positive\n",
      "Text:The weather today is quite typical for this time of year.\n",
      "Sentiment:Neutral\n",
      "Text:I'm disappointed with the service I received at the restaurant.\n",
      "Sentiment:Negative\n"
     ]
    }
   ],
   "source": [
    "direct_prompt_task=\"\"\"\"\n",
    "        Classify the sentiment of the following text as positive, negative or neutral.\n",
    "        Do not explain your reasoning, just provide the classification\n",
    "        Text: {text}\n",
    "        Sentiment:\n",
    "                    \"\"\"\n",
    "\n",
    "direct_task_chain=create_chains(direct_prompt_task)\n",
    "\n",
    "texts=[\n",
    "    \"I absolutely loved the movie! The acting was superb.\",\n",
    "    \"The weather today is quite typical for this time of year.\",\n",
    "    \"I'm disappointed with the service I received at the restaurant.\"\n",
    "]\n",
    "\n",
    "for text in texts:\n",
    "    result=direct_task_chain.invoke({'text':text}).content\n",
    "    print(f\"Text:{text}\")\n",
    "    print(f'Sentiment:{result}')"
   ]
  },
  {
   "cell_type": "markdown",
   "id": "b3c2e72e",
   "metadata": {},
   "source": [
    "# Format Specification"
   ]
  },
  {
   "cell_type": "code",
   "execution_count": 7,
   "id": "b7975722",
   "metadata": {},
   "outputs": [
    {
     "name": "stdout",
     "output_type": "stream",
     "text": [
      "**Headline:**  Giant Black Hole Defies Expectations, Rewriting Cosmic History\n",
      "\n",
      "**Lead:**  Astronomers have announced the discovery of a supermassive black hole so unexpectedly large and ancient that it challenges existing models of galaxy formation.  Located at the heart of a distant quasar, the behemoth weighs in at a staggering 30 billion times the mass of our sun, pushing the boundaries of what scientists thought possible in the early universe.\n",
      "\n",
      "\n",
      "**Body:** The black hole, designated J0100+2802, was identified through observations using a network of telescopes, including the Very Large Telescope in Chile. Its immense size is particularly surprising given its relatively early appearance in the universe's history – just 900 million years after the Big Bang.  Current theories predict that black holes of this scale should take far longer to form.  The discovery suggests that the early universe may have been far more conducive to the rapid growth of supermassive black holes than previously imagined.\n",
      "\n",
      "Researchers are now scrambling to understand how such a massive black hole could have accumulated so much mass in such a short timeframe.  Several hypotheses are being explored, including the possibility of rapid mergers of smaller black holes or the collapse of extremely massive gas clouds.  The discovery also raises questions about the role of these colossal objects in shaping the evolution of galaxies.\n",
      "\n",
      "The detailed analysis of J0100+2802’s environment, including its surrounding galaxy and the quasar’s intense light, will be crucial to unraveling the mysteries surrounding its formation and impact on its cosmic neighborhood.  Further observations are planned to gather more data and refine our understanding of this remarkable cosmic phenomenon.\n",
      "\n",
      "\n",
      "**Conclusion:**  This groundbreaking discovery forces a re-evaluation of our understanding of black hole formation and the early universe, highlighting the ongoing quest to unravel the cosmos's deepest secrets.\n"
     ]
    }
   ],
   "source": [
    "format_specific_prompt=\"\"\"\n",
    "        Generate a short news article about {topic}.\n",
    "        Structure your response in the following format:\n",
    "        Headline:[A catcht headline for the article]\n",
    "        Lead:[A brief introductory paragraph summarizing the key points]\n",
    "        Body:[2-3 paragrapsh providing more details]\n",
    "        conclusion:[A concluding sentence or call to action]\n",
    "                        \"\"\"\n",
    "format_specific_chain=create_chains(format_specific_prompt)\n",
    "\n",
    "# Test the format specification prompting\n",
    "topic='The discovery of Black Hole'\n",
    "result=format_specific_chain.invoke({'topic':topic}).content\n",
    "print(result)"
   ]
  },
  {
   "cell_type": "code",
   "execution_count": 9,
   "id": "8f09dbb8",
   "metadata": {},
   "outputs": [
    {
     "name": "stdout",
     "output_type": "stream",
     "text": [
      "**Analysis:**\n",
      "\n",
      "**1. Main Argument:** The main argument is that the environmental impact of electric vehicles (EVs) is more complex than often portrayed, and their contribution to climate change mitigation is contingent upon factors like battery production methods and electricity source.  It's not a simple case of EVs being a straightforward solution.\n",
      "\n",
      "\n",
      "**2. Supporting Evidence:**\n",
      "\n",
      "* **Resource-intensive battery production:** The text highlights the environmental damage caused by mining operations necessary for EV battery production, including habitat destruction and water pollution.\n",
      "* **Electricity source dependence:** The text points out that if EVs are charged using electricity generated from fossil fuels, their carbon footprint might not be significantly reduced, negating a key benefit.\n",
      "\n",
      "\n",
      "**3. Potential Counterarguments:**\n",
      "\n",
      "* **Lifecycle assessments show overall emissions reduction:**  Studies comparing the entire lifecycle emissions of EVs versus gasoline cars might show a net reduction in greenhouse gases even considering battery production and electricity sources, especially with a shift towards renewable energy.\n",
      "* **Technological advancements in battery production:**  The text acknowledges that battery technology is improving.  Counterarguments could highlight innovations like improved mining practices, battery recycling, and the development of more sustainable battery chemistries that minimize environmental impact.\n",
      "* **Grid decarbonization is progressing:**  The reliance on fossil fuel-based electricity is a temporary issue.  The argument could be countered by noting the increasing adoption of renewable energy sources globally, which will reduce the carbon footprint of charging EVs in the future.\n",
      "* **Focus on the comparative advantage:**  A counterargument might focus on the fact that even with some environmental drawbacks, EVs still represent a significant improvement over internal combustion engine vehicles in reducing air pollution in urban areas.  The argument would be that the benefits outweigh the drawbacks when compared to the status quo.\n"
     ]
    }
   ],
   "source": [
    "multi_step_prompt = \"\"\"Analyze the following text for its main argument, supporting evidence, and potential counterarguments. \n",
    "Provide your analysis in the following steps:\n",
    "\n",
    "1. Main Argument: Identify and state the primary claim or thesis.\n",
    "2. Supporting Evidence: List the key points or evidence used to support the main argument.\n",
    "3. Potential Counterarguments: Suggest possible objections or alternative viewpoints to the main argument.\n",
    "\n",
    "Text: {text}\n",
    "\n",
    "Analysis:\"\"\"\n",
    "\n",
    "multi_step_chain = create_chains(multi_step_prompt)\n",
    "\n",
    "# Test the multi-step reasoning approach\n",
    "text = \"\"\"While electric vehicles are often touted as a solution to climate change, their environmental impact is not as straightforward as it seems. \n",
    "The production of batteries for electric cars requires significant mining operations, which can lead to habitat destruction and water pollution. \n",
    "Moreover, if the electricity used to charge these vehicles comes from fossil fuel sources, the overall carbon footprint may not be significantly reduced. \n",
    "However, as renewable energy sources become more prevalent and battery technology improves, electric vehicles could indeed play a crucial role in combating climate change.\"\"\"\n",
    "\n",
    "result = multi_step_chain.invoke({\"text\": text}).content\n",
    "print(result)"
   ]
  },
  {
   "cell_type": "code",
   "execution_count": 11,
   "id": "229a9450",
   "metadata": {},
   "outputs": [
    {
     "name": "stdout",
     "output_type": "stream",
     "text": [
      "Task: Explain conciesly the concept of blockchain technology\n",
      "\n",
      "Basic Prompt Result:\n",
      "Blockchain is a shared, immutable ledger recording transactions in \"blocks\" linked cryptographically.  This creates a transparent, secure, and decentralized system resistant to tampering.\n",
      "\n",
      "--------------------------------------------------\n",
      "\n",
      "Structured Prompt Result:\n",
      "1. **Definition:** Blockchain is a decentralized, immutable ledger shared across a network of computers.  It records transactions in \"blocks\" linked cryptographically, creating a tamper-proof chain.\n",
      "\n",
      "2. **Key Features:** Decentralization (no single point of control), immutability (records cannot be altered), transparency (transactions are viewable), security (cryptography ensures integrity).\n",
      "\n",
      "3. **Real-world applications:** Cryptocurrencies (Bitcoin), supply chain management (tracking goods), digital identity (secure verification), voting systems (transparent and secure elections).\n",
      "\n",
      "4. **Potential impact on industries:** Increased transparency and trust, reduced fraud and counterfeiting, improved efficiency and automation, enhanced data security across finance, healthcare, logistics, and many more.\n",
      "\n",
      "--------------------------------------------------\n",
      "\n"
     ]
    }
   ],
   "source": [
    "def compare_prompts(task, prompt_templates):\n",
    "    \"\"\"\n",
    "    Compare different prompt templates for the same task.\n",
    "    \n",
    "    Args:\n",
    "        task (str): The task description or input.\n",
    "        prompt_templates (dict): A dictionary of prompt templates with their names as keys.\n",
    "    \"\"\"\n",
    "    print(f\"Task: {task}\\n\")\n",
    "    for name, template in prompt_templates.items():\n",
    "        chain = create_chains(template)\n",
    "        result = chain.invoke({\"task\": task}).content\n",
    "        print(f\"{name} Prompt Result:\")\n",
    "        print(result)\n",
    "        print(\"\\n\" + \"-\"*50 + \"\\n\")\n",
    "\n",
    "task = \"Explain conciesly the concept of blockchain technology\"\n",
    "\n",
    "prompt_templates = {\n",
    "    \"Basic\": \"Explain {task}.\",\n",
    "    \"Structured\": \"\"\"Explain {task} by addressing the following points:\n",
    "1. Definition\n",
    "2. Key features\n",
    "3. Real-world applications\n",
    "4. Potential impact on industries\"\"\"\n",
    "}\n",
    "\n",
    "compare_prompts(task, prompt_templates)"
   ]
  },
  {
   "cell_type": "code",
   "execution_count": null,
   "id": "944c0e02",
   "metadata": {},
   "outputs": [],
   "source": []
  }
 ],
 "metadata": {
  "kernelspec": {
   "display_name": "venv",
   "language": "python",
   "name": "python3"
  },
  "language_info": {
   "codemirror_mode": {
    "name": "ipython",
    "version": 3
   },
   "file_extension": ".py",
   "mimetype": "text/x-python",
   "name": "python",
   "nbconvert_exporter": "python",
   "pygments_lexer": "ipython3",
   "version": "3.11.5"
  }
 },
 "nbformat": 4,
 "nbformat_minor": 5
}
