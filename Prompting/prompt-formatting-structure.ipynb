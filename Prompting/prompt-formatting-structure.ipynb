{
 "cells": [
  {
   "cell_type": "code",
   "execution_count": 23,
   "id": "5241651d",
   "metadata": {},
   "outputs": [
    {
     "data": {
      "text/plain": [
       "True"
      ]
     },
     "execution_count": 23,
     "metadata": {},
     "output_type": "execute_result"
    }
   ],
   "source": [
    "import os \n",
    "from langchain_google_genai import ChatGoogleGenerativeAI\n",
    "from langchain_core.prompts import PromptTemplate\n",
    "from dotenv import load_dotenv\n",
    "load_dotenv()\n"
   ]
  },
  {
   "cell_type": "code",
   "execution_count": 24,
   "id": "f20de7b7",
   "metadata": {},
   "outputs": [],
   "source": [
    "llm=ChatGoogleGenerativeAI(model='gemini-1.5-flash')\n",
    "\n",
    "\n",
    "def get_response(prompt):\n",
    "    response=llm.invoke(prompt).content\n",
    "    print(response)\n",
    "    print(\"-\"*50)\n",
    "    return response"
   ]
  },
  {
   "cell_type": "code",
   "execution_count": 25,
   "id": "a5099841",
   "metadata": {},
   "outputs": [
    {
     "name": "stdout",
     "output_type": "stream",
     "text": [
      "A tariff is a tax imposed by a government on imported goods or services.  The purpose of a tariff is to increase the price of imported goods and make them less competitive compared to domestically produced goods.  This can protect domestic industries from foreign competition, generate revenue for the government, or both.  However, tariffs can also lead to higher prices for consumers and retaliatory tariffs from other countries.\n",
      "--------------------------------------------------\n"
     ]
    },
    {
     "data": {
      "text/plain": [
       "'A tariff is a tax imposed by a government on imported goods or services.  The purpose of a tariff is to increase the price of imported goods and make them less competitive compared to domestically produced goods.  This can protect domestic industries from foreign competition, generate revenue for the government, or both.  However, tariffs can also lead to higher prices for consumers and retaliatory tariffs from other countries.'"
      ]
     },
     "execution_count": 25,
     "metadata": {},
     "output_type": "execute_result"
    }
   ],
   "source": [
    "# Question and Answer\n",
    "qa_prompt=\"\"\"\"\n",
    "Q: What is Tarrif ?\n",
    "A:\n",
    "\"\"\"\n",
    "\n",
    "get_response(qa_prompt)"
   ]
  },
  {
   "cell_type": "code",
   "execution_count": 26,
   "id": "5b8976be",
   "metadata": {},
   "outputs": [
    {
     "name": "stdout",
     "output_type": "stream",
     "text": [
      "Teacher:  Tariffs are taxes imposed by a government on imported goods.  They increase the price of those goods, making them more expensive for consumers in the importing country.  There are several reasons why the US (and other countries) apply tariffs, particularly on China.  It's rarely a single, simple reason, but a complex interplay of factors:\n",
      "\n",
      "* **Protecting Domestic Industries:**  A primary reason is to protect domestic industries from foreign competition.  If imported goods are cheaper, domestic businesses might struggle to compete, potentially leading to job losses and factory closures. Tariffs level the playing field by making imports more expensive.  This is often argued for industries considered strategically important, like steel or technology.\n",
      "\n",
      "* **Retaliation:**  Tariffs can be used as a retaliatory measure against other countries that have imposed their own tariffs or engaged in unfair trade practices, such as dumping (selling goods below cost to gain market share).  The US might impose tariffs on Chinese goods in response to what it perceives as unfair trade actions by China.\n",
      "\n",
      "* **National Security:**  In some cases, tariffs are justified on national security grounds.  This might involve restricting imports of certain goods deemed crucial for national defense or critical infrastructure to reduce reliance on foreign suppliers.\n",
      "\n",
      "* **Revenue Generation:**  While not the primary purpose, tariffs do generate revenue for the government.  This revenue can then be used to fund various government programs.\n",
      "\n",
      "* **Protecting Intellectual Property:**  Tariffs can be a tool to pressure countries that don't adequately protect intellectual property rights of US companies.  If China is perceived as not doing enough to stop the theft of US technology or designs, tariffs could be used as leverage.\n",
      "\n",
      "* **Trade Imbalances:**  A large trade deficit (importing more than exporting) with a country like China can lead to political pressure to use tariffs to try and reduce that deficit.  However, economists debate the effectiveness of tariffs in addressing trade imbalances.\n",
      "\n",
      "\n",
      "It's important to understand that tariffs are a complex issue with both advantages and disadvantages. While they can protect domestic industries and jobs in the short term, they can also lead to higher prices for consumers, trade wars (when other countries retaliate with their own tariffs), and reduced overall economic efficiency. The decision to impose tariffs is a political one, often balancing competing interests and priorities.  The US-China trade relationship is particularly fraught with these complexities.\n",
      "--------------------------------------------------\n"
     ]
    },
    {
     "data": {
      "text/plain": [
       "\"Teacher:  Tariffs are taxes imposed by a government on imported goods.  They increase the price of those goods, making them more expensive for consumers in the importing country.  There are several reasons why the US (and other countries) apply tariffs, particularly on China.  It's rarely a single, simple reason, but a complex interplay of factors:\\n\\n* **Protecting Domestic Industries:**  A primary reason is to protect domestic industries from foreign competition.  If imported goods are cheaper, domestic businesses might struggle to compete, potentially leading to job losses and factory closures. Tariffs level the playing field by making imports more expensive.  This is often argued for industries considered strategically important, like steel or technology.\\n\\n* **Retaliation:**  Tariffs can be used as a retaliatory measure against other countries that have imposed their own tariffs or engaged in unfair trade practices, such as dumping (selling goods below cost to gain market share).  The US might impose tariffs on Chinese goods in response to what it perceives as unfair trade actions by China.\\n\\n* **National Security:**  In some cases, tariffs are justified on national security grounds.  This might involve restricting imports of certain goods deemed crucial for national defense or critical infrastructure to reduce reliance on foreign suppliers.\\n\\n* **Revenue Generation:**  While not the primary purpose, tariffs do generate revenue for the government.  This revenue can then be used to fund various government programs.\\n\\n* **Protecting Intellectual Property:**  Tariffs can be a tool to pressure countries that don't adequately protect intellectual property rights of US companies.  If China is perceived as not doing enough to stop the theft of US technology or designs, tariffs could be used as leverage.\\n\\n* **Trade Imbalances:**  A large trade deficit (importing more than exporting) with a country like China can lead to political pressure to use tariffs to try and reduce that deficit.  However, economists debate the effectiveness of tariffs in addressing trade imbalances.\\n\\n\\nIt's important to understand that tariffs are a complex issue with both advantages and disadvantages. While they can protect domestic industries and jobs in the short term, they can also lead to higher prices for consumers, trade wars (when other countries retaliate with their own tariffs), and reduced overall economic efficiency. The decision to impose tariffs is a political one, often balancing competing interests and priorities.  The US-China trade relationship is particularly fraught with these complexities.\""
      ]
     },
     "execution_count": 26,
     "metadata": {},
     "output_type": "execute_result"
    }
   ],
   "source": [
    "# Dialogue Format\n",
    "dialogue_format=\"\"\"\n",
    "Student: Can you explain Tarrif ?\n",
    "Teacher: Certainly ! Tarrif is ...\n",
    "Student: Why does US applying Tarrif on other Counteries? specially on China ?\n",
    "Teacher:\n",
    "\"\"\"\n",
    "\n",
    "get_response(dialogue_format)"
   ]
  },
  {
   "cell_type": "code",
   "execution_count": 27,
   "id": "5eaa450f",
   "metadata": {},
   "outputs": [
    {
     "name": "stdout",
     "output_type": "stream",
     "text": [
      "The US-India relationship regarding tariffs has been complex and evolved over time.  There hasn't been a single, sweeping imposition of tariffs on all Indian goods by the US at one specific point. Instead, tariff actions have been more targeted and often related to specific sectors or trade disputes.\n",
      "\n",
      "While there have been periods of increased tariffs (and retaliatory tariffs from India),  pinpointing a single \"start date\" is inaccurate.  For example, the Trump administration initiated various tariff actions on steel and aluminum imports from several countries, including India, in 2018.  These actions were often followed by retaliatory tariffs from India.  Subsequent administrations have adjusted these tariffs or introduced new ones based on ongoing trade negotiations and concerns about specific industries.  Therefore, there's no single \"start date\" for US tariff application on India; it's been an ongoing process with fluctuating levels of tariffs depending on the specific goods and the broader political and economic context.\n",
      "--------------------------------------------------\n"
     ]
    },
    {
     "data": {
      "text/plain": [
       "'The US-India relationship regarding tariffs has been complex and evolved over time.  There hasn\\'t been a single, sweeping imposition of tariffs on all Indian goods by the US at one specific point. Instead, tariff actions have been more targeted and often related to specific sectors or trade disputes.\\n\\nWhile there have been periods of increased tariffs (and retaliatory tariffs from India),  pinpointing a single \"start date\" is inaccurate.  For example, the Trump administration initiated various tariff actions on steel and aluminum imports from several countries, including India, in 2018.  These actions were often followed by retaliatory tariffs from India.  Subsequent administrations have adjusted these tariffs or introduced new ones based on ongoing trade negotiations and concerns about specific industries.  Therefore, there\\'s no single \"start date\" for US tariff application on India; it\\'s been an ongoing process with fluctuating levels of tariffs depending on the specific goods and the broader political and economic context.'"
      ]
     },
     "execution_count": 27,
     "metadata": {},
     "output_type": "execute_result"
    }
   ],
   "source": [
    "# Instruction Format\n",
    "instruction_prompt=\"\"\"\"Provide a brief realtion between India and US releated to the Tarrif. When does US starts to apply Tarrif on India ?\"\"\"\n",
    "get_response(instruction_prompt)"
   ]
  },
  {
   "cell_type": "markdown",
   "id": "07b02bf2",
   "metadata": {},
   "source": [
    "# Structural Elements"
   ]
  },
  {
   "cell_type": "code",
   "execution_count": 28,
   "id": "40a7ef6d",
   "metadata": {},
   "outputs": [
    {
     "name": "stdout",
     "output_type": "stream",
     "text": [
      "## Quantization in LLMs\n",
      "\n",
      "**# Definition**\n",
      "\n",
      "Quantization in the context of Large Language Models (LLMs) is a technique to reduce the precision of the numerical representations (weights and activations) used within the model.  Instead of using high-precision floating-point numbers (like FP32, single-precision), quantization reduces the number of bits used to represent each number (e.g., INT8, FP16). This means that instead of using 32 bits to represent a single weight, we might use only 8 bits. This results in a smaller numerical range and less precise representation.\n",
      "\n",
      "**# Process**\n",
      "\n",
      "The quantization process typically involves these steps:\n",
      "\n",
      "1. **Selection of a quantization scheme:**  This involves choosing the target bit-width (e.g., 8-bit integers, 16-bit floats) and the quantization method (e.g., uniform quantization, non-uniform quantization).  Uniform quantization simply scales and rounds the values to fit the smaller range. Non-uniform quantization methods (like k-means clustering) attempt to group similar values together to minimize information loss.\n",
      "\n",
      "2. **Calibration:** This step involves analyzing a representative subset of the model's activations or weights to determine the optimal scaling factors and ranges for quantization. This ensures that the quantized values accurately represent the original values as much as possible.\n",
      "\n",
      "3. **Quantization of weights and activations:**  The actual process of converting the high-precision weights and activations to lower-precision representations using the chosen scheme and calibrated parameters.  This often involves rounding or truncation.\n",
      "\n",
      "4. **Inference with quantized model:**  The quantized model is then used for inference.  Special hardware or software routines are often needed to support the lower-precision arithmetic.\n",
      "\n",
      "**# Importance**\n",
      "\n",
      "Quantization is crucial for several reasons:\n",
      "\n",
      "* **Reduced model size:**  Lower precision representations significantly reduce the size of the model, leading to faster download times and less storage space required. This is especially important for deploying LLMs on resource-constrained devices like mobile phones or edge servers.\n",
      "\n",
      "* **Faster inference:**  Lower precision arithmetic is generally faster than high-precision arithmetic, leading to significant speedups during inference. This allows for faster response times and higher throughput.\n",
      "\n",
      "* **Reduced memory bandwidth:**  Smaller model size and faster arithmetic reduce the amount of memory bandwidth required, which can be a major bottleneck in inference.\n",
      "\n",
      "* **Lower power consumption:**  The reduced computational load and memory access translates to lower power consumption, making it suitable for battery-powered devices.\n",
      "\n",
      "However, it's important to note that quantization introduces a trade-off.  While it offers significant benefits in size, speed, and power consumption, it also introduces a degree of accuracy loss.  Careful calibration and selection of the quantization scheme are necessary to minimize this accuracy loss and maintain acceptable performance.  The impact of quantization on accuracy varies depending on the model architecture, dataset, and quantization method.\n",
      "--------------------------------------------------\n"
     ]
    },
    {
     "data": {
      "text/plain": [
       "\"## Quantization in LLMs\\n\\n**# Definition**\\n\\nQuantization in the context of Large Language Models (LLMs) is a technique to reduce the precision of the numerical representations (weights and activations) used within the model.  Instead of using high-precision floating-point numbers (like FP32, single-precision), quantization reduces the number of bits used to represent each number (e.g., INT8, FP16). This means that instead of using 32 bits to represent a single weight, we might use only 8 bits. This results in a smaller numerical range and less precise representation.\\n\\n**# Process**\\n\\nThe quantization process typically involves these steps:\\n\\n1. **Selection of a quantization scheme:**  This involves choosing the target bit-width (e.g., 8-bit integers, 16-bit floats) and the quantization method (e.g., uniform quantization, non-uniform quantization).  Uniform quantization simply scales and rounds the values to fit the smaller range. Non-uniform quantization methods (like k-means clustering) attempt to group similar values together to minimize information loss.\\n\\n2. **Calibration:** This step involves analyzing a representative subset of the model's activations or weights to determine the optimal scaling factors and ranges for quantization. This ensures that the quantized values accurately represent the original values as much as possible.\\n\\n3. **Quantization of weights and activations:**  The actual process of converting the high-precision weights and activations to lower-precision representations using the chosen scheme and calibrated parameters.  This often involves rounding or truncation.\\n\\n4. **Inference with quantized model:**  The quantized model is then used for inference.  Special hardware or software routines are often needed to support the lower-precision arithmetic.\\n\\n**# Importance**\\n\\nQuantization is crucial for several reasons:\\n\\n* **Reduced model size:**  Lower precision representations significantly reduce the size of the model, leading to faster download times and less storage space required. This is especially important for deploying LLMs on resource-constrained devices like mobile phones or edge servers.\\n\\n* **Faster inference:**  Lower precision arithmetic is generally faster than high-precision arithmetic, leading to significant speedups during inference. This allows for faster response times and higher throughput.\\n\\n* **Reduced memory bandwidth:**  Smaller model size and faster arithmetic reduce the amount of memory bandwidth required, which can be a major bottleneck in inference.\\n\\n* **Lower power consumption:**  The reduced computational load and memory access translates to lower power consumption, making it suitable for battery-powered devices.\\n\\nHowever, it's important to note that quantization introduces a trade-off.  While it offers significant benefits in size, speed, and power consumption, it also introduces a degree of accuracy loss.  Careful calibration and selection of the quantization scheme are necessary to minimize this accuracy loss and maintain acceptable performance.  The impact of quantization on accuracy varies depending on the model architecture, dataset, and quantization method.\""
      ]
     },
     "execution_count": 28,
     "metadata": {},
     "output_type": "execute_result"
    }
   ],
   "source": [
    "# Heading Prompt\n",
    "heading_prompt=\"\"\"\n",
    "        Explain Quantiazation in LLM using the following structure:\n",
    "        # Definition \n",
    "        # Process\n",
    "        # Importance\n",
    "\"\"\"\n",
    "get_response(heading_prompt)"
   ]
  },
  {
   "cell_type": "code",
   "execution_count": 29,
   "id": "7346bf50",
   "metadata": {},
   "outputs": [
    {
     "name": "stdout",
     "output_type": "stream",
     "text": [
      "* **Natural Language Understanding (NLU) engine:** This component interprets user input, understanding the intent and extracting key entities.  It handles tasks like tokenization, part-of-speech tagging, named entity recognition, and intent classification.\n",
      "\n",
      "* **Dialogue Management system:** This component manages the conversation flow, tracks the conversation context, and determines the appropriate response based on the user's input and the chatbot's knowledge base.  It might involve state tracking, dialogue state transitions, and policy selection.\n",
      "\n",
      "* **Natural Language Generation (NLG) engine:** This component generates human-like text responses based on the dialogue management system's output.  It handles tasks like sentence generation, text formatting, and response personalization.\n",
      "\n",
      "\n",
      "Other important, often included components:\n",
      "\n",
      "* **Knowledge base:** A repository of information that the chatbot uses to answer questions and provide relevant information. This could be a database, a set of documents, or a knowledge graph.\n",
      "\n",
      "* **Machine learning models:** These are used to train the NLU and NLG components, and to improve the chatbot's performance over time.  Specific models might include transformers (like BERT or GPT), recurrent neural networks (RNNs), or other deep learning architectures.\n",
      "\n",
      "* **API integrations:**  Connections to external systems (databases, APIs, etc.) to access information and perform actions beyond the chatbot's internal knowledge base.\n",
      "\n",
      "* **User interface (UI):**  The platform through which users interact with the chatbot (e.g., a website, messaging app, or voice assistant).\n",
      "\n",
      "\n",
      "These components work together to create a functional and engaging AI chatbot experience.\n",
      "--------------------------------------------------\n"
     ]
    },
    {
     "data": {
      "text/plain": [
       "\"* **Natural Language Understanding (NLU) engine:** This component interprets user input, understanding the intent and extracting key entities.  It handles tasks like tokenization, part-of-speech tagging, named entity recognition, and intent classification.\\n\\n* **Dialogue Management system:** This component manages the conversation flow, tracks the conversation context, and determines the appropriate response based on the user's input and the chatbot's knowledge base.  It might involve state tracking, dialogue state transitions, and policy selection.\\n\\n* **Natural Language Generation (NLG) engine:** This component generates human-like text responses based on the dialogue management system's output.  It handles tasks like sentence generation, text formatting, and response personalization.\\n\\n\\nOther important, often included components:\\n\\n* **Knowledge base:** A repository of information that the chatbot uses to answer questions and provide relevant information. This could be a database, a set of documents, or a knowledge graph.\\n\\n* **Machine learning models:** These are used to train the NLU and NLG components, and to improve the chatbot's performance over time.  Specific models might include transformers (like BERT or GPT), recurrent neural networks (RNNs), or other deep learning architectures.\\n\\n* **API integrations:**  Connections to external systems (databases, APIs, etc.) to access information and perform actions beyond the chatbot's internal knowledge base.\\n\\n* **User interface (UI):**  The platform through which users interact with the chatbot (e.g., a website, messaging app, or voice assistant).\\n\\n\\nThese components work together to create a functional and engaging AI chatbot experience.\""
      ]
     },
     "execution_count": 29,
     "metadata": {},
     "output_type": "execute_result"
    }
   ],
   "source": [
    "# Using bullet points \n",
    "bullet_point_prompt=''''\n",
    "        List the component needed in building AI chatbot:\n",
    "        • \n",
    "        • \n",
    "        •\n",
    "'''\n",
    "get_response(bullet_point_prompt)"
   ]
  },
  {
   "cell_type": "code",
   "execution_count": 30,
   "id": "4fa238d7",
   "metadata": {},
   "outputs": [
    {
     "name": "stdout",
     "output_type": "stream",
     "text": [
      "Prompt 1:\n",
      "Photosynthesis is fundamentally important for life on Earth because it's the primary source of energy and organic molecules for almost all life forms.  Its importance can be broken down as follows:\n",
      "\n",
      "* **Energy Production:** Photosynthesis converts light energy from the sun into chemical energy in the form of glucose (a sugar). This glucose is then used by plants and other photosynthetic organisms (like algae and some bacteria) as fuel for their metabolic processes, powering their growth, reproduction, and other life functions.\n",
      "\n",
      "* **Oxygen Production:**  As a byproduct of photosynthesis, oxygen is released into the atmosphere.  This oxygen is essential for the respiration of most organisms, including humans and animals.  Without photosynthesis, the Earth's atmosphere would lack the free oxygen necessary for aerobic respiration, a process that yields far more energy than anaerobic respiration.\n",
      "\n",
      "* **Basis of the Food Web:** Plants and other photosynthetic organisms are the primary producers in most ecosystems. They form the base of the food web, providing food for herbivores, which in turn are eaten by carnivores and omnivores.  Without photosynthesis, the entire food web would collapse.\n",
      "\n",
      "* **Carbon Cycle Regulation:** Photosynthesis plays a crucial role in the carbon cycle by absorbing carbon dioxide (CO2) from the atmosphere and incorporating it into organic molecules. This helps regulate the Earth's climate by reducing the amount of greenhouse gases in the atmosphere.\n",
      "\n",
      "* **Building Blocks of Life:**  Photosynthesis not only provides energy but also produces the organic molecules (carbohydrates, lipids, proteins, and nucleic acids) that are the building blocks of all living organisms. These molecules are essential for the construction and maintenance of cells and tissues.\n",
      "\n",
      "\n",
      "In essence, without photosynthesis, life as we know it would not exist.  It's the engine that drives the biosphere, providing the energy and the raw materials necessary for the survival and flourishing of virtually all life on Earth.\n",
      "--------------------------------------------------\n",
      "Prompt 2:\n",
      "Photosynthesis is fundamental to life on Earth, playing a crucial role in three key areas:\n",
      "\n",
      "1. **Oxygen Production:** Photosynthesis is the primary source of oxygen in Earth's atmosphere.  During the process, photosynthetic organisms (primarily plants, algae, and cyanobacteria) split water molecules, releasing oxygen as a byproduct.  This oxygen is essential for the respiration of most living organisms, including animals, fungi, and many bacteria. Without photosynthesis, atmospheric oxygen levels would plummet, making aerobic respiration impossible and leading to the extinction of the vast majority of life forms.\n",
      "\n",
      "2. **Food Chain Support:** Photosynthetic organisms are the base of most food chains on Earth. They are *primary producers*, meaning they convert light energy into chemical energy in the form of sugars (glucose) through photosynthesis.  These sugars serve as the primary source of energy and organic carbon for herbivores (primary consumers). Herbivores are then consumed by carnivores (secondary and tertiary consumers), and so on.  The entire food web, from the smallest microbe to the largest whale, ultimately depends on the energy initially captured by photosynthetic organisms.  Without photosynthesis, the energy flow through ecosystems would cease, resulting in a complete collapse of the food web.\n",
      "\n",
      "3. **Carbon Dioxide Absorption:** Photosynthesis plays a vital role in regulating Earth's climate by absorbing carbon dioxide (CO2) from the atmosphere.  CO2 is a greenhouse gas, meaning it traps heat and contributes to global warming.  During photosynthesis, plants and other photosynthetic organisms take in CO2 from the atmosphere and incorporate the carbon atoms into organic molecules (sugars). This process effectively removes CO2 from the atmosphere, mitigating the greenhouse effect and helping to maintain a stable global temperature.  The reduction of atmospheric CO2 by photosynthesis is crucial for preventing runaway climate change and maintaining habitable conditions on Earth.\n",
      "--------------------------------------------------\n",
      "Prompt 3:\n",
      "A: Photosynthesis is crucial for life on Earth because:\n",
      "\n",
      "1. **It's the primary source of energy for most ecosystems:**  Photosynthesis converts light energy into chemical energy in the form of glucose (a sugar). This glucose is then used by plants and other photosynthetic organisms (like algae and some bacteria) as fuel for their own life processes, and it forms the base of most food chains.  Animals, including humans, ultimately depend on the energy stored in glucose produced through photosynthesis, either directly by consuming plants or indirectly by consuming animals that eat plants.\n",
      "\n",
      "2. **It produces oxygen:**  As a byproduct of photosynthesis, oxygen is released into the atmosphere.  Oxygen is essential for the respiration of most living organisms, including animals, many fungi, and many bacteria.  Without photosynthesis, the Earth's atmosphere would lack the free oxygen necessary for the survival of the vast majority of life forms.\n",
      "\n",
      "3. **It regulates the Earth's climate:** Photosynthesis plays a significant role in regulating the Earth's climate by absorbing carbon dioxide (CO2) from the atmosphere. CO2 is a greenhouse gas that contributes to global warming. By absorbing CO2 during photosynthesis, plants help to mitigate the effects of climate change and maintain a stable atmospheric composition.\n",
      "--------------------------------------------------\n"
     ]
    }
   ],
   "source": [
    "comparison_prompts = [\n",
    "    \"Explain the importance of photosynthesis for life on Earth.\",\n",
    "    \"\"\"Explain the importance of photosynthesis for life on Earth. Structure your answer as follows:\n",
    "    1. Oxygen production\n",
    "    2. Food chain support\n",
    "    3. Carbon dioxide absorption\"\"\",\n",
    "    \"\"\"Q: Why is photosynthesis important for life on Earth?\n",
    "    A: Photosynthesis is crucial for life on Earth because:\n",
    "    1.\n",
    "    2.\n",
    "    3.\"\"\"\n",
    "]\n",
    "\n",
    "for i, prompt in enumerate(comparison_prompts, 1):\n",
    "    print(f\"Prompt {i}:\")\n",
    "    get_response(prompt)"
   ]
  },
  {
   "cell_type": "code",
   "execution_count": null,
   "id": "10ab7f5c",
   "metadata": {},
   "outputs": [],
   "source": []
  }
 ],
 "metadata": {
  "kernelspec": {
   "display_name": "venv",
   "language": "python",
   "name": "python3"
  },
  "language_info": {
   "codemirror_mode": {
    "name": "ipython",
    "version": 3
   },
   "file_extension": ".py",
   "mimetype": "text/x-python",
   "name": "python",
   "nbconvert_exporter": "python",
   "pygments_lexer": "ipython3",
   "version": "3.11.5"
  }
 },
 "nbformat": 4,
 "nbformat_minor": 5
}
