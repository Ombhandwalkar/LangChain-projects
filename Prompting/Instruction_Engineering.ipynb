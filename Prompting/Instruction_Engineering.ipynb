{
  "nbformat": 4,
  "nbformat_minor": 0,
  "metadata": {
    "colab": {
      "provenance": []
    },
    "kernelspec": {
      "name": "python3",
      "display_name": "Python 3"
    },
    "language_info": {
      "name": "python"
    }
  },
  "cells": [
    {
      "cell_type": "markdown",
      "source": [
        "# Instruction Engineering\n",
        "\n",
        "As language models become more advanced, the quality of instructions we provide becomes increasingly important. Well-crafted instructions can significantly improve the model's output, leading to more accurate, relevant, and useful responses. This tutorial aims to equip learners with the skills to create effective instructions that maximize the potential of AI language models.\n",
        "\n",
        "## Key Components\n",
        "\n",
        "1. Crafting Clear Instructions: Techniques for writing unambiguous and easily understandable prompts.\n",
        "2. Effective Instruction Structures: Exploring different ways to format and organize instructions.\n",
        "3. Balancing Specificity and Generality: Finding the right level of detail in instructions.\n",
        "4. Iterative Refinement: Techniques for improving instructions based on model outputs."
      ],
      "metadata": {
        "id": "PdJ_b3Xybh19"
      }
    },
    {
      "cell_type": "code",
      "execution_count": 1,
      "metadata": {
        "colab": {
          "base_uri": "https://localhost:8080/",
          "height": 1000
        },
        "id": "NC_TnhJkaAcS",
        "outputId": "45d68672-c531-4230-f8be-6d4f0ef71d8a"
      },
      "outputs": [
        {
          "output_type": "stream",
          "name": "stdout",
          "text": [
            "Requirement already satisfied: langchain in /usr/local/lib/python3.11/dist-packages (0.3.24)\n",
            "Collecting langchain-google-genai\n",
            "  Downloading langchain_google_genai-2.1.4-py3-none-any.whl.metadata (5.2 kB)\n",
            "Requirement already satisfied: langchain-core<1.0.0,>=0.3.55 in /usr/local/lib/python3.11/dist-packages (from langchain) (0.3.56)\n",
            "Requirement already satisfied: langchain-text-splitters<1.0.0,>=0.3.8 in /usr/local/lib/python3.11/dist-packages (from langchain) (0.3.8)\n",
            "Requirement already satisfied: langsmith<0.4,>=0.1.17 in /usr/local/lib/python3.11/dist-packages (from langchain) (0.3.39)\n",
            "Requirement already satisfied: pydantic<3.0.0,>=2.7.4 in /usr/local/lib/python3.11/dist-packages (from langchain) (2.11.4)\n",
            "Requirement already satisfied: SQLAlchemy<3,>=1.4 in /usr/local/lib/python3.11/dist-packages (from langchain) (2.0.40)\n",
            "Requirement already satisfied: requests<3,>=2 in /usr/local/lib/python3.11/dist-packages (from langchain) (2.32.3)\n",
            "Requirement already satisfied: PyYAML>=5.3 in /usr/local/lib/python3.11/dist-packages (from langchain) (6.0.2)\n",
            "Collecting filetype<2.0.0,>=1.2.0 (from langchain-google-genai)\n",
            "  Downloading filetype-1.2.0-py2.py3-none-any.whl.metadata (6.5 kB)\n",
            "Collecting google-ai-generativelanguage<0.7.0,>=0.6.18 (from langchain-google-genai)\n",
            "  Downloading google_ai_generativelanguage-0.6.18-py3-none-any.whl.metadata (9.8 kB)\n",
            "Requirement already satisfied: google-api-core!=2.0.*,!=2.1.*,!=2.10.*,!=2.2.*,!=2.3.*,!=2.4.*,!=2.5.*,!=2.6.*,!=2.7.*,!=2.8.*,!=2.9.*,<3.0.0,>=1.34.1 in /usr/local/lib/python3.11/dist-packages (from google-api-core[grpc]!=2.0.*,!=2.1.*,!=2.10.*,!=2.2.*,!=2.3.*,!=2.4.*,!=2.5.*,!=2.6.*,!=2.7.*,!=2.8.*,!=2.9.*,<3.0.0,>=1.34.1->google-ai-generativelanguage<0.7.0,>=0.6.18->langchain-google-genai) (2.24.2)\n",
            "Requirement already satisfied: google-auth!=2.24.0,!=2.25.0,<3.0.0,>=2.14.1 in /usr/local/lib/python3.11/dist-packages (from google-ai-generativelanguage<0.7.0,>=0.6.18->langchain-google-genai) (2.38.0)\n",
            "Requirement already satisfied: proto-plus<2.0.0,>=1.22.3 in /usr/local/lib/python3.11/dist-packages (from google-ai-generativelanguage<0.7.0,>=0.6.18->langchain-google-genai) (1.26.1)\n",
            "Requirement already satisfied: protobuf!=4.21.0,!=4.21.1,!=4.21.2,!=4.21.3,!=4.21.4,!=4.21.5,<7.0.0,>=3.20.2 in /usr/local/lib/python3.11/dist-packages (from google-ai-generativelanguage<0.7.0,>=0.6.18->langchain-google-genai) (5.29.4)\n",
            "Requirement already satisfied: tenacity!=8.4.0,<10.0.0,>=8.1.0 in /usr/local/lib/python3.11/dist-packages (from langchain-core<1.0.0,>=0.3.55->langchain) (9.1.2)\n",
            "Requirement already satisfied: jsonpatch<2.0,>=1.33 in /usr/local/lib/python3.11/dist-packages (from langchain-core<1.0.0,>=0.3.55->langchain) (1.33)\n",
            "Requirement already satisfied: packaging<25,>=23.2 in /usr/local/lib/python3.11/dist-packages (from langchain-core<1.0.0,>=0.3.55->langchain) (24.2)\n",
            "Requirement already satisfied: typing-extensions>=4.7 in /usr/local/lib/python3.11/dist-packages (from langchain-core<1.0.0,>=0.3.55->langchain) (4.13.2)\n",
            "Requirement already satisfied: httpx<1,>=0.23.0 in /usr/local/lib/python3.11/dist-packages (from langsmith<0.4,>=0.1.17->langchain) (0.28.1)\n",
            "Requirement already satisfied: orjson<4.0.0,>=3.9.14 in /usr/local/lib/python3.11/dist-packages (from langsmith<0.4,>=0.1.17->langchain) (3.10.18)\n",
            "Requirement already satisfied: requests-toolbelt<2.0.0,>=1.0.0 in /usr/local/lib/python3.11/dist-packages (from langsmith<0.4,>=0.1.17->langchain) (1.0.0)\n",
            "Requirement already satisfied: zstandard<0.24.0,>=0.23.0 in /usr/local/lib/python3.11/dist-packages (from langsmith<0.4,>=0.1.17->langchain) (0.23.0)\n",
            "Requirement already satisfied: annotated-types>=0.6.0 in /usr/local/lib/python3.11/dist-packages (from pydantic<3.0.0,>=2.7.4->langchain) (0.7.0)\n",
            "Requirement already satisfied: pydantic-core==2.33.2 in /usr/local/lib/python3.11/dist-packages (from pydantic<3.0.0,>=2.7.4->langchain) (2.33.2)\n",
            "Requirement already satisfied: typing-inspection>=0.4.0 in /usr/local/lib/python3.11/dist-packages (from pydantic<3.0.0,>=2.7.4->langchain) (0.4.0)\n",
            "Requirement already satisfied: charset-normalizer<4,>=2 in /usr/local/lib/python3.11/dist-packages (from requests<3,>=2->langchain) (3.4.1)\n",
            "Requirement already satisfied: idna<4,>=2.5 in /usr/local/lib/python3.11/dist-packages (from requests<3,>=2->langchain) (3.10)\n",
            "Requirement already satisfied: urllib3<3,>=1.21.1 in /usr/local/lib/python3.11/dist-packages (from requests<3,>=2->langchain) (2.4.0)\n",
            "Requirement already satisfied: certifi>=2017.4.17 in /usr/local/lib/python3.11/dist-packages (from requests<3,>=2->langchain) (2025.4.26)\n",
            "Requirement already satisfied: greenlet>=1 in /usr/local/lib/python3.11/dist-packages (from SQLAlchemy<3,>=1.4->langchain) (3.2.1)\n",
            "Requirement already satisfied: googleapis-common-protos<2.0.0,>=1.56.2 in /usr/local/lib/python3.11/dist-packages (from google-api-core!=2.0.*,!=2.1.*,!=2.10.*,!=2.2.*,!=2.3.*,!=2.4.*,!=2.5.*,!=2.6.*,!=2.7.*,!=2.8.*,!=2.9.*,<3.0.0,>=1.34.1->google-api-core[grpc]!=2.0.*,!=2.1.*,!=2.10.*,!=2.2.*,!=2.3.*,!=2.4.*,!=2.5.*,!=2.6.*,!=2.7.*,!=2.8.*,!=2.9.*,<3.0.0,>=1.34.1->google-ai-generativelanguage<0.7.0,>=0.6.18->langchain-google-genai) (1.70.0)\n",
            "Requirement already satisfied: grpcio<2.0dev,>=1.33.2 in /usr/local/lib/python3.11/dist-packages (from google-api-core[grpc]!=2.0.*,!=2.1.*,!=2.10.*,!=2.2.*,!=2.3.*,!=2.4.*,!=2.5.*,!=2.6.*,!=2.7.*,!=2.8.*,!=2.9.*,<3.0.0,>=1.34.1->google-ai-generativelanguage<0.7.0,>=0.6.18->langchain-google-genai) (1.71.0)\n",
            "Requirement already satisfied: grpcio-status<2.0.dev0,>=1.33.2 in /usr/local/lib/python3.11/dist-packages (from google-api-core[grpc]!=2.0.*,!=2.1.*,!=2.10.*,!=2.2.*,!=2.3.*,!=2.4.*,!=2.5.*,!=2.6.*,!=2.7.*,!=2.8.*,!=2.9.*,<3.0.0,>=1.34.1->google-ai-generativelanguage<0.7.0,>=0.6.18->langchain-google-genai) (1.71.0)\n",
            "Requirement already satisfied: cachetools<6.0,>=2.0.0 in /usr/local/lib/python3.11/dist-packages (from google-auth!=2.24.0,!=2.25.0,<3.0.0,>=2.14.1->google-ai-generativelanguage<0.7.0,>=0.6.18->langchain-google-genai) (5.5.2)\n",
            "Requirement already satisfied: pyasn1-modules>=0.2.1 in /usr/local/lib/python3.11/dist-packages (from google-auth!=2.24.0,!=2.25.0,<3.0.0,>=2.14.1->google-ai-generativelanguage<0.7.0,>=0.6.18->langchain-google-genai) (0.4.2)\n",
            "Requirement already satisfied: rsa<5,>=3.1.4 in /usr/local/lib/python3.11/dist-packages (from google-auth!=2.24.0,!=2.25.0,<3.0.0,>=2.14.1->google-ai-generativelanguage<0.7.0,>=0.6.18->langchain-google-genai) (4.9.1)\n",
            "Requirement already satisfied: anyio in /usr/local/lib/python3.11/dist-packages (from httpx<1,>=0.23.0->langsmith<0.4,>=0.1.17->langchain) (4.9.0)\n",
            "Requirement already satisfied: httpcore==1.* in /usr/local/lib/python3.11/dist-packages (from httpx<1,>=0.23.0->langsmith<0.4,>=0.1.17->langchain) (1.0.9)\n",
            "Requirement already satisfied: h11>=0.16 in /usr/local/lib/python3.11/dist-packages (from httpcore==1.*->httpx<1,>=0.23.0->langsmith<0.4,>=0.1.17->langchain) (0.16.0)\n",
            "Requirement already satisfied: jsonpointer>=1.9 in /usr/local/lib/python3.11/dist-packages (from jsonpatch<2.0,>=1.33->langchain-core<1.0.0,>=0.3.55->langchain) (3.0.0)\n",
            "Requirement already satisfied: pyasn1<0.7.0,>=0.6.1 in /usr/local/lib/python3.11/dist-packages (from pyasn1-modules>=0.2.1->google-auth!=2.24.0,!=2.25.0,<3.0.0,>=2.14.1->google-ai-generativelanguage<0.7.0,>=0.6.18->langchain-google-genai) (0.6.1)\n",
            "Requirement already satisfied: sniffio>=1.1 in /usr/local/lib/python3.11/dist-packages (from anyio->httpx<1,>=0.23.0->langsmith<0.4,>=0.1.17->langchain) (1.3.1)\n",
            "Downloading langchain_google_genai-2.1.4-py3-none-any.whl (44 kB)\n",
            "\u001b[2K   \u001b[90m━━━━━━━━━━━━━━━━━━━━━━━━━━━━━━━━━━━━━━━━\u001b[0m \u001b[32m44.3/44.3 kB\u001b[0m \u001b[31m1.4 MB/s\u001b[0m eta \u001b[36m0:00:00\u001b[0m\n",
            "\u001b[?25hDownloading filetype-1.2.0-py2.py3-none-any.whl (19 kB)\n",
            "Downloading google_ai_generativelanguage-0.6.18-py3-none-any.whl (1.4 MB)\n",
            "\u001b[2K   \u001b[90m━━━━━━━━━━━━━━━━━━━━━━━━━━━━━━━━━━━━━━━━\u001b[0m \u001b[32m1.4/1.4 MB\u001b[0m \u001b[31m18.6 MB/s\u001b[0m eta \u001b[36m0:00:00\u001b[0m\n",
            "\u001b[?25hInstalling collected packages: filetype, google-ai-generativelanguage, langchain-google-genai\n",
            "  Attempting uninstall: google-ai-generativelanguage\n",
            "    Found existing installation: google-ai-generativelanguage 0.6.15\n",
            "    Uninstalling google-ai-generativelanguage-0.6.15:\n",
            "      Successfully uninstalled google-ai-generativelanguage-0.6.15\n",
            "\u001b[31mERROR: pip's dependency resolver does not currently take into account all the packages that are installed. This behaviour is the source of the following dependency conflicts.\n",
            "google-generativeai 0.8.5 requires google-ai-generativelanguage==0.6.15, but you have google-ai-generativelanguage 0.6.18 which is incompatible.\u001b[0m\u001b[31m\n",
            "\u001b[0mSuccessfully installed filetype-1.2.0 google-ai-generativelanguage-0.6.18 langchain-google-genai-2.1.4\n"
          ]
        },
        {
          "output_type": "display_data",
          "data": {
            "application/vnd.colab-display-data+json": {
              "pip_warning": {
                "packages": [
                  "google"
                ]
              },
              "id": "49693951c0e6460e85ad297d8b4b9425"
            }
          },
          "metadata": {}
        }
      ],
      "source": [
        "! pip install langchain langchain-google-genai"
      ]
    },
    {
      "cell_type": "code",
      "source": [
        "import os\n",
        "from langchain_google_genai import ChatGoogleGenerativeAI\n",
        "from langchain.prompts import PromptTemplate\n",
        "\n",
        "os.environ['GOOGLE_API_KEY']=''\n",
        "\n",
        "# Inatiate the LLM\n",
        "llm=ChatGoogleGenerativeAI(model='gemini-1.5-flash')\n",
        "\n",
        "def get_completion(prompt):\n",
        "  \"\"\" Helper function to get model completion.\"\"\"\n",
        "  return llm.invoke(prompt).content"
      ],
      "metadata": {
        "id": "EpcHQbTebxhT"
      },
      "execution_count": 2,
      "outputs": []
    },
    {
      "cell_type": "markdown",
      "source": [
        "# Crafting Clear Instruction\n"
      ],
      "metadata": {
        "id": "8Z79Q7wxcjCl"
      }
    },
    {
      "cell_type": "code",
      "source": [
        "vague_instruction = \"Tell me about climate change conciesly.\"\n",
        "clear_instruction = \"Provide a concise summary of the primary causes and effects of climate change, focusing on scientific consensus from the past five years conciesly.\"\n",
        "\n",
        "print(\"Vague Instruction Output:\")\n",
        "print(get_completion(vague_instruction))\n",
        "\n",
        "print(\"\\nClear Instruction Output:\")\n",
        "print(get_completion(clear_instruction))"
      ],
      "metadata": {
        "colab": {
          "base_uri": "https://localhost:8080/"
        },
        "id": "B9gRvAj2cezZ",
        "outputId": "f7d360f7-5b11-4cf5-c7c5-17e2d5eb85fc"
      },
      "execution_count": 3,
      "outputs": [
        {
          "output_type": "stream",
          "name": "stdout",
          "text": [
            "Vague Instruction Output:\n",
            "Climate change, primarily driven by human activities releasing greenhouse gases, is causing a global increase in average temperatures. This leads to more frequent and intense heatwaves, droughts, floods, storms, and sea level rise, threatening ecosystems, economies, and human lives.  Mitigation (reducing emissions) and adaptation (adjusting to changes) are crucial responses.\n",
            "\n",
            "Clear Instruction Output:\n",
            "The overwhelming scientific consensus of the past five years confirms that human activities, primarily the burning of fossil fuels, are the primary cause of the current rapid climate change.  This releases greenhouse gases (GHGs) like CO2 and methane, trapping heat and warming the planet.  Effects include rising global temperatures, more frequent and intense extreme weather events (heatwaves, droughts, floods, storms), sea level rise due to thermal expansion and melting ice, ocean acidification, and disruptions to ecosystems and biodiversity.  These changes pose significant risks to human health, food security, water resources, and economic stability globally.\n"
          ]
        }
      ]
    },
    {
      "cell_type": "markdown",
      "source": [
        "# Effective Instruction Structure"
      ],
      "metadata": {
        "id": "OltRz1fXdE6x"
      }
    },
    {
      "cell_type": "code",
      "source": [
        "bullet_structure = \"\"\"\n",
        "Explain the process of photosynthesis conciesly:\n",
        "- Define photosynthesis\n",
        "- List the main components involved\n",
        "- Describe the steps in order\n",
        "- Mention its importance for life on Earth\n",
        "\"\"\"\n",
        "\n",
        "narrative_structure = \"\"\"\n",
        "Imagine you're a botanist explaining photosynthesis to a curious student.\n",
        "Start with a simple definition, then walk through the process step-by-step,\n",
        "highlighting the key components involved. Conclude by emphasizing why\n",
        "photosynthesis is crucial for life on Earth. Write it concisely.\n",
        "\"\"\"\n",
        "\n",
        "print(\"Bullet Structure Output:\")\n",
        "print(get_completion(bullet_structure))\n",
        "\n",
        "print(\"\\nNarrative Structure Output:\")\n",
        "print(get_completion(narrative_structure))"
      ],
      "metadata": {
        "colab": {
          "base_uri": "https://localhost:8080/"
        },
        "id": "qkz7Ifm8cpEg",
        "outputId": "bb29b6a1-5eee-464f-f661-0b9ac91b3f80"
      },
      "execution_count": 4,
      "outputs": [
        {
          "output_type": "stream",
          "name": "stdout",
          "text": [
            "Bullet Structure Output:\n",
            "Photosynthesis is the process by which green plants and some other organisms use sunlight to synthesize foods with the help of chlorophyll.\n",
            "\n",
            "**Main components:**  Sunlight, water (H₂O), carbon dioxide (CO₂), chlorophyll (a pigment), and enzymes.\n",
            "\n",
            "**Steps:**\n",
            "\n",
            "1. **Light-dependent reactions:** Chlorophyll captures light energy, splitting water molecules (photolysis) to release oxygen and generating ATP & NADPH (energy carriers).\n",
            "2. **Light-independent reactions (Calvin cycle):** ATP & NADPH power the conversion of CO₂ into glucose (sugar), a usable form of energy.\n",
            "\n",
            "\n",
            "**Importance:** Photosynthesis is the primary source of energy for almost all life on Earth, producing oxygen and the organic molecules that fuel ecosystems.\n",
            "\n",
            "Narrative Structure Output:\n",
            "Photosynthesis is how plants and some other organisms use sunlight to make food.  It's a two-stage process:\n",
            "\n",
            "1. **Light-dependent reactions:**  Sunlight's energy is captured by chlorophyll in chloroplasts. This energy splits water molecules (H₂O), releasing oxygen (O₂) as a byproduct.  The energy is stored in ATP and NADPH, energy-carrying molecules.\n",
            "\n",
            "2. **Light-independent reactions (Calvin cycle):**  ATP and NADPH power the conversion of carbon dioxide (CO₂) from the air and other molecules into glucose (C₆H₁₂O₆), a sugar that serves as the plant's food.\n",
            "\n",
            "Key components: sunlight, chlorophyll, water, carbon dioxide, oxygen, glucose, ATP, NADPH, chloroplasts.\n",
            "\n",
            "Photosynthesis is crucial because it's the primary source of energy for almost all life on Earth.  It produces the oxygen we breathe and the food we eat, either directly or indirectly through the food chain.\n"
          ]
        }
      ]
    },
    {
      "cell_type": "markdown",
      "source": [
        "# Balancing Specifity and Generality"
      ],
      "metadata": {
        "id": "bMGsGP_6dMPz"
      }
    },
    {
      "cell_type": "code",
      "source": [
        "specific_instruction = \"\"\"\n",
        "Describe the plot of the 1985 film 'Back to the Future', focusing on:\n",
        "1. The main character's name and his friendship with Dr. Brown\n",
        "2. The time machine and how it works\n",
        "3. The specific year the main character travels to and why it's significant\n",
        "4. The main conflict involving his parents' past\n",
        "5. How the protagonist resolves the issues and returns to his time\n",
        "Limit your response to 150 words.\n",
        "\"\"\"\n",
        "\n",
        "general_instruction = \"\"\"\n",
        "Describe the plot of a popular time travel movie from the 1980s. Include:\n",
        "1. The main characters and their relationships\n",
        "2. The method of time travel\n",
        "3. The time period visited and its significance\n",
        "4. The main conflict or challenge faced\n",
        "5. How the story is resolved\n",
        "Keep your response around 150 words.\n",
        "\"\"\"\n",
        "\n",
        "print(\"Specific Instruction Output:\")\n",
        "print(get_completion(specific_instruction))\n",
        "\n",
        "print(\"\\nGeneral Instruction Output:\")\n",
        "print(get_completion(general_instruction))"
      ],
      "metadata": {
        "colab": {
          "base_uri": "https://localhost:8080/"
        },
        "id": "yCVuz3jgdICf",
        "outputId": "24d5f958-4391-46a3-8b14-b869b6009383"
      },
      "execution_count": 5,
      "outputs": [
        {
          "output_type": "stream",
          "name": "stdout",
          "text": [
            "Specific Instruction Output:\n",
            "Marty McFly, a teenager, befriends the eccentric scientist Doc Brown.  Doc invents a time-traveling DeLorean, powered by a plutonium-fueled flux capacitor, that achieves temporal displacement through 88 mph.  Marty accidentally travels back to 1955. This is significant because it's the year his parents met.  The conflict arises when his interference threatens to prevent his parents' romance, erasing his own existence.  To resolve this, Marty must subtly reunite his parents, ensuring his own birth.  He achieves this and, using the repaired DeLorean, successfully returns to 1985.\n",
            "\n",
            "General Instruction Output:\n",
            "\"Back to the Future\" follows teenager Marty McFly and eccentric scientist Doc Brown.  Marty is accidentally sent back to 1955 in a time-traveling DeLorean powered by a flux capacitor.  1955 is significant because it's the year his parents met.\n",
            "\n",
            "The main conflict arises when Marty's actions threaten to prevent his parents from falling in love, erasing his own existence.  He must subtly manipulate events to ensure their relationship blossoms, overcoming obstacles like his teenage mother's infatuation with another boy.\n",
            "\n",
            "Marty cleverly orchestrates a meeting between his parents, using his knowledge of the future to influence their interactions.  He ultimately succeeds, restoring the timeline and returning to 1985, having learned valuable lessons about family and his own place in history.  His relationship with Doc Brown deepens through their shared adventure.\n"
          ]
        }
      ]
    },
    {
      "cell_type": "markdown",
      "source": [
        "# Iterative Refinment"
      ],
      "metadata": {
        "id": "CyhnFlqneBh4"
      }
    },
    {
      "cell_type": "code",
      "source": [
        "initial_instruction = \"Explain how to make a peanut butter and jelly sandwich.\"\n",
        "\n",
        "print(\"Initial Instruction Output:\")\n",
        "initial_output = get_completion(initial_instruction)\n",
        "print(initial_output)\n",
        "\n",
        "refined_instruction = \"\"\"\n",
        "Explain how to make a peanut butter and jelly sandwich, with the following improvements:\n",
        "1. Specify the type of bread, peanut butter, and jelly to use\n",
        "2. Include a step about washing hands before starting\n",
        "3. Mention how to deal with potential allergies\n",
        "4. Add a tip for storing the sandwich if not eaten immediately\n",
        "Present the instructions in a numbered list format.\n",
        "\"\"\"\n",
        "\n",
        "print(\"\\nRefined Instruction Output:\")\n",
        "refined_output = get_completion(refined_instruction)\n",
        "print(refined_output)"
      ],
      "metadata": {
        "colab": {
          "base_uri": "https://localhost:8080/"
        },
        "id": "8OapzSpzdSmG",
        "outputId": "a70e3789-4141-4159-b3ac-c89279154240"
      },
      "execution_count": 6,
      "outputs": [
        {
          "output_type": "stream",
          "name": "stdout",
          "text": [
            "Initial Instruction Output:\n",
            "Making a peanut butter and jelly sandwich is a simple process, but here's a step-by-step guide to ensure delicious results:\n",
            "\n",
            "**Ingredients:**\n",
            "\n",
            "* Two slices of bread (your favorite kind!)\n",
            "* Peanut butter\n",
            "* Jelly or jam (grape is classic, but any flavor works)\n",
            "* A butter knife or spreader\n",
            "\n",
            "**Instructions:**\n",
            "\n",
            "1. **Gather your ingredients:** Lay out your bread, peanut butter, jelly, and knife.  Having everything within easy reach makes the process smoother.\n",
            "\n",
            "2. **Open the containers:** Open your peanut butter and jelly jars.  Wipe the knife clean if necessary.\n",
            "\n",
            "3. **Spread the peanut butter:** Scoop a generous amount of peanut butter onto one slice of bread.  Use the knife to spread it evenly across the entire surface of the bread, reaching all the edges.  Don't be afraid to use a little extra!\n",
            "\n",
            "4. **Spread the jelly:** Scoop a generous amount of jelly onto the other slice of bread. Spread it evenly, just like the peanut butter.  Again, don't be stingy!\n",
            "\n",
            "5. **Combine the slices:** Carefully place the peanut butter-covered slice of bread on top of the jelly-covered slice.  Gently press down to combine.\n",
            "\n",
            "6. **Cut (optional):**  You can cut the sandwich in half diagonally, into quarters, or leave it whole – it's entirely up to you!\n",
            "\n",
            "7. **Enjoy!**  Your delicious peanut butter and jelly sandwich is ready to eat.\n",
            "\n",
            "\n",
            "**Tips for a perfect sandwich:**\n",
            "\n",
            "* **Room temperature:**  If your peanut butter is very stiff, letting it sit at room temperature for a few minutes will make it easier to spread.\n",
            "* **Bread choice:**  Use bread that you enjoy.  White, wheat, sourdough – it's all a matter of personal preference.\n",
            "* **Spread thickness:**  Adjust the amount of peanut butter and jelly to your liking. Some prefer a thick layer, while others prefer a thinner spread.\n",
            "* **Clean knife:** Use a clean knife for each spread to avoid mixing the flavors.\n",
            "\n",
            "\n",
            "Enjoy your creation!\n",
            "\n",
            "Refined Instruction Output:\n",
            "How to Make the Perfect Peanut Butter and Jelly Sandwich:\n",
            "\n",
            "1. **Wash your hands:** Thoroughly wash your hands with soap and water for at least 20 seconds before starting.  This is crucial for food safety.\n",
            "\n",
            "2. **Gather your ingredients:** You'll need two slices of your favorite bread (I recommend soft white bread for this classic), creamy peanut butter (e.g., Jif or Skippy), and grape jelly (Smucker's is a popular choice).  **Allergy Alert:** Check all labels carefully to ensure the ingredients are safe for consumption for anyone with allergies (especially peanut, tree nut, and soy allergies). If someone has a severe allergy, prepare the sandwich in a completely separate, allergy-safe area to avoid cross-contamination.\n",
            "\n",
            "3. **Spread the peanut butter:** Open the jar of peanut butter and using a knife or spreader, spread a generous layer of peanut butter evenly onto one slice of bread.  Avoid spreading it all the way to the edges to prevent it from oozing out.\n",
            "\n",
            "4. **Spread the jelly:** Open the jar of jelly and, using a clean knife or spreader (or a clean spoon), spread an even layer of jelly onto the other slice of bread.\n",
            "\n",
            "5. **Combine the slices:** Carefully place the jelly-covered slice of bread on top of the peanut butter-covered slice, pressing gently to create a sandwich.\n",
            "\n",
            "6. **Cut (optional):**  You can cut the sandwich in half diagonally or into smaller squares using a knife.\n",
            "\n",
            "7. **Store (if necessary):** If you're not eating the sandwich immediately, wrap it tightly in plastic wrap or place it in an airtight container to maintain freshness and prevent it from drying out.  Refrigerate for later consumption.\n"
          ]
        }
      ]
    },
    {
      "cell_type": "markdown",
      "source": [
        "# Pratical Application"
      ],
      "metadata": {
        "id": "j3OP_AR-eHzH"
      }
    },
    {
      "cell_type": "code",
      "source": [
        "final_instruction = \"\"\"\n",
        "Task: Create a brief lesson plan for teaching basic personal finance to high school students.\n",
        "\n",
        "Instructions:\n",
        "1. Start with a concise introduction explaining the importance of personal finance.\n",
        "2. List 3-5 key topics to cover (e.g., budgeting, saving, understanding credit).\n",
        "3. For each topic:\n",
        "   a) Provide a brief explanation suitable for teenagers.\n",
        "   b) Suggest one practical activity or exercise to reinforce the concept.\n",
        "4. Conclude with a summary and a suggestion for further learning resources.\n",
        "\n",
        "Format your response as a structured outline. Aim for clarity and engagement,\n",
        "balancing specific examples with general principles that can apply to various\n",
        "financial situations. Keep the entire lesson plan to approximately 300 words.\n",
        "\"\"\"\n",
        "\n",
        "print(\"Final Instruction Output:\")\n",
        "print(get_completion(final_instruction))"
      ],
      "metadata": {
        "colab": {
          "base_uri": "https://localhost:8080/"
        },
        "id": "ObSX5DtHeEdf",
        "outputId": "ca42acd8-07fe-489e-be9e-d8c82978f412"
      },
      "execution_count": 7,
      "outputs": [
        {
          "output_type": "stream",
          "name": "stdout",
          "text": [
            "Final Instruction Output:\n",
            "**Lesson Plan: Basic Personal Finance for High School Students**\n",
            "\n",
            "**I. Introduction (5 minutes)**\n",
            "\n",
            "* **Importance:**  Managing money wisely is crucial for achieving future goals – whether that's buying a car, paying for college, or simply having financial security.  Learning basic personal finance skills now sets you up for a more comfortable and independent future.\n",
            "\n",
            "**II. Key Topics (25 minutes)**\n",
            "\n",
            "**A. Budgeting (7 minutes)**\n",
            "    * **Explanation:** A budget is a plan for how you'll spend your money. It helps you track income (money coming in) and expenses (money going out) to ensure you're not spending more than you earn.  This involves categorizing your spending (e.g., needs vs. wants).\n",
            "    * **Activity:**  Students create a sample monthly budget using a provided worksheet, considering potential income sources (allowance, part-time job) and common expenses (school supplies, entertainment).\n",
            "\n",
            "**B. Saving & Investing (7 minutes)**\n",
            "    * **Explanation:** Saving is setting aside money for short-term goals (new phone, concert tickets). Investing is putting money into assets (like stocks or bonds) that can grow over time for long-term goals (college, a house).  The difference lies in the time horizon.\n",
            "    * **Activity:**  Students calculate how much they need to save weekly/monthly to reach a specific short-term goal (e.g., saving for a new video game).\n",
            "\n",
            "**C. Understanding Credit (7 minutes)**\n",
            "    * **Explanation:** Credit allows you to borrow money, but it comes with interest (an extra fee for borrowing).  Building good credit is important for future loans (cars, houses).  Responsible credit use involves paying bills on time and keeping debt low.\n",
            "    * **Activity:**  Students analyze different credit card offers, comparing interest rates and fees to understand the implications of different credit options.\n",
            "\n",
            "**D. Avoiding Debt Traps (4 minutes)**\n",
            "    * **Explanation:** High-interest debt, like payday loans, can quickly spiral out of control.  Understanding the costs and risks of such loans is crucial for responsible financial decision-making.\n",
            "    * **Activity:** A brief class discussion on the dangers of high-interest debt and responsible borrowing strategies.\n",
            "\n",
            "\n",
            "**III. Summary & Further Learning (5 minutes)**\n",
            "\n",
            "* **Summary:**  We've covered budgeting, saving, investing, understanding credit, and avoiding debt traps – essential building blocks for financial success.\n",
            "* **Further Learning:**  Websites like Khan Academy, Investopedia, and the Consumer Financial Protection Bureau (CFPB) offer excellent resources for continued learning.\n"
          ]
        }
      ]
    },
    {
      "cell_type": "code",
      "source": [],
      "metadata": {
        "id": "WRc9ScVBeLIB"
      },
      "execution_count": null,
      "outputs": []
    }
  ]
}