{
 "cells": [
  {
   "cell_type": "markdown",
   "id": "80bc1aee",
   "metadata": {},
   "source": [
    "## Method Details\n",
    "\n",
    "The tutorial will cover several methods for implementing zero-shot prompting:\n",
    "\n",
    "1. **Direct Task Specification**: Crafting prompts that clearly define the task without examples.\n",
    "2. **Role-Based Prompting**: Assigning specific roles to the AI to guide its responses.\n",
    "3. **Format Specification**: Providing output format guidelines in the prompt.\n",
    "4. **Multi-step Reasoning**: Breaking down complex tasks into simpler zero-shot steps.\n",
    "5. **Comparative Analysis**: Evaluating different zero-shot prompt structures for the same task."
   ]
  },
  {
   "cell_type": "code",
   "execution_count": 1,
   "id": "c84f4e8c",
   "metadata": {},
   "outputs": [],
   "source": [
    "import os\n",
    "from langchain_google_genai import ChatGoogleGenerativeAI\n",
    "from langchain.prompts import PromptTemplate\n",
    "from langchain.chains import LLMChain\n",
    "from dotenv import load_dotenv\n",
    "load_dotenv()\n",
    "\n",
    "llm=ChatGoogleGenerativeAI(model='gemini-1.5-flash')"
   ]
  },
  {
   "cell_type": "code",
   "execution_count": 2,
   "id": "68c4ac27",
   "metadata": {},
   "outputs": [],
   "source": [
    "def create_chain(prompt_template):\n",
    "    \"\"\"\"\n",
    "    Create a Langchain chain with given prompt.\n",
    "    Args:\n",
    "        Prompt_template(str): The prompt template string.\n",
    "\n",
    "    Returns:\n",
    "        LLMChain : A Langchain chain object    \n",
    "    \"\"\"\n",
    "    prompt=PromptTemplate.from_template(prompt_template)\n",
    "    return prompt | llm"
   ]
  },
  {
   "cell_type": "markdown",
   "id": "03b4fc23",
   "metadata": {},
   "source": [
    "# Direct Task Specification\n",
    " We will learn how to craft prompts that clearly define task without providing example."
   ]
  },
  {
   "cell_type": "code",
   "execution_count": 3,
   "id": "fae9ff84",
   "metadata": {},
   "outputs": [
    {
     "name": "stdout",
     "output_type": "stream",
     "text": [
      "Text:I absolutely loved the movie! The acting was superb.\n",
      "Sentiment:Positive\n",
      "Text:The weather today is quite typical for this time of year.\n",
      "Sentiment:Neutral\n",
      "Text:I'm disappointed with the service I received at the restaurant.\n",
      "Sentiment:Negative\n"
     ]
    }
   ],
   "source": [
    "direct_task_prompt='''\n",
    "        Classify the sentiment of the following text as positive,negative or neutral.\n",
    "        Do not explain reasoning, just provide the classification.\n",
    "        Text: {text}\n",
    "        Sentiment:\n",
    "        '''\n",
    "direct_task_prompt=create_chain(direct_task_prompt)\n",
    "\n",
    "# Example\n",
    "texts = [\n",
    "    \"I absolutely loved the movie! The acting was superb.\",\n",
    "    \"The weather today is quite typical for this time of year.\",\n",
    "    \"I'm disappointed with the service I received at the restaurant.\"\n",
    "]\n",
    "\n",
    "for text in texts:\n",
    "    result=direct_task_prompt.invoke({'text':text}).content\n",
    "    print(f\"Text:{text}\")\n",
    "    print(f\"Sentiment:{result}\")"
   ]
  },
  {
   "cell_type": "markdown",
   "id": "61287037",
   "metadata": {},
   "source": [
    "# Format Specification\n",
    "Provide output format guidelines in the prompt, that can help structure the AI's response"
   ]
  },
  {
   "cell_type": "code",
   "execution_count": 4,
   "id": "f58dd519",
   "metadata": {},
   "outputs": [
    {
     "name": "stdout",
     "output_type": "stream",
     "text": [
      "Headline:  Cosmic Heavyweight Discovered:  New Black Hole Shakes Up Galactic Understanding!\n",
      "\n",
      "Lead: Astronomers have announced the discovery of a previously unknown black hole, significantly closer to Earth than any previously identified stellar-mass black hole.  This remarkable find, located just 1,500 light-years away in the constellation Telescopium, challenges current models of stellar evolution and offers unprecedented opportunities for studying these enigmatic cosmic objects.\n",
      "\n",
      "Body:  The black hole, dubbed Gaia BH1, was detected using data from the European Space Agency's Gaia satellite and confirmed through follow-up observations with other telescopes.  Unlike most known black holes, Gaia BH1 is surprisingly quiet, showing no signs of actively devouring surrounding material. This \"dormant\" nature makes it particularly intriguing to scientists, as it provides a unique window into the lifecycle of black holes. The discovery was made by a team of international astronomers who meticulously analyzed the subtle gravitational tug the black hole exerts on its companion star.\n",
      "\n",
      "The proximity of Gaia BH1 to Earth makes it an ideal target for future research.  Scientists hope to utilize advanced telescopes to study its properties in greater detail, potentially revealing new insights into how these mysterious objects form and evolve. This could revolutionize our understanding of the life cycle of stars and the prevalence of black holes within our galaxy.\n",
      "\n",
      "\n",
      "Conclusion: This groundbreaking discovery underscores the vast unknowns that still remain in our universe and highlights the power of collaborative astronomical research in unveiling its secrets.\n"
     ]
    }
   ],
   "source": [
    "format_spec_prompt=\"\"\"\n",
    "Generate a short news article about {topic}.\n",
    "Structure your response in the following format:\n",
    "Headline: [A catchy headline for the article]\n",
    "Lead: [A brief introductory paragraph summarizing the key points]\n",
    "Body: [2-3 short paragraphs providing more details]\n",
    "Conclusion: [A concluding sentence or call to action]\n",
    "\"\"\"\n",
    "\n",
    "format_spec_prompt=create_chain(format_spec_prompt)\n",
    "\n",
    "# Test\n",
    "topic=\"The discovery of Black Hole\"\n",
    "result=format_spec_prompt.invoke({'topic':topic}).content\n",
    "print(result)\n"
   ]
  },
  {
   "cell_type": "markdown",
   "id": "c4c13625",
   "metadata": {},
   "source": [
    "# Multi-step Reasoning\n",
    "For complex tasks, we can break question down into simpler zero-shot steps. This improves overall performance of the model."
   ]
  },
  {
   "cell_type": "code",
   "execution_count": 5,
   "id": "6a55c2f5",
   "metadata": {},
   "outputs": [
    {
     "name": "stdout",
     "output_type": "stream",
     "text": [
      "**Analysis:**\n",
      "\n",
      "**1. Main Arguments:** The primary claim is that the environmental impact of electric vehicles (EVs) is more complex than often portrayed, and their contribution to climate change mitigation is not guaranteed.  The text doesn't outright oppose EVs, but it argues against the simplistic narrative of them being a straightforward solution.\n",
      "\n",
      "**2. Supporting Evidence:**\n",
      "\n",
      "* **Battery production's negative impacts:** The text highlights the significant environmental damage caused by mining operations necessary for EV battery production. This includes habitat destruction and water pollution. This points to a significant upfront environmental cost.\n",
      "* **Electricity source dependence:** The text emphasizes that the overall carbon footprint of EVs is highly dependent on the source of electricity used to charge them. If the electricity comes from fossil fuels, the reduction in greenhouse gas emissions compared to gasoline vehicles might be minimal or even nonexistent. This highlights a crucial contextual factor undermining the benefit of EVs.\n",
      "\n",
      "\n",
      "**3. Potential Counterarguments:**\n",
      "\n",
      "* **Life-cycle assessments show overall lower emissions:**  Counterarguments could cite life-cycle assessments that show EVs, even with current battery technology and electricity mixes, still produce fewer greenhouse gas emissions over their lifetime compared to gasoline cars.  These studies often consider the entire process, from material extraction to vehicle disposal.\n",
      "* **Technological advancements in battery production:**  The argument could be made that battery production is rapidly evolving, with less environmentally damaging mining techniques and recycling processes being developed.  This would mitigate the negative environmental impacts highlighted in the text.\n",
      "* **The increasing prevalence of renewable energy:** The reliance on fossil fuel electricity is a key point of the text's argument. However, the counterargument would highlight the growing adoption of renewable energy sources globally, implying that the carbon footprint of charging EVs will continue to decrease over time.\n",
      "* **Externalized costs of gasoline vehicles:**  A counterargument might focus on the significant externalized costs associated with gasoline vehicles, such as air pollution and health impacts, which are not fully accounted for in simple carbon footprint comparisons.  These costs arguably outweigh the environmental impacts of EV production and charging, even with fossil fuel electricity.\n",
      "* **Policy interventions to promote sustainable practices:**  Governments could implement policies to encourage responsible mining practices and the development of renewable energy sources, thus addressing the environmental concerns raised in the text.\n"
     ]
    }
   ],
   "source": [
    "multi_step_prompt=\"\"\"\n",
    "    Analyze the following text for its  main arguments, supporting evidence and potential counterarguments.\n",
    "    Provide your analysis in the following steps:\n",
    "    1. Main Arguments: Identify and state the primary claim or thesis\n",
    "    2. Supporting Evidence: List the key points or evidence used to support the main argument.\n",
    "    3. Potential  Counterarguments: Suggest possible objections or alternative viewpoints to the main argument.\n",
    "    Text: {text}\n",
    "    Analysis:\n",
    "\"\"\"\n",
    "\n",
    "multi_step_chain=create_chain(multi_step_prompt)\n",
    "\n",
    "# Test\n",
    "text = \"\"\"While electric vehicles are often touted as a solution to climate change, their environmental impact is not as straightforward as it seems. \n",
    "The production of batteries for electric cars requires significant mining operations, which can lead to habitat destruction and water pollution. \n",
    "Moreover, if the electricity used to charge these vehicles comes from fossil fuel sources, the overall carbon footprint may not be significantly reduced. \n",
    "However, as renewable energy sources become more prevalent and battery technology improves, electric vehicles could indeed play a crucial role in combating climate change.\"\"\"\n",
    "\n",
    "result=multi_step_chain.invoke({'text':text}).content\n",
    "print(result)"
   ]
  },
  {
   "cell_type": "markdown",
   "id": "97e26b73",
   "metadata": {},
   "source": [
    "# Comparative Analysis"
   ]
  },
  {
   "cell_type": "code",
   "execution_count": 6,
   "id": "b37f88eb",
   "metadata": {},
   "outputs": [
    {
     "name": "stdout",
     "output_type": "stream",
     "text": [
      "Task: Explain conciesly the concept of blockchain technology\n",
      "\n",
      "Basic Prompt Result:\n",
      "Blockchain is a shared, immutable ledger of transactions verified and secured by cryptography.  It's a decentralized database, meaning no single entity controls it, making it transparent and resistant to tampering.\n",
      "\n",
      "--------------------------------------------------\n",
      "\n",
      "Structured Prompt Result:\n",
      "1. **Definition:** Blockchain is a decentralized, immutable ledger of transactions verified and secured by cryptography.  It's a shared, replicated database accessible to all participants.\n",
      "\n",
      "2. **Key features:** Decentralization (no single point of failure), immutability (records cannot be altered), transparency (all transactions are visible), security (cryptographic hashing ensures integrity).\n",
      "\n",
      "3. **Real-world applications:** Cryptocurrencies (Bitcoin), supply chain management (tracking goods), digital identity verification, voting systems, healthcare data management.\n",
      "\n",
      "4. **Potential impact on industries:** Increased transparency and trust, reduced fraud and counterfeiting, improved efficiency and automation, enhanced data security across various sectors including finance, logistics, healthcare, and governance.\n",
      "\n",
      "--------------------------------------------------\n",
      "\n"
     ]
    }
   ],
   "source": [
    "def compare_prompts(task, prompt_templates):\n",
    "    \"\"\"\n",
    "    Compare different prompt templates for the same task.\n",
    "    \n",
    "    Args:\n",
    "        task (str): The task description or input.\n",
    "        prompt_templates (dict): A dictionary of prompt templates with their names as keys.\n",
    "    \"\"\"\n",
    "    print(f\"Task: {task}\\n\")\n",
    "    for name, template in prompt_templates.items():\n",
    "        chain = create_chain(template)\n",
    "        result = chain.invoke({\"task\": task}).content\n",
    "        print(f\"{name} Prompt Result:\")\n",
    "        print(result)\n",
    "        print(\"\\n\" + \"-\"*50 + \"\\n\")\n",
    "\n",
    "task = \"Explain conciesly the concept of blockchain technology\"\n",
    "\n",
    "prompt_templates = {\n",
    "    \"Basic\": \"Explain {task}.\",\n",
    "    \"Structured\": \"\"\"Explain {task} by addressing the following points:\n",
    "1. Definition\n",
    "2. Key features\n",
    "3. Real-world applications\n",
    "4. Potential impact on industries\"\"\"\n",
    "}\n",
    "\n",
    "compare_prompts(task, prompt_templates)"
   ]
  },
  {
   "cell_type": "code",
   "execution_count": null,
   "id": "92134f62",
   "metadata": {},
   "outputs": [],
   "source": []
  }
 ],
 "metadata": {
  "kernelspec": {
   "display_name": "venv",
   "language": "python",
   "name": "python3"
  },
  "language_info": {
   "codemirror_mode": {
    "name": "ipython",
    "version": 3
   },
   "file_extension": ".py",
   "mimetype": "text/x-python",
   "name": "python",
   "nbconvert_exporter": "python",
   "pygments_lexer": "ipython3",
   "version": "3.11.5"
  }
 },
 "nbformat": 4,
 "nbformat_minor": 5
}
