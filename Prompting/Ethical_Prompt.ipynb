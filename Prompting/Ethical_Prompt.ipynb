{
  "nbformat": 4,
  "nbformat_minor": 0,
  "metadata": {
    "colab": {
      "provenance": []
    },
    "kernelspec": {
      "name": "python3",
      "display_name": "Python 3"
    },
    "language_info": {
      "name": "python"
    }
  },
  "cells": [
    {
      "cell_type": "markdown",
      "source": [
        "# Ethical Considerations in Prompt\n",
        "AI language models, trained on vast amounts of data, can inadvertently perpetuate or amplify existing biases. Prompt engineers play a crucial role in mitigating these biases and promoting fairness. This tutorial aims to equip learners with the knowledge and tools to create more ethical and inclusive prompts.\n",
        "\n",
        "## Key Components\n",
        "\n",
        "1. Understanding biases in AI\n",
        "2. Techniques for identifying biases in prompts\n",
        "3. Strategies for creating inclusive prompts\n",
        "4. Methods for evaluating fairness in AI outputs\n",
        "5. Practical examples and exercises"
      ],
      "metadata": {
        "id": "aZDxKakzih8T"
      }
    },
    {
      "cell_type": "code",
      "source": [
        "! pip install langchain langchain-google-genai"
      ],
      "metadata": {
        "colab": {
          "base_uri": "https://localhost:8080/",
          "height": 1000
        },
        "id": "DlbrhgcNiwJw",
        "outputId": "9dc1e85c-a4cf-4503-a357-27ed9678343f"
      },
      "execution_count": 1,
      "outputs": [
        {
          "output_type": "stream",
          "name": "stdout",
          "text": [
            "Requirement already satisfied: langchain in /usr/local/lib/python3.11/dist-packages (0.3.24)\n",
            "Collecting langchain-google-genai\n",
            "  Downloading langchain_google_genai-2.1.4-py3-none-any.whl.metadata (5.2 kB)\n",
            "Requirement already satisfied: langchain-core<1.0.0,>=0.3.55 in /usr/local/lib/python3.11/dist-packages (from langchain) (0.3.56)\n",
            "Requirement already satisfied: langchain-text-splitters<1.0.0,>=0.3.8 in /usr/local/lib/python3.11/dist-packages (from langchain) (0.3.8)\n",
            "Requirement already satisfied: langsmith<0.4,>=0.1.17 in /usr/local/lib/python3.11/dist-packages (from langchain) (0.3.39)\n",
            "Requirement already satisfied: pydantic<3.0.0,>=2.7.4 in /usr/local/lib/python3.11/dist-packages (from langchain) (2.11.4)\n",
            "Requirement already satisfied: SQLAlchemy<3,>=1.4 in /usr/local/lib/python3.11/dist-packages (from langchain) (2.0.40)\n",
            "Requirement already satisfied: requests<3,>=2 in /usr/local/lib/python3.11/dist-packages (from langchain) (2.32.3)\n",
            "Requirement already satisfied: PyYAML>=5.3 in /usr/local/lib/python3.11/dist-packages (from langchain) (6.0.2)\n",
            "Collecting filetype<2.0.0,>=1.2.0 (from langchain-google-genai)\n",
            "  Downloading filetype-1.2.0-py2.py3-none-any.whl.metadata (6.5 kB)\n",
            "Collecting google-ai-generativelanguage<0.7.0,>=0.6.18 (from langchain-google-genai)\n",
            "  Downloading google_ai_generativelanguage-0.6.18-py3-none-any.whl.metadata (9.8 kB)\n",
            "Requirement already satisfied: google-api-core!=2.0.*,!=2.1.*,!=2.10.*,!=2.2.*,!=2.3.*,!=2.4.*,!=2.5.*,!=2.6.*,!=2.7.*,!=2.8.*,!=2.9.*,<3.0.0,>=1.34.1 in /usr/local/lib/python3.11/dist-packages (from google-api-core[grpc]!=2.0.*,!=2.1.*,!=2.10.*,!=2.2.*,!=2.3.*,!=2.4.*,!=2.5.*,!=2.6.*,!=2.7.*,!=2.8.*,!=2.9.*,<3.0.0,>=1.34.1->google-ai-generativelanguage<0.7.0,>=0.6.18->langchain-google-genai) (2.24.2)\n",
            "Requirement already satisfied: google-auth!=2.24.0,!=2.25.0,<3.0.0,>=2.14.1 in /usr/local/lib/python3.11/dist-packages (from google-ai-generativelanguage<0.7.0,>=0.6.18->langchain-google-genai) (2.38.0)\n",
            "Requirement already satisfied: proto-plus<2.0.0,>=1.22.3 in /usr/local/lib/python3.11/dist-packages (from google-ai-generativelanguage<0.7.0,>=0.6.18->langchain-google-genai) (1.26.1)\n",
            "Requirement already satisfied: protobuf!=4.21.0,!=4.21.1,!=4.21.2,!=4.21.3,!=4.21.4,!=4.21.5,<7.0.0,>=3.20.2 in /usr/local/lib/python3.11/dist-packages (from google-ai-generativelanguage<0.7.0,>=0.6.18->langchain-google-genai) (5.29.4)\n",
            "Requirement already satisfied: tenacity!=8.4.0,<10.0.0,>=8.1.0 in /usr/local/lib/python3.11/dist-packages (from langchain-core<1.0.0,>=0.3.55->langchain) (9.1.2)\n",
            "Requirement already satisfied: jsonpatch<2.0,>=1.33 in /usr/local/lib/python3.11/dist-packages (from langchain-core<1.0.0,>=0.3.55->langchain) (1.33)\n",
            "Requirement already satisfied: packaging<25,>=23.2 in /usr/local/lib/python3.11/dist-packages (from langchain-core<1.0.0,>=0.3.55->langchain) (24.2)\n",
            "Requirement already satisfied: typing-extensions>=4.7 in /usr/local/lib/python3.11/dist-packages (from langchain-core<1.0.0,>=0.3.55->langchain) (4.13.2)\n",
            "Requirement already satisfied: httpx<1,>=0.23.0 in /usr/local/lib/python3.11/dist-packages (from langsmith<0.4,>=0.1.17->langchain) (0.28.1)\n",
            "Requirement already satisfied: orjson<4.0.0,>=3.9.14 in /usr/local/lib/python3.11/dist-packages (from langsmith<0.4,>=0.1.17->langchain) (3.10.18)\n",
            "Requirement already satisfied: requests-toolbelt<2.0.0,>=1.0.0 in /usr/local/lib/python3.11/dist-packages (from langsmith<0.4,>=0.1.17->langchain) (1.0.0)\n",
            "Requirement already satisfied: zstandard<0.24.0,>=0.23.0 in /usr/local/lib/python3.11/dist-packages (from langsmith<0.4,>=0.1.17->langchain) (0.23.0)\n",
            "Requirement already satisfied: annotated-types>=0.6.0 in /usr/local/lib/python3.11/dist-packages (from pydantic<3.0.0,>=2.7.4->langchain) (0.7.0)\n",
            "Requirement already satisfied: pydantic-core==2.33.2 in /usr/local/lib/python3.11/dist-packages (from pydantic<3.0.0,>=2.7.4->langchain) (2.33.2)\n",
            "Requirement already satisfied: typing-inspection>=0.4.0 in /usr/local/lib/python3.11/dist-packages (from pydantic<3.0.0,>=2.7.4->langchain) (0.4.0)\n",
            "Requirement already satisfied: charset-normalizer<4,>=2 in /usr/local/lib/python3.11/dist-packages (from requests<3,>=2->langchain) (3.4.1)\n",
            "Requirement already satisfied: idna<4,>=2.5 in /usr/local/lib/python3.11/dist-packages (from requests<3,>=2->langchain) (3.10)\n",
            "Requirement already satisfied: urllib3<3,>=1.21.1 in /usr/local/lib/python3.11/dist-packages (from requests<3,>=2->langchain) (2.4.0)\n",
            "Requirement already satisfied: certifi>=2017.4.17 in /usr/local/lib/python3.11/dist-packages (from requests<3,>=2->langchain) (2025.4.26)\n",
            "Requirement already satisfied: greenlet>=1 in /usr/local/lib/python3.11/dist-packages (from SQLAlchemy<3,>=1.4->langchain) (3.2.1)\n",
            "Requirement already satisfied: googleapis-common-protos<2.0.0,>=1.56.2 in /usr/local/lib/python3.11/dist-packages (from google-api-core!=2.0.*,!=2.1.*,!=2.10.*,!=2.2.*,!=2.3.*,!=2.4.*,!=2.5.*,!=2.6.*,!=2.7.*,!=2.8.*,!=2.9.*,<3.0.0,>=1.34.1->google-api-core[grpc]!=2.0.*,!=2.1.*,!=2.10.*,!=2.2.*,!=2.3.*,!=2.4.*,!=2.5.*,!=2.6.*,!=2.7.*,!=2.8.*,!=2.9.*,<3.0.0,>=1.34.1->google-ai-generativelanguage<0.7.0,>=0.6.18->langchain-google-genai) (1.70.0)\n",
            "Requirement already satisfied: grpcio<2.0dev,>=1.33.2 in /usr/local/lib/python3.11/dist-packages (from google-api-core[grpc]!=2.0.*,!=2.1.*,!=2.10.*,!=2.2.*,!=2.3.*,!=2.4.*,!=2.5.*,!=2.6.*,!=2.7.*,!=2.8.*,!=2.9.*,<3.0.0,>=1.34.1->google-ai-generativelanguage<0.7.0,>=0.6.18->langchain-google-genai) (1.71.0)\n",
            "Requirement already satisfied: grpcio-status<2.0.dev0,>=1.33.2 in /usr/local/lib/python3.11/dist-packages (from google-api-core[grpc]!=2.0.*,!=2.1.*,!=2.10.*,!=2.2.*,!=2.3.*,!=2.4.*,!=2.5.*,!=2.6.*,!=2.7.*,!=2.8.*,!=2.9.*,<3.0.0,>=1.34.1->google-ai-generativelanguage<0.7.0,>=0.6.18->langchain-google-genai) (1.71.0)\n",
            "Requirement already satisfied: cachetools<6.0,>=2.0.0 in /usr/local/lib/python3.11/dist-packages (from google-auth!=2.24.0,!=2.25.0,<3.0.0,>=2.14.1->google-ai-generativelanguage<0.7.0,>=0.6.18->langchain-google-genai) (5.5.2)\n",
            "Requirement already satisfied: pyasn1-modules>=0.2.1 in /usr/local/lib/python3.11/dist-packages (from google-auth!=2.24.0,!=2.25.0,<3.0.0,>=2.14.1->google-ai-generativelanguage<0.7.0,>=0.6.18->langchain-google-genai) (0.4.2)\n",
            "Requirement already satisfied: rsa<5,>=3.1.4 in /usr/local/lib/python3.11/dist-packages (from google-auth!=2.24.0,!=2.25.0,<3.0.0,>=2.14.1->google-ai-generativelanguage<0.7.0,>=0.6.18->langchain-google-genai) (4.9.1)\n",
            "Requirement already satisfied: anyio in /usr/local/lib/python3.11/dist-packages (from httpx<1,>=0.23.0->langsmith<0.4,>=0.1.17->langchain) (4.9.0)\n",
            "Requirement already satisfied: httpcore==1.* in /usr/local/lib/python3.11/dist-packages (from httpx<1,>=0.23.0->langsmith<0.4,>=0.1.17->langchain) (1.0.9)\n",
            "Requirement already satisfied: h11>=0.16 in /usr/local/lib/python3.11/dist-packages (from httpcore==1.*->httpx<1,>=0.23.0->langsmith<0.4,>=0.1.17->langchain) (0.16.0)\n",
            "Requirement already satisfied: jsonpointer>=1.9 in /usr/local/lib/python3.11/dist-packages (from jsonpatch<2.0,>=1.33->langchain-core<1.0.0,>=0.3.55->langchain) (3.0.0)\n",
            "Requirement already satisfied: pyasn1<0.7.0,>=0.6.1 in /usr/local/lib/python3.11/dist-packages (from pyasn1-modules>=0.2.1->google-auth!=2.24.0,!=2.25.0,<3.0.0,>=2.14.1->google-ai-generativelanguage<0.7.0,>=0.6.18->langchain-google-genai) (0.6.1)\n",
            "Requirement already satisfied: sniffio>=1.1 in /usr/local/lib/python3.11/dist-packages (from anyio->httpx<1,>=0.23.0->langsmith<0.4,>=0.1.17->langchain) (1.3.1)\n",
            "Downloading langchain_google_genai-2.1.4-py3-none-any.whl (44 kB)\n",
            "\u001b[2K   \u001b[90m━━━━━━━━━━━━━━━━━━━━━━━━━━━━━━━━━━━━━━━━\u001b[0m \u001b[32m44.3/44.3 kB\u001b[0m \u001b[31m1.0 MB/s\u001b[0m eta \u001b[36m0:00:00\u001b[0m\n",
            "\u001b[?25hDownloading filetype-1.2.0-py2.py3-none-any.whl (19 kB)\n",
            "Downloading google_ai_generativelanguage-0.6.18-py3-none-any.whl (1.4 MB)\n",
            "\u001b[2K   \u001b[90m━━━━━━━━━━━━━━━━━━━━━━━━━━━━━━━━━━━━━━━━\u001b[0m \u001b[32m1.4/1.4 MB\u001b[0m \u001b[31m20.9 MB/s\u001b[0m eta \u001b[36m0:00:00\u001b[0m\n",
            "\u001b[?25hInstalling collected packages: filetype, google-ai-generativelanguage, langchain-google-genai\n",
            "  Attempting uninstall: google-ai-generativelanguage\n",
            "    Found existing installation: google-ai-generativelanguage 0.6.15\n",
            "    Uninstalling google-ai-generativelanguage-0.6.15:\n",
            "      Successfully uninstalled google-ai-generativelanguage-0.6.15\n",
            "\u001b[31mERROR: pip's dependency resolver does not currently take into account all the packages that are installed. This behaviour is the source of the following dependency conflicts.\n",
            "google-generativeai 0.8.5 requires google-ai-generativelanguage==0.6.15, but you have google-ai-generativelanguage 0.6.18 which is incompatible.\u001b[0m\u001b[31m\n",
            "\u001b[0mSuccessfully installed filetype-1.2.0 google-ai-generativelanguage-0.6.18 langchain-google-genai-2.1.4\n"
          ]
        },
        {
          "output_type": "display_data",
          "data": {
            "application/vnd.colab-display-data+json": {
              "pip_warning": {
                "packages": [
                  "google"
                ]
              },
              "id": "cd01c2e68aa54c619dd9094b678a3e59"
            }
          },
          "metadata": {}
        }
      ]
    },
    {
      "cell_type": "code",
      "execution_count": 2,
      "metadata": {
        "id": "6T7eoM6ciUyt"
      },
      "outputs": [],
      "source": [
        "import os\n",
        "from langchain_google_genai import ChatGoogleGenerativeAI\n",
        "from langchain.prompts import PromptTemplate\n",
        "\n",
        "os.environ['GOOGLE_API_KEY']=''\n",
        "\n",
        "# Inatiate the LLM\n",
        "llm=ChatGoogleGenerativeAI(model='gemini-1.5-flash')\n",
        "\n",
        "def get_model_response(prompt):\n",
        "    \"\"\"Helper function to get model response.\"\"\"\n",
        "    return llm.invoke(prompt).content"
      ]
    },
    {
      "cell_type": "markdown",
      "source": [
        "# Understanding Biases in AI"
      ],
      "metadata": {
        "id": "8s5NW_UVjAWA"
      }
    },
    {
      "cell_type": "code",
      "source": [
        "biased_prompt = \"Describe a typical programmer.\"\n",
        "biased_response = get_model_response(biased_prompt)\n",
        "print(\"Potentially biased response:\")\n",
        "print(biased_response)"
      ],
      "metadata": {
        "colab": {
          "base_uri": "https://localhost:8080/"
        },
        "id": "K2u3swqAi4wI",
        "outputId": "559d2fba-d1e9-4257-db9a-56a936a6fd5e"
      },
      "execution_count": 3,
      "outputs": [
        {
          "output_type": "stream",
          "name": "stdout",
          "text": [
            "Potentially biased response:\n",
            "There's no such thing as a \"typical\" programmer, as the field is incredibly diverse.  However, we can paint a picture of some common traits and tendencies, acknowledging that these are generalizations and many programmers will deviate significantly:\n",
            "\n",
            "**Common Traits (with caveats):**\n",
            "\n",
            "* **Analytical and Problem-Solving Skills:** This is arguably the most crucial trait. Programmers spend their days breaking down complex problems into smaller, manageable parts and finding solutions using logic and code.\n",
            "* **Attention to Detail:**  Programming requires precision.  A single misplaced character can cause a program to malfunction.  Meticulousness is key.\n",
            "* **Creativity and Innovation:**  While logic is vital, programming also involves creative problem-solving and finding innovative ways to implement solutions.\n",
            "* **Persistence and Patience:** Debugging (finding and fixing errors) can be frustrating and time-consuming.  A successful programmer possesses the perseverance to overcome challenges.\n",
            "* **Continuous Learning:**  The tech world evolves rapidly.  Programmers need to constantly learn new languages, frameworks, and technologies to stay relevant.\n",
            "* **Technical Proficiency:**  This includes a strong understanding of computer science principles, data structures, algorithms, and at least one programming language.\n",
            "\n",
            "**Lifestyle and Personality (Generalizations):**\n",
            "\n",
            "* **Often introverted or ambiverted:** While not universally true, many programmers find comfort in working independently and focusing intensely on their work.  However, collaboration is increasingly important in modern software development.\n",
            "* **Passionate about technology:** A genuine interest in technology and its potential is a common motivator.\n",
            "* **Comfortable with ambiguity:**  Projects often involve incomplete information or shifting requirements, demanding adaptability.\n",
            "* **May work unconventional hours:**  Deadlines and project demands can sometimes lead to irregular work schedules.\n",
            "\n",
            "**Important Note:**  These are broad generalizations.  Programmers come from all walks of life, with diverse backgrounds, personalities, and interests.  There are extroverted programmers, artistic programmers, programmers with strong communication skills, and programmers who prefer working in teams over individual projects.  The stereotype of the socially awkward, caffeine-fueled hacker is a vast oversimplification and often inaccurate.\n"
          ]
        }
      ]
    },
    {
      "cell_type": "markdown",
      "source": [
        "# Indetifying and Mitigating Biases"
      ],
      "metadata": {
        "id": "CL-_BTpKjjmK"
      }
    },
    {
      "cell_type": "code",
      "source": [
        "inclusive_prompt = PromptTemplate(\n",
        "    input_variables=[\"profession\"],\n",
        "    template=\"Describe the diverse range of individuals who work as {profession}, emphasizing the variety in their backgrounds, experiences, and characteristics.\"\n",
        ")\n",
        "\n",
        "inclusive_response = (inclusive_prompt | llm).invoke({\"profession\": \"computer programmers\"}).content\n",
        "print(\"More inclusive response:\")\n",
        "print(inclusive_response)"
      ],
      "metadata": {
        "colab": {
          "base_uri": "https://localhost:8080/"
        },
        "id": "La8sIdgujEMU",
        "outputId": "28041727-da18-4ac2-e1da-b05092a8b950"
      },
      "execution_count": 4,
      "outputs": [
        {
          "output_type": "stream",
          "name": "stdout",
          "text": [
            "More inclusive response:\n",
            "The world of computer programming is far from monolithic.  It's a vibrant tapestry woven from individuals with incredibly diverse backgrounds, experiences, and characteristics.  Gone are the days of the stereotypical, solitary coder hunched over a keyboard in a dimly lit room.  Today's programmers represent a broad spectrum:\n",
            "\n",
            "**Backgrounds:**\n",
            "\n",
            "* **Formal Education:** While a computer science degree is common, many programmers have backgrounds in mathematics, engineering, physics, linguistics, or even the humanities.  Their diverse academic training brings unique problem-solving approaches and perspectives to software development.\n",
            "* **Self-Taught:** A significant portion of programmers are self-taught, having learned through online courses, bootcamps, personal projects, and sheer dedication.  Their path often reflects a strong intrinsic motivation and an agile learning style.\n",
            "* **Career Changers:**  Many individuals transition into programming from other professions, bringing valuable experience and skills from fields like finance, marketing, or healthcare. This often leads to innovative solutions tailored to specific industry needs.\n",
            "* **International Perspectives:**  The global nature of the tech industry means programmers come from all corners of the world, bringing diverse cultural perspectives and communication styles to collaborative projects.  This fosters creativity and broader applicability of software solutions.\n",
            "\n",
            "\n",
            "**Experiences:**\n",
            "\n",
            "* **Junior Developers:**  These are often recent graduates or those early in their careers, characterized by enthusiasm, a willingness to learn, and a focus on mastering fundamental concepts.\n",
            "* **Senior Developers:**  These experienced programmers possess deep technical expertise, strong problem-solving skills, and the ability to mentor junior developers. They often specialize in specific areas or technologies.\n",
            "* **Architects:**  These individuals focus on the high-level design and structure of software systems, ensuring scalability, maintainability, and performance.  They often have extensive experience and a strategic mindset.\n",
            "* **DevOps Engineers:**  These professionals bridge the gap between development and operations, focusing on automation, deployment, and infrastructure management.  They possess a blend of technical and operational skills.\n",
            "* **Data Scientists:**  While often distinct, data scientists frequently engage in programming to analyze and interpret large datasets, creating algorithms and models for insights.\n",
            "\n",
            "\n",
            "**Characteristics:**\n",
            "\n",
            "* **Problem-Solvers:**  At their core, programmers are problem-solvers.  They excel at breaking down complex challenges into manageable parts and developing effective solutions.\n",
            "* **Creative Thinkers:**  Programming requires creativity to design efficient, elegant, and user-friendly software.  Innovative solutions often arise from unconventional thinking.\n",
            "* **Detail-Oriented:**  Attention to detail is crucial for writing clean, bug-free code.  Programmers need to meticulously examine their work to ensure accuracy and functionality.\n",
            "* **Collaborative:**  While some programmers may prefer independent work, most collaborate extensively with designers, testers, and other developers.  Effective communication and teamwork are essential.\n",
            "* **Lifelong Learners:**  The tech landscape is constantly evolving, requiring programmers to continuously learn new languages, frameworks, and technologies.  A commitment to lifelong learning is vital for success.\n",
            "\n",
            "\n",
            "In conclusion, the diversity within the programming profession is a significant strength.  This variety of backgrounds, experiences, and individual characteristics fosters innovation, collaboration, and the creation of software solutions that address a wide range of human needs.\n"
          ]
        }
      ]
    },
    {
      "cell_type": "code",
      "source": [
        "def create_inclusive_prompt(topic):\n",
        "    \"\"\"Creates an inclusive prompt template for a given topic.\"\"\"\n",
        "    return PromptTemplate(\n",
        "        input_variables=[\"topic\"],\n",
        "        template=\"Provide a balanced and inclusive perspective on {topic}, considering diverse viewpoints, experiences, and cultural contexts.\"\n",
        "    )\n",
        "\n",
        "topics = [\"leadership\", \"family structures\", \"beauty standards\"]\n",
        "\n",
        "for topic in topics:\n",
        "    prompt = create_inclusive_prompt(topic)\n",
        "    response = (prompt | llm).invoke({\"topic\": topic}).content\n",
        "    print(f\"Inclusive perspective on {topic}:\")\n",
        "    print(response)\n",
        "    print(\"\\n\" + \"-\"*50 + \"\\n\")"
      ],
      "metadata": {
        "colab": {
          "base_uri": "https://localhost:8080/"
        },
        "id": "NQWPiLYSjolU",
        "outputId": "8a22a8de-5faf-4f84-fe1a-22258cfa1dc8"
      },
      "execution_count": 5,
      "outputs": [
        {
          "output_type": "stream",
          "name": "stdout",
          "text": [
            "Inclusive perspective on leadership:\n",
            "Leadership is a multifaceted concept, far from a monolithic ideal.  A balanced and inclusive perspective necessitates moving beyond traditional, often Western-centric, models and acknowledging the diverse ways leadership manifests across cultures and individual experiences.  There's no single \"best\" style, but rather a spectrum of approaches, each with strengths and weaknesses depending on context.\n",
            "\n",
            "**Diverse Viewpoints on Leadership:**\n",
            "\n",
            "* **Western/Individualistic Cultures:** Often emphasize individual achievement, assertive communication, and a hierarchical structure. Leaders are seen as decision-makers who direct and control. This can be effective in certain contexts, but can also lead to a lack of collaboration and stifle creativity.\n",
            "\n",
            "* **Eastern/Collectivist Cultures:** Prioritize group harmony, consensus-building, and shared responsibility. Leaders are often viewed as facilitators or mentors, guiding the group towards a common goal.  This approach fosters collaboration but can sometimes lead to slower decision-making.\n",
            "\n",
            "* **Indigenous Leadership:**  Many indigenous cultures prioritize community well-being, sustainability, and interconnectedness with nature. Leadership roles are often fluid and based on earned respect and wisdom, rather than formal titles or positions.  This emphasizes long-term vision and holistic thinking.\n",
            "\n",
            "* **Feminist Perspectives:** Challenge traditional power structures and advocate for inclusive leadership styles that value empathy, collaboration, and shared power. They highlight the importance of emotional intelligence and relational leadership.\n",
            "\n",
            "* **Intersectionality:**  Recognizes that leadership experiences are shaped by intersecting identities (race, gender, class, sexuality, etc.). A leader's background influences their perspective, priorities, and leadership style.  Marginalized groups often bring unique insights and perspectives that can enrich leadership approaches.\n",
            "\n",
            "\n",
            "**Key Considerations for Inclusive Leadership:**\n",
            "\n",
            "* **Cultural Sensitivity:** Understanding and respecting different cultural norms and communication styles is crucial.  This includes being mindful of power dynamics and avoiding cultural appropriation.\n",
            "\n",
            "* **Equity and Inclusion:**  Creating environments where everyone feels valued, respected, and has equal opportunities to contribute and lead. This involves actively addressing biases and systemic inequalities.\n",
            "\n",
            "* **Shared Leadership:**  Distributing leadership responsibilities and empowering individuals at all levels to contribute their expertise and perspectives.\n",
            "\n",
            "* **Servant Leadership:**  Focusing on the needs of the team and community, rather than personal gain.  This prioritizes collaboration and empowerment.\n",
            "\n",
            "* **Adaptive Leadership:**  Responding effectively to change and uncertainty, embracing flexibility and adaptability.\n",
            "\n",
            "* **Emotional Intelligence:**  Understanding and managing one's own emotions and those of others.  This is crucial for building trust and fostering collaboration.\n",
            "\n",
            "\n",
            "**Challenges and Opportunities:**\n",
            "\n",
            "The pursuit of inclusive leadership presents challenges, including overcoming ingrained biases, addressing power imbalances, and navigating differing communication styles.  However, embracing diversity in leadership offers significant opportunities for innovation, creativity, and improved outcomes. Organizations that cultivate inclusive leadership are better positioned to attract and retain talent, foster a positive work environment, and achieve their goals effectively.  Ultimately, effective leadership is context-dependent, requiring adaptability, empathy, and a commitment to fostering a just and equitable environment for all.\n",
            "\n",
            "--------------------------------------------------\n",
            "\n",
            "Inclusive perspective on family structures:\n",
            "Family structures are incredibly diverse and defy simple definition.  What constitutes a \"family\" varies significantly across cultures, historical periods, and individual experiences.  A balanced and inclusive perspective recognizes this diversity and avoids imposing a single, normative model.\n",
            "\n",
            "**Traditional Nuclear Family:** While often portrayed as the ideal, the nuclear family (two parents and their biological children) represents only one type of family structure and is not universally experienced or desired.  This model can exclude or marginalize individuals who do not fit within its confines.  Furthermore, even within this structure, dynamics and power relationships can be complex and unequal.\n",
            "\n",
            "**Extended Families:**  Many cultures prioritize extended family structures, where multiple generations live together, sharing responsibilities and resources. This can provide significant support systems but also presents challenges related to privacy, individual autonomy, and potential intergenerational conflict.  The extended family model is particularly prevalent in many collectivist cultures.\n",
            "\n",
            "**Single-Parent Families:** Single-parent households are increasingly common, often resulting from divorce, separation, or the choice not to marry. These families can face economic and social challenges, but they also demonstrate resilience and the capacity for strong parent-child bonds.  Stigma associated with single parenthood needs to be addressed.\n",
            "\n",
            "**Blended Families:**  Also known as stepfamilies, these families bring together children from previous relationships.  Navigating complex family dynamics, establishing new relationships, and creating a cohesive unit can be challenging, yet many blended families thrive and build strong bonds.\n",
            "\n",
            "**Same-Sex Parent Families:**  Growing acceptance of same-sex relationships has led to a greater visibility of same-sex parent families.  Research consistently shows that children raised by same-sex parents fare just as well as children raised by heterosexual parents.  Legal and social barriers that once existed continue to be dismantled in many parts of the world.\n",
            "\n",
            "**Childless Families:**  Choosing not to have children is a valid and increasingly common life choice.  Childless couples and individuals contribute significantly to society and experience fulfilling lives.  Social pressures and assumptions about childlessness need to be challenged.\n",
            "\n",
            "**Multigenerational Families:**  These families include multiple generations living together, often driven by economic necessity or cultural norms. They offer opportunities for intergenerational learning and support, but also present potential for conflict and challenges in managing diverse needs.\n",
            "\n",
            "**Chosen Families:**  This term encompasses groups of individuals who create kinship bonds based on shared values, interests, or experiences, rather than biological or legal ties.  This is particularly important for individuals who may lack strong connections with their biological families or who feel more supported by chosen family members.\n",
            "\n",
            "**Adoptive Families:**  Adoption provides loving homes for children who cannot be raised by their biological parents.  Adoptive families demonstrate the power of love and commitment to build strong family bonds, regardless of biological connection.\n",
            "\n",
            "\n",
            "**Conclusion:**\n",
            "\n",
            "A truly inclusive perspective on family structures acknowledges the rich tapestry of human relationships and rejects the notion of a single \"ideal\" family.  Understanding the diversity of family forms is crucial for creating supportive policies, challenging societal biases, and fostering a more equitable and inclusive society.  Focusing on the love, support, and well-being within a family unit, regardless of its structure, is paramount.\n",
            "\n",
            "--------------------------------------------------\n",
            "\n",
            "Inclusive perspective on beauty standards:\n",
            "Beauty standards are a complex and multifaceted phenomenon, varying significantly across cultures, time periods, and even individual preferences.  There's no single, universally accepted definition of beauty, and attempts to impose one often lead to exclusion and marginalization.\n",
            "\n",
            "**Diverse Viewpoints and Experiences:**\n",
            "\n",
            "* **Western Hegemony:** Historically, Western beauty standards, often characterized by thinness, light skin, and specific facial features, have dominated global perceptions. This has led to the marginalization and objectification of individuals who don't conform to these ideals, fostering low self-esteem and body image issues across diverse populations.  The impact is particularly acute on individuals from marginalized communities who face compounded pressures from both their own cultural norms and the dominant Western aesthetic.\n",
            "\n",
            "* **Cultural Relativity:**  Different cultures have vastly different beauty ideals.  What is considered attractive in one culture may be entirely unremarkable or even undesirable in another.  For example, full figures are celebrated in some cultures, while extreme thinness is valued in others.  Similarly, skin tone preferences vary widely, with lighter skin being favored in some contexts and darker skin in others.  Recognizing this cultural relativity is crucial to understanding the subjective nature of beauty.\n",
            "\n",
            "* **Individual Subjectivity:**  Beyond cultural norms, personal preferences play a significant role in shaping perceptions of beauty.  What one person finds attractive, another may not.  This individual variability underscores the limitations of imposing universal standards.  Furthermore, attraction is often influenced by factors beyond mere physical appearance, such as personality, intelligence, and shared values.\n",
            "\n",
            "* **The Commodification of Beauty:** The beauty industry plays a powerful role in shaping and reinforcing beauty standards. Through advertising, media representation, and the sale of beauty products, it profits from the insecurity and desire for conformity that these standards create. This creates a cycle where unrealistic ideals are perpetuated and individuals feel pressure to conform, leading to anxieties and dissatisfaction.\n",
            "\n",
            "* **The Impact of Social Media:**  Social media platforms have amplified the influence of beauty standards, exposing individuals to a constant stream of curated images and often unrealistic portrayals of beauty. This can contribute to social comparison, body dissatisfaction, and mental health challenges.  However, social media also provides platforms for counter-narratives and body positivity movements, offering spaces for challenging and subverting dominant ideals.\n",
            "\n",
            "**Moving Towards Inclusivity:**\n",
            "\n",
            "A more inclusive perspective on beauty requires a critical examination of existing power structures and the role of media in perpetuating narrow standards.  This involves:\n",
            "\n",
            "* **Challenging Eurocentric Beauty Standards:**  Actively promoting diverse representations of beauty in media and advertising is crucial to dismantling the hegemony of Western ideals.\n",
            "\n",
            "* **Celebrating Body Diversity:**  Embracing the full spectrum of body shapes, sizes, and abilities is essential to fostering a more inclusive and accepting society.\n",
            "\n",
            "* **Promoting Self-Acceptance and Body Positivity:**  Encouraging individuals to embrace their unique features and reject the pressure to conform to unrealistic ideals is vital for improving mental health and well-being.\n",
            "\n",
            "* **Critical Media Consumption:**  Encouraging critical thinking about media representations of beauty and promoting media literacy can help individuals develop more nuanced and informed perspectives.\n",
            "\n",
            "Ultimately, a balanced and inclusive perspective on beauty recognizes the subjective and culturally relative nature of aesthetics while actively working to dismantle harmful and exclusionary standards that perpetuate inequality and negatively impact mental health.  The focus should shift from conforming to externally imposed ideals to celebrating the inherent beauty and diversity of individuals.\n",
            "\n",
            "--------------------------------------------------\n",
            "\n"
          ]
        }
      ]
    },
    {
      "cell_type": "code",
      "source": [
        "def evaluate_fairness(text):\n",
        "    \"\"\"Evaluates the fairness of a given text.\"\"\"\n",
        "    evaluation_prompt = PromptTemplate(\n",
        "        input_variables=[\"text\"],\n",
        "        template=\"Evaluate the following text for fairness and inclusivity. Identify any potential biases or exclusionary language. Provide a fairness score from 1 to 10, where 10 is most fair and inclusive:\\n\\nText: {text}\\n\\nEvaluation:\"\n",
        "    )\n",
        "    return (evaluation_prompt | llm).invoke({\"text\": text}).content\n",
        "\n",
        "# Example usage\n",
        "sample_text = \"In the corporate world, strong leaders are often characterized by their decisiveness and ability to command respect.\"\n",
        "fairness_evaluation = evaluate_fairness(sample_text)\n",
        "print(\"Fairness Evaluation:\")\n",
        "print(fairness_evaluation)"
      ],
      "metadata": {
        "colab": {
          "base_uri": "https://localhost:8080/"
        },
        "id": "JgdhNN-4jsSU",
        "outputId": "2026123f-438b-4152-a456-f5278493a947"
      },
      "execution_count": 6,
      "outputs": [
        {
          "output_type": "stream",
          "name": "stdout",
          "text": [
            "Fairness Evaluation:\n",
            "The statement \"In the corporate world, strong leaders are often characterized by their decisiveness and decisiveness and ability to command respect\" contains potential biases and exclusionary language, lowering its fairness and inclusivity score.\n",
            "\n",
            "**Potential Biases and Exclusionary Language:**\n",
            "\n",
            "* **Gender Bias:**  The description implicitly favors leadership styles often associated with masculinity – decisiveness and commanding respect.  These traits are not inherently masculine, but societal expectations often link them to men, potentially excluding or minimizing the contributions of women who may lead in different, equally effective ways (e.g., collaborative, consensus-building).  This reinforces harmful stereotypes.\n",
            "\n",
            "* **Cultural Bias:**  The concept of \"commanding respect\" can be culturally loaded.  In some cultures, a more collaborative or consensus-based leadership style is valued.  This statement doesn't account for the diversity of leadership styles across different cultural backgrounds.\n",
            "\n",
            "* **Exclusion of Diverse Leadership Styles:**  The focus on decisiveness and commanding respect excludes other important leadership qualities, such as empathy, collaboration, communication, and mentorship.  These qualities are crucial for effective leadership but might be underrepresented because they aren't as easily associated with traditional power dynamics.\n",
            "\n",
            "\n",
            "**Fairness Score:** 4/10\n",
            "\n",
            "The statement is not entirely unfair, as decisiveness and respect are valuable leadership traits. However, its narrow focus and implicit biases significantly detract from its inclusivity.  To improve fairness and inclusivity, the statement needs to broaden its definition of \"strong leadership\" to encompass a wider range of styles and qualities.\n"
          ]
        }
      ]
    },
    {
      "cell_type": "code",
      "source": [
        "biased_prompt = \"Describe the ideal candidate for a high-stress executive position.\"\n",
        "\n",
        "print(\"Original prompt:\")\n",
        "print(biased_prompt)\n",
        "print(\"\\nOriginal response:\")\n",
        "print(get_model_response(biased_prompt))\n",
        "\n",
        "# TODO: Improve this prompt to be more inclusive and fair\n",
        "improved_prompt = PromptTemplate(\n",
        "    input_variables=[\"position\"],\n",
        "    template=\"Describe a range of qualities and skills that could make someone successful in a {position}, considering diverse backgrounds, experiences, and leadership styles. Emphasize the importance of work-life balance and mental health.\"\n",
        ")\n",
        "\n",
        "print(\"\\nImproved prompt:\")\n",
        "print(improved_prompt.format(position=\"high-stress executive position\"))\n",
        "print(\"\\nImproved response:\")\n",
        "print((improved_prompt | llm).invoke({\"position\": \"high-stress executive position\"}).content)\n",
        "\n",
        "# Evaluate the fairness of the improved response\n",
        "fairness_score = evaluate_fairness((improved_prompt | llm).invoke({\"position\": \"high-stress executive position\"}).content)\n",
        "print(\"\\nFairness evaluation of improved response:\")\n",
        "print(fairness_score)"
      ],
      "metadata": {
        "colab": {
          "base_uri": "https://localhost:8080/"
        },
        "id": "YR0hEVhxjyj3",
        "outputId": "be601326-18ca-4c9b-9938-b94fcd8c1885"
      },
      "execution_count": 7,
      "outputs": [
        {
          "output_type": "stream",
          "name": "stdout",
          "text": [
            "Original prompt:\n",
            "Describe the ideal candidate for a high-stress executive position.\n",
            "\n",
            "Original response:\n",
            "The ideal candidate for a high-stress executive position possesses a unique blend of hard and soft skills, going beyond mere competence.  They are not simply resilient; they thrive under pressure.  Here's a breakdown:\n",
            "\n",
            "**Hard Skills & Experience:**\n",
            "\n",
            "* **Proven Track Record:**  A demonstrable history of success in progressively responsible roles, ideally with experience navigating complex challenges and achieving significant results in demanding environments.  This isn't just about hitting targets; it's about demonstrating strategic thinking and effective execution.\n",
            "* **Strategic Acumen:**  Exceptional ability to analyze complex situations, identify key opportunities and threats, develop and implement effective strategies, and adapt to changing circumstances.  They can see the big picture and connect the dots.\n",
            "* **Financial Literacy:**  A strong understanding of financial statements, budgeting, forecasting, and investment strategies is essential for making sound business decisions.\n",
            "* **Industry Expertise:**  Deep knowledge of the industry and competitive landscape is critical for making informed decisions and navigating industry-specific challenges.\n",
            "* **Technical Proficiency:**  Depending on the specific role, a certain level of technical proficiency might be required.  This could range from data analysis to specific software applications.\n",
            "* **Leadership & Management Experience:**  Proven ability to lead, motivate, and mentor teams, build strong relationships, and delegate effectively.  They inspire and empower others.\n",
            "\n",
            "**Soft Skills & Personal Attributes:**\n",
            "\n",
            "* **Exceptional Resilience:**  The ability to bounce back from setbacks, maintain composure under pressure, and remain optimistic even in the face of adversity.  They don't crumble; they learn and adapt.\n",
            "* **Decisiveness:**  The ability to make timely and informed decisions, even with incomplete information, and to accept responsibility for the outcomes.\n",
            "* **Adaptability & Flexibility:**  The capacity to adjust to changing priorities, embrace new challenges, and learn quickly in a dynamic environment.\n",
            "* **Emotional Intelligence:**  A high degree of self-awareness, empathy, and social skills are crucial for building and maintaining strong relationships with colleagues, clients, and stakeholders.  They understand and manage their own emotions and those of others.\n",
            "* **Communication Skills:**  Excellent written and verbal communication skills are essential for conveying complex information clearly and concisely, both internally and externally.\n",
            "* **Integrity & Ethics:**  Unwavering commitment to ethical conduct and strong moral principles.  Trust and credibility are paramount.\n",
            "* **Stress Management:**  Effective coping mechanisms for managing stress, avoiding burnout, and maintaining a healthy work-life balance.  This isn't about being immune to stress, but about managing it effectively.\n",
            "\n",
            "\n",
            "In short, the ideal candidate is a highly competent, resilient, and emotionally intelligent leader with a proven track record of success in demanding environments. They are not just good at their job; they are masters of navigating complexity and leading others through it.\n",
            "\n",
            "Improved prompt:\n",
            "Describe a range of qualities and skills that could make someone successful in a high-stress executive position, considering diverse backgrounds, experiences, and leadership styles. Emphasize the importance of work-life balance and mental health.\n",
            "\n",
            "Improved response:\n",
            "Success in a high-stress executive position requires a potent blend of hard and soft skills, adaptable to various leadership styles and enriched by diverse backgrounds.  It's not just about achieving targets; it's about leading effectively while maintaining well-being.  Here's a breakdown:\n",
            "\n",
            "**I. Core Competencies:**\n",
            "\n",
            "* **Strategic Thinking & Vision:**  The ability to analyze complex situations, anticipate future trends, develop long-term strategies, and communicate a compelling vision to inspire others. This transcends specific industry knowledge and relies on analytical prowess and creative problem-solving.\n",
            "* **Decision-Making Under Pressure:**  Executives face constant, high-stakes choices.  This requires a combination of quick thinking, risk assessment, data analysis, and the courage to make difficult decisions even with incomplete information.\n",
            "* **Financial Acumen:**  Understanding financial statements, budgeting, forecasting, and investment strategies is crucial for resource allocation and driving profitability.\n",
            "* **Communication & Interpersonal Skills:**  Effective communication is paramount. This includes clear articulation of goals, active listening, persuasive negotiation, conflict resolution, and building strong relationships with stakeholders at all levels – from board members to frontline employees.\n",
            "* **Adaptability & Resilience:**  The business landscape is constantly evolving.  Successful executives are agile, embrace change, learn from setbacks, and demonstrate resilience in the face of adversity and unexpected challenges.\n",
            "* **Team Leadership & Mentorship:**  Inspiring and motivating teams, delegating effectively, fostering collaboration, providing constructive feedback, and mentoring high-potential employees are key to building a high-performing organization.  Leadership styles can vary (transformational, transactional, servant leadership, etc.), but effectiveness requires empathy, understanding, and inclusivity.\n",
            "* **Negotiation & Influence:**  Executives must skillfully navigate complex negotiations with internal and external stakeholders, influencing decisions and securing buy-in for their strategies.\n",
            "* **Technological Proficiency:**  Understanding and leveraging technology to improve efficiency, communication, and decision-making is increasingly vital.\n",
            "\n",
            "\n",
            "**II.  Diverse Backgrounds & Experiences:**\n",
            "\n",
            "A diverse background – whether in terms of industry, education, ethnicity, gender, or socioeconomic status – brings unique perspectives and problem-solving approaches to the table.  Experience in different roles (e.g., operations, marketing, finance) provides a broader understanding of the business and its challenges.\n",
            "\n",
            "**III.  Work-Life Balance & Mental Health:**\n",
            "\n",
            "This is *not* a negotiable add-on; it's fundamental to long-term success and well-being.  High-stress roles often demand long hours, but neglecting mental and physical health leads to burnout, reduced effectiveness, and ultimately, failure.  Key elements include:\n",
            "\n",
            "* **Self-Care Practices:**  Prioritizing sleep, exercise, healthy eating, and mindfulness techniques to manage stress and maintain energy levels.\n",
            "* **Boundary Setting:**  Learning to disconnect from work during personal time, delegating effectively, and saying \"no\" when necessary.\n",
            "* **Seeking Support:**  Utilizing mentorship, coaching, therapy, or support networks to address challenges and maintain mental well-being.\n",
            "* **Promoting a Culture of Well-being:**  As an executive, fostering a workplace culture that values work-life balance and supports employee mental health sets a positive example and improves overall team performance.\n",
            "\n",
            "\n",
            "In conclusion, success in a high-stress executive role requires a multifaceted skillset, a diverse perspective, and a commitment to personal well-being.  It's a marathon, not a sprint, and sustainable success depends on a holistic approach that prioritizes both professional achievement and personal fulfillment.\n",
            "\n",
            "Fairness evaluation of improved response:\n",
            "The text demonstrates a strong commitment to fairness and inclusivity, though minor improvements could be made.\n",
            "\n",
            "**Strengths:**\n",
            "\n",
            "* **Explicit mention of diversity and inclusion:** The text repeatedly emphasizes the importance of diverse backgrounds, leadership styles, and inclusive environments.  Section III directly addresses this.\n",
            "* **Focus on soft skills and well-being:** The emphasis on emotional intelligence, stress management, mental health awareness, and work-life balance counters the often-present bias towards solely focusing on hard skills in executive descriptions.\n",
            "* **Acknowledgement of various leadership styles:**  The text avoids promoting a single \"best\" leadership style, recognizing the value of adaptability and context-specific approaches.\n",
            "* **Holistic view of success:** The conclusion aptly summarizes the importance of a balanced approach, integrating technical skills with emotional intelligence and well-being.\n",
            "\n",
            "\n",
            "**Areas for Improvement:**\n",
            "\n",
            "* **Implicit biases in language:** While the text mentions diverse backgrounds, it doesn't explicitly name or address specific marginalized groups.  Adding examples (e.g., \"leaders from diverse racial and ethnic backgrounds, including those from underrepresented groups\") would strengthen the message.\n",
            "* **Actionable steps:** While the text mentions creating inclusive environments, it lacks concrete examples of how to achieve this.  Adding suggestions (e.g., \"implementing unconscious bias training, establishing inclusive hiring practices\") would enhance its practical value.\n",
            "* **\"Human Element\" phrasing:** While well-intentioned, the section title \"Beyond the Technical: The Human Element\" subtly implies that human qualities are somehow separate from or less important than technical skills.  A more integrated title might be preferable.\n",
            "\n",
            "**Fairness Score:** 8/10\n",
            "\n",
            "The text is already quite inclusive and fair, but the suggested improvements would elevate it to a higher level by making the commitment to diversity and inclusion more explicit and actionable.  The current phrasing, while not overtly biased, could be interpreted as subtly prioritizing technical skills unless the reader carefully considers the entire text.\n"
          ]
        }
      ]
    },
    {
      "cell_type": "code",
      "source": [],
      "metadata": {
        "id": "kXe168Fnj0hG"
      },
      "execution_count": null,
      "outputs": []
    }
  ]
}