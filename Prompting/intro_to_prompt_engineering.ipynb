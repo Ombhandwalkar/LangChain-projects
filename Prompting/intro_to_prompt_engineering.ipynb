{
 "cells": [
  {
   "cell_type": "markdown",
   "id": "a8536ac4",
   "metadata": {},
   "source": [
    "# Intorduction to Prompt Engineering"
   ]
  },
  {
   "cell_type": "code",
   "execution_count": 1,
   "id": "13e04762",
   "metadata": {},
   "outputs": [
    {
     "data": {
      "text/plain": [
       "True"
      ]
     },
     "execution_count": 1,
     "metadata": {},
     "output_type": "execute_result"
    }
   ],
   "source": [
    "from langchain_google_genai import ChatGoogleGenerativeAI\n",
    "from langchain.prompts import PromptTemplate\n",
    "from dotenv import load_dotenv\n",
    "load_dotenv()"
   ]
  },
  {
   "cell_type": "code",
   "execution_count": 2,
   "id": "2e558fbd",
   "metadata": {},
   "outputs": [],
   "source": [
    "llm=ChatGoogleGenerativeAI(model='gemini-1.5-flash')"
   ]
  },
  {
   "cell_type": "markdown",
   "id": "635e057e",
   "metadata": {},
   "source": [
    "# Basic Concepts and Importance"
   ]
  },
  {
   "cell_type": "code",
   "execution_count": 3,
   "id": "16c22627",
   "metadata": {},
   "outputs": [
    {
     "name": "stdout",
     "output_type": "stream",
     "text": [
      "Prompt engineering is the art and science of crafting effective input prompts to elicit desired outputs from large language models.\n"
     ]
    }
   ],
   "source": [
    "basic_prompt='Explain the concept of prompt Engineering in one sentence.'\n",
    "print(llm.invoke(basic_prompt).content)"
   ]
  },
  {
   "cell_type": "code",
   "execution_count": 4,
   "id": "a8e40fdd",
   "metadata": {},
   "outputs": [
    {
     "name": "stdout",
     "output_type": "stream",
     "text": [
      "Prompt engineering is the design and crafting of effective prompts to elicit desired outputs from language models (LLMs) and other AI systems.  It involves understanding the nuances of how these models process and interpret input, and strategically formulating prompts to guide them towards generating accurate, relevant, and creative responses. This goes beyond simply asking a question; it's about strategically structuring the request to maximize the quality and utility of the AI's output.\n",
      "\n",
      "\n",
      "**Importance of Prompt Engineering:**\n",
      "\n",
      "Prompt engineering is crucial because LLMs are powerful but sensitive to the way they are instructed.  A poorly constructed prompt can lead to inaccurate, nonsensical, or biased responses.  Effective prompt engineering unlocks the full potential of these models, transforming them from unreliable tools into valuable assets for various tasks.  Without it, the results are often unpredictable and inconsistent, limiting their practical applications.\n",
      "\n",
      "\n",
      "**Three Key Benefits of Prompt Engineering:**\n",
      "\n",
      "1. **Improved Accuracy and Relevance:**  Well-crafted prompts significantly increase the likelihood of receiving accurate and relevant information. By providing clear instructions, constraints, and context, prompt engineering minimizes ambiguity and guides the LLM towards the desired output, reducing hallucinations and irrelevant information.\n",
      "\n",
      "2. **Enhanced Creativity and Control:**  Prompt engineering enables users to steer the creativity of the LLM.  By using specific techniques like few-shot learning, chain-of-thought prompting, or specifying desired styles and formats, users can elicit more innovative and tailored responses, going beyond simple question-answering.\n",
      "\n",
      "3. **Increased Efficiency and Productivity:**  By optimizing prompts, users can achieve their desired results with fewer iterations and less time spent refining the AI's output. This leads to significant gains in efficiency and productivity across a wide range of applications, from content creation and code generation to research and problem-solving.\n"
     ]
    }
   ],
   "source": [
    "# Structured Prompt - Will help to yeild a more detailed response\n",
    "structured_prompt= PromptTemplate(\n",
    "    input_variables=['topic'],\n",
    "    template=\"Provide a definition of {topic}, explain its importance, and list three key benefits.\"\n",
    ")\n",
    "# chain is the sequence of components that are combined to accomplish a task.\n",
    "chain= structured_prompt | llm \n",
    "# Define the input variable\n",
    "input_variable={'topic':'prompt engineering'}\n",
    "# Invoke the chain with input variable\n",
    "output=chain.invoke(input_variable).content\n",
    "print(output)"
   ]
  },
  {
   "cell_type": "markdown",
   "id": "f38340ee",
   "metadata": {},
   "source": [
    "# Importance of Prompt engineering\n",
    "1. Improve the quality and relevance of AI-generated outputs\n",
    "2. Guide language models to perform specific taks more effectively\n",
    "3. Overcome limitations and biases in AI models\n",
    "4. Customize AI responses for different use and audiancce"
   ]
  },
  {
   "cell_type": "code",
   "execution_count": 5,
   "id": "4b499161",
   "metadata": {},
   "outputs": [
    {
     "name": "stdout",
     "output_type": "stream",
     "text": [
      "\n",
      " Prompt 1:\n",
      "List 3 applications of AI in healthcare.\n",
      "\n",
      " Response:\n",
      "1. **Disease Diagnosis and Treatment:** AI algorithms can analyze medical images (X-rays, CT scans, MRIs) to detect diseases like cancer earlier and more accurately than human experts alone.  They can also assist in choosing the best treatment plan based on a patient's individual characteristics and medical history.\n",
      "\n",
      "2. **Drug Discovery and Development:** AI accelerates the drug discovery process by analyzing vast datasets of biological information to identify potential drug candidates and predict their efficacy and safety. This significantly reduces the time and cost associated with bringing new drugs to market.\n",
      "\n",
      "3. **Personalized Medicine:** AI enables the creation of personalized treatment plans by analyzing a patient's genetic information, lifestyle, and medical history. This allows for more targeted and effective interventions, improving patient outcomes and reducing adverse effects.\n",
      "--------------------------------------------------\n",
      "\n",
      " Prompt 2:\n",
      "Explain how AI is revolutionizing healtcare,with 3 specific examples.\n",
      "\n",
      " Response:\n",
      "AI is revolutionizing healthcare by automating tasks, improving diagnostics, and personalizing treatments, leading to more efficient, accurate, and effective care. Here are three specific examples:\n",
      "\n",
      "1. **AI-powered Diagnostics and Image Analysis:**  AI algorithms are trained on massive datasets of medical images (X-rays, CT scans, MRIs, pathology slides) to detect anomalies like tumors, fractures, or infections with remarkable accuracy and speed.  This is significantly faster and often more accurate than human analysis alone, particularly in detecting subtle patterns that might be missed by a human radiologist or pathologist.  For instance, AI systems are being used to:\n",
      "    * **Detect cancerous lesions in mammograms:**  AI can identify subtle irregularities indicative of breast cancer earlier than traditional methods, leading to earlier intervention and improved survival rates.\n",
      "    * **Analyze retinal scans for diabetic retinopathy:**  AI can automatically screen for this vision-threatening complication of diabetes, allowing for timely treatment and preventing blindness.\n",
      "    * **Identify and classify different types of cells in pathology samples:** This aids in cancer diagnosis and grading, enabling more precise treatment plans.\n",
      "\n",
      "2. **Drug Discovery and Development:** The process of developing new drugs is traditionally long, expensive, and often unsuccessful. AI is accelerating this process by:\n",
      "    * **Predicting drug efficacy and toxicity:**  AI algorithms can analyze vast amounts of biological and chemical data to predict which molecules are most likely to be effective against specific diseases and to identify potential side effects early in the development process. This reduces the time and cost associated with clinical trials and increases the likelihood of successful drug development.\n",
      "    * **Identifying potential drug targets:** AI can analyze genomic data to identify genes and proteins that are involved in disease processes, providing new targets for drug development.\n",
      "    * **Optimizing clinical trials:** AI can help design more efficient clinical trials by identifying the most suitable patients for participation and predicting the outcome of the trials, reducing the time and cost required.\n",
      "\n",
      "\n",
      "3. **Personalized Medicine and Treatment Planning:** AI allows for the tailoring of treatment plans to individual patients based on their unique genetic makeup, lifestyle, and medical history.  This is leading to:\n",
      "    * **Precision oncology:** AI can analyze a patient's tumor genome to identify specific mutations and predict the effectiveness of different cancer therapies, allowing oncologists to select the most appropriate treatment for each individual.\n",
      "    * **Personalized risk prediction:** AI can analyze a patient's medical history and lifestyle factors to predict their risk of developing certain diseases, allowing for preventative measures to be taken.\n",
      "    * **Optimized treatment regimens:** AI can analyze patient data to optimize the dosage and timing of medications, minimizing side effects and maximizing treatment effectiveness.  For example, AI can adjust insulin delivery in diabetes patients based on real-time glucose levels.\n",
      "\n",
      "\n",
      "While AI holds immense promise, it's crucial to acknowledge the ongoing challenges related to data privacy, algorithm bias, and the need for robust validation and regulatory oversight before widespread clinical implementation.  Nevertheless, these examples highlight the transformative potential of AI in revolutionizing healthcare delivery.\n",
      "--------------------------------------------------\n",
      "\n",
      " Prompt 3:\n",
      "You are a doctor. Describe 3 ways AI has improved your daily work in the hospital.\n",
      "\n",
      " Response:\n",
      "As a doctor, AI has significantly streamlined and improved several aspects of my daily work.  Here are three key examples:\n",
      "\n",
      "1. **Improved Diagnostic Accuracy and Speed with Image Analysis:**  AI-powered diagnostic tools have revolutionized my radiology workflow.  Previously, reviewing complex medical images like CT scans and MRIs was a time-consuming process, prone to human error, especially when dealing with subtle anomalies. Now, AI algorithms can pre-process images, highlight potential areas of concern (e.g., tumors, fractures), and even provide preliminary diagnostic suggestions. This significantly accelerates the diagnostic process, allowing me to focus my attention on the most critical findings and provide quicker, more accurate diagnoses to patients.  For instance, in detecting subtle lung nodules indicative of early-stage lung cancer, AI's sensitivity has proven invaluable.\n",
      "\n",
      "2. **Enhanced Patient Risk Stratification and Predictive Analytics:**  AI algorithms analyze vast amounts of patient data—electronic health records, lab results, vital signs—to identify patients at high risk of developing complications or experiencing adverse events. This predictive capability allows for proactive interventions.  For example, an AI system might flag a patient at risk of sepsis based on their clinical data, prompting earlier administration of antibiotics and potentially preventing a life-threatening situation.  This allows for more efficient allocation of resources and improved patient outcomes by focusing preventative care on those most in need.\n",
      "\n",
      "3. **Streamlined Administrative Tasks and Documentation:**  AI-powered tools are reducing the administrative burden associated with my daily work.  For instance, AI can automate tasks like generating preliminary reports, summarizing patient notes, and even suggesting appropriate ICD-10 codes for billing purposes. This frees up valuable time that I can then dedicate to direct patient care, improving the quality of my interactions and reducing burnout.  The automation of these tasks also reduces the likelihood of errors in documentation, improving overall efficiency and accuracy.\n",
      "--------------------------------------------------\n"
     ]
    }
   ],
   "source": [
    "prompts=['List 3 applications of AI in healthcare.',\n",
    "         'Explain how AI is revolutionizing healtcare,with 3 specific examples.',\n",
    "         'You are a doctor. Describe 3 ways AI has improved your daily work in the hospital.'\n",
    "         ]\n",
    "for i , prompt in enumerate(prompts,1):\n",
    "    print(f\"\\n Prompt {i}:\")\n",
    "    print(prompt)\n",
    "    print('\\n Response:')\n",
    "    print(llm.invoke(prompt).content)\n",
    "    print('-'*50)"
   ]
  },
  {
   "cell_type": "code",
   "execution_count": 6,
   "id": "dca66646",
   "metadata": {},
   "outputs": [
    {
     "name": "stdout",
     "output_type": "stream",
     "text": [
      "Evaluation:\n",
      "\n",
      "The statement \"The capital of France is London\" is incorrect.  The capital of France is **Paris**.\n"
     ]
    }
   ],
   "source": [
    "fact_check_prompt=PromptTemplate(\n",
    "    input_variables=['statement'],\n",
    "    template=\"\"\"Evaluate the following statement for factual accuracy. If it's incorrect, provide the correct information:\n",
    "    Statement: {statement}\n",
    "    Evaluation:\"\"\"\n",
    ")\n",
    "chain=fact_check_prompt | llm\n",
    "print(chain.invoke('THe capital of France is London.').content)"
   ]
  },
  {
   "cell_type": "code",
   "execution_count": 7,
   "id": "a271b89c",
   "metadata": {},
   "outputs": [
    {
     "name": "stdout",
     "output_type": "stream",
     "text": [
      "**1. Understand the Compound Interest Formula:**\n",
      "\n",
      "The formula for compound interest is:  A = P (1 + r/n)^(nt)\n",
      "\n",
      "Where:\n",
      "\n",
      "* A = the future value of the investment/loan, including interest\n",
      "* P = the principal investment amount (the initial deposit or loan amount)\n",
      "* r = the annual interest rate (decimal)\n",
      "* n = the number of times that interest is compounded per year\n",
      "* t = the number of years the money is invested or borrowed for\n",
      "\n",
      "**2. Identify the Values:**\n",
      "\n",
      "In this problem:\n",
      "\n",
      "* P = ₹1000\n",
      "* r = 5% = 0.05 (Remember to convert the percentage to a decimal by dividing by 100)\n",
      "* n = 1 (compounded annually means once per year)\n",
      "* t = 5 years\n",
      "\n",
      "**3. Substitute the Values into the Formula:**\n",
      "\n",
      "A = 1000 (1 + 0.05/1)^(1*5)\n",
      "\n",
      "**4. Simplify and Calculate:**\n",
      "\n",
      "A = 1000 (1 + 0.05)^5\n",
      "A = 1000 (1.05)^5\n",
      "A = 1000 * 1.2762815625\n",
      "A = ₹1276.28 (approximately)\n",
      "\n",
      "**5. Calculate the Compound Interest:**\n",
      "\n",
      "Compound Interest = A - P\n",
      "Compound Interest = ₹1276.28 - ₹1000\n",
      "Compound Interest = ₹276.28\n",
      "\n",
      "**Therefore, the compound interest on ₹1000 invested for 5 years at an annual rate of 5%, compounded annually is ₹276.28**\n"
     ]
    }
   ],
   "source": [
    "# Improving complex problem solving\n",
    "problem_solving_prompt=PromptTemplate(\n",
    "    input_variables=['problem'],\n",
    "    template=\"\"\"Solve the following problem step by step:\n",
    "    problem:{problem}\n",
    "    Solution:\n",
    "    1)\"\"\"\n",
    ")\n",
    "chain=problem_solving_prompt | llm \n",
    "print(chain.invoke('Calculate the compund intrest on ₹ 1000 invested for 5 years at an annual rate of 5%, compounded anually').content)"
   ]
  },
  {
   "cell_type": "code",
   "execution_count": null,
   "id": "c807cce2",
   "metadata": {},
   "outputs": [],
   "source": []
  }
 ],
 "metadata": {
  "kernelspec": {
   "display_name": "venv",
   "language": "python",
   "name": "python3"
  },
  "language_info": {
   "codemirror_mode": {
    "name": "ipython",
    "version": 3
   },
   "file_extension": ".py",
   "mimetype": "text/x-python",
   "name": "python",
   "nbconvert_exporter": "python",
   "pygments_lexer": "ipython3",
   "version": "3.11.5"
  }
 },
 "nbformat": 4,
 "nbformat_minor": 5
}
