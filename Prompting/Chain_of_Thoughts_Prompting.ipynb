{
  "cells": [
    {
      "cell_type": "code",
      "execution_count": 1,
      "metadata": {
        "colab": {
          "base_uri": "https://localhost:8080/",
          "height": 1000
        },
        "id": "-e7iDhbnu7Am",
        "outputId": "bfa7e0d3-69d5-4f91-9264-b1f306d18177"
      },
      "outputs": [
        {
          "name": "stdout",
          "output_type": "stream",
          "text": [
            "Requirement already satisfied: langchain in /usr/local/lib/python3.11/dist-packages (0.3.24)\n",
            "Collecting langchain-google-genai\n",
            "  Downloading langchain_google_genai-2.1.4-py3-none-any.whl.metadata (5.2 kB)\n",
            "Requirement already satisfied: langchain-core<1.0.0,>=0.3.55 in /usr/local/lib/python3.11/dist-packages (from langchain) (0.3.56)\n",
            "Requirement already satisfied: langchain-text-splitters<1.0.0,>=0.3.8 in /usr/local/lib/python3.11/dist-packages (from langchain) (0.3.8)\n",
            "Requirement already satisfied: langsmith<0.4,>=0.1.17 in /usr/local/lib/python3.11/dist-packages (from langchain) (0.3.39)\n",
            "Requirement already satisfied: pydantic<3.0.0,>=2.7.4 in /usr/local/lib/python3.11/dist-packages (from langchain) (2.11.4)\n",
            "Requirement already satisfied: SQLAlchemy<3,>=1.4 in /usr/local/lib/python3.11/dist-packages (from langchain) (2.0.40)\n",
            "Requirement already satisfied: requests<3,>=2 in /usr/local/lib/python3.11/dist-packages (from langchain) (2.32.3)\n",
            "Requirement already satisfied: PyYAML>=5.3 in /usr/local/lib/python3.11/dist-packages (from langchain) (6.0.2)\n",
            "Collecting filetype<2.0.0,>=1.2.0 (from langchain-google-genai)\n",
            "  Downloading filetype-1.2.0-py2.py3-none-any.whl.metadata (6.5 kB)\n",
            "Collecting google-ai-generativelanguage<0.7.0,>=0.6.18 (from langchain-google-genai)\n",
            "  Downloading google_ai_generativelanguage-0.6.18-py3-none-any.whl.metadata (9.8 kB)\n",
            "Requirement already satisfied: google-api-core!=2.0.*,!=2.1.*,!=2.10.*,!=2.2.*,!=2.3.*,!=2.4.*,!=2.5.*,!=2.6.*,!=2.7.*,!=2.8.*,!=2.9.*,<3.0.0,>=1.34.1 in /usr/local/lib/python3.11/dist-packages (from google-api-core[grpc]!=2.0.*,!=2.1.*,!=2.10.*,!=2.2.*,!=2.3.*,!=2.4.*,!=2.5.*,!=2.6.*,!=2.7.*,!=2.8.*,!=2.9.*,<3.0.0,>=1.34.1->google-ai-generativelanguage<0.7.0,>=0.6.18->langchain-google-genai) (2.24.2)\n",
            "Requirement already satisfied: google-auth!=2.24.0,!=2.25.0,<3.0.0,>=2.14.1 in /usr/local/lib/python3.11/dist-packages (from google-ai-generativelanguage<0.7.0,>=0.6.18->langchain-google-genai) (2.38.0)\n",
            "Requirement already satisfied: proto-plus<2.0.0,>=1.22.3 in /usr/local/lib/python3.11/dist-packages (from google-ai-generativelanguage<0.7.0,>=0.6.18->langchain-google-genai) (1.26.1)\n",
            "Requirement already satisfied: protobuf!=4.21.0,!=4.21.1,!=4.21.2,!=4.21.3,!=4.21.4,!=4.21.5,<7.0.0,>=3.20.2 in /usr/local/lib/python3.11/dist-packages (from google-ai-generativelanguage<0.7.0,>=0.6.18->langchain-google-genai) (5.29.4)\n",
            "Requirement already satisfied: tenacity!=8.4.0,<10.0.0,>=8.1.0 in /usr/local/lib/python3.11/dist-packages (from langchain-core<1.0.0,>=0.3.55->langchain) (9.1.2)\n",
            "Requirement already satisfied: jsonpatch<2.0,>=1.33 in /usr/local/lib/python3.11/dist-packages (from langchain-core<1.0.0,>=0.3.55->langchain) (1.33)\n",
            "Requirement already satisfied: packaging<25,>=23.2 in /usr/local/lib/python3.11/dist-packages (from langchain-core<1.0.0,>=0.3.55->langchain) (24.2)\n",
            "Requirement already satisfied: typing-extensions>=4.7 in /usr/local/lib/python3.11/dist-packages (from langchain-core<1.0.0,>=0.3.55->langchain) (4.13.2)\n",
            "Requirement already satisfied: httpx<1,>=0.23.0 in /usr/local/lib/python3.11/dist-packages (from langsmith<0.4,>=0.1.17->langchain) (0.28.1)\n",
            "Requirement already satisfied: orjson<4.0.0,>=3.9.14 in /usr/local/lib/python3.11/dist-packages (from langsmith<0.4,>=0.1.17->langchain) (3.10.18)\n",
            "Requirement already satisfied: requests-toolbelt<2.0.0,>=1.0.0 in /usr/local/lib/python3.11/dist-packages (from langsmith<0.4,>=0.1.17->langchain) (1.0.0)\n",
            "Requirement already satisfied: zstandard<0.24.0,>=0.23.0 in /usr/local/lib/python3.11/dist-packages (from langsmith<0.4,>=0.1.17->langchain) (0.23.0)\n",
            "Requirement already satisfied: annotated-types>=0.6.0 in /usr/local/lib/python3.11/dist-packages (from pydantic<3.0.0,>=2.7.4->langchain) (0.7.0)\n",
            "Requirement already satisfied: pydantic-core==2.33.2 in /usr/local/lib/python3.11/dist-packages (from pydantic<3.0.0,>=2.7.4->langchain) (2.33.2)\n",
            "Requirement already satisfied: typing-inspection>=0.4.0 in /usr/local/lib/python3.11/dist-packages (from pydantic<3.0.0,>=2.7.4->langchain) (0.4.0)\n",
            "Requirement already satisfied: charset-normalizer<4,>=2 in /usr/local/lib/python3.11/dist-packages (from requests<3,>=2->langchain) (3.4.1)\n",
            "Requirement already satisfied: idna<4,>=2.5 in /usr/local/lib/python3.11/dist-packages (from requests<3,>=2->langchain) (3.10)\n",
            "Requirement already satisfied: urllib3<3,>=1.21.1 in /usr/local/lib/python3.11/dist-packages (from requests<3,>=2->langchain) (2.4.0)\n",
            "Requirement already satisfied: certifi>=2017.4.17 in /usr/local/lib/python3.11/dist-packages (from requests<3,>=2->langchain) (2025.4.26)\n",
            "Requirement already satisfied: greenlet>=1 in /usr/local/lib/python3.11/dist-packages (from SQLAlchemy<3,>=1.4->langchain) (3.2.1)\n",
            "Requirement already satisfied: googleapis-common-protos<2.0.0,>=1.56.2 in /usr/local/lib/python3.11/dist-packages (from google-api-core!=2.0.*,!=2.1.*,!=2.10.*,!=2.2.*,!=2.3.*,!=2.4.*,!=2.5.*,!=2.6.*,!=2.7.*,!=2.8.*,!=2.9.*,<3.0.0,>=1.34.1->google-api-core[grpc]!=2.0.*,!=2.1.*,!=2.10.*,!=2.2.*,!=2.3.*,!=2.4.*,!=2.5.*,!=2.6.*,!=2.7.*,!=2.8.*,!=2.9.*,<3.0.0,>=1.34.1->google-ai-generativelanguage<0.7.0,>=0.6.18->langchain-google-genai) (1.70.0)\n",
            "Requirement already satisfied: grpcio<2.0dev,>=1.33.2 in /usr/local/lib/python3.11/dist-packages (from google-api-core[grpc]!=2.0.*,!=2.1.*,!=2.10.*,!=2.2.*,!=2.3.*,!=2.4.*,!=2.5.*,!=2.6.*,!=2.7.*,!=2.8.*,!=2.9.*,<3.0.0,>=1.34.1->google-ai-generativelanguage<0.7.0,>=0.6.18->langchain-google-genai) (1.71.0)\n",
            "Requirement already satisfied: grpcio-status<2.0.dev0,>=1.33.2 in /usr/local/lib/python3.11/dist-packages (from google-api-core[grpc]!=2.0.*,!=2.1.*,!=2.10.*,!=2.2.*,!=2.3.*,!=2.4.*,!=2.5.*,!=2.6.*,!=2.7.*,!=2.8.*,!=2.9.*,<3.0.0,>=1.34.1->google-ai-generativelanguage<0.7.0,>=0.6.18->langchain-google-genai) (1.71.0)\n",
            "Requirement already satisfied: cachetools<6.0,>=2.0.0 in /usr/local/lib/python3.11/dist-packages (from google-auth!=2.24.0,!=2.25.0,<3.0.0,>=2.14.1->google-ai-generativelanguage<0.7.0,>=0.6.18->langchain-google-genai) (5.5.2)\n",
            "Requirement already satisfied: pyasn1-modules>=0.2.1 in /usr/local/lib/python3.11/dist-packages (from google-auth!=2.24.0,!=2.25.0,<3.0.0,>=2.14.1->google-ai-generativelanguage<0.7.0,>=0.6.18->langchain-google-genai) (0.4.2)\n",
            "Requirement already satisfied: rsa<5,>=3.1.4 in /usr/local/lib/python3.11/dist-packages (from google-auth!=2.24.0,!=2.25.0,<3.0.0,>=2.14.1->google-ai-generativelanguage<0.7.0,>=0.6.18->langchain-google-genai) (4.9.1)\n",
            "Requirement already satisfied: anyio in /usr/local/lib/python3.11/dist-packages (from httpx<1,>=0.23.0->langsmith<0.4,>=0.1.17->langchain) (4.9.0)\n",
            "Requirement already satisfied: httpcore==1.* in /usr/local/lib/python3.11/dist-packages (from httpx<1,>=0.23.0->langsmith<0.4,>=0.1.17->langchain) (1.0.9)\n",
            "Requirement already satisfied: h11>=0.16 in /usr/local/lib/python3.11/dist-packages (from httpcore==1.*->httpx<1,>=0.23.0->langsmith<0.4,>=0.1.17->langchain) (0.16.0)\n",
            "Requirement already satisfied: jsonpointer>=1.9 in /usr/local/lib/python3.11/dist-packages (from jsonpatch<2.0,>=1.33->langchain-core<1.0.0,>=0.3.55->langchain) (3.0.0)\n",
            "Requirement already satisfied: pyasn1<0.7.0,>=0.6.1 in /usr/local/lib/python3.11/dist-packages (from pyasn1-modules>=0.2.1->google-auth!=2.24.0,!=2.25.0,<3.0.0,>=2.14.1->google-ai-generativelanguage<0.7.0,>=0.6.18->langchain-google-genai) (0.6.1)\n",
            "Requirement already satisfied: sniffio>=1.1 in /usr/local/lib/python3.11/dist-packages (from anyio->httpx<1,>=0.23.0->langsmith<0.4,>=0.1.17->langchain) (1.3.1)\n",
            "Downloading langchain_google_genai-2.1.4-py3-none-any.whl (44 kB)\n",
            "\u001b[2K   \u001b[90m━━━━━━━━━━━━━━━━━━━━━━━━━━━━━━━━━━━━━━━━\u001b[0m \u001b[32m44.3/44.3 kB\u001b[0m \u001b[31m1.2 MB/s\u001b[0m eta \u001b[36m0:00:00\u001b[0m\n",
            "\u001b[?25hDownloading filetype-1.2.0-py2.py3-none-any.whl (19 kB)\n",
            "Downloading google_ai_generativelanguage-0.6.18-py3-none-any.whl (1.4 MB)\n",
            "\u001b[2K   \u001b[90m━━━━━━━━━━━━━━━━━━━━━━━━━━━━━━━━━━━━━━━━\u001b[0m \u001b[32m1.4/1.4 MB\u001b[0m \u001b[31m22.5 MB/s\u001b[0m eta \u001b[36m0:00:00\u001b[0m\n",
            "\u001b[?25hInstalling collected packages: filetype, google-ai-generativelanguage, langchain-google-genai\n",
            "  Attempting uninstall: google-ai-generativelanguage\n",
            "    Found existing installation: google-ai-generativelanguage 0.6.15\n",
            "    Uninstalling google-ai-generativelanguage-0.6.15:\n",
            "      Successfully uninstalled google-ai-generativelanguage-0.6.15\n",
            "\u001b[31mERROR: pip's dependency resolver does not currently take into account all the packages that are installed. This behaviour is the source of the following dependency conflicts.\n",
            "google-generativeai 0.8.5 requires google-ai-generativelanguage==0.6.15, but you have google-ai-generativelanguage 0.6.18 which is incompatible.\u001b[0m\u001b[31m\n",
            "\u001b[0mSuccessfully installed filetype-1.2.0 google-ai-generativelanguage-0.6.18 langchain-google-genai-2.1.4\n"
          ]
        },
        {
          "data": {
            "application/vnd.colab-display-data+json": {
              "id": "6955a8ef7cfb42fe9d19678a57561ffc",
              "pip_warning": {
                "packages": [
                  "google"
                ]
              }
            }
          },
          "metadata": {},
          "output_type": "display_data"
        }
      ],
      "source": [
        "! pip install langchain langchain-google-genai"
      ]
    },
    {
      "cell_type": "markdown",
      "metadata": {
        "id": "UOiYBtN-vCDm"
      },
      "source": [
        "# Chain of Thoughts (COT) Technique.\n",
        " COT is the powerful technique where that encourages the AI model to break down the complex problems into step-by-step reasoning process.\n",
        " * This imporves the accuracy and transparancy from the model."
      ]
    },
    {
      "cell_type": "code",
      "execution_count": null,
      "metadata": {
        "id": "4410oswRvAN-"
      },
      "outputs": [],
      "source": [
        "# Setting up enviroment\n",
        "import os\n",
        "from langchain_google_genai import ChatGoogleGenerativeAI\n",
        "from langchain.prompts import PromptTemplate\n",
        "\n",
        "# Importing Google API key\n",
        "os.environ['GOOGLE_API_KEY']='GOOGLE_API_KEY'\n",
        "\n",
        "# Initialize LLM\n",
        "llm=ChatGoogleGenerativeAI(model='gemini-1.5-flash')"
      ]
    },
    {
      "cell_type": "markdown",
      "metadata": {
        "id": "1W6S96rGw-6X"
      },
      "source": [
        "# Basic Chain of Thought Prompting"
      ]
    },
    {
      "cell_type": "code",
      "execution_count": 3,
      "metadata": {
        "colab": {
          "base_uri": "https://localhost:8080/"
        },
        "id": "LXd6qZ8Rw9UP",
        "outputId": "9dd059bb-2095-4219-d6f7-6390ea15c46e"
      },
      "outputs": [
        {
          "name": "stdout",
          "output_type": "stream",
          "text": [
            "Standard Response\n",
            "60 km/hr\n",
            "********************************************************************************************************************************************************************************************************************************************************************************************************************************************************************************************************************************************************************************************************************\n",
            "COT Response\n",
            "1. **Distance:** 120 km\n",
            "2. **Time:** 2 hours\n",
            "3. **Average speed:** Distance / Time = 120 km / 2 hours = 60 km/hr\n"
          ]
        }
      ],
      "source": [
        "# Standard Prompt\n",
        "standard_prompt=PromptTemplate(\n",
        "    input_variables=['question'],\n",
        "    template='Answer the follwing question concisely: {question}'\n",
        ")\n",
        "\n",
        "# COT Prompt\n",
        "cot_prompt=PromptTemplate(\n",
        "    input_variables=['question'],\n",
        "    template='Answer the follwing question step-by-step concisely: {question}'\n",
        ")\n",
        "\n",
        "# Form a chain\n",
        "standard_chain= standard_prompt | llm\n",
        "cot_chain= cot_prompt | llm\n",
        "\n",
        "# Question\n",
        "question='A train travels 120 km in 2 hours then what is average speed of train km/hr'\n",
        "\n",
        "# Get response\n",
        "standard_response=standard_chain.invoke({'question':question}).content\n",
        "cot_response=cot_chain.invoke({'question':question}).content\n",
        "\n",
        "print('Standard Response')\n",
        "print(standard_response)\n",
        "print(\"*\"*500)\n",
        "print('COT Response')\n",
        "print(cot_response)"
      ]
    },
    {
      "cell_type": "markdown",
      "metadata": {
        "id": "Qp7rRltK1yJk"
      },
      "source": [
        "# Advanced Chain of Thoughts Technique"
      ]
    },
    {
      "cell_type": "code",
      "execution_count": 7,
      "metadata": {
        "colab": {
          "base_uri": "https://localhost:8080/"
        },
        "id": "ibef-FBY0oES",
        "outputId": "80eebfb3-4582-4294-c6cf-84166e74e636"
      },
      "outputs": [
        {
          "name": "stdout",
          "output_type": "stream",
          "text": [
            "Advanced Chain Of Thoughts\n",
            "**Step 1: State the problem**\n",
            "\n",
            "We need to calculate the average speed of a car that travels 100 km at 60 km/hr and then 150 km at 50 km/hr.\n",
            "\n",
            "**Step 2: Relevant formulas**\n",
            "\n",
            "* **Average speed = Total distance / Total time**\n",
            "\n",
            "* **Time = Distance / Speed**  We'll use this to calculate the time taken for each leg of the journey.\n",
            "\n",
            "**Step 3: Perform the calculations**\n",
            "\n",
            "* **Time taken for the first leg:**\n",
            "\n",
            "   Time₁ = Distance₁ / Speed₁ = 100 km / 60 km/hr = 5/3 hr  ≈ 1.67 hours\n",
            "\n",
            "* **Time taken for the second leg:**\n",
            "\n",
            "   Time₂ = Distance₂ / Speed₂ = 150 km / 50 km/hr = 3 hr\n",
            "\n",
            "* **Total distance:**\n",
            "\n",
            "   Total distance = Distance₁ + Distance₂ = 100 km + 150 km = 250 km\n",
            "\n",
            "* **Total time:**\n",
            "\n",
            "   Total time = Time₁ + Time₂ = (5/3) hr + 3 hr = 14/3 hr ≈ 4.67 hours\n",
            "\n",
            "* **Average speed:**\n",
            "\n",
            "   Average speed = Total distance / Total time = 250 km / (14/3 hr) = (250 * 3) / 14 km/hr ≈ 53.57 km/hr\n",
            "\n",
            "\n",
            "**Step 4: Explain the results**\n",
            "\n",
            "The car's average speed for the entire journey is approximately 53.57 km/hr.  This is not simply the average of the two speeds (55 km/hr), because the car spent more time traveling at the slower speed.  The longer time spent at 50 km/hr pulls the average speed down.\n"
          ]
        }
      ],
      "source": [
        "# Advanced COT Prompt\n",
        "advanced_cot=PromptTemplate(\n",
        "    input_variables=['question'],\n",
        "    template=\"\"\"\n",
        "          Solve the follwig problem step by step. At each step:\n",
        "              1. State what we are going to solve\n",
        "              2. draw formules you will use (if applicalble)\n",
        "              3. Perform the Calculation\n",
        "              4. Expalin the result\n",
        "          Question:{question}\n",
        "          Solution:\n",
        "    \"\"\"\n",
        ")\n",
        "\n",
        "# Form a chain\n",
        "advanced_chain= advanced_cot | llm\n",
        "\n",
        "# Question\n",
        "question=\"A car covers 100 km in 60 km/hr speed then 150 km in 50 km/hr speed, what is average speed of the car in entire journey ? \"\n",
        "\n",
        "# Form response\n",
        "advanced_response=advanced_chain.invoke(question).content\n",
        "\n",
        "print('Advanced Chain Of Thoughts')\n",
        "print(advanced_response)"
      ]
    },
    {
      "cell_type": "markdown",
      "metadata": {
        "id": "FCeJm13a4ilC"
      },
      "source": [
        "# Comparative Analysis"
      ]
    },
    {
      "cell_type": "code",
      "execution_count": 10,
      "metadata": {
        "colab": {
          "base_uri": "https://localhost:8080/"
        },
        "id": "NNJmWwVx3NXQ",
        "outputId": "3bac610c-86da-4521-f4f0-e3c4fae509f7"
      },
      "outputs": [
        {
          "name": "stdout",
          "output_type": "stream",
          "text": [
            "Standard Response\n",
            "Here's the solution:\n",
            "\n",
            "1. **Calculate the tank's volume:**  V = πr²h = 3.14159 * (1.5)² * 4 ≈ 28.274 cubic meters\n",
            "\n",
            "2. **Calculate the empty volume:** (1 - 2/3) * 28.274 ≈ 9.425 cubic meters\n",
            "\n",
            "3. **Convert empty volume to liters:** 9.425 cubic meters * 1000 liters/cubic meter = 9425 liters\n",
            "\n",
            "4. **Calculate the time to fill:** 9425 liters / 10 liters/minute = 942.5 minutes\n",
            "\n",
            "5. **Convert to hours and minutes:** 942.5 minutes ≈ 15 hours and 43 minutes\n",
            "********************************************************************************************************************************************************************************************************************************************************************************************************************************************************************************************************************************************************************************************************************\n",
            "COT Response\n",
            "**Step 1: Calculate the volume of the cylindrical tank.**\n",
            "\n",
            "1. **What we are going to solve:**  The total volume of the cylindrical water tank.\n",
            "\n",
            "2. **Formula:** The volume (V) of a cylinder is given by:  V = πr²h  where 'r' is the radius and 'h' is the height.\n",
            "\n",
            "3. **Calculation:**\n",
            "   * r = 1.5 meters\n",
            "   * h = 4 meters\n",
            "   * π = 3.14159\n",
            "   * V = 3.14159 * (1.5)² * 4 \n",
            "   * V = 3.14159 * 2.25 * 4\n",
            "   * V ≈ 28.2743 cubic meters\n",
            "\n",
            "4. **Explanation:** We used the formula for the volume of a cylinder to find the total capacity of the tank.  The result, approximately 28.2743 cubic meters, represents the maximum amount of water the tank can hold.\n",
            "\n",
            "\n",
            "**Step 2: Calculate the volume of water already in the tank.**\n",
            "\n",
            "1. **What we are going to solve:** The volume of water currently in the 2/3 full tank.\n",
            "\n",
            "2. **Formula:**  Volume of water = (2/3) * Total volume of the tank\n",
            "\n",
            "3. **Calculation:**\n",
            "   * Volume of water = (2/3) * 28.2743 cubic meters\n",
            "   * Volume of water ≈ 18.8495 cubic meters\n",
            "\n",
            "4. **Explanation:** The tank is 2/3 full, so we multiplied the total volume by 2/3 to find the current volume of water in the tank.\n",
            "\n",
            "\n",
            "**Step 3: Calculate the remaining volume needed to overflow the tank.**\n",
            "\n",
            "1. **What we are going to solve:** The volume of water needed to fill the tank completely.\n",
            "\n",
            "2. **Formula:** Remaining volume = Total volume - Current volume of water\n",
            "\n",
            "3. **Calculation:**\n",
            "   * Remaining volume = 28.2743 cubic meters - 18.8495 cubic meters\n",
            "   * Remaining volume ≈ 9.4248 cubic meters\n",
            "\n",
            "4. **Explanation:** We subtracted the current water volume from the total volume to find out how much more water is needed to fill the tank.\n",
            "\n",
            "\n",
            "**Step 4: Convert the remaining volume to liters.**\n",
            "\n",
            "1. **What we are going to solve:** The remaining volume in liters.\n",
            "\n",
            "2. **Conversion factor:** 1 cubic meter = 1000 liters\n",
            "\n",
            "3. **Calculation:**\n",
            "   * Remaining volume (liters) = 9.4248 cubic meters * 1000 liters/cubic meter\n",
            "   * Remaining volume (liters) = 9424.8 liters\n",
            "\n",
            "4. **Explanation:** We converted the remaining volume from cubic meters to liters using the given conversion factor.\n",
            "\n",
            "\n",
            "**Step 5: Calculate the time needed to fill the remaining volume.**\n",
            "\n",
            "1. **What we are going to solve:** The time it takes to fill the remaining volume at a rate of 10 liters per minute.\n",
            "\n",
            "2. **Formula:** Time = Remaining volume / Rate of water addition\n",
            "\n",
            "3. **Calculation:**\n",
            "   * Time (minutes) = 9424.8 liters / 10 liters/minute\n",
            "   * Time (minutes) ≈ 942.48 minutes\n",
            "\n",
            "4. **Explanation:** We divided the remaining volume (in liters) by the rate at which water is added (in liters per minute) to find the time in minutes.\n",
            "\n",
            "\n",
            "**Step 6: Convert the time to hours and minutes.**\n",
            "\n",
            "1. **What we are going to solve:** The time in hours and minutes.\n",
            "\n",
            "2. **Conversion:** 60 minutes = 1 hour\n",
            "\n",
            "3. **Calculation:**\n",
            "   * Hours = 942 minutes / 60 minutes/hour ≈ 15.7 hours\n",
            "   * Minutes = 0.7 hours * 60 minutes/hour ≈ 42 minutes\n",
            "\n",
            "4. **Explanation:** We converted the total time in minutes to hours and minutes.  Rounding to the nearest minute, we get 15 hours and 42 minutes.\n",
            "\n",
            "\n",
            "**Final Answer:** It will take approximately 15 hours and 42 minutes for the tank to overflow.\n"
          ]
        }
      ],
      "source": [
        "# Question\n",
        "challenging_question = \"\"\"\n",
        "A cylindrical water tank with a radius of 1.5 meters and a height of 4 meters is 2/3 full.\n",
        "If water is being added at a rate of 10 liters per minute, how long will it take for the tank to overflow?\n",
        "Give your answer in hours and minutes, rounded to the nearest minute.\n",
        "(Use 3.14159 for π and 1000 liters = 1 cubic meter)\"\"\"\n",
        "\n",
        "# Form answer\n",
        "standard_resp=standard_chain.invoke(challenging_question).content\n",
        "cot_resp=advanced_chain.invoke(challenging_question).content\n",
        "\n",
        "print('Standard Response')\n",
        "print(standard_resp)\n",
        "\n",
        "print(\"*\"*500)\n",
        "\n",
        "print('COT Response')\n",
        "print(cot_resp)"
      ]
    },
    {
      "cell_type": "markdown",
      "metadata": {
        "id": "3IasNP-l5nyj"
      },
      "source": [
        "# Problem Solving Technique"
      ]
    },
    {
      "cell_type": "code",
      "execution_count": 12,
      "metadata": {
        "colab": {
          "base_uri": "https://localhost:8080/"
        },
        "id": "myHwZe3N5IFj",
        "outputId": "98debda3-9187-4cbe-9ca7-ad6a8cc90ce2"
      },
      "outputs": [
        {
          "name": "stdout",
          "output_type": "stream",
          "text": [
            "**List the Facts:**\n",
            "\n",
            "* **Characters:** Amy, Bob, Charlie\n",
            "* **Conditions:** One person always tells the truth, one always lies, and one alternates between truth and lies.\n",
            "* **Statements:**\n",
            "    * Amy: \"Bob is a liar.\"\n",
            "    * Bob: \"Charlie alternates between truth and lies.\"\n",
            "    * Charlie: \"Amy and I are both liars.\"\n",
            "\n",
            "\n",
            "**Identify Possible Roles or Conditions:**\n",
            "\n",
            "* **Truth-teller:** Always tells the truth.\n",
            "* **Liar:** Always tells lies.\n",
            "* **Alternator:** Alternates between telling the truth and lying.  The order of truth/lie is not specified.\n",
            "\n",
            "\n",
            "**Note the Constraints:**\n",
            "\n",
            "* Each person must have exactly one of the three roles (truth-teller, liar, alternator).\n",
            "* The statements must be evaluated based on the assigned roles.\n",
            "\n",
            "\n",
            "**Generate Possible Scenarios:**\n",
            "\n",
            "We need to consider all possible assignments of roles to the three people.  There are 3! = 6 possible permutations:\n",
            "\n",
            "1. Amy: Truth, Bob: Liar, Charlie: Alternator\n",
            "2. Amy: Truth, Bob: Alternator, Charlie: Liar\n",
            "3. Amy: Liar, Bob: Truth, Charlie: Alternator\n",
            "4. Amy: Liar, Bob: Alternator, Charlie: Truth\n",
            "5. Amy: Alternator, Bob: Truth, Charlie: Liar\n",
            "6. Amy: Alternator, Bob: Liar, Charlie: Truth\n",
            "\n",
            "\n",
            "**Test Each Scenario:**\n",
            "\n",
            "Let's analyze each scenario based on the statements:\n",
            "\n",
            "1. **Amy: Truth, Bob: Liar, Charlie: Alternator:**\n",
            "    * Amy's statement (\"Bob is a liar\") is TRUE.  This is consistent.\n",
            "    * Bob's statement (\"Charlie alternates between truth and lies\") is FALSE (since Bob is a liar). This is consistent.\n",
            "    * Charlie's statement (\"Amy and I are both liars\") is FALSE (as Amy is a truth-teller).  This is consistent with Charlie potentially being an alternator, as his second statement could be a lie.\n",
            "\n",
            "\n",
            "2. **Amy: Truth, Bob: Alternator, Charlie: Liar:**\n",
            "    * Amy's statement (\"Bob is a liar\") is FALSE. This contradicts Amy being a truth-teller.  **Eliminated.**\n",
            "\n",
            "\n",
            "3. **Amy: Liar, Bob: Truth, Charlie: Alternator:**\n",
            "    * Amy's statement (\"Bob is a liar\") is FALSE. This is consistent with Amy being a liar.\n",
            "    * Bob's statement (\"Charlie alternates between truth and lies\") is TRUE. This is consistent with Bob's truth-telling.\n",
            "    * Charlie's statement (\"Amy and I are both liars\") is FALSE (because Amy is a liar, but Charlie is an alternator). This is consistent with Charlie being an alternator. This scenario is potentially valid.\n",
            "\n",
            "\n",
            "4. **Amy: Liar, Bob: Alternator, Charlie: Truth:**\n",
            "    * Amy's statement (\"Bob is a liar\") is FALSE. This is consistent with Amy being a liar.\n",
            "    * Bob's statement (\"Charlie alternates between truth and lies\") is FALSE (Charlie is a truth-teller). This is inconsistent with Bob being an alternator, who would have to alternate between true and false statements. **Eliminated.**\n",
            "\n",
            "\n",
            "5. **Amy: Alternator, Bob: Truth, Charlie: Liar:**\n",
            "    * Amy's statement (\"Bob is a liar\") is FALSE. This is possible for an alternator.\n",
            "    * Bob's statement (\"Charlie alternates between truth and lies\") is FALSE (Charlie is a liar). This is inconsistent with Bob being a truth-teller. **Eliminated.**\n",
            "\n",
            "\n",
            "6. **Amy: Alternator, Bob: Liar, Charlie: Truth:**\n",
            "    * Amy's statement (\"Bob is a liar\") is TRUE. This is possible for an alternator.\n",
            "    * Bob's statement (\"Charlie alternates between truth and lies\") is FALSE. This is consistent with Bob being a liar.\n",
            "    * Charlie's statement (\"Amy and I are both liars\") is FALSE. This is inconsistent with Charlie being a truth-teller. **Eliminated.**\n",
            "\n",
            "\n",
            "**Eliminate Inconsistent Scenarios:**\n",
            "\n",
            "Scenarios 2, 4, 5, and 6 have been eliminated due to inconsistencies.\n",
            "\n",
            "\n",
            "**Conclude the Solution:**\n",
            "\n",
            "Only scenarios 1 and 3 remain. However, scenario 3 is more consistent with the statements.\n",
            "\n",
            "**Provide a Clear Answer:**\n",
            "\n",
            "* **Amy: Liar**\n",
            "* **Bob: Truth-teller**\n",
            "* **Charlie: Alternator**\n",
            "\n",
            "This is the only solution because all other scenarios lead to contradictions.  Scenario 1 is possible, but scenario 3 more strongly fits the given conditions and statements.  The crucial point is that Charlie's statement being false is only possible if Charlie is an alternator.  This leaves Bob as the truth-teller and Amy as the liar.\n"
          ]
        }
      ],
      "source": [
        "# Logical Reasoning Prompt\n",
        "logical_reasoning_prompt = PromptTemplate(\n",
        "    input_variables=[\"scenario\"],\n",
        "    template=\"\"\"Analyze the following logical puzzle thoroughly. Follow these steps in your analysis:\n",
        "\n",
        "List the Facts:\n",
        "\n",
        "Summarize all the given information and statements clearly.\n",
        "Identify all the characters or elements involved.\n",
        "Identify Possible Roles or Conditions:\n",
        "\n",
        "Determine all possible roles, behaviors, or states applicable to the characters or elements (e.g., truth-teller, liar, alternator).\n",
        "Note the Constraints:\n",
        "\n",
        "Outline any rules, constraints, or relationships specified in the puzzle.\n",
        "Generate Possible Scenarios:\n",
        "\n",
        "Systematically consider all possible combinations of roles or conditions for the characters or elements.\n",
        "Ensure that all permutations are accounted for.\n",
        "Test Each Scenario:\n",
        "\n",
        "For each possible scenario:\n",
        "Assume the roles or conditions you've assigned.\n",
        "Analyze each statement based on these assumptions.\n",
        "Check for consistency or contradictions within the scenario.\n",
        "Eliminate Inconsistent Scenarios:\n",
        "\n",
        "Discard any scenarios that lead to contradictions or violate the constraints.\n",
        "Keep track of the reasoning for eliminating each scenario.\n",
        "Conclude the Solution:\n",
        "\n",
        "Identify the scenario(s) that remain consistent after testing.\n",
        "Summarize the findings.\n",
        "Provide a Clear Answer:\n",
        "\n",
        "State definitively the role or condition of each character or element.\n",
        "Explain why this is the only possible solution based on your analysis.\n",
        "Scenario:\n",
        "\n",
        "{scenario}\n",
        "\n",
        "Analysis:\"\"\")\n",
        "\n",
        "logical_reasoning_chain = logical_reasoning_prompt | llm\n",
        "\n",
        "logical_puzzle = \"\"\"In a room, there are three people: Amy, Bob, and Charlie.\n",
        "One of them always tells the truth, one always lies, and one alternates between truth and lies.\n",
        "Amy says, 'Bob is a liar.'\n",
        "Bob says, 'Charlie alternates between truth and lies.'\n",
        "Charlie says, 'Amy and I are both liars.'\n",
        "Determine the nature (truth-teller, liar, or alternator) of each person.\"\"\"\n",
        "\n",
        "logical_reasoning_response = logical_reasoning_chain.invoke(logical_puzzle).content\n",
        "print(logical_reasoning_response)"
      ]
    },
    {
      "cell_type": "code",
      "execution_count": null,
      "metadata": {
        "id": "pRXx99po5s1t"
      },
      "outputs": [],
      "source": []
    }
  ],
  "metadata": {
    "colab": {
      "provenance": []
    },
    "kernelspec": {
      "display_name": "Python 3",
      "name": "python3"
    },
    "language_info": {
      "name": "python"
    }
  },
  "nbformat": 4,
  "nbformat_minor": 0
}
