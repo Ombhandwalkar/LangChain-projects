{
  "nbformat": 4,
  "nbformat_minor": 0,
  "metadata": {
    "colab": {
      "provenance": []
    },
    "kernelspec": {
      "name": "python3",
      "display_name": "Python 3"
    },
    "language_info": {
      "name": "python"
    }
  },
  "cells": [
    {
      "cell_type": "markdown",
      "source": [
        "# Handling Ambiguity and Improving Clarity in Prompt\n",
        "Ambiguity in prompts can lead to inconsistent or irrelevant AI responses, while lack of clarity can result in misunderstandings and inaccurate outputs. By mastering these aspects of prompt engineering, you can significantly improve the quality and reliability of AI-generated content across various applications.\n",
        "\n",
        "## Key Components\n",
        "\n",
        "1. Identifying ambiguous prompts\n",
        "2. Strategies for resolving ambiguity\n",
        "3. Techniques for writing clearer prompts\n",
        "4. Practical examples and exercises"
      ],
      "metadata": {
        "id": "1ke6P5lCxvBS"
      }
    },
    {
      "cell_type": "code",
      "execution_count": null,
      "metadata": {
        "id": "61MUd0XRv0-L"
      },
      "outputs": [],
      "source": [
        "! pip install langchain langchain-google-genai"
      ]
    },
    {
      "cell_type": "code",
      "source": [
        "import re\n",
        "import os\n",
        "from langchain_google_genai import ChatGoogleGenerativeAI\n",
        "from langchain.prompts import PromptTemplate\n",
        "import numpy as np\n",
        "\n",
        "os.environ['GOOGLE_API_KEY']=''\n",
        "\n",
        "llm=ChatGoogleGenerativeAI(model='gemini-1.5-flash')\n",
        "\n"
      ],
      "metadata": {
        "id": "etvh16Lhv-DO"
      },
      "execution_count": 2,
      "outputs": []
    },
    {
      "cell_type": "markdown",
      "source": [
        "# Identifying Ambiguous Prompt"
      ],
      "metadata": {
        "id": "NOXbZVWfymMd"
      }
    },
    {
      "cell_type": "code",
      "source": [
        "ambiguous_prompts = [\n",
        "    \"Tell me about the bank.\",\n",
        "    \"What's the best way to get to school?\",\n",
        "    \"Can you explain the theory?\"\n",
        "]\n",
        "\n",
        "for prompt in ambiguous_prompts:\n",
        "    analysis_prompt = f\"Analyze the following prompt for ambiguity: '{prompt}'. Explain why it's ambiguous and list possible interpretations.\"\n",
        "    print(f\"Prompt: {prompt}\")\n",
        "    print(llm.invoke(analysis_prompt).content)\n",
        "    print(\"-\" * 50)"
      ],
      "metadata": {
        "colab": {
          "base_uri": "https://localhost:8080/"
        },
        "id": "PZ_E5McuxsSf",
        "outputId": "3c593e03-db88-4329-ac16-c42cfa645a2f"
      },
      "execution_count": 3,
      "outputs": [
        {
          "output_type": "stream",
          "name": "stdout",
          "text": [
            "Prompt: Tell me about the bank.\n",
            "The prompt \"Tell me about the bank\" is highly ambiguous because it lacks crucial context.  The ambiguity stems from the lack of specification regarding *which* bank is being referred to.  This allows for multiple interpretations, including:\n",
            "\n",
            "* **Financial Institution:** This is the most likely interpretation for many people. It refers to a commercial bank, where people deposit and borrow money.  The response would detail aspects like services offered (loans, savings accounts, etc.), history, financial performance, or even a specific branch.\n",
            "\n",
            "* **River Bank:**  This refers to the land alongside a river or other body of water.  A response would describe the geographical features, vegetation, wildlife, or human activity along that specific bank.\n",
            "\n",
            "* **Data Bank:** This refers to a database or repository of information.  The response would describe the type of data stored, how it's organized, and its purpose.\n",
            "\n",
            "* **Blood Bank:** This refers to a place where blood donations are collected and stored.  The response would detail its function, the type of blood products handled, and potentially its location or affiliation.\n",
            "\n",
            "* **A specific, unnamed bank:** The speaker might be referring to a bank they know, but haven't named (e.g., \"Tell me about the bank down the street\").  This requires inferring which bank is meant based on shared context.\n",
            "\n",
            "* **A metaphorical \"bank\":** The word \"bank\" can be used metaphorically to refer to a stockpile of something (e.g., \"a bank of computers,\" \"a bank of clouds\").  The meaning would depend entirely on the context.\n",
            "\n",
            "\n",
            "The ambiguity arises from the pronoun \"the,\" which implies a specific, known entity, but without further information, that entity remains undefined.  The prompt requires additional context to eliminate the multiple possible interpretations and produce a meaningful response.\n",
            "--------------------------------------------------\n",
            "Prompt: What's the best way to get to school?\n",
            "The prompt \"What's the best way to get to school?\" is ambiguous because it lacks sufficient context and precision.  The ambiguity stems from several factors:\n",
            "\n",
            "* **\"Best\" is subjective:**  \"Best\" can be interpreted in many ways.  Is it the fastest way? The cheapest way? The safest way? The most environmentally friendly way? The most convenient way? The healthiest way? The way that allows for the most study time? The answer depends entirely on the prioritization of these values.\n",
            "\n",
            "* **\"Get to school\" lacks specificity:**  Does it refer to the method of transportation (walking, biking, driving, bus, train, etc.)?  Or does it encompass the entire journey, including route planning and departure time?  Is it asking about the optimal route on a particular day, or a general strategy for daily commutes?  The location of \"school\" and the starting point are also unspecified.\n",
            "\n",
            "* **\"School\" could refer to different places:**  Does \"school\" refer to the main building, a specific class, or a particular event at the school?\n",
            "\n",
            "Possible interpretations of the prompt include:\n",
            "\n",
            "1. **Fastest route:** What is the quickest way to reach the school building from my current location?\n",
            "2. **Cheapest method:** What is the most affordable way to get to school, considering transportation costs?\n",
            "3. **Safest method:** What is the safest mode of transportation to school, considering traffic, weather, and personal safety?\n",
            "4. **Most convenient method:** What is the easiest and most comfortable way to get to school, taking into account personal preferences and time constraints?\n",
            "5. **Most environmentally friendly method:** What method of transportation has the lowest carbon footprint?\n",
            "6. **Optimal route considering traffic:** What is the best route considering current traffic conditions?\n",
            "7. **Best overall strategy:** What is the best combination of transportation, route, and timing to ensure consistent and efficient arrival at school?\n",
            "8. **Getting to a specific location within the school:** What's the best way to get to my [specific class/event] within the school building?\n",
            "\n",
            "\n",
            "To remove the ambiguity, the prompt needs to be more specific, for example:  \"What's the fastest way to get from my house to the main entrance of Northwood High School this morning?\" or \"What's the most environmentally friendly way to get to my 8 am history class at Central Middle School?\"\n",
            "--------------------------------------------------\n",
            "Prompt: Can you explain the theory?\n",
            "The prompt \"Can you explain the theory?\" is highly ambiguous because it lacks crucial context.  The ambiguity stems from several unspecified elements:\n",
            "\n",
            "* **Which theory?**  The most significant ambiguity is the lack of identification of the specific theory being referenced.  There are countless theories across various disciplines (scientific, social, mathematical, artistic, etc.).  Without specifying the theory, any explanation is impossible.\n",
            "\n",
            "* **To whom is the explanation intended?** The level of detail and complexity of the explanation should vary depending on the audience's existing knowledge and understanding.  An explanation for a physics graduate student will differ drastically from one for a layperson.\n",
            "\n",
            "* **What aspects of the theory should be explained?**  Should the explanation cover the historical context, the underlying assumptions, the methodology, the key concepts, the evidence supporting it, criticisms of it, or its practical applications? A complete explanation might encompass all of these, but a partial explanation focusing on only one aspect is also possible.\n",
            "\n",
            "* **What constitutes a sufficient explanation?**  The desired depth and breadth of the explanation are undefined.  A brief summary might suffice, or a detailed, in-depth analysis might be required.\n",
            "\n",
            "\n",
            "**Possible Interpretations:**\n",
            "\n",
            "1. **Request for an explanation of a specific, previously mentioned theory:** This assumes the context makes clear which theory is being discussed.\n",
            "\n",
            "2. **Request for an explanation of a general theory:**  This implies a broad overview of a type of theory, such as \"evolutionary theory\" or \"string theory,\" rather than a specific instance.\n",
            "\n",
            "3. **Request for an explanation of a theory the speaker has in mind but hasn't specified:** This is a more conversational interpretation, implying the speaker expects the listener to understand the implied theory from the conversation's context.\n",
            "\n",
            "4. **A rhetorical question:** The question might not actually be a request for information but a challenge or a way of expressing skepticism about the validity of a theory.\n",
            "\n",
            "5. **A request for an explanation of a personal or informal theory:** The \"theory\" might not be a formally established scientific or academic theory, but rather a hypothesis or explanation proposed by someone.\n",
            "\n",
            "In short, the ambiguity arises from the lack of specification, leaving the interpretation entirely dependent on context or assumptions made by the interpreter.  To remove the ambiguity, the prompt needs to be much more specific, for instance: \"Can you explain Darwin's theory of natural selection?\" or \"Can you explain the theory of relativity to a high school student?\"\n",
            "--------------------------------------------------\n"
          ]
        }
      ]
    },
    {
      "cell_type": "markdown",
      "source": [
        "# Resolving Ambiguity"
      ],
      "metadata": {
        "id": "6wsWrPAOyuRA"
      }
    },
    {
      "cell_type": "code",
      "source": [
        "def resolve_ambiguity(prompt, context):\n",
        "    \"\"\"\n",
        "    Resolve ambiguity in a prompt by providing additional context.\n",
        "\n",
        "    Args:\n",
        "    prompt (str): The original ambiguous prompt\n",
        "    context (str): Additional context to resolve ambiguity\n",
        "\n",
        "    Returns:\n",
        "    str: The AI's response to the clarified prompt\n",
        "    \"\"\"\n",
        "    clarified_prompt = f\"{context}\\n\\nBased on this context, {prompt}\"\n",
        "    return llm.invoke(clarified_prompt).content\n",
        "\n",
        "# Example usage\n",
        "ambiguous_prompt = \"Tell me about the bank.\"\n",
        "contexts = [\n",
        "    \"You are a financial advisor discussing savings accounts.\",\n",
        "    \"You are a geographer describing river formations.\"\n",
        "]\n",
        "\n",
        "for context in contexts:\n",
        "    print(f\"Context: {context}\")\n",
        "    print(f\"Clarified response: {resolve_ambiguity(ambiguous_prompt, context)}\")\n",
        "    print(\"-\" * 50)"
      ],
      "metadata": {
        "colab": {
          "base_uri": "https://localhost:8080/"
        },
        "id": "phYaQBJ3ysAw",
        "outputId": "4e2827f1-c09e-4574-ffb1-6f5b4195629c"
      },
      "execution_count": 4,
      "outputs": [
        {
          "output_type": "stream",
          "name": "stdout",
          "text": [
            "Context: You are a financial advisor discussing savings accounts.\n",
            "Clarified response: As a financial advisor, I don't represent a specific bank.  My recommendations regarding savings accounts are based on your individual financial goals, risk tolerance, and the features offered by various financial institutions.  Choosing a bank for a savings account involves considering several factors, including:\n",
            "\n",
            "* **Interest Rates:**  Different banks offer different Annual Percentage Yields (APYs) on savings accounts.  The APY reflects the annual interest rate, compounded over a year. Higher APYs mean your savings will grow faster, but remember to compare APYs from different banks carefully.  Don't just focus on the advertised rate; understand the terms and conditions that might impact your earning potential.\n",
            "\n",
            "* **Fees:** Be wary of monthly maintenance fees, minimum balance requirements, or fees for exceeding withdrawal limits.  Some banks offer fee-free savings accounts, while others charge for certain services.  These fees can significantly eat into your savings over time.\n",
            "\n",
            "* **Accessibility:** Consider how easily you can access your funds.  Do you need online access, mobile banking, or in-person banking?  Check the bank's branch network and the availability of ATMs.\n",
            "\n",
            "* **Insurance:** All savings accounts in the US are insured by the FDIC (Federal Deposit Insurance Corporation) up to $250,000 per depositor, per insured bank, for each account ownership category.  This is crucial for protecting your money.\n",
            "\n",
            "* **Account Features:**  Some savings accounts offer additional features like debit cards, check-writing capabilities (though less common with savings accounts), or online bill pay.  Determine which features are important to you.\n",
            "\n",
            "To give you the best advice on which bank is right *for you*, I need more information about your individual circumstances.  What are your savings goals? What is your risk tolerance? What's your typical monthly deposit amount?  Once I have this information, I can help you identify the most suitable bank and savings account option.\n",
            "--------------------------------------------------\n",
            "Context: You are a geographer describing river formations.\n",
            "Clarified response: As a geographer, when I discuss a river's \"bank,\" I'm referring to the land bordering a river or stream.  It's not a monolithic feature, but rather a dynamic zone shaped by a complex interplay of fluvial processes.  We distinguish between the *left bank* and the *right bank* as viewed facing downstream.  \n",
            "\n",
            "The characteristics of a river bank vary greatly depending on several factors:\n",
            "\n",
            "* **Geology:** The underlying geology dictates the bank's stability and composition.  Banks composed of resistant bedrock, like granite or sandstone, tend to be steep and relatively stable.  Conversely, banks composed of unconsolidated materials like sand, silt, or clay are more susceptible to erosion and slumping, often resulting in gentler slopes and meandering channels.\n",
            "\n",
            "* **River Dynamics:** The river's flow regime – its discharge, velocity, and sediment load – profoundly impacts the bank.  High-energy rivers with strong currents erode banks aggressively, leading to wider channels and potentially steep, unstable banks.  Lower-energy rivers may deposit sediment, building up gentler, more stable banks.  The pattern of erosion and deposition, in turn, shapes the bank's morphology, leading to features like cut banks (outside bends experiencing erosion) and point bars (inside bends experiencing deposition).\n",
            "\n",
            "* **Vegetation:** Plant life plays a crucial role in bank stability.  Roots bind soil particles together, resisting erosion and stabilizing the bank.  The type and density of vegetation influence the bank's resistance to both fluvial and mass wasting processes.  Areas with dense vegetation typically experience less erosion than bare banks.\n",
            "\n",
            "* **Human Activities:** Human interventions, such as dam construction, channelization, and deforestation, significantly alter bank morphology.  Dam construction can lead to changes in sediment transport, affecting erosion and deposition patterns.  Channelization, aimed at controlling river flow, often results in straightened channels with unstable, artificial banks.  Deforestation removes the protective cover of vegetation, increasing erosion rates.\n",
            "\n",
            "In summary, a river bank is far more than just the edge of the water. It's a constantly evolving landscape, a complex interface between the river and its terrestrial surroundings, shaped by natural processes and human interventions.  Understanding its composition, stability, and dynamics is crucial for managing river systems and mitigating flood risks.\n",
            "--------------------------------------------------\n"
          ]
        }
      ]
    },
    {
      "cell_type": "markdown",
      "source": [
        "# Techniques to write clearer prompt"
      ],
      "metadata": {
        "id": "tEnbIJ-0y-A4"
      }
    },
    {
      "cell_type": "code",
      "source": [
        "def compare_prompt_clarity(original_prompt, improved_prompt):\n",
        "    \"\"\"\n",
        "    Compare the responses to an original prompt and an improved, clearer version.\n",
        "\n",
        "    Args:\n",
        "    original_prompt (str): The original, potentially unclear prompt\n",
        "    improved_prompt (str): An improved, clearer version of the prompt\n",
        "\n",
        "    Returns:\n",
        "    tuple: Responses to the original and improved prompts\n",
        "    \"\"\"\n",
        "    original_response = llm.invoke(original_prompt).content\n",
        "    improved_response = llm.invoke(improved_prompt).content\n",
        "    return original_response, improved_response\n",
        "\n",
        "# Example usage\n",
        "original_prompt = \"How do I make it?\"\n",
        "improved_prompt = \"Provide a step-by-step guide for making a classic margherita pizza, including ingredients and cooking instructions.\"\n",
        "\n",
        "original_response, improved_response = compare_prompt_clarity(original_prompt, improved_prompt)\n",
        "\n",
        "print(\"Original Prompt Response:\")\n",
        "print(original_response)\n",
        "print(\"\\nImproved Prompt Response:\")\n",
        "print(improved_response)"
      ],
      "metadata": {
        "colab": {
          "base_uri": "https://localhost:8080/"
        },
        "id": "Mqqf99TJy5CO",
        "outputId": "9a4ba5df-7b8d-46bc-92e7-1db15ac20062"
      },
      "execution_count": 5,
      "outputs": [
        {
          "output_type": "stream",
          "name": "stdout",
          "text": [
            "Original Prompt Response:\n",
            "Please tell me what you want to make!  I need a recipe, instructions, or a description of the thing you're trying to create.\n",
            "\n",
            "Improved Prompt Response:\n",
            "## Making a Classic Margherita Pizza: A Step-by-Step Guide\n",
            "\n",
            "This recipe makes one 12-inch pizza.\n",
            "\n",
            "**I. Ingredients:**\n",
            "\n",
            "**For the Dough:**\n",
            "\n",
            "* 1 cup (240ml) warm water (105-115°F)\n",
            "* 1 teaspoon sugar\n",
            "* 2 teaspoons active dry yeast\n",
            "* 2 1/2 cups (300g) all-purpose flour, plus more for dusting\n",
            "* 1 teaspoon salt\n",
            "* 2 tablespoons olive oil\n",
            "\n",
            "**For the Sauce:**\n",
            "\n",
            "* 1 (28-ounce) can crushed tomatoes\n",
            "* 2 cloves garlic, minced\n",
            "* 1 teaspoon dried oregano\n",
            "* 1/2 teaspoon salt\n",
            "* 1/4 teaspoon black pepper\n",
            "* 1 tablespoon olive oil\n",
            "\n",
            "**For the Toppings:**\n",
            "\n",
            "* 8 ounces fresh mozzarella cheese, sliced\n",
            "* Fresh basil leaves\n",
            "\n",
            "\n",
            "**II. Instructions:**\n",
            "\n",
            "**A. Making the Dough:**\n",
            "\n",
            "1. **Activate the yeast:** In a large bowl, combine warm water, sugar, and yeast. Let stand for 5-10 minutes until foamy.  If it doesn't foam, your yeast is likely dead and you'll need a new batch.\n",
            "2. **Combine dry ingredients:** In a separate bowl, whisk together flour and salt.\n",
            "3. **Mix wet and dry:** Add the dry ingredients to the yeast mixture. Stir with a wooden spoon or your hands until a shaggy dough forms.\n",
            "4. **Knead the dough:** Turn the dough out onto a lightly floured surface and knead for 5-7 minutes, until smooth and elastic. Add a little more flour if the dough is too sticky.\n",
            "5. **First rise:** Place the dough in a lightly oiled bowl, turning to coat. Cover with plastic wrap and let rise in a warm place for 1-1.5 hours, or until doubled in size.\n",
            "\n",
            "**B. Making the Sauce:**\n",
            "\n",
            "1. **Sauté garlic:** Heat olive oil in a small saucepan over medium heat. Add minced garlic and cook for about 1 minute, until fragrant. Be careful not to burn the garlic.\n",
            "2. **Simmer sauce:** Add crushed tomatoes, oregano, salt, and pepper. Bring to a simmer, then reduce heat and cook for 15-20 minutes, stirring occasionally, until slightly thickened.\n",
            "\n",
            "**C. Assembling and Baking the Pizza:**\n",
            "\n",
            "1. **Preheat oven & prepare pan:** Preheat oven to 450°F (232°C).  If using a pizza stone, preheat it in the oven as well. Lightly grease a baking sheet or pizza pan, or sprinkle with cornmeal.\n",
            "2. **Shape the dough:** Punch down the risen dough and divide it in half (if making two smaller pizzas). On a lightly floured surface, roll or stretch the dough into a 12-inch circle.\n",
            "3. **Transfer to pan:** Carefully transfer the dough to the prepared baking sheet or pizza stone.\n",
            "4. **Add sauce:** Spread the tomato sauce evenly over the dough, leaving a small border for the crust.\n",
            "5. **Add cheese:** Arrange the mozzarella slices over the sauce.\n",
            "6. **Bake:** Bake for 12-15 minutes, or until the crust is golden brown and the cheese is melted and bubbly.  Baking time may vary depending on your oven and the thickness of the crust.\n",
            "7. **Add basil:** Remove from oven and immediately top with fresh basil leaves.\n",
            "8. **Serve:** Slice and serve immediately.\n",
            "\n",
            "\n",
            "**III. Tips for Success:**\n",
            "\n",
            "* Use good quality ingredients for the best flavor.\n",
            "* Don't overload the pizza with toppings, as this can make the crust soggy.\n",
            "* If using a pizza stone, be careful when transferring the pizza to and from the stone, as it will be very hot.\n",
            "* For a crispier crust, bake the pizza on a pizza stone or a baking sheet with a preheated baking steel.\n",
            "\n",
            "\n",
            "Enjoy your homemade Margherita pizza!\n"
          ]
        }
      ]
    },
    {
      "cell_type": "markdown",
      "source": [
        "# Structured Prompt for clarity"
      ],
      "metadata": {
        "id": "E-jWSUjI0uvT"
      }
    },
    {
      "cell_type": "code",
      "source": [
        "structured_prompt = PromptTemplate(\n",
        "    input_variables=[\"topic\", \"aspects\", \"tone\"],\n",
        "    template=\"\"\"Provide an analysis of {topic} considering the following aspects:\n",
        "    {aspects}\n",
        "    Present the analysis in a {tone} tone.\n",
        "    \"\"\"\n",
        ")\n",
        "\n",
        "# Example usage\n",
        "input_variables = {\n",
        "    \"topic\": \"the impact of social media on society\",\n",
        "    \"aspects\": [\"communication patterns\", \"mental health\", \"information spread\"],\n",
        "    \"tone\": \"balanced and objective\"\n",
        "}\n",
        "\n",
        "chain = structured_prompt | llm\n",
        "response = chain.invoke(input_variables).content\n",
        "print(response)"
      ],
      "metadata": {
        "colab": {
          "base_uri": "https://localhost:8080/"
        },
        "id": "Ks6dL6ik0LhL",
        "outputId": "b868e714-b5da-453b-9277-37bee5737a5f"
      },
      "execution_count": 11,
      "outputs": [
        {
          "output_type": "stream",
          "name": "stdout",
          "text": [
            "## The Impact of Social Media on Society: A Multifaceted Analysis\n",
            "\n",
            "Social media's influence on society is profound and multifaceted, impacting communication patterns, mental health, and information spread in complex ways.  A balanced analysis requires acknowledging both the positive and negative consequences.\n",
            "\n",
            "**Communication Patterns:**\n",
            "\n",
            "Social media has revolutionized communication, fostering unprecedented connectivity.  It enables instant communication across geographical boundaries, facilitating personal and professional relationships regardless of distance.  This has led to the rise of global communities built around shared interests, facilitating collaboration and knowledge sharing.  However, this increased connectivity comes with potential drawbacks.  The immediacy of social media can lead to superficial interactions, replacing deeper, more nuanced communication.  Furthermore, the curated nature of online profiles can distort perceptions of reality, leading to social comparison and feelings of inadequacy.  The ease of communication also presents challenges in managing online interactions, leading to issues like cyberbullying and online harassment.  The shift towards digital communication also raises concerns about the decline of face-to-face interactions and the potential erosion of essential social skills.\n",
            "\n",
            "**Mental Health:**\n",
            "\n",
            "The relationship between social media and mental health is complex and still under investigation.  While social media can provide support networks and foster a sense of belonging, particularly for marginalized groups, it also presents significant risks.  Exposure to idealized versions of reality, curated content, and constant social comparison can contribute to feelings of anxiety, depression, low self-esteem, and body image issues.  Cyberbullying, online harassment, and exposure to negative content can further exacerbate these problems.  Furthermore, the addictive nature of social media platforms, coupled with the constant stream of notifications and updates, can disrupt sleep patterns and contribute to stress and burnout.  However, it's crucial to note that correlation doesn't equal causation; pre-existing mental health conditions can also influence social media usage patterns.\n",
            "\n",
            "**Information Spread:**\n",
            "\n",
            "Social media has significantly altered how information is disseminated and consumed.  It allows for rapid and widespread dissemination of news and information, potentially empowering individuals and fostering civic engagement.  Citizen journalism and the ability to bypass traditional media gatekeepers have broadened access to diverse perspectives.  However, this democratization of information also comes with challenges.  The ease of spreading misinformation and disinformation, often through echo chambers and filter bubbles, poses a significant threat to public discourse and democratic processes.  The spread of fake news, conspiracy theories, and hate speech can have serious consequences, impacting public health, political stability, and social cohesion.  The lack of effective mechanisms for verifying information online adds to the complexity of navigating the digital information landscape.  Furthermore, algorithmic curation can create biased information feeds, limiting exposure to diverse viewpoints and reinforcing pre-existing beliefs.\n",
            "\n",
            "\n",
            "**Conclusion:**\n",
            "\n",
            "Social media's impact on society is a double-edged sword.  Its transformative potential in communication, community building, and information access is undeniable. However,  its negative consequences, particularly regarding mental health and the spread of misinformation, require careful consideration and proactive mitigation strategies.  A balanced approach necessitates fostering media literacy, promoting responsible platform governance, and encouraging critical engagement with online information.  Further research is crucial to fully understand the long-term societal implications of this powerful technology.\n"
          ]
        }
      ]
    },
    {
      "cell_type": "code",
      "source": [
        "unclear_prompts = [\n",
        "    \"What's the difference?\",\n",
        "    \"How does it work?\",\n",
        "    \"Why is it important?\"\n",
        "]\n",
        "\n",
        "def improve_prompt_clarity(unclear_prompt):\n",
        "    \"\"\"\n",
        "    Improve the clarity of a given prompt.\n",
        "\n",
        "    Args:\n",
        "    unclear_prompt (str): The original unclear prompt\n",
        "\n",
        "    Returns:\n",
        "    str: An improved, clearer version of the prompt\n",
        "    \"\"\"\n",
        "    improvement_prompt = f\"The following prompt is unclear: '{unclear_prompt}'. Please provide a clearer, more specific version of this prompt. output just the improved prompt and nothing else.\"\n",
        "    return llm.invoke(improvement_prompt).content\n",
        "\n",
        "for prompt in unclear_prompts:\n",
        "    improved_prompt = improve_prompt_clarity(prompt)\n",
        "    print(f\"Original: {prompt}\")\n",
        "    print(f\"Improved: {improved_prompt}\")\n",
        "    print(\"-\" * 50)"
      ],
      "metadata": {
        "colab": {
          "base_uri": "https://localhost:8080/"
        },
        "id": "o0gigcna0yVP",
        "outputId": "bf5b4994-f1ec-43b9-c6eb-d9911199347d"
      },
      "execution_count": 12,
      "outputs": [
        {
          "output_type": "stream",
          "name": "stdout",
          "text": [
            "Original: What's the difference?\n",
            "Improved: What are the key differences between X and Y?\n",
            "--------------------------------------------------\n",
            "Original: How does it work?\n",
            "Improved: How does the [specific system, process, or device] function, and what are its key components and processes?\n",
            "--------------------------------------------------\n",
            "Original: Why is it important?\n",
            "Improved: Why is [specific subject or action] important in the context of [specific area or goal]?\n",
            "--------------------------------------------------\n"
          ]
        }
      ]
    },
    {
      "cell_type": "code",
      "source": [],
      "metadata": {
        "id": "cQW54azP2Ks8"
      },
      "execution_count": null,
      "outputs": []
    }
  ]
}