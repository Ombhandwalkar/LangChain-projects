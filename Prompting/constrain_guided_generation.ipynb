{
  "nbformat": 4,
  "nbformat_minor": 0,
  "metadata": {
    "colab": {
      "provenance": []
    },
    "kernelspec": {
      "name": "python3",
      "display_name": "Python 3"
    },
    "language_info": {
      "name": "python"
    }
  },
  "cells": [
    {
      "cell_type": "markdown",
      "source": [
        "# Constraint and Guided Generation Technique\n",
        "The problem in LLM is while generating output they sometimes produce output open-ended or lack of desired characteristic. SO we use `Constarint and Guided generation Technique` which allow to control over model's output making more suitable for specific tasks or adhering to certain rules and formats."
      ],
      "metadata": {
        "id": "ibcfuBRfwSJU"
      }
    },
    {
      "cell_type": "code",
      "execution_count": null,
      "metadata": {
        "id": "-EEKalybvJt5"
      },
      "outputs": [],
      "source": [
        "! pip install langchain langchain-google-genai"
      ]
    },
    {
      "cell_type": "code",
      "source": [
        "import os\n",
        "import re\n",
        "from langchain_google_genai import ChatGoogleGenerativeAI\n",
        "from langchain.prompts import PromptTemplate\n",
        "from langchain.output_parsers import RegexParser\n",
        "\n",
        "# Initialize the GOOGLE_API_KEY\n",
        "os.environ['GOOGLE_API_KEY']='GOOGLE_API_KEY'\n",
        "\n",
        "# Initialize the LLM\n",
        "llm=ChatGoogleGenerativeAI(model='gemini-1.5-flash')\n",
        "\n",
        "# Function to display model Output\n",
        "def display_output(output):\n",
        "  \"\"\"Display LLM the Output in formatted manner\"\"\"\n",
        "  print('Model Output:')\n",
        "  print(\"*\"*40)\n",
        "  print(output)\n",
        "  print(\"*\"*40)\n",
        "  print()"
      ],
      "metadata": {
        "id": "i_6y34asxUuz"
      },
      "execution_count": 2,
      "outputs": []
    },
    {
      "cell_type": "markdown",
      "source": [
        "# Constarints for Model Output\n",
        "You guide the model by placing explicit limits or rule on its output.\n",
        "* Enforce structure\n",
        "* Limit response length\n",
        "* Avoid certain topoics or words\n",
        "* Match a format or tone"
      ],
      "metadata": {
        "id": "bae3jX0Ezeto"
      }
    },
    {
      "cell_type": "code",
      "source": [
        "constrained_prompt=PromptTemplate(\n",
        "    input_variables=['product','target_audience','tone','word_limit'],\n",
        "    template  =\"\"\"\n",
        "        Create product description for {product} targeted at {target_audience}.\n",
        "        Use a {tone} tone and keep it under {word_limit} word.\n",
        "        The description should include:\n",
        "        1. A catchy headline\n",
        "        2. Three key features\n",
        "        3. A call to action\n",
        "\n",
        "        Product Description:\n",
        "\n",
        "    \"\"\"\n",
        ")\n",
        "\n",
        "# Generate the constraint output\n",
        "input_variables={\n",
        "    'product':'Smart water bottle',\n",
        "    'target_audience':'health conscious milennieals',\n",
        "    'tone':'casual and friendly',\n",
        "    'word_limit':'75'\n",
        "}\n",
        "\n",
        "# Form a chain\n",
        "chain = constrained_prompt | llm\n",
        "\n",
        "# Generate response\n",
        "output=chain.invoke(input_variables).content\n",
        "display_output(output)"
      ],
      "metadata": {
        "colab": {
          "base_uri": "https://localhost:8080/"
        },
        "id": "7PzCyvRRykdU",
        "outputId": "6afc55b1-aece-48f1-99f9-f0a3389e9385"
      },
      "execution_count": 3,
      "outputs": [
        {
          "output_type": "stream",
          "name": "stdout",
          "text": [
            "Model Output:\n",
            "****************************************\n",
            "**Stay Hydrated, Slay Your Goals!**\n",
            "\n",
            "This smart water bottle tracks your daily intake, reminds you to drink up, and even glows to celebrate your wins!  It's sleek, stylish, and helps you crush your hydration goals.  Plus, it syncs with your favorite fitness apps.  Get yours today and level up your wellness game!\n",
            "****************************************\n",
            "\n"
          ]
        }
      ]
    },
    {
      "cell_type": "markdown",
      "source": [
        "# Rule Based Generation\n",
        "You provide the gentle direction or contextual framing to guide the tone style or content."
      ],
      "metadata": {
        "id": "5kOUI-0e5CGg"
      }
    },
    {
      "cell_type": "code",
      "source": [
        "job_posting_prompt=PromptTemplate(\n",
        "    input_variables=['job_title','company','location','experience'],\n",
        "    template=\"\"\"\n",
        "        Create a job posting {job_title} position at {company} in {location}.\n",
        "        The candidate shoudl have {experience} years of experience.\n",
        "        Follow these rules:\n",
        "          1. Start with a brief company description (2 sentences)\n",
        "          2. List 5 key responsibilities, each starting with an action verb\n",
        "          3. List 5 required qualifications, each in a single sentence\n",
        "          4. End with a standardized equal opportunity statement\n",
        "\n",
        "          Format the output as follows:\n",
        "          COMPANY: [Company Description]\n",
        "\n",
        "          RESPONSIBILITIES:\n",
        "          - [Responsibility 1]\n",
        "          - [Responsibility 2]\n",
        "          - [Responsibility 3]\n",
        "          - [Responsibility 4]\n",
        "          - [Responsibility 5]\n",
        "\n",
        "          QUALIFICATIONS:\n",
        "          - [Qualification 1]\n",
        "          - [Qualification 2]\n",
        "          - [Qualification 3]\n",
        "          - [Qualification 4]\n",
        "          - [Qualification 5]\n",
        "\n",
        "    EEO: [Equal Opportunity Statement]\n",
        "\n",
        "    \"\"\"\n",
        ")\n",
        "\n",
        "# Generate rule based output\n",
        "input_variables={\n",
        "    'job_title':'Senior Data Scientiest',\n",
        "    'company':'IBM',\n",
        "    'location':'Banglore, India',\n",
        "    'experience':'3+'\n",
        "}\n",
        "\n",
        "# Form a chain\n",
        "chain = job_posting_prompt | llm\n",
        "\n",
        "# Generate response\n",
        "output= chain.invoke(input_variables).content\n",
        "display_output(output)"
      ],
      "metadata": {
        "colab": {
          "base_uri": "https://localhost:8080/"
        },
        "id": "hUzimA-c2BTx",
        "outputId": "4843abeb-d73a-4b5b-9d4c-3651e2bd69bd"
      },
      "execution_count": 4,
      "outputs": [
        {
          "output_type": "stream",
          "name": "stdout",
          "text": [
            "Model Output:\n",
            "****************************************\n",
            "COMPANY: IBM is a global technology leader, providing innovative solutions to businesses and individuals worldwide.  We are committed to creating a diverse and inclusive workplace where everyone can thrive.\n",
            "\n",
            "RESPONSIBILITIES:\n",
            "- Develop and implement advanced machine learning models to solve complex business problems.\n",
            "- Collaborate with cross-functional teams to define data science projects, gather requirements, and deliver impactful insights.\n",
            "- Design, build, and maintain robust and scalable data pipelines to support data analysis and model training.\n",
            "- Communicate complex technical concepts clearly and effectively to both technical and non-technical audiences.\n",
            "- Stay abreast of the latest advancements in data science and apply them to improve existing solutions and develop new capabilities.\n",
            "\n",
            "\n",
            "QUALIFICATIONS:\n",
            "- Possess a Master's degree or PhD in a quantitative field such as Computer Science, Statistics, Mathematics, or a related discipline.\n",
            "- Have 3+ years of experience in a data scientist role, demonstrating expertise in machine learning, deep learning, and statistical modeling.\n",
            "- Demonstrate proficiency in programming languages such as Python or R, and experience with big data technologies like Hadoop, Spark, or cloud platforms (AWS, Azure, GCP).\n",
            "- Exhibit strong analytical and problem-solving skills, with the ability to derive actionable insights from large datasets.\n",
            "- Possess excellent communication and collaboration skills, with the ability to work effectively in a team environment.\n",
            "\n",
            "\n",
            "EEO: IBM is committed to creating a diverse environment and is proud to be an equal opportunity employer. All qualified applicants will receive consideration for employment without regard to race, color, religion, gender, gender identity or expression, sexual orientation, national origin, genetics, disability, age, or veteran status.  IBM is also committed to compliance with all fair employment practices regarding citizenship and immigration status.\n",
            "****************************************\n",
            "\n"
          ]
        }
      ]
    },
    {
      "cell_type": "markdown",
      "source": [
        "# Using Regex parser for structured output"
      ],
      "metadata": {
        "id": "i0Zfuy3MBb8q"
      }
    },
    {
      "cell_type": "code",
      "source": [
        "# Define a regex parser for structured output\n",
        "regex_parser = RegexParser(\n",
        "    regex=r\"COMPANY:\\s*([\\s\\S]*?)\\n\\s*RESPONSIBILITIES:\\s*([\\s\\S]*?)\\n\\s*QUALIFICATIONS:\\s*([\\s\\S]*?)\\n\\s*EEO:\\s*([\\s\\S]*)\",\n",
        "    output_keys=[\"company_description\", \"responsibilities\", \"qualifications\", \"eeo_statement\"]\n",
        ")\n",
        "# This regex pattern captures the company description, responsibilities, qualifications, and EEO statement from the output text.\n",
        "\n",
        "# Create a new prompt template that includes the parser instructions\n",
        "parsed_job_posting_prompt = PromptTemplate(\n",
        "    input_variables=[\"job_title\", \"company\", \"location\", \"experience\"],\n",
        "    template=\"\"\"Create a job posting for a {job_title} position at {company} in {location}.\n",
        "    The candidate should have {experience} years of experience.\n",
        "    Follow these rules:\n",
        "    1. Start with a brief company description (2 sentences)\n",
        "    2. List 5 key responsibilities, each starting with an action verb\n",
        "    3. List 5 required qualifications, each in a single sentence\n",
        "    4. End with a standardized equal opportunity statement\n",
        "\n",
        "    Format the output EXACTLY as follows:\n",
        "    COMPANY: [Company Description]\n",
        "\n",
        "    RESPONSIBILITIES:\n",
        "    - [Responsibility 1]\n",
        "    - [Responsibility 2]\n",
        "    - [Responsibility 3]\n",
        "    - [Responsibility 4]\n",
        "    - [Responsibility 5]\n",
        "\n",
        "    QUALIFICATIONS:\n",
        "    - [Qualification 1]\n",
        "    - [Qualification 2]\n",
        "    - [Qualification 3]\n",
        "    - [Qualification 4]\n",
        "    - [Qualification 5]\n",
        "\n",
        "    EEO: [Equal Opportunity Statement]\n",
        "    \"\"\"\n",
        ")\n",
        "\n",
        "def clean_output(output):\n",
        "    for key, value in output.items():\n",
        "        if isinstance(value, str):\n",
        "            # Remove leading/trailing whitespace and normalize newlines\n",
        "            output[key] = re.sub(r'\\n\\s*', '\\n', value.strip())\n",
        "    return output\n",
        "\n",
        "# Generate the parsed output\n",
        "chain = parsed_job_posting_prompt | llm\n",
        "raw_output = chain.invoke(input_variables).content\n",
        "\n",
        "# Parse and clean the output\n",
        "parsed_output = regex_parser.parse(raw_output)\n",
        "cleaned_output = clean_output(parsed_output)\n",
        "\n",
        "# Display the parsed output\n",
        "print(\"Parsed Output:\")\n",
        "for key, value in cleaned_output.items():\n",
        "    print(f\"{key.upper()}:\")\n",
        "    print(value)\n",
        "    print()"
      ],
      "metadata": {
        "colab": {
          "base_uri": "https://localhost:8080/"
        },
        "id": "putH0ILR68bw",
        "outputId": "aa2039d1-7524-4b58-aa72-3abdd630b893"
      },
      "execution_count": 7,
      "outputs": [
        {
          "output_type": "stream",
          "name": "stdout",
          "text": [
            "Parsed Output:\n",
            "COMPANY_DESCRIPTION:\n",
            "IBM is a global technology leader, providing innovative solutions to clients worldwide.  We are committed to creating a diverse and inclusive workplace where everyone can thrive.\n",
            "\n",
            "RESPONSIBILITIES:\n",
            "- Develop and implement advanced statistical models and machine learning algorithms to solve complex business problems.\n",
            "- Collaborate with cross-functional teams, including engineers, product managers, and business stakeholders, to define data science projects and deliver actionable insights.\n",
            "- Design and build robust and scalable data pipelines for efficient data ingestion, processing, and analysis.\n",
            "- Communicate complex technical findings to both technical and non-technical audiences through clear and concise presentations and reports.\n",
            "- Stay abreast of the latest advancements in data science and machine learning, and apply them to improve the effectiveness of our solutions.\n",
            "\n",
            "QUALIFICATIONS:\n",
            "- You possess a Master's degree or PhD in a quantitative field such as Computer Science, Statistics, Mathematics, or a related discipline.\n",
            "- You have 3+ years of experience in a data science role, demonstrating expertise in machine learning techniques and statistical modeling.\n",
            "- You are proficient in programming languages like Python or R, and have experience with various data science libraries and tools.\n",
            "- You have experience working with large datasets and cloud computing platforms such as AWS, Azure, or GCP.\n",
            "- You possess excellent communication, problem-solving, and teamwork skills.\n",
            "\n",
            "EEO_STATEMENT:\n",
            "IBM is committed to creating a diverse environment and is proud to be an equal opportunity employer. All qualified applicants will receive consideration for employment without regard to race, color, religion, gender, gender identity or expression, sexual orientation, national origin, genetics, disability, age, or veteran status.  IBM is also committed to compliance with all fair employment practices regarding citizenship and immigration status.\n",
            "\n"
          ]
        }
      ]
    },
    {
      "cell_type": "code",
      "source": [
        "review_prompt = PromptTemplate(\n",
        "    input_variables=[\"product\", \"rating\", \"pros\", \"cons\", \"word_limit\"],\n",
        "    template=\"\"\"Write a product review for {product} with the following constraints:\n",
        "    1. The review should have a {rating}-star rating (out of 5)\n",
        "    2. Include exactly {pros} pros and {cons} cons\n",
        "    3. Use between 2 and 3 sentences for each pro and con\n",
        "    4. The entire review should be under {word_limit} words\n",
        "    5. End with a one-sentence recommendation\n",
        "\n",
        "    Format the review as follows:\n",
        "    Rating: [X] out of 5 stars\n",
        "\n",
        "    Pros:\n",
        "    1. [Pro 1]\n",
        "    2. [Pro 2]\n",
        "    ...\n",
        "\n",
        "    Cons:\n",
        "    1. [Con 1]\n",
        "    2. [Con 2]\n",
        "    ...\n",
        "\n",
        "    Recommendation: [One-sentence recommendation]\n",
        "    \"\"\"\n",
        ")\n",
        "\n",
        "# Generate the constrained review\n",
        "input_variables = {\n",
        "    \"product\": \"Smartphone X\",\n",
        "    \"rating\": \"4\",\n",
        "    \"pros\": \"3\",\n",
        "    \"cons\": \"2\",\n",
        "    \"word_limit\": \"200\"\n",
        "}\n",
        "\n",
        "chain = review_prompt | llm\n",
        "output = chain.invoke(input_variables).content\n",
        "display_output(output)"
      ],
      "metadata": {
        "colab": {
          "base_uri": "https://localhost:8080/"
        },
        "id": "0nwlSl18AhCD",
        "outputId": "7cdb9f05-8d68-4422-e0df-1b172c58c686"
      },
      "execution_count": 8,
      "outputs": [
        {
          "output_type": "stream",
          "name": "stdout",
          "text": [
            "Model Output:\n",
            "****************************************\n",
            "Rating: 4 out of 5 stars\n",
            "\n",
            "Pros:\n",
            "1. The camera is excellent.  Photos are crisp and clear, even in low light conditions, and the video recording is smooth and stable.  I've been very impressed with its versatility.\n",
            "2. The battery life is outstanding. I easily get a full day of use, even with heavy usage, and it charges relatively quickly. This is a major plus for me.\n",
            "3. The display is vibrant and sharp.  Colors are rich and viewing angles are excellent, making it a joy to watch videos or browse photos. It's one of the best screens I've used on a phone.\n",
            "\n",
            "Cons:\n",
            "1. The phone is quite slippery and I've nearly dropped it a few times. A case is a must-have accessory.\n",
            "2. The price point is a bit high compared to some competitors offering similar specs.  While it's worth it for the features, it's not the most budget-friendly option.\n",
            "\n",
            "Recommendation: Smartphone X is a great phone with some minor drawbacks, making it a solid choice for most users.\n",
            "****************************************\n",
            "\n"
          ]
        }
      ]
    },
    {
      "cell_type": "code",
      "source": [],
      "metadata": {
        "id": "1k30LRmhBj1x"
      },
      "execution_count": null,
      "outputs": []
    }
  ]
}