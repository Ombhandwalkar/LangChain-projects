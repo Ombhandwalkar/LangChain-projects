{
  "nbformat": 4,
  "nbformat_minor": 0,
  "metadata": {
    "colab": {
      "provenance": []
    },
    "kernelspec": {
      "name": "python3",
      "display_name": "Python 3"
    },
    "language_info": {
      "name": "python"
    }
  },
  "cells": [
    {
      "cell_type": "markdown",
      "source": [
        "# Role Prompting\n",
        "Role based prompt engineering is powerfull tool that allow us to guide LLM to adapt specific expertise. This approach significantly enhance the quality and relevance of AI-generated response, making more suitable for specific task."
      ],
      "metadata": {
        "id": "yhV3SXicYoLa"
      }
    },
    {
      "cell_type": "code",
      "execution_count": null,
      "metadata": {
        "id": "fR3CsnXwVCnH"
      },
      "outputs": [],
      "source": [
        "! pip install langchain langchain-google-genai"
      ]
    },
    {
      "cell_type": "code",
      "source": [
        "import os\n",
        "from langchain.prompts import PromptTemplate\n",
        "from langchain_google_genai import ChatGoogleGenerativeAI\n",
        "\n",
        "os.environ['GOOGLE_API_KEY']=''\n",
        "\n",
        "llm=ChatGoogleGenerativeAI(model='gemini-1.5-flash')"
      ],
      "metadata": {
        "id": "GBvAcvdpbJAn"
      },
      "execution_count": 2,
      "outputs": []
    },
    {
      "cell_type": "markdown",
      "source": [
        "# Basic Role Assignment\n"
      ],
      "metadata": {
        "id": "WsrgfIa72PwL"
      }
    },
    {
      "cell_type": "code",
      "source": [
        "# Generate a prompt\n",
        "tech_writer_prompt=PromptTemplate(\n",
        "    input_variables=['topic'],\n",
        "    template=\"\"\"\n",
        "        You are technical writer specializing in creating clear and concise documentation for software products.\n",
        "        Your task is to write a brief explanation of {topic} for a user manual.\n",
        "        Please provide 2-3 sentence explanation that is easy for non-technical user to understand.\n",
        "        \"\"\"\n",
        ")\n",
        "\n",
        "chain=tech_writer_prompt | llm\n",
        "\n",
        "response=chain.invoke({'topic':'Prompt Engineering'}).content\n",
        "print(response)"
      ],
      "metadata": {
        "colab": {
          "base_uri": "https://localhost:8080/"
        },
        "id": "zuguqkF2tTtF",
        "outputId": "66211aeb-2029-46f2-90af-1f89b42deace"
      },
      "execution_count": 3,
      "outputs": [
        {
          "output_type": "stream",
          "name": "stdout",
          "text": [
            "Prompt engineering is the art of crafting effective instructions for AI models.  By carefully phrasing your requests, you can guide the AI to generate more accurate and relevant responses.  Think of it as giving clear directions to get the best results from a powerful, but somewhat literal-minded, assistant.\n"
          ]
        }
      ]
    },
    {
      "cell_type": "markdown",
      "source": [
        "# Crafting Effective Role Description"
      ],
      "metadata": {
        "id": "4YAPCe_I4adb"
      }
    },
    {
      "cell_type": "code",
      "source": [
        "financial_advisor_prompt = PromptTemplate(\n",
        "    input_variables=[\"client_situation\"],\n",
        "    template=\"\"\"You are a seasoned financial advisor with over 20 years of experience in personal finance, investment strategies, and retirement planning.\n",
        "    You have a track record of helping clients from diverse backgrounds achieve their financial goals.\n",
        "    Your approach is characterized by:\n",
        "    1. Thorough analysis of each client's unique financial situation\n",
        "    2. Clear and jargon-free communication of complex financial concepts\n",
        "    3. Ethical considerations in all recommendations\n",
        "    4. A focus on long-term financial health and stability\n",
        "\n",
        "    Given the following client situation, provide a brief (3-4 sentences) financial advice:\n",
        "    {client_situation}\n",
        "\n",
        "    Your response should reflect your expertise and adhere to your characteristic approach.\"\"\"\n",
        ")\n",
        "\n",
        "chain = financial_advisor_prompt | llm     # A 27 year old professional earning 35,000₹ monthly, with 5000₹ in savings,no debt and no retirement plans\n",
        "response = chain.invoke({\"client_situation\": \"A 27 year old professional earning 35,000₹ monthly, with 5000₹ in savings,no debt and no retirement plan.\"})\n",
        "print(response.content)"
      ],
      "metadata": {
        "colab": {
          "base_uri": "https://localhost:8080/"
        },
        "id": "zNSV8T6m3TjS",
        "outputId": "215e3db0-a5b8-49b3-97d1-143f13d43a00"
      },
      "execution_count": null,
      "outputs": [
        {
          "output_type": "stream",
          "name": "stdout",
          "text": [
            "Given your age and income, prioritizing building an emergency fund of at least 3-6 months' living expenses is crucial before investing.  Simultaneously, start contributing to a retirement plan, even if it's a small amount initially, to leverage the power of compounding over time.  Consider exploring low-cost index funds or government-sponsored retirement schemes to maximize returns and minimize risk.\n"
          ]
        }
      ]
    },
    {
      "cell_type": "markdown",
      "source": [
        " # Comparing Responses with different roles"
      ],
      "metadata": {
        "id": "2lMGxuygP6Ky"
      }
    },
    {
      "cell_type": "code",
      "source": [
        "roles = [\n",
        "    (\"Scientist\", \"You are a research scientist specializing in climate change. Explain the following concept in scientific terms:\"),\n",
        "    (\"Teacher\", \"You are a middle school science teacher. Explain the following concept in simple terms suitable for 12-year-old students:\"),\n",
        "    (\"Journalist\", \"You are a journalist writing for a popular science magazine. Explain the following concept in an engaging and informative manner for a general adult audience:\")\n",
        "]\n",
        "\n",
        "topic = \"The greenhouse effect\"\n",
        "\n",
        "for role, description in roles:\n",
        "    role_prompt = PromptTemplate(\n",
        "        input_variables=[\"topic\"],\n",
        "        template=f\"{description} {{topic}}\"\n",
        "    )\n",
        "    chain = role_prompt | llm\n",
        "    response = chain.invoke({\"topic\": topic})\n",
        "    print(f\"\\n{role}'s explanation:\\n\")\n",
        "    print(response.content)\n",
        "    print(\"-\" * 50)"
      ],
      "metadata": {
        "id": "_vdVTpWk5i-q",
        "colab": {
          "base_uri": "https://localhost:8080/"
        },
        "outputId": "d0e51f6b-f71d-4fbf-db6c-bc444986c290"
      },
      "execution_count": 4,
      "outputs": [
        {
          "output_type": "stream",
          "name": "stdout",
          "text": [
            "\n",
            "Scientist's explanation:\n",
            "\n",
            "The greenhouse effect is a natural process that warms the Earth's surface.  It's driven by the interaction of solar radiation with the Earth's atmosphere and surface.  Specifically:\n",
            "\n",
            "1. **Incoming Solar Radiation:**  The sun emits shortwave radiation (primarily visible light and ultraviolet radiation) which passes relatively unimpeded through the Earth's atmosphere.\n",
            "\n",
            "2. **Surface Absorption:**  A significant portion of this incoming radiation is absorbed by the Earth's surface, warming it.  This absorbed energy is then re-emitted as longwave radiation (infrared radiation).\n",
            "\n",
            "3. **Greenhouse Gas Absorption:**  Certain atmospheric gases, known as greenhouse gases (GHGs), are highly effective at absorbing this outgoing longwave radiation.  These gases include water vapor (H₂O), carbon dioxide (CO₂), methane (CH₄), nitrous oxide (N₂O), and ozone (O₃).  The absorption of longwave radiation by GHGs increases their vibrational and rotational energy, causing them to re-emit infrared radiation in all directions.\n",
            "\n",
            "4. **Downward Radiation & Warming:**  A portion of the re-emitted infrared radiation from GHGs is directed back towards the Earth's surface, further warming it. This downward radiation is the essence of the greenhouse effect.\n",
            "\n",
            "5. **Energy Balance:** The Earth's temperature is determined by a balance between incoming solar radiation and outgoing terrestrial radiation. The greenhouse effect acts to trap some of the outgoing radiation, resulting in a warmer planet than it would be otherwise.  Without the greenhouse effect, the Earth's average surface temperature would be approximately 33°C colder, rendering it uninhabitable for most life forms.\n",
            "\n",
            "**The key scientific principle at play is radiative forcing.**  Greenhouse gases increase the radiative forcing of the Earth's climate system by enhancing the absorption of outgoing longwave radiation.  This positive radiative forcing leads to a warming effect.\n",
            "\n",
            "**Anthropogenic (human-caused) climate change** is largely attributed to increased concentrations of GHGs in the atmosphere, primarily due to the burning of fossil fuels, deforestation, and agricultural practices.  These increased concentrations amplify the natural greenhouse effect, leading to a more pronounced warming trend and associated climate change impacts.  The scientific consensus is that this anthropogenic enhancement of the greenhouse effect is the primary driver of observed global warming.\n",
            "--------------------------------------------------\n",
            "\n",
            "Teacher's explanation:\n",
            "\n",
            "Okay class, imagine the Earth is like a giant greenhouse.  We need warmth to survive, right?  The sun provides that warmth.  Its rays travel through the atmosphere and warm the Earth's surface – like the sun warming the plants inside a real greenhouse.\n",
            "\n",
            "Now, some of that heat escapes back into space.  But certain gases in our atmosphere, like carbon dioxide (CO2), methane, and water vapor, act like the glass roof of a greenhouse.  They trap some of that escaping heat, keeping the Earth warmer than it would be otherwise.  That's the **greenhouse effect**.\n",
            "\n",
            "It's a natural process and actually *essential* for life on Earth! Without it, our planet would be too cold for most living things.  Think of it like a cozy blanket keeping us warm.\n",
            "\n",
            "However, we're adding more of these \"heat-trapping\" gases to the atmosphere by burning fossil fuels (like coal, oil, and gas) for energy, cutting down forests, and other human activities.  This is increasing the greenhouse effect, making the Earth warmer than it should be, and leading to what we call **climate change**.  It's like adding extra blankets – it gets too hot!\n",
            "\n",
            "So, the greenhouse effect itself isn't bad, it's vital.  But *too much* of a good thing can be a problem.  We need to find ways to reduce the amount of these gases we're putting into the atmosphere to keep our planet's temperature comfortable for all of us.  Does anyone have any questions?\n",
            "--------------------------------------------------\n",
            "\n",
            "Journalist's explanation:\n",
            "\n",
            "##  The Blanket Around the Planet: Understanding the Greenhouse Effect\n",
            "\n",
            "Imagine Earth as a cozy house.  The sun, our radiant furnace, pours in warmth.  This warmth, in the form of solar radiation, keeps our planet habitable. But what happens to that warmth?  Some bounces back into space, reflecting off clouds and ice. The rest is absorbed by the Earth's surface – land, oceans, and everything in between – warming it up.  This is where the greenhouse effect comes in.\n",
            "\n",
            "Think of the Earth's atmosphere as a blanket. This blanket isn't solid, but composed of various gases, including nitrogen, oxygen, and crucially, *greenhouse gases*.  These gases, such as carbon dioxide, methane, and water vapor, act like tiny mirrors. They allow the sun's incoming radiation (mostly visible light) to pass through relatively easily.  However, when the Earth's surface radiates this absorbed energy back out as heat (infrared radiation), the greenhouse gases trap some of it, preventing it from escaping directly into space.\n",
            "\n",
            "This trapped heat is what keeps our planet warm enough to support life. Without the greenhouse effect, Earth's average temperature would be a frigid -18°C (-0.4°F), far too cold for humans and most other life forms.  It’s a natural and essential process that has maintained a stable climate for millennia.\n",
            "\n",
            "**The problem isn't the greenhouse effect itself, but its *enhancement*.**  Human activities, particularly the burning of fossil fuels (coal, oil, and natural gas) for energy, deforestation, and industrial processes, have significantly increased the concentration of greenhouse gases in the atmosphere. This is like adding extra layers to our atmospheric blanket, trapping more heat and causing a gradual warming of the planet – what we call global warming or climate change.\n",
            "\n",
            "The consequences of this enhanced greenhouse effect are far-reaching and include:\n",
            "\n",
            "* **Rising global temperatures:** Leading to more frequent and intense heatwaves.\n",
            "* **Melting glaciers and ice sheets:** Contributing to rising sea levels and threatening coastal communities.\n",
            "* **More extreme weather events:** Including hurricanes, droughts, and floods.\n",
            "* **Ocean acidification:**  As the ocean absorbs excess carbon dioxide, it becomes more acidic, harming marine life.\n",
            "* **Disruptions to ecosystems:** Affecting plant and animal life, leading to biodiversity loss.\n",
            "\n",
            "Understanding the greenhouse effect is crucial.  It's not a villain, but a vital process that has been thrown out of balance.  By recognizing the impact of our actions and working towards reducing greenhouse gas emissions, we can strive to maintain a habitable planet for future generations.  The future of our \"cozy house\" depends on it.\n",
            "--------------------------------------------------\n"
          ]
        }
      ]
    },
    {
      "cell_type": "markdown",
      "source": [
        "# Refining Role Description"
      ],
      "metadata": {
        "id": "-sr-El7kQoIX"
      }
    },
    {
      "cell_type": "code",
      "source": [
        "storyteller_prompt = PromptTemplate(\n",
        "    input_variables=[\"style\", \"scenario\"],\n",
        "    template=\"\"\"You are a master storyteller known for your ability to adapt to various narrative styles.\n",
        "    Your current task is to write in the style of {style}.\n",
        "    Key characteristics of this style include:\n",
        "    1. {style_char1}\n",
        "    2. {style_char2}\n",
        "    3. {style_char3}\n",
        "\n",
        "    Write a short paragraph (3-4 sentences) in this style about the following scenario:\n",
        "    {scenario}\n",
        "\n",
        "    Ensure your writing clearly reflects the specified style.\"\"\"\n",
        ")\n",
        "\n",
        "styles = [\n",
        "    {\n",
        "        \"name\": \"Gothic horror\",\n",
        "        \"char1\": \"Atmospheric and ominous descriptions\",\n",
        "        \"char2\": \"Themes of decay, death, and the supernatural\",\n",
        "        \"char3\": \"Heightened emotions and sense of dread\"\n",
        "    },\n",
        "    {\n",
        "        \"name\": \"Minimalist realism\",\n",
        "        \"char1\": \"Sparse, concise language\",\n",
        "        \"char2\": \"Focus on everyday, ordinary events\",\n",
        "        \"char3\": \"Subtle implications rather than explicit statements\"\n",
        "    }\n",
        "]\n",
        "\n",
        "scenario = \"A person enters an empty house at twilight\"\n",
        "\n",
        "for style in styles:\n",
        "    chain = storyteller_prompt | llm\n",
        "    response = chain.invoke({\n",
        "        \"style\": style[\"name\"],\n",
        "        \"style_char1\": style[\"char1\"],\n",
        "        \"style_char2\": style[\"char2\"],\n",
        "        \"style_char3\": style[\"char3\"],\n",
        "        \"scenario\": scenario\n",
        "    })\n",
        "    print(f\"\\n{style['name']} version:\\n\")\n",
        "    print(response.content)\n",
        "    print(\"-\" * 50)"
      ],
      "metadata": {
        "colab": {
          "base_uri": "https://localhost:8080/"
        },
        "id": "HcWFrFEKP_l0",
        "outputId": "5c2bda5c-6dab-4495-e98f-8e31b956a5f7"
      },
      "execution_count": 5,
      "outputs": [
        {
          "output_type": "stream",
          "name": "stdout",
          "text": [
            "\n",
            "Gothic horror version:\n",
            "\n",
            "The heavy oak door groaned on its hinges, a sound like a dying man's breath, as I stepped into the chilling embrace of Blackwood Manor.  Twilight clung to the decaying walls, painting the peeling wallpaper in shades of bruised purple and sickly green, while the air itself tasted of damp earth and forgotten sorrows.  A silence, thick and suffocating, pressed down upon me, broken only by the frantic whisper of unseen things rustling in the shadowed corners.\n",
            "--------------------------------------------------\n",
            "\n",
            "Minimalist realism version:\n",
            "\n",
            "The key turned.  Dust motes danced in the fading light.  Silence, heavy and familiar.  A floorboard creaked underfoot.\n",
            "--------------------------------------------------\n"
          ]
        }
      ]
    },
    {
      "cell_type": "code",
      "source": [],
      "metadata": {
        "id": "80nkBnTDQrC7"
      },
      "execution_count": null,
      "outputs": []
    }
  ]
}