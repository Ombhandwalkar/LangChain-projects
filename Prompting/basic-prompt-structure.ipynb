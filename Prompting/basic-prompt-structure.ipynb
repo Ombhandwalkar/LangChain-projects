{
 "cells": [
  {
   "cell_type": "markdown",
   "id": "8025eb8a",
   "metadata": {},
   "source": [
    "# Basic Prmpt Structure Toutorial\n",
    "1. Single-turn prompts- One-shot interactions with the language model\n",
    "2. Multi-turn prompts(Conversations)- Series of interactions that maintain context.\n",
    "3. Prompt Template- Reusable structures for consistent prompting.\n",
    "4. Conversation Chains-Maintaining context across multiple interactions."
   ]
  },
  {
   "cell_type": "code",
   "execution_count": 1,
   "id": "d1ba72fc",
   "metadata": {},
   "outputs": [],
   "source": [
    "from langchain_google_genai import ChatGoogleGenerativeAI\n",
    "from langchain.prompts import PromptTemplate\n",
    "from langchain.memory import ConversationBufferMemory\n",
    "from langchain.chains import ConversationChain\n",
    "from dotenv import load_dotenv\n",
    "load_dotenv()\n",
    "\n",
    "llm=ChatGoogleGenerativeAI(model='gemini-1.5-flash')"
   ]
  },
  {
   "cell_type": "markdown",
   "id": "f71e2557",
   "metadata": {},
   "source": [
    "# 1. Single-turn Prompts\n",
    "Single turn prompt are one shot interactions with the language model.They consist of a single input and generate a single output."
   ]
  },
  {
   "cell_type": "code",
   "execution_count": 2,
   "id": "3a891ce2",
   "metadata": {},
   "outputs": [
    {
     "name": "stdout",
     "output_type": "stream",
     "text": [
      "India has 28 states.\n"
     ]
    }
   ],
   "source": [
    "single_turn_prompt='How many states in India ?'\n",
    "print(llm.invoke(single_turn_prompt).content)"
   ]
  },
  {
   "cell_type": "code",
   "execution_count": 3,
   "id": "dca01709",
   "metadata": {},
   "outputs": [
    {
     "name": "stdout",
     "output_type": "stream",
     "text": [
      "Color theory is a set of guiding principles that explains how colors mix, match, and create different effects. It's based on the way the human eye perceives and interprets light, and how different colors interact to create visual harmony or contrast.  Understanding color theory is crucial in fields like art, design, and even marketing, as it can significantly impact how a piece is perceived and the emotions it evokes.\n",
      "\n",
      "The three main components of color theory are:\n",
      "\n",
      "1. **Hue:** This refers to the pure color itself, like red, blue, green, yellow, etc.  It's what we typically think of when we name a color.\n",
      "\n",
      "2. **Saturation:** This describes the intensity or purity of a color.  A highly saturated color is vivid and intense, while a low-saturation color appears dull or grayed.  Think of the difference between a bright, bold red and a muted, dusty rose.\n",
      "\n",
      "3. **Value (or Brightness):** This refers to the lightness or darkness of a color.  A high-value color is light (e.g., pastel shades), while a low-value color is dark (e.g., deep shades).\n"
     ]
    }
   ],
   "source": [
    "# More structure single turn-prompt\n",
    "sturctured_prompt=PromptTemplate(\n",
    "    input_variables=['topic'],\n",
    "    template=\"Provide a brief explanation of {topic} and list its three main components\"\n",
    ")\n",
    "chain=sturctured_prompt | llm\n",
    "print(chain.invoke({'topic':'color theory'}).content)"
   ]
  },
  {
   "cell_type": "markdown",
   "id": "f1d855e2",
   "metadata": {},
   "source": [
    "# Multi-turn Prompts (Conversations)\n",
    "Multi-turn prompts involves a series of interactions with the language model,allowing for more complex and context aware conversation "
   ]
  },
  {
   "cell_type": "code",
   "execution_count": 4,
   "id": "46ccc482",
   "metadata": {},
   "outputs": [
    {
     "name": "stderr",
     "output_type": "stream",
     "text": [
      "C:\\Users\\ombha\\AppData\\Local\\Temp\\ipykernel_17068\\21574245.py:4: LangChainDeprecationWarning: Please see the migration guide at: https://python.langchain.com/docs/versions/migrating_memory/\n",
      "  memory=ConversationBufferMemory()\n",
      "C:\\Users\\ombha\\AppData\\Local\\Temp\\ipykernel_17068\\21574245.py:1: LangChainDeprecationWarning: The class `ConversationChain` was deprecated in LangChain 0.2.7 and will be removed in 1.0. Use :meth:`~RunnableWithMessageHistory: https://python.langchain.com/v0.2/api_reference/core/runnables/langchain_core.runnables.history.RunnableWithMessageHistory.html` instead.\n",
      "  conversation=ConversationChain(\n"
     ]
    },
    {
     "name": "stdout",
     "output_type": "stream",
     "text": [
      "\n",
      "\n",
      "\u001b[1m> Entering new ConversationChain chain...\u001b[0m\n",
      "Prompt after formatting:\n",
      "\u001b[32;1m\u001b[1;3mThe following is a friendly conversation between a human and an AI. The AI is talkative and provides lots of specific details from its context. If the AI does not know the answer to a question, it truthfully says it does not know.\n",
      "\n",
      "Current conversation:\n",
      "\n",
      "Human: Hi, I'm learning about space. can you tell me about planets ?\n",
      "AI:\u001b[0m\n",
      "\n",
      "\u001b[1m> Finished chain.\u001b[0m\n",
      "Hi there!  Learning about space is awesome! Planets are fascinating objects.  To tell you about them, I need to clarify what you'd like to know.  There's a lot to cover!  For example, are you interested in:\n",
      "\n",
      "* **Specific planets?**  Like Mars, Jupiter, or Earth? I can tell you about their atmospheres, geological features, moons, and more.  For example, I can tell you about the Great Red Spot on Jupiter, the Martian canyons, or the rings of Saturn.  Each planet is unique!\n",
      "\n",
      "* **Planet formation?** How did planets form in our solar system and others?  I can explain the nebular hypothesis and discuss different types of planets like gas giants, ice giants, terrestrial planets, and potentially even super-Earths and mini-Neptunes found in exoplanetary systems.\n",
      "\n",
      "* **Planetary characteristics?** Things like size, mass, composition, orbital periods, axial tilt, and presence of moons, rings, or magnetic fields are all interesting aspects of planets.\n",
      "\n",
      "* **Exoplanets?**  Planets orbiting stars other than our Sun? I can discuss the different methods used to detect them, and some of the amazing discoveries made in recent years, like planets in habitable zones.\n",
      "\n",
      "* **The definition of a planet?** The International Astronomical Union (IAU) has a specific definition that distinguishes planets from dwarf planets and other celestial bodies. I can explain that to you.\n",
      "\n",
      "Tell me what aspects of planets you're most curious about, and I'll do my best to give you a detailed and informative answer!\n",
      "\n",
      "\n",
      "\u001b[1m> Entering new ConversationChain chain...\u001b[0m\n",
      "Prompt after formatting:\n",
      "\u001b[32;1m\u001b[1;3mThe following is a friendly conversation between a human and an AI. The AI is talkative and provides lots of specific details from its context. If the AI does not know the answer to a question, it truthfully says it does not know.\n",
      "\n",
      "Current conversation:\n",
      "Human: Hi, I'm learning about space. can you tell me about planets ?\n",
      "AI: Hi there!  Learning about space is awesome! Planets are fascinating objects.  To tell you about them, I need to clarify what you'd like to know.  There's a lot to cover!  For example, are you interested in:\n",
      "\n",
      "* **Specific planets?**  Like Mars, Jupiter, or Earth? I can tell you about their atmospheres, geological features, moons, and more.  For example, I can tell you about the Great Red Spot on Jupiter, the Martian canyons, or the rings of Saturn.  Each planet is unique!\n",
      "\n",
      "* **Planet formation?** How did planets form in our solar system and others?  I can explain the nebular hypothesis and discuss different types of planets like gas giants, ice giants, terrestrial planets, and potentially even super-Earths and mini-Neptunes found in exoplanetary systems.\n",
      "\n",
      "* **Planetary characteristics?** Things like size, mass, composition, orbital periods, axial tilt, and presence of moons, rings, or magnetic fields are all interesting aspects of planets.\n",
      "\n",
      "* **Exoplanets?**  Planets orbiting stars other than our Sun? I can discuss the different methods used to detect them, and some of the amazing discoveries made in recent years, like planets in habitable zones.\n",
      "\n",
      "* **The definition of a planet?** The International Astronomical Union (IAU) has a specific definition that distinguishes planets from dwarf planets and other celestial bodies. I can explain that to you.\n",
      "\n",
      "Tell me what aspects of planets you're most curious about, and I'll do my best to give you a detailed and informative answer!\n",
      "Human: What's the largest planet in our solar system ?\n",
      "AI:\u001b[0m\n",
      "\n",
      "\u001b[1m> Finished chain.\u001b[0m\n",
      "The largest planet in our solar system is Jupiter!  It's a gas giant, meaning it's primarily composed of hydrogen and helium, with trace amounts of other elements.  Its diameter is about 140,000 kilometers (87,000 miles), which is more than 11 times the diameter of Earth.  To put that in perspective, you could fit more than 1,300 Earths inside Jupiter!\n",
      "\n",
      "Jupiter's immense size also contributes to its strong gravity.  This gravity is responsible for its many moons (currently known to have 95, with more possibly awaiting discovery), and its characteristic Great Red Spot, a massive, persistent anticyclonic storm larger than Earth itself that's been raging for at least 400 years.  Its mass is about 2.5 times the mass of all the other planets in our solar system combined.  It's truly a behemoth of our solar system.\n",
      "\n",
      "\n",
      "\u001b[1m> Entering new ConversationChain chain...\u001b[0m\n",
      "Prompt after formatting:\n",
      "\u001b[32;1m\u001b[1;3mThe following is a friendly conversation between a human and an AI. The AI is talkative and provides lots of specific details from its context. If the AI does not know the answer to a question, it truthfully says it does not know.\n",
      "\n",
      "Current conversation:\n",
      "Human: Hi, I'm learning about space. can you tell me about planets ?\n",
      "AI: Hi there!  Learning about space is awesome! Planets are fascinating objects.  To tell you about them, I need to clarify what you'd like to know.  There's a lot to cover!  For example, are you interested in:\n",
      "\n",
      "* **Specific planets?**  Like Mars, Jupiter, or Earth? I can tell you about their atmospheres, geological features, moons, and more.  For example, I can tell you about the Great Red Spot on Jupiter, the Martian canyons, or the rings of Saturn.  Each planet is unique!\n",
      "\n",
      "* **Planet formation?** How did planets form in our solar system and others?  I can explain the nebular hypothesis and discuss different types of planets like gas giants, ice giants, terrestrial planets, and potentially even super-Earths and mini-Neptunes found in exoplanetary systems.\n",
      "\n",
      "* **Planetary characteristics?** Things like size, mass, composition, orbital periods, axial tilt, and presence of moons, rings, or magnetic fields are all interesting aspects of planets.\n",
      "\n",
      "* **Exoplanets?**  Planets orbiting stars other than our Sun? I can discuss the different methods used to detect them, and some of the amazing discoveries made in recent years, like planets in habitable zones.\n",
      "\n",
      "* **The definition of a planet?** The International Astronomical Union (IAU) has a specific definition that distinguishes planets from dwarf planets and other celestial bodies. I can explain that to you.\n",
      "\n",
      "Tell me what aspects of planets you're most curious about, and I'll do my best to give you a detailed and informative answer!\n",
      "Human: What's the largest planet in our solar system ?\n",
      "AI: The largest planet in our solar system is Jupiter!  It's a gas giant, meaning it's primarily composed of hydrogen and helium, with trace amounts of other elements.  Its diameter is about 140,000 kilometers (87,000 miles), which is more than 11 times the diameter of Earth.  To put that in perspective, you could fit more than 1,300 Earths inside Jupiter!\n",
      "\n",
      "Jupiter's immense size also contributes to its strong gravity.  This gravity is responsible for its many moons (currently known to have 95, with more possibly awaiting discovery), and its characteristic Great Red Spot, a massive, persistent anticyclonic storm larger than Earth itself that's been raging for at least 400 years.  Its mass is about 2.5 times the mass of all the other planets in our solar system combined.  It's truly a behemoth of our solar system.\n",
      "Human: How does its size compare to earth ?\n",
      "AI:\u001b[0m\n",
      "\n",
      "\u001b[1m> Finished chain.\u001b[0m\n",
      "Jupiter's diameter is about 11 times that of Earth's.  To be more precise, Earth's diameter is approximately 12,742 kilometers (7,918 miles), while Jupiter's diameter is approximately 140,000 kilometers (87,000 miles).  As mentioned before, you could fit over 1,300 Earths inside Jupiter if you could somehow manage to squeeze them in!  This massive size difference is a key factor in Jupiter's immense gravity and its ability to hold onto a vast number of moons.\n"
     ]
    }
   ],
   "source": [
    "conversation=ConversationChain(\n",
    "    llm=llm,\n",
    "    verbose=True,\n",
    "    memory=ConversationBufferMemory()\n",
    ")\n",
    "print(conversation.predict(input=\"Hi, I'm learning about space. can you tell me about planets ?\"))\n",
    "print(conversation.predict(input=\"What's the largest planet in our solar system ?\"))\n",
    "print(conversation.predict(input=\"How does its size compare to earth ?\"))"
   ]
  },
  {
   "cell_type": "code",
   "execution_count": 5,
   "id": "5094a021",
   "metadata": {},
   "outputs": [
    {
     "name": "stdout",
     "output_type": "stream",
     "text": [
      "singel-turn responses:\n",
      "Q:What is the capital of France?\n",
      "A:Paris\n",
      "\n",
      "Q:What is its population?\n",
      "A:Please specify what \"it\" refers to.  I need to know what place, thing, or group you're asking about to tell you its population.\n",
      "\n",
      "Q:What is the city's most famous landmark?\n",
      "A:Please specify which city you're asking about.\n",
      "\n",
      "Multi-turn responses:\n",
      "Q:What is the capital of France?\n",
      "A:The capital of France is Paris.  It's located on the Seine River in northern France, and is known for its iconic landmarks like the Eiffel Tower, the Louvre Museum, and the Arc de Triomphe.  Paris is a major global center for art, fashion, gastronomy, and culture, and its history stretches back to Roman times.  The city's population is over two million, and the metropolitan area boasts a population significantly larger.  Did you have any other questions about Paris or France?\n",
      "\n",
      "Q:What is its population?\n",
      "A:The population of Paris is over two million.  However, it's important to note that this figure can vary depending on the source and how the population is defined (e.g., city proper versus metropolitan area).  Some sources might give slightly different numbers, perhaps even differing by hundreds of thousands, depending on whether they include the surrounding suburbs and commuter towns. The metropolitan area of Paris, often referred to as Île-de-France, has a population significantly larger, in the tens of millions.  Do you want a more precise number, or perhaps information about the population growth trends?\n",
      "\n",
      "Q:What is the city's most famous landmark?\n",
      "A:That's a tough question!  While many landmarks in Paris are incredibly famous, the Eiffel Tower is arguably the most internationally recognized.  It's instantly recognizable worldwide and is synonymous with the city itself.  However, landmarks like the Louvre Museum, with its vast collection of art, and Notre Dame Cathedral, with its historical and architectural significance, also hold immense fame and draw significant numbers of tourists.  The choice of \"most famous\" is somewhat subjective and depends on the criteria used, but the Eiffel Tower is a very strong contender for that title due to its global iconic status.\n",
      "\n"
     ]
    }
   ],
   "source": [
    "# Single-tur prompts\n",
    "prompts=[\n",
    "    \"What is the capital of France?\",\n",
    "    \"What is its population?\",\n",
    "    \"What is the city's most famous landmark?\"\n",
    "]\n",
    "print('singel-turn responses:')\n",
    "for prompt in prompts:\n",
    "    print(f\"Q:{prompt}\")\n",
    "    print(f\"A:{llm.invoke(prompt).content}\\n\")\n",
    "\n",
    "# Multi-turn prompt\n",
    "print('Multi-turn responses:')\n",
    "conversation=ConversationChain(llm=llm,memory=ConversationBufferMemory())\n",
    "for prompt in prompts:\n",
    "    print(f\"Q:{prompt}\")\n",
    "    print(f\"A:{conversation.predict(input=prompt)}\\n\")"
   ]
  },
  {
   "cell_type": "markdown",
   "id": "0639a2dc",
   "metadata": {},
   "source": [
    "# Conclusion\n",
    "\n",
    "This tutorial has introduced you to the basics of single-turn and multi-turn prompt structures. We've seen how:\n",
    "\n",
    "1. Single-turn prompts are useful for quick, isolated queries.\n",
    "2. Multi-turn prompts maintain context across a conversation, allowing for more complex interactions.\n",
    "3. PromptTemplates can be used to create structured, reusable prompts.\n",
    "4. Conversation chains in LangChain help manage context in multi-turn interactions."
   ]
  },
  {
   "cell_type": "code",
   "execution_count": null,
   "id": "ff966e5a",
   "metadata": {},
   "outputs": [],
   "source": []
  }
 ],
 "metadata": {
  "kernelspec": {
   "display_name": "venv",
   "language": "python",
   "name": "python3"
  },
  "language_info": {
   "codemirror_mode": {
    "name": "ipython",
    "version": 3
   },
   "file_extension": ".py",
   "mimetype": "text/x-python",
   "name": "python",
   "nbconvert_exporter": "python",
   "pygments_lexer": "ipython3",
   "version": "3.11.5"
  }
 },
 "nbformat": 4,
 "nbformat_minor": 5
}
