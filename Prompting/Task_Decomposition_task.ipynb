{
  "nbformat": 4,
  "nbformat_minor": 0,
  "metadata": {
    "colab": {
      "provenance": []
    },
    "kernelspec": {
      "name": "python3",
      "display_name": "Python 3"
    },
    "language_info": {
      "name": "python"
    }
  },
  "cells": [
    {
      "cell_type": "markdown",
      "source": [
        "# Task Decomposistion in Prompts\n",
        "\n",
        "As AI language models become more advanced, they are increasingly capable of handling complex tasks. However, these models often perform better when given clear, step-by-step instructions. Task decomposition is a powerful technique that allows us to break down complex problems into smaller, more manageable subtasks. This approach not only improves the model's performance but also enhances the interpretability and reliability of the results."
      ],
      "metadata": {
        "id": "pPwkNJiQSI2x"
      }
    },
    {
      "cell_type": "markdown",
      "source": [
        "The tutorial employs a step-by-step approach to demonstrate task decomposition:\n",
        "\n",
        "1. **Problem Analysis**: We start by examining a complex task and identifying its component parts.\n",
        "2. **Subtask Definition**: We define clear, manageable subtasks that collectively address the main problem.\n",
        "3. **Prompt Engineering**: For each subtask, we create targeted prompts that guide the AI model.\n",
        "4. **Sequential Execution**: We implement a chain of prompts, where the output of one subtask feeds into the next.\n",
        "5. **Result Synthesis**: Finally, we combine the outputs from all subtasks to form a comprehensive solution."
      ],
      "metadata": {
        "id": "CHottyt7S3nR"
      }
    },
    {
      "cell_type": "code",
      "source": [
        "! pip install langchain langchain-google-genai"
      ],
      "metadata": {
        "colab": {
          "base_uri": "https://localhost:8080/",
          "height": 203
        },
        "id": "Zj-cdAmhTQn-",
        "outputId": "cbc5c36d-ce89-44bd-d5c9-c8d893d9b5ac"
      },
      "execution_count": 1,
      "outputs": [
        {
          "output_type": "stream",
          "name": "stdout",
          "text": [
            "      Successfully uninstalled google-ai-generativelanguage-0.6.15\n",
            "\u001b[31mERROR: pip's dependency resolver does not currently take into account all the packages that are installed. This behaviour is the source of the following dependency conflicts.\n",
            "google-generativeai 0.8.5 requires google-ai-generativelanguage==0.6.15, but you have google-ai-generativelanguage 0.6.18 which is incompatible.\u001b[0m\u001b[31m\n",
            "\u001b[0mSuccessfully installed filetype-1.2.0 google-ai-generativelanguage-0.6.18 langchain-google-genai-2.1.4\n"
          ]
        },
        {
          "output_type": "display_data",
          "data": {
            "application/vnd.colab-display-data+json": {
              "pip_warning": {
                "packages": [
                  "google"
                ]
              },
              "id": "ede04139c1984954930f5c5ab3aadcdb"
            }
          },
          "metadata": {}
        }
      ]
    },
    {
      "cell_type": "code",
      "execution_count": 2,
      "metadata": {
        "id": "69KgAuEVQ8Ew"
      },
      "outputs": [],
      "source": [
        "import os\n",
        "from langchain_google_genai import ChatGoogleGenerativeAI\n",
        "from langchain.prompts import PromptTemplate\n",
        "\n",
        "# Set up OpenAI API key\n",
        "os.environ[\"GOOGLE_API_KEY\"] = ''\n",
        "\n",
        "# Initialize the language model\n",
        "llm = ChatGoogleGenerativeAI(model=\"gemini-1.5-flash\")\n",
        "\n",
        "def run_prompt(prompt, **kwargs):\n",
        "    \"\"\"Helper function to run a prompt through the language model.\n",
        "\n",
        "    Args:\n",
        "        prompt (str): The prompt template string.\n",
        "        **kwargs: Keyword arguments to fill the prompt template.\n",
        "\n",
        "    Returns:\n",
        "        str: The model's response.\n",
        "    \"\"\"\n",
        "    prompt_template = PromptTemplate(template=prompt, input_variables=list(kwargs.keys()))\n",
        "    chain = prompt_template | llm\n",
        "    return chain.invoke(kwargs).content"
      ]
    },
    {
      "cell_type": "markdown",
      "source": [
        "# Breaking down Complex Task"
      ],
      "metadata": {
        "id": "Kc6eD-3FTtc-"
      }
    },
    {
      "cell_type": "code",
      "source": [
        "complex_task = \"\"\"\n",
        "Analyze the financial health of a company based on the following data:\n",
        "- Revenue: $10 million\n",
        "- Net Income: $2 million\n",
        "- Total Assets: $15 million\n",
        "- Total Liabilities: $7 million\n",
        "- Cash Flow from Operations: $3 million\n",
        "\"\"\"\n",
        "\n",
        "decomposition_prompt = \"\"\"\n",
        "Break down the task of analyzing a company's financial health into 3 subtasks. For each subtask, provide a brief description of what it should accomplish.\n",
        "\n",
        "Task: {task}\n",
        "\n",
        "Subtasks:\n",
        "1.\n",
        "\"\"\"\n",
        "\n",
        "subtasks = run_prompt(decomposition_prompt, task=complex_task)\n",
        "print(subtasks)"
      ],
      "metadata": {
        "colab": {
          "base_uri": "https://localhost:8080/"
        },
        "id": "WJaSyjIgToqx",
        "outputId": "c2e3cfe3-bcf5-41a2-f709-2c48ee6491f2"
      },
      "execution_count": 3,
      "outputs": [
        {
          "output_type": "stream",
          "name": "stdout",
          "text": [
            "Subtasks:\n",
            "\n",
            "1. **Assess Profitability and Efficiency:** This subtask focuses on determining how effectively the company is generating profit and managing its resources.  It would involve calculating key profitability ratios (e.g., Net Profit Margin = Net Income / Revenue,  Gross Profit Margin, Return on Assets (ROA) = Net Income / Total Assets) and efficiency ratios (e.g., Asset Turnover).  The analysis should interpret these ratios to understand the company's pricing strategy, cost control, and overall operational efficiency.  A comparison to industry benchmarks would strengthen this analysis.\n",
            "\n",
            "2. **Evaluate Liquidity and Solvency:** This subtask aims to determine the company's ability to meet its short-term and long-term obligations.  It would involve calculating liquidity ratios (e.g., Current Ratio = Current Assets / Current Liabilities, Quick Ratio) to assess the company's ability to pay its immediate debts.  Solvency ratios (e.g., Debt-to-Equity Ratio = Total Liabilities / Total Equity, Debt-to-Asset Ratio) would be used to evaluate the company's long-term financial stability and its reliance on debt financing.  The analysis should assess the risk of financial distress.\n",
            "\n",
            "3. **Analyze Cash Flow and Funding:** This subtask examines the company's cash position and its ability to generate cash from its operations.  It centers on analyzing the Cash Flow from Operations provided, potentially supplemented by information on capital expenditures and financing activities (if available).  The analysis would determine whether the company is generating sufficient cash to cover its expenses, reinvest in the business, and repay debt.  The sustainability of the cash flow and potential funding needs should be considered.\n"
          ]
        }
      ]
    },
    {
      "cell_type": "markdown",
      "source": [
        "# Chaining Subtasks in Prompts"
      ],
      "metadata": {
        "id": "fr1nwGeHUNyh"
      }
    },
    {
      "cell_type": "code",
      "source": [
        "def analyze_profitability(revenue, net_income):\n",
        "    \"\"\"Analyze the company's profitability.\n",
        "\n",
        "    Args:\n",
        "        revenue (float): Company's revenue.\n",
        "        net_income (float): Company's net income.\n",
        "\n",
        "    Returns:\n",
        "        str: Analysis of the company's profitability.\n",
        "    \"\"\"\n",
        "    prompt = \"\"\"\n",
        "    Analyze the company's profitability based on the following data:\n",
        "    - Revenue: ${revenue} million\n",
        "    - Net Income: ${net_income} million\n",
        "\n",
        "    Calculate the profit margin and provide a brief analysis of the company's profitability.\n",
        "    \"\"\"\n",
        "    return run_prompt(prompt, revenue=revenue, net_income=net_income)\n",
        "\n",
        "def analyze_liquidity(total_assets, total_liabilities):\n",
        "    \"\"\"Analyze the company's liquidity.\n",
        "\n",
        "    Args:\n",
        "        total_assets (float): Company's total assets.\n",
        "        total_liabilities (float): Company's total liabilities.\n",
        "\n",
        "    Returns:\n",
        "        str: Analysis of the company's liquidity.\n",
        "    \"\"\"\n",
        "    prompt = \"\"\"\n",
        "    Analyze the company's liquidity based on the following data:\n",
        "    - Total Assets: ${total_assets} million\n",
        "    - Total Liabilities: ${total_liabilities} million\n",
        "\n",
        "    Calculate the current ratio and provide a brief analysis of the company's liquidity.\n",
        "    \"\"\"\n",
        "    return run_prompt(prompt, total_assets=total_assets, total_liabilities=total_liabilities)\n",
        "\n",
        "def analyze_cash_flow(cash_flow):\n",
        "    \"\"\"Analyze the company's cash flow.\n",
        "\n",
        "    Args:\n",
        "        cash_flow (float): Company's cash flow from operations.\n",
        "\n",
        "    Returns:\n",
        "        str: Analysis of the company's cash flow.\n",
        "    \"\"\"\n",
        "    prompt = \"\"\"\n",
        "    Analyze the company's cash flow based on the following data:\n",
        "    - Cash Flow from Operations: ${cash_flow} million\n",
        "\n",
        "    Provide a brief analysis of the company's cash flow health.\n",
        "    \"\"\"\n",
        "    return run_prompt(prompt, cash_flow=cash_flow)\n",
        "\n",
        "# Run the chained subtasks\n",
        "profitability_analysis = analyze_profitability(10, 2)\n",
        "liquidity_analysis = analyze_liquidity(15, 7)\n",
        "cash_flow_analysis = analyze_cash_flow(3)\n",
        "\n",
        "print(\"Profitability Analysis:\\n\", profitability_analysis)\n",
        "print(\"\\nLiquidity Analysis:\\n\", liquidity_analysis)\n",
        "print(\"\\nCash Flow Analysis:\\n\", cash_flow_analysis)"
      ],
      "metadata": {
        "colab": {
          "base_uri": "https://localhost:8080/"
        },
        "id": "uJOx4FB1UHJE",
        "outputId": "557a2230-b5d8-4bbf-d8e4-1da35768b16a"
      },
      "execution_count": 4,
      "outputs": [
        {
          "output_type": "stream",
          "name": "stdout",
          "text": [
            "Profitability Analysis:\n",
            " The profit margin is calculated as:\n",
            "\n",
            "**Profit Margin = (Net Income / Revenue) * 100%**\n",
            "\n",
            "In this case:\n",
            "\n",
            "Profit Margin = ($2 million / $10 million) * 100% = 20%\n",
            "\n",
            "**Analysis:**\n",
            "\n",
            "The company has a profit margin of 20%, which indicates that for every dollar of revenue generated, the company retains $0.20 as net income after all expenses are deducted.  A 20% profit margin is generally considered good, especially compared to many industries.  However, a more thorough analysis would require comparing this margin to:\n",
            "\n",
            "* **Industry benchmarks:**  A 20% margin might be excellent in one industry but average or poor in another.  Comparing to competitors is crucial.\n",
            "* **Past performance:**  Is this margin an improvement, a decline, or consistent with previous years?  Trends are important for understanding profitability.\n",
            "* **Cost structure:**  A deeper dive into the company's expenses is needed to understand *why* the margin is 20%.  Are costs well-managed, or is there room for improvement?  Are there any significant one-time gains or losses affecting the net income?\n",
            "\n",
            "In short, while a 20% profit margin suggests good profitability, further investigation is necessary for a complete and accurate assessment.\n",
            "\n",
            "Liquidity Analysis:\n",
            " We cannot calculate the current ratio with only total assets and total liabilities.  The current ratio is calculated as:\n",
            "\n",
            "**Current Ratio = Current Assets / Current Liabilities**\n",
            "\n",
            "The provided data gives us total assets and total liabilities, but we need the specific amounts of *current* assets and *current* liabilities.  Total assets include both current and non-current assets (like long-term investments and fixed assets), and similarly, total liabilities include both current and non-current liabilities (like long-term debt).\n",
            "\n",
            "Without current assets and current liabilities, we cannot assess the company's short-term liquidity position.  A high current ratio (generally above 1) suggests good short-term liquidity, while a low ratio indicates potential difficulties in meeting short-term obligations.  However, we need the necessary data to perform this calculation and analysis.\n",
            "\n",
            "Cash Flow Analysis:\n",
            " Based solely on the provided data of $3 million in cash flow from operations, we can only draw a limited conclusion about the company's cash flow health.  A positive cash flow from operations of $3 million indicates that the company is generating cash from its core business activities. This is a positive sign, suggesting the company is profitable and able to cover its operating expenses.\n",
            "\n",
            "However, this is an incomplete picture.  To fully assess the company's cash flow health, we need additional information, including:\n",
            "\n",
            "* **Cash Flow from Investing Activities:** This shows cash flow related to capital expenditures (e.g., purchasing equipment), acquisitions, and investments.  A large negative cash flow here could offset the positive operating cash flow.\n",
            "\n",
            "* **Cash Flow from Financing Activities:** This includes cash flow from debt financing, equity financing, and dividend payments.  This reveals how the company is funding its operations and investments.\n",
            "\n",
            "* **Net Cash Flow:** This is the sum of cash flow from operations, investing, and financing activities.  It represents the overall change in the company's cash balance during the period.\n",
            "\n",
            "* **The time period:**  $3 million is a significant amount, but whether it's a good cash flow depends on the period (e.g., monthly, quarterly, annually).\n",
            "\n",
            "* **Industry benchmarks:** Comparing the company's cash flow to industry averages provides context and helps determine if the $3 million is strong, weak, or average for companies of similar size and nature.\n",
            "\n",
            "\n",
            "In short, while a positive $3 million cash flow from operations is good news, a comprehensive analysis requires a more complete picture of the company's cash flow statement.  Without further information, a definitive assessment of the company's cash flow health is impossible.\n"
          ]
        }
      ]
    },
    {
      "cell_type": "markdown",
      "source": [
        "# Integrating the Results"
      ],
      "metadata": {
        "id": "10J4M9BXVCDw"
      }
    },
    {
      "cell_type": "code",
      "source": [
        "def integrate_results(profitability, liquidity, cash_flow):\n",
        "    \"\"\"Integrate the results from subtasks to provide an overall analysis.\n",
        "\n",
        "    Args:\n",
        "        profitability (str): Profitability analysis.\n",
        "        liquidity (str): Liquidity analysis.\n",
        "        cash_flow (str): Cash flow analysis.\n",
        "\n",
        "    Returns:\n",
        "        str: Overall analysis of the company's financial health.\n",
        "    \"\"\"\n",
        "    prompt = \"\"\"\n",
        "    Based on the following analyses, provide an overall assessment of the company's financial health:\n",
        "\n",
        "    Profitability Analysis:\n",
        "    {profitability}\n",
        "\n",
        "    Liquidity Analysis:\n",
        "    {liquidity}\n",
        "\n",
        "    Cash Flow Analysis:\n",
        "    {cash_flow}\n",
        "\n",
        "    Summarize the key points and give an overall evaluation of the company's financial position.\n",
        "    \"\"\"\n",
        "    return run_prompt(prompt, profitability=profitability, liquidity=liquidity, cash_flow=cash_flow)\n",
        "\n",
        "overall_analysis = integrate_results(profitability_analysis, liquidity_analysis, cash_flow_analysis)\n",
        "print(\"Overall Financial Health Analysis:\\n\", overall_analysis)"
      ],
      "metadata": {
        "colab": {
          "base_uri": "https://localhost:8080/"
        },
        "id": "5-rj55fYU6Tq",
        "outputId": "5cea9997-74cc-4767-fcb4-71d0450121df"
      },
      "execution_count": 5,
      "outputs": [
        {
          "output_type": "stream",
          "name": "stdout",
          "text": [
            "Overall Financial Health Analysis:\n",
            " The company shows some positive signs of financial health, but a conclusive assessment is hampered by incomplete data.\n",
            "\n",
            "**Positive Indicators:**\n",
            "\n",
            "* **Profitable Operations:** A 20% profit margin suggests strong profitability, indicating efficient operations and good pricing strategies.  However, this needs benchmarking against industry averages and past performance for a true evaluation.\n",
            "* **Positive Operating Cash Flow:**  $3 million in positive cash flow from operations is a significant positive, showing the company is generating cash from its core business activities and covering its expenses.  However, without data on investing and financing activities, and the time period covered, this assessment is incomplete.\n",
            "\n",
            "\n",
            "**Missing Information and Concerns:**\n",
            "\n",
            "* **Liquidity:**  The lack of current asset and liability data prevents a proper assessment of the company's short-term solvency.  A crucial current ratio calculation is impossible without this information.\n",
            "* **Incomplete Cash Flow Analysis:**  The absence of data on investing and financing activities, as well as the time period, prevents a full understanding of the company's overall cash flow health.  Positive operating cash flow is encouraging, but it could be offset by negative cash flows in other areas.\n",
            "* **Lack of Context:**  The analysis lacks crucial benchmarks.  Comparing the profit margin and cash flow to industry averages and past performance is essential for a robust evaluation.  Without this context, the current figures are difficult to interpret definitively.\n",
            "\n",
            "\n",
            "**Overall Evaluation:**\n",
            "\n",
            "Based on the limited data, the company exhibits signs of profitability and generates positive operating cash flow. However, the lack of complete financial statements and industry benchmarks prevents a definitive assessment of its overall financial health.  To provide a comprehensive evaluation, further information is urgently needed, particularly regarding current assets, current liabilities, and the complete cash flow statement (including investing and financing activities).  Only with a complete picture can a reliable conclusion be drawn about the company's financial strength and stability.\n"
          ]
        }
      ]
    },
    {
      "cell_type": "code",
      "source": [],
      "metadata": {
        "id": "yCisqrYDVXmA"
      },
      "execution_count": null,
      "outputs": []
    }
  ]
}