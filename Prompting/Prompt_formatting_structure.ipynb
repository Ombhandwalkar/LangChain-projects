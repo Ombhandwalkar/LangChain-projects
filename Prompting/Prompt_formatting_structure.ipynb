{
  "nbformat": 4,
  "nbformat_minor": 0,
  "metadata": {
    "colab": {
      "provenance": []
    },
    "kernelspec": {
      "name": "python3",
      "display_name": "Python 3"
    },
    "language_info": {
      "name": "python"
    }
  },
  "cells": [
    {
      "cell_type": "markdown",
      "source": [
        "# Prompt Formatting and Structure\n",
        "Understanding how to format and structure prompts is crucial for effective communication with AI models. Well-structured prompts can significantly improve the quality, relevance, and consistency of AI-generated responses. This tutorial aims to provide practical insights into crafting prompts that elicit desired outcomes across various use cases.\n",
        "\n",
        "## Key Components\n",
        "\n",
        "1. Different prompt formats (Q&A, dialogue, instructions)\n",
        "2. Structural elements (headings, bullet points, numbered lists)\n",
        "3. Comparison of prompt effectiveness\n",
        "4. Best practices for prompt formatting"
      ],
      "metadata": {
        "id": "zMl_Do9QX6Rv"
      }
    },
    {
      "cell_type": "code",
      "source": [
        "! pip install langchain langchain-google-genai"
      ],
      "metadata": {
        "colab": {
          "base_uri": "https://localhost:8080/",
          "height": 1000
        },
        "id": "FpU_zvnqX6-l",
        "outputId": "22bd2d13-f060-4add-fa80-b75ddbba03d0"
      },
      "execution_count": 1,
      "outputs": [
        {
          "output_type": "stream",
          "name": "stdout",
          "text": [
            "Requirement already satisfied: langchain in /usr/local/lib/python3.11/dist-packages (0.3.24)\n",
            "Collecting langchain-google-genai\n",
            "  Downloading langchain_google_genai-2.1.4-py3-none-any.whl.metadata (5.2 kB)\n",
            "Requirement already satisfied: langchain-core<1.0.0,>=0.3.55 in /usr/local/lib/python3.11/dist-packages (from langchain) (0.3.56)\n",
            "Requirement already satisfied: langchain-text-splitters<1.0.0,>=0.3.8 in /usr/local/lib/python3.11/dist-packages (from langchain) (0.3.8)\n",
            "Requirement already satisfied: langsmith<0.4,>=0.1.17 in /usr/local/lib/python3.11/dist-packages (from langchain) (0.3.39)\n",
            "Requirement already satisfied: pydantic<3.0.0,>=2.7.4 in /usr/local/lib/python3.11/dist-packages (from langchain) (2.11.4)\n",
            "Requirement already satisfied: SQLAlchemy<3,>=1.4 in /usr/local/lib/python3.11/dist-packages (from langchain) (2.0.40)\n",
            "Requirement already satisfied: requests<3,>=2 in /usr/local/lib/python3.11/dist-packages (from langchain) (2.32.3)\n",
            "Requirement already satisfied: PyYAML>=5.3 in /usr/local/lib/python3.11/dist-packages (from langchain) (6.0.2)\n",
            "Collecting filetype<2.0.0,>=1.2.0 (from langchain-google-genai)\n",
            "  Downloading filetype-1.2.0-py2.py3-none-any.whl.metadata (6.5 kB)\n",
            "Collecting google-ai-generativelanguage<0.7.0,>=0.6.18 (from langchain-google-genai)\n",
            "  Downloading google_ai_generativelanguage-0.6.18-py3-none-any.whl.metadata (9.8 kB)\n",
            "Requirement already satisfied: google-api-core!=2.0.*,!=2.1.*,!=2.10.*,!=2.2.*,!=2.3.*,!=2.4.*,!=2.5.*,!=2.6.*,!=2.7.*,!=2.8.*,!=2.9.*,<3.0.0,>=1.34.1 in /usr/local/lib/python3.11/dist-packages (from google-api-core[grpc]!=2.0.*,!=2.1.*,!=2.10.*,!=2.2.*,!=2.3.*,!=2.4.*,!=2.5.*,!=2.6.*,!=2.7.*,!=2.8.*,!=2.9.*,<3.0.0,>=1.34.1->google-ai-generativelanguage<0.7.0,>=0.6.18->langchain-google-genai) (2.24.2)\n",
            "Requirement already satisfied: google-auth!=2.24.0,!=2.25.0,<3.0.0,>=2.14.1 in /usr/local/lib/python3.11/dist-packages (from google-ai-generativelanguage<0.7.0,>=0.6.18->langchain-google-genai) (2.38.0)\n",
            "Requirement already satisfied: proto-plus<2.0.0,>=1.22.3 in /usr/local/lib/python3.11/dist-packages (from google-ai-generativelanguage<0.7.0,>=0.6.18->langchain-google-genai) (1.26.1)\n",
            "Requirement already satisfied: protobuf!=4.21.0,!=4.21.1,!=4.21.2,!=4.21.3,!=4.21.4,!=4.21.5,<7.0.0,>=3.20.2 in /usr/local/lib/python3.11/dist-packages (from google-ai-generativelanguage<0.7.0,>=0.6.18->langchain-google-genai) (5.29.4)\n",
            "Requirement already satisfied: tenacity!=8.4.0,<10.0.0,>=8.1.0 in /usr/local/lib/python3.11/dist-packages (from langchain-core<1.0.0,>=0.3.55->langchain) (9.1.2)\n",
            "Requirement already satisfied: jsonpatch<2.0,>=1.33 in /usr/local/lib/python3.11/dist-packages (from langchain-core<1.0.0,>=0.3.55->langchain) (1.33)\n",
            "Requirement already satisfied: packaging<25,>=23.2 in /usr/local/lib/python3.11/dist-packages (from langchain-core<1.0.0,>=0.3.55->langchain) (24.2)\n",
            "Requirement already satisfied: typing-extensions>=4.7 in /usr/local/lib/python3.11/dist-packages (from langchain-core<1.0.0,>=0.3.55->langchain) (4.13.2)\n",
            "Requirement already satisfied: httpx<1,>=0.23.0 in /usr/local/lib/python3.11/dist-packages (from langsmith<0.4,>=0.1.17->langchain) (0.28.1)\n",
            "Requirement already satisfied: orjson<4.0.0,>=3.9.14 in /usr/local/lib/python3.11/dist-packages (from langsmith<0.4,>=0.1.17->langchain) (3.10.18)\n",
            "Requirement already satisfied: requests-toolbelt<2.0.0,>=1.0.0 in /usr/local/lib/python3.11/dist-packages (from langsmith<0.4,>=0.1.17->langchain) (1.0.0)\n",
            "Requirement already satisfied: zstandard<0.24.0,>=0.23.0 in /usr/local/lib/python3.11/dist-packages (from langsmith<0.4,>=0.1.17->langchain) (0.23.0)\n",
            "Requirement already satisfied: annotated-types>=0.6.0 in /usr/local/lib/python3.11/dist-packages (from pydantic<3.0.0,>=2.7.4->langchain) (0.7.0)\n",
            "Requirement already satisfied: pydantic-core==2.33.2 in /usr/local/lib/python3.11/dist-packages (from pydantic<3.0.0,>=2.7.4->langchain) (2.33.2)\n",
            "Requirement already satisfied: typing-inspection>=0.4.0 in /usr/local/lib/python3.11/dist-packages (from pydantic<3.0.0,>=2.7.4->langchain) (0.4.0)\n",
            "Requirement already satisfied: charset-normalizer<4,>=2 in /usr/local/lib/python3.11/dist-packages (from requests<3,>=2->langchain) (3.4.1)\n",
            "Requirement already satisfied: idna<4,>=2.5 in /usr/local/lib/python3.11/dist-packages (from requests<3,>=2->langchain) (3.10)\n",
            "Requirement already satisfied: urllib3<3,>=1.21.1 in /usr/local/lib/python3.11/dist-packages (from requests<3,>=2->langchain) (2.4.0)\n",
            "Requirement already satisfied: certifi>=2017.4.17 in /usr/local/lib/python3.11/dist-packages (from requests<3,>=2->langchain) (2025.4.26)\n",
            "Requirement already satisfied: greenlet>=1 in /usr/local/lib/python3.11/dist-packages (from SQLAlchemy<3,>=1.4->langchain) (3.2.1)\n",
            "Requirement already satisfied: googleapis-common-protos<2.0.0,>=1.56.2 in /usr/local/lib/python3.11/dist-packages (from google-api-core!=2.0.*,!=2.1.*,!=2.10.*,!=2.2.*,!=2.3.*,!=2.4.*,!=2.5.*,!=2.6.*,!=2.7.*,!=2.8.*,!=2.9.*,<3.0.0,>=1.34.1->google-api-core[grpc]!=2.0.*,!=2.1.*,!=2.10.*,!=2.2.*,!=2.3.*,!=2.4.*,!=2.5.*,!=2.6.*,!=2.7.*,!=2.8.*,!=2.9.*,<3.0.0,>=1.34.1->google-ai-generativelanguage<0.7.0,>=0.6.18->langchain-google-genai) (1.70.0)\n",
            "Requirement already satisfied: grpcio<2.0dev,>=1.33.2 in /usr/local/lib/python3.11/dist-packages (from google-api-core[grpc]!=2.0.*,!=2.1.*,!=2.10.*,!=2.2.*,!=2.3.*,!=2.4.*,!=2.5.*,!=2.6.*,!=2.7.*,!=2.8.*,!=2.9.*,<3.0.0,>=1.34.1->google-ai-generativelanguage<0.7.0,>=0.6.18->langchain-google-genai) (1.71.0)\n",
            "Requirement already satisfied: grpcio-status<2.0.dev0,>=1.33.2 in /usr/local/lib/python3.11/dist-packages (from google-api-core[grpc]!=2.0.*,!=2.1.*,!=2.10.*,!=2.2.*,!=2.3.*,!=2.4.*,!=2.5.*,!=2.6.*,!=2.7.*,!=2.8.*,!=2.9.*,<3.0.0,>=1.34.1->google-ai-generativelanguage<0.7.0,>=0.6.18->langchain-google-genai) (1.71.0)\n",
            "Requirement already satisfied: cachetools<6.0,>=2.0.0 in /usr/local/lib/python3.11/dist-packages (from google-auth!=2.24.0,!=2.25.0,<3.0.0,>=2.14.1->google-ai-generativelanguage<0.7.0,>=0.6.18->langchain-google-genai) (5.5.2)\n",
            "Requirement already satisfied: pyasn1-modules>=0.2.1 in /usr/local/lib/python3.11/dist-packages (from google-auth!=2.24.0,!=2.25.0,<3.0.0,>=2.14.1->google-ai-generativelanguage<0.7.0,>=0.6.18->langchain-google-genai) (0.4.2)\n",
            "Requirement already satisfied: rsa<5,>=3.1.4 in /usr/local/lib/python3.11/dist-packages (from google-auth!=2.24.0,!=2.25.0,<3.0.0,>=2.14.1->google-ai-generativelanguage<0.7.0,>=0.6.18->langchain-google-genai) (4.9.1)\n",
            "Requirement already satisfied: anyio in /usr/local/lib/python3.11/dist-packages (from httpx<1,>=0.23.0->langsmith<0.4,>=0.1.17->langchain) (4.9.0)\n",
            "Requirement already satisfied: httpcore==1.* in /usr/local/lib/python3.11/dist-packages (from httpx<1,>=0.23.0->langsmith<0.4,>=0.1.17->langchain) (1.0.9)\n",
            "Requirement already satisfied: h11>=0.16 in /usr/local/lib/python3.11/dist-packages (from httpcore==1.*->httpx<1,>=0.23.0->langsmith<0.4,>=0.1.17->langchain) (0.16.0)\n",
            "Requirement already satisfied: jsonpointer>=1.9 in /usr/local/lib/python3.11/dist-packages (from jsonpatch<2.0,>=1.33->langchain-core<1.0.0,>=0.3.55->langchain) (3.0.0)\n",
            "Requirement already satisfied: pyasn1<0.7.0,>=0.6.1 in /usr/local/lib/python3.11/dist-packages (from pyasn1-modules>=0.2.1->google-auth!=2.24.0,!=2.25.0,<3.0.0,>=2.14.1->google-ai-generativelanguage<0.7.0,>=0.6.18->langchain-google-genai) (0.6.1)\n",
            "Requirement already satisfied: sniffio>=1.1 in /usr/local/lib/python3.11/dist-packages (from anyio->httpx<1,>=0.23.0->langsmith<0.4,>=0.1.17->langchain) (1.3.1)\n",
            "Downloading langchain_google_genai-2.1.4-py3-none-any.whl (44 kB)\n",
            "\u001b[2K   \u001b[90m━━━━━━━━━━━━━━━━━━━━━━━━━━━━━━━━━━━━━━━━\u001b[0m \u001b[32m44.3/44.3 kB\u001b[0m \u001b[31m1.1 MB/s\u001b[0m eta \u001b[36m0:00:00\u001b[0m\n",
            "\u001b[?25hDownloading filetype-1.2.0-py2.py3-none-any.whl (19 kB)\n",
            "Downloading google_ai_generativelanguage-0.6.18-py3-none-any.whl (1.4 MB)\n",
            "\u001b[2K   \u001b[90m━━━━━━━━━━━━━━━━━━━━━━━━━━━━━━━━━━━━━━━━\u001b[0m \u001b[32m1.4/1.4 MB\u001b[0m \u001b[31m24.0 MB/s\u001b[0m eta \u001b[36m0:00:00\u001b[0m\n",
            "\u001b[?25hInstalling collected packages: filetype, google-ai-generativelanguage, langchain-google-genai\n",
            "  Attempting uninstall: google-ai-generativelanguage\n",
            "    Found existing installation: google-ai-generativelanguage 0.6.15\n",
            "    Uninstalling google-ai-generativelanguage-0.6.15:\n",
            "      Successfully uninstalled google-ai-generativelanguage-0.6.15\n",
            "\u001b[31mERROR: pip's dependency resolver does not currently take into account all the packages that are installed. This behaviour is the source of the following dependency conflicts.\n",
            "google-generativeai 0.8.5 requires google-ai-generativelanguage==0.6.15, but you have google-ai-generativelanguage 0.6.18 which is incompatible.\u001b[0m\u001b[31m\n",
            "\u001b[0mSuccessfully installed filetype-1.2.0 google-ai-generativelanguage-0.6.18 langchain-google-genai-2.1.4\n"
          ]
        },
        {
          "output_type": "display_data",
          "data": {
            "application/vnd.colab-display-data+json": {
              "pip_warning": {
                "packages": [
                  "google"
                ]
              },
              "id": "d7bf6e37b5424659bd36d09e85258320"
            }
          },
          "metadata": {}
        }
      ]
    },
    {
      "cell_type": "code",
      "execution_count": 5,
      "metadata": {
        "id": "sDc5HgrFX1iF"
      },
      "outputs": [],
      "source": [
        "import os\n",
        "from langchain_google_genai import ChatGoogleGenerativeAI\n",
        "from langchain.prompts import PromptTemplate\n",
        "\n",
        "os.environ['GOOGLE_API_KEY']=''\n",
        "\n",
        "# Inatiate the LLM\n",
        "llm=ChatGoogleGenerativeAI(model='gemini-1.5-flash')\n",
        "\n",
        "def get_response(prompt):\n",
        "    \"\"\"Helper function to get model response and print it.\"\"\"\n",
        "    response = llm.invoke(prompt).content\n",
        "    print(response)\n",
        "    print(\"-\" * 50)\n",
        "    return response"
      ]
    },
    {
      "cell_type": "markdown",
      "source": [
        "# 1. Question and Answer format"
      ],
      "metadata": {
        "id": "DjtbidCBYT1f"
      }
    },
    {
      "cell_type": "code",
      "source": [
        "qa_prompt=\"\"\"Q: What is photosynthesis?\n",
        "        A:\"\"\"\n",
        "get_response(qa_prompt)"
      ],
      "metadata": {
        "colab": {
          "base_uri": "https://localhost:8080/",
          "height": 159
        },
        "id": "51w-h2ijYKe7",
        "outputId": "2e1af007-a840-4435-dc15-8fe5e3057482"
      },
      "execution_count": 7,
      "outputs": [
        {
          "output_type": "stream",
          "name": "stdout",
          "text": [
            "A: Photosynthesis is the process used by plants, algae, and some bacteria to convert light energy into chemical energy in the form of sugars.  This process uses sunlight, water, and carbon dioxide to produce glucose (a sugar) and oxygen.  The glucose is then used by the organism for energy and growth, while the oxygen is released as a byproduct.\n",
            "--------------------------------------------------\n"
          ]
        },
        {
          "output_type": "execute_result",
          "data": {
            "text/plain": [
              "'A: Photosynthesis is the process used by plants, algae, and some bacteria to convert light energy into chemical energy in the form of sugars.  This process uses sunlight, water, and carbon dioxide to produce glucose (a sugar) and oxygen.  The glucose is then used by the organism for energy and growth, while the oxygen is released as a byproduct.'"
            ],
            "application/vnd.google.colaboratory.intrinsic+json": {
              "type": "string"
            }
          },
          "metadata": {},
          "execution_count": 7
        }
      ]
    },
    {
      "cell_type": "markdown",
      "source": [
        "# 2. Dialogue Format"
      ],
      "metadata": {
        "id": "XTfnaPr6Y26q"
      }
    },
    {
      "cell_type": "code",
      "source": [
        "dialogue_prompt=\"\"\"\n",
        "    Student: Can you explain photosynthesis to me ?\n",
        "    Teacher: Certainly! Photosynthesis is ...\n",
        "    Student: What does plant need for photosynthesis ?\n",
        "    Teacher:\n",
        "\"\"\"\n",
        "get_response(dialogue_prompt)"
      ],
      "metadata": {
        "colab": {
          "base_uri": "https://localhost:8080/",
          "height": 107
        },
        "id": "qFp7WU91YgkV",
        "outputId": "9d0f71fb-0b3b-429b-e739-ce10eaab0ed1"
      },
      "execution_count": 8,
      "outputs": [
        {
          "output_type": "stream",
          "name": "stdout",
          "text": [
            "Teacher:  Good question!  For photosynthesis, plants need three main things:  **sunlight**, **carbon dioxide**, and **water**.\n",
            "--------------------------------------------------\n"
          ]
        },
        {
          "output_type": "execute_result",
          "data": {
            "text/plain": [
              "'Teacher:  Good question!  For photosynthesis, plants need three main things:  **sunlight**, **carbon dioxide**, and **water**.'"
            ],
            "application/vnd.google.colaboratory.intrinsic+json": {
              "type": "string"
            }
          },
          "metadata": {},
          "execution_count": 8
        }
      ]
    },
    {
      "cell_type": "markdown",
      "source": [
        "# 3. Instruction Format"
      ],
      "metadata": {
        "id": "kr7ho5P5ZR9g"
      }
    },
    {
      "cell_type": "code",
      "source": [
        "instruction_prompt = \"\"\"Provide a brief explanation of photosynthesis, including its main components and importance.\"\"\"\n",
        "\n",
        "get_response(instruction_prompt)"
      ],
      "metadata": {
        "colab": {
          "base_uri": "https://localhost:8080/",
          "height": 524
        },
        "id": "YBwDtWtgZLp6",
        "outputId": "8a85fc6f-40b5-4939-82af-a359d8fb6dea"
      },
      "execution_count": 9,
      "outputs": [
        {
          "output_type": "stream",
          "name": "stdout",
          "text": [
            "Photosynthesis is the process used by plants, algae, and some bacteria to convert light energy into chemical energy in the form of sugars.  The main components are:\n",
            "\n",
            "* **Light:**  Provides the energy to drive the process.\n",
            "* **Water (H₂O):** Absorbed through the roots, providing electrons and hydrogen ions.\n",
            "* **Carbon dioxide (CO₂):** Absorbed from the atmosphere through stomata (tiny pores in leaves), providing carbon atoms to build sugars.\n",
            "* **Chlorophyll:** A green pigment located in chloroplasts (organelles within plant cells) that absorbs light energy.\n",
            "\n",
            "During photosynthesis, light energy is used to split water molecules (photolysis), releasing oxygen as a byproduct. The hydrogen ions and electrons are then used to convert carbon dioxide into glucose (a simple sugar) through a series of chemical reactions. This glucose serves as the plant's primary source of energy and building block for other organic molecules.\n",
            "\n",
            "Photosynthesis is crucial for life on Earth because it:\n",
            "\n",
            "* **Produces oxygen:**  The oxygen released is essential for the respiration of most organisms.\n",
            "* **Provides food:**  Plants are the base of most food chains, providing energy for almost all other living things, directly or indirectly.\n",
            "* **Removes carbon dioxide:** It helps regulate the Earth's atmosphere by removing carbon dioxide, a greenhouse gas.\n",
            "--------------------------------------------------\n"
          ]
        },
        {
          "output_type": "execute_result",
          "data": {
            "text/plain": [
              "\"Photosynthesis is the process used by plants, algae, and some bacteria to convert light energy into chemical energy in the form of sugars.  The main components are:\\n\\n* **Light:**  Provides the energy to drive the process.\\n* **Water (H₂O):** Absorbed through the roots, providing electrons and hydrogen ions.\\n* **Carbon dioxide (CO₂):** Absorbed from the atmosphere through stomata (tiny pores in leaves), providing carbon atoms to build sugars.\\n* **Chlorophyll:** A green pigment located in chloroplasts (organelles within plant cells) that absorbs light energy.\\n\\nDuring photosynthesis, light energy is used to split water molecules (photolysis), releasing oxygen as a byproduct. The hydrogen ions and electrons are then used to convert carbon dioxide into glucose (a simple sugar) through a series of chemical reactions. This glucose serves as the plant's primary source of energy and building block for other organic molecules.\\n\\nPhotosynthesis is crucial for life on Earth because it:\\n\\n* **Produces oxygen:**  The oxygen released is essential for the respiration of most organisms.\\n* **Provides food:**  Plants are the base of most food chains, providing energy for almost all other living things, directly or indirectly.\\n* **Removes carbon dioxide:** It helps regulate the Earth's atmosphere by removing carbon dioxide, a greenhouse gas.\""
            ],
            "application/vnd.google.colaboratory.intrinsic+json": {
              "type": "string"
            }
          },
          "metadata": {},
          "execution_count": 9
        }
      ]
    },
    {
      "cell_type": "markdown",
      "source": [
        " # Impact of Structural Elements\n",
        " ## 1. Using Headings"
      ],
      "metadata": {
        "id": "mKE8z0cza1vh"
      }
    },
    {
      "cell_type": "code",
      "source": [
        "headings_prompt=\"\"\"\n",
        "      Explain photosynthesis using the following structure:\n",
        "      # Definition\n",
        "      # Process\n",
        "      # Importance\n",
        "\"\"\"\n",
        "get_response(headings_prompt)"
      ],
      "metadata": {
        "colab": {
          "base_uri": "https://localhost:8080/",
          "height": 732
        },
        "id": "Fi0RXJqXZf25",
        "outputId": "b003085b-2944-4927-ea77-ea54023924ae"
      },
      "execution_count": 10,
      "outputs": [
        {
          "output_type": "stream",
          "name": "stdout",
          "text": [
            "# Definition\n",
            "\n",
            "Photosynthesis is the process used by plants, algae, and some bacteria to convert light energy into chemical energy in the form of glucose (a sugar).  This process is essential for life on Earth as it forms the base of most food chains.\n",
            "\n",
            "# Process\n",
            "\n",
            "Photosynthesis occurs in two main stages:\n",
            "\n",
            "**1. Light-dependent reactions:** These reactions take place in the thylakoid membranes within chloroplasts.  Light energy is absorbed by chlorophyll and other pigments. This energy is used to split water molecules (photolysis), releasing oxygen as a byproduct.  The energy is also used to create ATP (adenosine triphosphate) and NADPH, which are energy-carrying molecules.\n",
            "\n",
            "**2. Light-independent reactions (Calvin cycle):**  These reactions occur in the stroma (the fluid-filled space surrounding the thylakoids) of the chloroplasts.  ATP and NADPH produced in the light-dependent reactions provide the energy to \"fix\" carbon dioxide (CO2) from the atmosphere.  Through a series of enzyme-catalyzed reactions, CO2 is incorporated into organic molecules, ultimately forming glucose.  This glucose can then be used by the plant for energy, growth, and storage.\n",
            "\n",
            "\n",
            "In summary:  Light energy + Water + Carbon Dioxide → Glucose + Oxygen\n",
            "\n",
            "# Importance\n",
            "\n",
            "Photosynthesis is crucial for several reasons:\n",
            "\n",
            "* **Production of food:**  Glucose produced during photosynthesis is the primary source of energy for most ecosystems.  Plants are producers, forming the base of the food chain.  Herbivores eat plants, and carnivores eat herbivores, ultimately relying on the energy initially captured by photosynthesis.\n",
            "\n",
            "* **Oxygen production:** The oxygen released during photolysis is essential for the respiration of most living organisms, including humans.  Without photosynthesis, the Earth's atmosphere would lack the free oxygen necessary for aerobic life.\n",
            "\n",
            "* **Carbon dioxide regulation:** Photosynthesis removes carbon dioxide from the atmosphere, helping to regulate Earth's climate.  Increased atmospheric CO2 contributes to global warming, and photosynthesis acts as a natural carbon sink.\n",
            "\n",
            "* **Foundation of ecosystems:** Photosynthesis supports the biodiversity of ecosystems by providing the energy and organic matter that sustains a vast array of life forms.  The loss of photosynthetic organisms would have catastrophic consequences for the entire biosphere.\n",
            "--------------------------------------------------\n"
          ]
        },
        {
          "output_type": "execute_result",
          "data": {
            "text/plain": [
              "'# Definition\\n\\nPhotosynthesis is the process used by plants, algae, and some bacteria to convert light energy into chemical energy in the form of glucose (a sugar).  This process is essential for life on Earth as it forms the base of most food chains.\\n\\n# Process\\n\\nPhotosynthesis occurs in two main stages:\\n\\n**1. Light-dependent reactions:** These reactions take place in the thylakoid membranes within chloroplasts.  Light energy is absorbed by chlorophyll and other pigments. This energy is used to split water molecules (photolysis), releasing oxygen as a byproduct.  The energy is also used to create ATP (adenosine triphosphate) and NADPH, which are energy-carrying molecules.\\n\\n**2. Light-independent reactions (Calvin cycle):**  These reactions occur in the stroma (the fluid-filled space surrounding the thylakoids) of the chloroplasts.  ATP and NADPH produced in the light-dependent reactions provide the energy to \"fix\" carbon dioxide (CO2) from the atmosphere.  Through a series of enzyme-catalyzed reactions, CO2 is incorporated into organic molecules, ultimately forming glucose.  This glucose can then be used by the plant for energy, growth, and storage.\\n\\n\\nIn summary:  Light energy + Water + Carbon Dioxide → Glucose + Oxygen\\n\\n# Importance\\n\\nPhotosynthesis is crucial for several reasons:\\n\\n* **Production of food:**  Glucose produced during photosynthesis is the primary source of energy for most ecosystems.  Plants are producers, forming the base of the food chain.  Herbivores eat plants, and carnivores eat herbivores, ultimately relying on the energy initially captured by photosynthesis.\\n\\n* **Oxygen production:** The oxygen released during photolysis is essential for the respiration of most living organisms, including humans.  Without photosynthesis, the Earth\\'s atmosphere would lack the free oxygen necessary for aerobic life.\\n\\n* **Carbon dioxide regulation:** Photosynthesis removes carbon dioxide from the atmosphere, helping to regulate Earth\\'s climate.  Increased atmospheric CO2 contributes to global warming, and photosynthesis acts as a natural carbon sink.\\n\\n* **Foundation of ecosystems:** Photosynthesis supports the biodiversity of ecosystems by providing the energy and organic matter that sustains a vast array of life forms.  The loss of photosynthetic organisms would have catastrophic consequences for the entire biosphere.'"
            ],
            "application/vnd.google.colaboratory.intrinsic+json": {
              "type": "string"
            }
          },
          "metadata": {},
          "execution_count": 10
        }
      ]
    },
    {
      "cell_type": "markdown",
      "source": [
        "# 2. Using Bullet Points"
      ],
      "metadata": {
        "id": "K9MecmMKbiBo"
      }
    },
    {
      "cell_type": "code",
      "source": [
        "bullet_points_prompt=\"\"\"\n",
        "      List the key components needed for photosynthesis:\n",
        "      •\n",
        "      •\n",
        "      •\n",
        "          \"\"\"\n",
        "get_response(bullet_points_prompt)"
      ],
      "metadata": {
        "colab": {
          "base_uri": "https://localhost:8080/",
          "height": 159
        },
        "id": "1TUHH3O5bdBA",
        "outputId": "90b5250f-49ce-45c5-82cb-3f207f6c5b49"
      },
      "execution_count": 12,
      "outputs": [
        {
          "output_type": "stream",
          "name": "stdout",
          "text": [
            "* **Sunlight:**  Provides the energy to drive the process.\n",
            "* **Carbon dioxide (CO₂):**  The source of carbon atoms for building sugars.\n",
            "* **Water (H₂O):** Provides electrons and hydrogen ions (protons) needed for the reactions.\n",
            "--------------------------------------------------\n"
          ]
        },
        {
          "output_type": "execute_result",
          "data": {
            "text/plain": [
              "'* **Sunlight:**  Provides the energy to drive the process.\\n* **Carbon dioxide (CO₂):**  The source of carbon atoms for building sugars.\\n* **Water (H₂O):** Provides electrons and hydrogen ions (protons) needed for the reactions.'"
            ],
            "application/vnd.google.colaboratory.intrinsic+json": {
              "type": "string"
            }
          },
          "metadata": {},
          "execution_count": 12
        }
      ]
    },
    {
      "cell_type": "markdown",
      "source": [
        "# 3. Using Numbered Lists"
      ],
      "metadata": {
        "id": "DnQrkqemb4NY"
      }
    },
    {
      "cell_type": "code",
      "source": [
        "numbered_list_prompt = \"\"\"Describe the steps of photosynthesis in order:\n",
        "\n",
        "1.\n",
        "2.\n",
        "3.\n",
        "4.\n",
        "\"\"\"\n",
        "\n",
        "get_response(numbered_list_prompt)"
      ],
      "metadata": {
        "colab": {
          "base_uri": "https://localhost:8080/",
          "height": 402
        },
        "id": "VLKOVUPEbztz",
        "outputId": "0fe3ea54-01ae-4a54-c2be-3ece5ceedeb0"
      },
      "execution_count": 13,
      "outputs": [
        {
          "output_type": "stream",
          "name": "stdout",
          "text": [
            "1. **Light Absorption:** Light energy is absorbed by chlorophyll and other pigments located in the thylakoid membranes of chloroplasts.  This energy excites electrons within the pigment molecules.\n",
            "\n",
            "2. **Electron Transport Chain:** The excited electrons are passed along a series of electron carrier molecules embedded in the thylakoid membrane.  This electron transport chain releases energy used to pump protons (H+) into the thylakoid space, creating a proton gradient.\n",
            "\n",
            "3. **ATP and NADPH Synthesis:** The proton gradient drives ATP synthase, an enzyme that produces ATP (adenosine triphosphate), the cell's energy currency.  At the end of the electron transport chain, electrons are accepted by NADP+, reducing it to NADPH, a reducing agent used in the next stage.  This entire process is called the light-dependent reactions.\n",
            "\n",
            "4. **Calvin Cycle (Carbon Fixation):** ATP and NADPH generated in the light-dependent reactions are used to power the Calvin cycle, a series of reactions that take place in the stroma of the chloroplast.  CO2 from the atmosphere is incorporated into an organic molecule (RuBP) and then converted into glucose (a sugar) through a series of enzyme-catalyzed reactions. This is the light-independent reaction.\n",
            "--------------------------------------------------\n"
          ]
        },
        {
          "output_type": "execute_result",
          "data": {
            "text/plain": [
              "\"1. **Light Absorption:** Light energy is absorbed by chlorophyll and other pigments located in the thylakoid membranes of chloroplasts.  This energy excites electrons within the pigment molecules.\\n\\n2. **Electron Transport Chain:** The excited electrons are passed along a series of electron carrier molecules embedded in the thylakoid membrane.  This electron transport chain releases energy used to pump protons (H+) into the thylakoid space, creating a proton gradient.\\n\\n3. **ATP and NADPH Synthesis:** The proton gradient drives ATP synthase, an enzyme that produces ATP (adenosine triphosphate), the cell's energy currency.  At the end of the electron transport chain, electrons are accepted by NADP+, reducing it to NADPH, a reducing agent used in the next stage.  This entire process is called the light-dependent reactions.\\n\\n4. **Calvin Cycle (Carbon Fixation):** ATP and NADPH generated in the light-dependent reactions are used to power the Calvin cycle, a series of reactions that take place in the stroma of the chloroplast.  CO2 from the atmosphere is incorporated into an organic molecule (RuBP) and then converted into glucose (a sugar) through a series of enzyme-catalyzed reactions. This is the light-independent reaction.\""
            ],
            "application/vnd.google.colaboratory.intrinsic+json": {
              "type": "string"
            }
          },
          "metadata": {},
          "execution_count": 13
        }
      ]
    },
    {
      "cell_type": "code",
      "source": [
        "comparison_prompts = [\n",
        "    \"Explain the importance of photosynthesis for life on Earth.\",\n",
        "    \"\"\"Explain the importance of photosynthesis for life on Earth. Structure your answer as follows:\n",
        "    1. Oxygen production\n",
        "    2. Food chain support\n",
        "    3. Carbon dioxide absorption\"\"\",\n",
        "    \"\"\"Q: Why is photosynthesis important for life on Earth?\n",
        "    A: Photosynthesis is crucial for life on Earth because:\n",
        "    1.\n",
        "    2.\n",
        "    3.\"\"\"\n",
        "]\n",
        "\n",
        "for i, prompt in enumerate(comparison_prompts, 1):\n",
        "    print(f\"Prompt {i}:\")\n",
        "    get_response(prompt)"
      ],
      "metadata": {
        "colab": {
          "base_uri": "https://localhost:8080/"
        },
        "id": "mszsV86Kb7uR",
        "outputId": "2dbc1b5c-aa37-456f-dbcb-3d75c9809fcd"
      },
      "execution_count": 14,
      "outputs": [
        {
          "output_type": "stream",
          "name": "stdout",
          "text": [
            "Prompt 1:\n",
            "Photosynthesis is fundamentally important for life on Earth because it's the primary source of energy and organic matter for most ecosystems.  Without it, life as we know it wouldn't exist. Here's a breakdown of its importance:\n",
            "\n",
            "* **Energy Production:** Photosynthesis converts light energy from the sun into chemical energy in the form of glucose (a sugar). This glucose is the primary fuel source for almost all life forms, either directly (for plants and algae) or indirectly (for animals that consume plants or other animals).  This energy powers all biological processes, from growth and reproduction to movement and maintaining body temperature.\n",
            "\n",
            "* **Oxygen Production:**  As a byproduct of photosynthesis, oxygen (O2) is released into the atmosphere.  This oxygen is essential for the respiration of most organisms, including humans and animals.  Without photosynthesis, the Earth's atmosphere would lack the free oxygen necessary for aerobic respiration, a far more efficient energy-producing process than anaerobic respiration.\n",
            "\n",
            "* **Carbon Dioxide Regulation:** Photosynthesis consumes carbon dioxide (CO2) from the atmosphere. This is crucial for regulating the Earth's climate. CO2 is a greenhouse gas, and photosynthesis helps to mitigate the effects of climate change by removing it from the atmosphere.  An imbalance in this process contributes to global warming.\n",
            "\n",
            "* **Basis of Food Chains:** Photosynthetic organisms (plants, algae, and some bacteria) are the foundation of most food chains and webs. They are the primary producers, meaning they produce their own food using sunlight. All other organisms, from herbivores to carnivores and decomposers, ultimately depend on the energy and organic matter produced by these primary producers.\n",
            "\n",
            "* **Creation of Organic Molecules:**  Photosynthesis doesn't just produce glucose; it also creates other essential organic molecules, including amino acids, lipids, and nucleic acids, which are the building blocks of all living organisms.\n",
            "\n",
            "In summary, photosynthesis is not just a process; it's the engine that drives the biosphere.  It provides the energy, oxygen, and organic molecules that are essential for the survival and flourishing of almost all life on Earth.  Without it, the planet would be a vastly different, and far less hospitable, place.\n",
            "--------------------------------------------------\n",
            "Prompt 2:\n",
            "Photosynthesis is fundamental to life on Earth, playing a crucial role in three primary ways:\n",
            "\n",
            "**1. Oxygen Production:**  Photosynthesis is the primary source of oxygen in Earth's atmosphere.  During the process, photosynthetic organisms (primarily plants, algae, and cyanobacteria) use sunlight, water, and carbon dioxide to produce glucose (a sugar) for energy.  A byproduct of this reaction is oxygen, which is released into the atmosphere.  Without photosynthesis, the atmospheric oxygen levels would be drastically lower, making it impossible for most life forms, including humans and other animals, to survive.  The oxygen we breathe is a direct result of billions of years of photosynthetic activity.\n",
            "\n",
            "**2. Food Chain Support:**  The glucose produced during photosynthesis serves as the foundation of most food chains on Earth.  Plants, algae, and other photosynthetic organisms are called *producers* because they create their own food.  These producers are then consumed by *primary consumers* (herbivores), which are in turn consumed by *secondary consumers* (carnivores), and so on.  The energy captured by photosynthetic organisms during photosynthesis flows through the entire food web, sustaining all other life.  Without photosynthesis, the base of the food chain would collapse, leading to a catastrophic loss of biodiversity and ecosystem function.\n",
            "\n",
            "**3. Carbon Dioxide Absorption:** Photosynthesis plays a vital role in regulating Earth's climate by absorbing carbon dioxide (CO2) from the atmosphere.  CO2 is a greenhouse gas, meaning it traps heat and contributes to global warming.  During photosynthesis, plants and other photosynthetic organisms take in CO2 and use it to build glucose.  This process effectively removes CO2 from the atmosphere, helping to maintain a stable climate.  While the amount of CO2 absorbed by photosynthesis is massive, human activities are currently releasing CO2 into the atmosphere at a rate far exceeding the capacity of natural processes like photosynthesis to absorb it, leading to significant climate change.\n",
            "--------------------------------------------------\n",
            "Prompt 3:\n",
            "A: Photosynthesis is crucial for life on Earth because:\n",
            "\n",
            "1. **It's the primary source of energy for most ecosystems:**  Photosynthesis converts light energy into chemical energy in the form of glucose (sugar). This glucose is then used by plants and other photosynthetic organisms (like algae and some bacteria) as fuel for their own life processes, and it forms the base of the food web.  Almost all other organisms ultimately depend on this energy, either directly by consuming plants or indirectly by consuming organisms that eat plants.\n",
            "\n",
            "2. **It produces oxygen:**  As a byproduct of photosynthesis, oxygen is released into the atmosphere.  This oxygen is essential for the respiration of most living organisms, including humans and animals.  Without photosynthesis, the Earth's atmosphere would lack the free oxygen necessary to support the majority of life as we know it.\n",
            "\n",
            "3. **It's a major carbon sink:** Photosynthesis removes carbon dioxide (CO2) from the atmosphere.  CO2 is a greenhouse gas, and the process of photosynthesis helps to regulate Earth's climate by reducing the amount of CO2 in the atmosphere.  This helps to prevent excessive global warming.\n",
            "--------------------------------------------------\n"
          ]
        }
      ]
    },
    {
      "cell_type": "code",
      "source": [],
      "metadata": {
        "id": "8M-sVmWNcAaC"
      },
      "execution_count": null,
      "outputs": []
    }
  ]
}