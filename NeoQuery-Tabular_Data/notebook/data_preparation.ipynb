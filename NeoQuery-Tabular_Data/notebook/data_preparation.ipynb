{
 "cells": [
  {
   "cell_type": "code",
   "execution_count": 1,
   "metadata": {},
   "outputs": [],
   "source": [
    "from langchain_community.graphs import Neo4jGraph\n",
    "import pandas as pd\n",
    "from pyprojroot import here\n",
    "from urllib.parse import quote\n",
    "\n"
   ]
  },
  {
   "cell_type": "code",
   "execution_count": 2,
   "metadata": {},
   "outputs": [],
   "source": [
    "NEO4J_URL = \"bolt://localhost:7687\"\n",
    "NEO4J_USERNAME = \"neo4j\"\n",
    "NEO4J_PASSWORD = \"Password\"\n",
    "NEO4J_DATABASE = 'neo4j'"
   ]
  },
  {
   "cell_type": "code",
   "execution_count": 3,
   "metadata": {},
   "outputs": [
    {
     "name": "stderr",
     "output_type": "stream",
     "text": [
      "C:\\Users\\ombha\\AppData\\Local\\Temp\\ipykernel_19804\\2317117226.py:1: LangChainDeprecationWarning: The class `Neo4jGraph` was deprecated in LangChain 0.3.8 and will be removed in 1.0. An updated version of the class exists in the :class:`~langchain-neo4j package and should be used instead. To use it run `pip install -U :class:`~langchain-neo4j` and import as `from :class:`~langchain_neo4j import Neo4jGraph``.\n",
      "  graph = Neo4jGraph(url=NEO4J_URL, username=NEO4J_USERNAME, password=NEO4J_PASSWORD, database=NEO4J_DATABASE)\n"
     ]
    }
   ],
   "source": [
    "graph = Neo4jGraph(url=NEO4J_URL, username=NEO4J_USERNAME, password=NEO4J_PASSWORD, database=NEO4J_DATABASE)"
   ]
  },
  {
   "cell_type": "code",
   "execution_count": 8,
   "metadata": {},
   "outputs": [
    {
     "name": "stdout",
     "output_type": "stream",
     "text": [
      "Index(['Unnamed: 0', 'movieId', 'released', 'title', 'actors', 'director',\n",
      "       'genres', 'imdbRating', 'tagline'],\n",
      "      dtype='object')\n",
      "DAta shape: (20, 9)\n"
     ]
    }
   ],
   "source": [
    "movie_csv_path = here(\"data/movie.csv\")\n",
    "movie_csv_path = movie_csv_path.as_posix()  # if it's a pathlib.Path object\n",
    "\n",
    "print(pd.read_csv(movie_csv_path).columns)\n",
    "print(\"DAta shape:\", pd.read_csv(movie_csv_path).shape)"
   ]
  },
  {
   "cell_type": "code",
   "execution_count": 9,
   "metadata": {},
   "outputs": [
    {
     "data": {
      "text/html": [
       "<div>\n",
       "<style scoped>\n",
       "    .dataframe tbody tr th:only-of-type {\n",
       "        vertical-align: middle;\n",
       "    }\n",
       "\n",
       "    .dataframe tbody tr th {\n",
       "        vertical-align: top;\n",
       "    }\n",
       "\n",
       "    .dataframe thead th {\n",
       "        text-align: right;\n",
       "    }\n",
       "</style>\n",
       "<table border=\"1\" class=\"dataframe\">\n",
       "  <thead>\n",
       "    <tr style=\"text-align: right;\">\n",
       "      <th></th>\n",
       "      <th>Unnamed: 0</th>\n",
       "      <th>movieId</th>\n",
       "      <th>released</th>\n",
       "      <th>title</th>\n",
       "      <th>actors</th>\n",
       "      <th>director</th>\n",
       "      <th>genres</th>\n",
       "      <th>imdbRating</th>\n",
       "      <th>tagline</th>\n",
       "    </tr>\n",
       "  </thead>\n",
       "  <tbody>\n",
       "    <tr>\n",
       "      <th>0</th>\n",
       "      <td>0</td>\n",
       "      <td>1</td>\n",
       "      <td>1995-11-22</td>\n",
       "      <td>Toy Story</td>\n",
       "      <td>Jim Varney|Tim Allen|Tom Hanks|Don Rickles</td>\n",
       "      <td>John Lasseter</td>\n",
       "      <td>Adventure|Animation|Children|Comedy|Fantasy</td>\n",
       "      <td>8.3</td>\n",
       "      <td>The adventure takes off!</td>\n",
       "    </tr>\n",
       "    <tr>\n",
       "      <th>1</th>\n",
       "      <td>1</td>\n",
       "      <td>2</td>\n",
       "      <td>1995-12-15</td>\n",
       "      <td>Jumanji</td>\n",
       "      <td>Robin Williams|Bradley Pierce|Kirsten Dunst|Jo...</td>\n",
       "      <td>Joe Johnston</td>\n",
       "      <td>Adventure|Children|Fantasy</td>\n",
       "      <td>6.9</td>\n",
       "      <td>Roll the dice and unleash the excitement!</td>\n",
       "    </tr>\n",
       "    <tr>\n",
       "      <th>2</th>\n",
       "      <td>2</td>\n",
       "      <td>3</td>\n",
       "      <td>1995-12-22</td>\n",
       "      <td>Grumpier Old Men</td>\n",
       "      <td>Walter Matthau|Ann-Margret|Jack Lemmon|Sophia ...</td>\n",
       "      <td>Howard Deutch</td>\n",
       "      <td>Comedy|Romance</td>\n",
       "      <td>6.6</td>\n",
       "      <td>Still Yelling. Still Fighting. Still Ready for...</td>\n",
       "    </tr>\n",
       "  </tbody>\n",
       "</table>\n",
       "</div>"
      ],
      "text/plain": [
       "   Unnamed: 0  movieId    released             title  \\\n",
       "0           0        1  1995-11-22         Toy Story   \n",
       "1           1        2  1995-12-15           Jumanji   \n",
       "2           2        3  1995-12-22  Grumpier Old Men   \n",
       "\n",
       "                                              actors       director  \\\n",
       "0         Jim Varney|Tim Allen|Tom Hanks|Don Rickles  John Lasseter   \n",
       "1  Robin Williams|Bradley Pierce|Kirsten Dunst|Jo...   Joe Johnston   \n",
       "2  Walter Matthau|Ann-Margret|Jack Lemmon|Sophia ...  Howard Deutch   \n",
       "\n",
       "                                        genres  imdbRating  \\\n",
       "0  Adventure|Animation|Children|Comedy|Fantasy         8.3   \n",
       "1                   Adventure|Children|Fantasy         6.9   \n",
       "2                               Comedy|Romance         6.6   \n",
       "\n",
       "                                             tagline  \n",
       "0                           The adventure takes off!  \n",
       "1          Roll the dice and unleash the excitement!  \n",
       "2  Still Yelling. Still Fighting. Still Ready for...  "
      ]
     },
     "execution_count": 9,
     "metadata": {},
     "output_type": "execute_result"
    }
   ],
   "source": [
    "pd.read_csv(movie_csv_path).head(3)"
   ]
  },
  {
   "cell_type": "code",
   "execution_count": 11,
   "metadata": {},
   "outputs": [
    {
     "data": {
      "text/plain": [
       "[]"
      ]
     },
     "execution_count": 11,
     "metadata": {},
     "output_type": "execute_result"
    }
   ],
   "source": [
    "graph.query(\"\"\"\n",
    "LOAD CSV WITH HEADERS FROM 'file:///' + $movie_directory    // Load CSV data from a file specified by $movie_directory\n",
    "AS row                                                      // Each row in the CSV will be represented as 'row'\n",
    "            \n",
    "MERGE (m:Movie {id:row.movieId})                            // Merge a Movie node with the id from the row\n",
    "SET m.released = date(row.released),                        // Set the 'released' property of the Movie node to the date from the row\n",
    "    m.title = row.title,                                    // Set the 'title' property of the Movie node to the title from the row\n",
    "    m.tagline = row.tagline,                                // Set the 'tagline' property of the Movie node to the tagline from the row\n",
    "    m.imdbRating = toFloat(row.imdbRating)                  // Convert the 'imdbRating' from string to float and set it as the property\n",
    "            \n",
    "FOREACH (director in split(row.director, '|') |             // For each director in the list of directors from the row (split by '|') \n",
    "    MERGE (p:Person {name:trim(director)})                  // Merge a Person node with the director's name from the row, trimming any extra spaces\n",
    "    MERGE (p)-[:DIRECTED]->(m))                             // Create a DIRECTED relationship from the director to the Movie\n",
    "            \n",
    "FOREACH (actor in split(row.actors, '|') |                  // For each actor in the list of actors from the row (split by '|') \n",
    "    MERGE (p:Person {name:trim(actor)})                     // Merge a Person node with the actor's name from the row, trimming any extra spaces\n",
    "    MERGE (p)-[:ACTED_IN]->(m))                             // Create an ACTED_IN relationship from the actor to the Movie\n",
    "            \n",
    "FOREACH (genre in split(row.genres, '|') |                  // For each genre in the list of genres from the row (split by '|')\n",
    "    MERGE (g:Genre {name:trim(genre)})                      // Merge a Genre node with the genre's name from the row, trimming any extra spaces\n",
    "    MERGE (m)-[:IN_GENRE]->(g))                             // Create an IN_GENRE relationship from the Movie to the Genre\n",
    "            \n",
    "MERGE (l:Location {name:trim(row.location)})\n",
    "MERGE (m)-[:WAS_TAKEN_IN]->(l)\n",
    "\n",
    "MERGE (s:SimilarMovie {name:trim(row.similar_movie)})\n",
    "MERGE (m)-[:IS_SIMILAR_TO]->(s)                                            \n",
    "\"\"\",\n",
    "params={\"movie_directory\": str(movie_csv_path)})            # Pass the parameter 'movie_directory' which contains the path to the CSV file"
   ]
  },
  {
   "cell_type": "code",
   "execution_count": null,
   "metadata": {},
   "outputs": [],
   "source": []
  }
 ],
 "metadata": {
  "kernelspec": {
   "display_name": "venv",
   "language": "python",
   "name": "python3"
  },
  "language_info": {
   "codemirror_mode": {
    "name": "ipython",
    "version": 3
   },
   "file_extension": ".py",
   "mimetype": "text/x-python",
   "name": "python",
   "nbconvert_exporter": "python",
   "pygments_lexer": "ipython3",
   "version": "3.12.3"
  }
 },
 "nbformat": 4,
 "nbformat_minor": 2
}
