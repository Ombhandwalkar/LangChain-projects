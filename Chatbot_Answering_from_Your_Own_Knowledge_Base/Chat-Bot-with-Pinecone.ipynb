{
 "cells": [
  {
   "cell_type": "code",
   "execution_count": null,
   "metadata": {},
   "outputs": [
    {
     "name": "stderr",
     "output_type": "stream",
     "text": [
      "libmagic is unavailable but assists in filetype detection. Please consider installing libmagic for better results.\n"
     ]
    },
    {
     "data": {
      "text/plain": [
       "1"
      ]
     },
     "execution_count": 16,
     "metadata": {},
     "output_type": "execute_result"
    }
   ],
   "source": [
    "# We are loading our Document from Directory\n",
    "# We are using DirectoryLoader class provided by Langchain\n",
    "from langchain.document_loaders import DirectoryLoader\n",
    "directory='B:/Major_Git/LangChain models/Chatbot_Answering_from_Your_Own_Knowledge_Base/book'\n",
    "def load_docs(directory):\n",
    "    loader=DirectoryLoader(directory)\n",
    "    documents=loader.load()\n",
    "    return documents\n",
    "documents=load_docs(directory)\n",
    "len(documents)"
   ]
  },
  {
   "cell_type": "code",
   "execution_count": 17,
   "metadata": {},
   "outputs": [
    {
     "name": "stdout",
     "output_type": "stream",
     "text": [
      "496\n"
     ]
    }
   ],
   "source": [
    "# We will split this document into smaller chunks \n",
    "from langchain.text_splitter import RecursiveCharacterTextSplitter\n",
    "def split_docs(documents,chunk_size=500,chunk_overlap=20): # Chunk overlap will decide how much text from previous chunk is retained in the next chunk\n",
    "    text_splitter=RecursiveCharacterTextSplitter(chunk_size=chunk_size,chunk_overlap=chunk_overlap)\n",
    "    docs=text_splitter.split_documents(documents)\n",
    "    return docs\n",
    "docs=split_docs(documents)\n",
    "print(len(docs))"
   ]
  },
  {
   "cell_type": "code",
   "execution_count": 19,
   "metadata": {},
   "outputs": [
    {
     "name": "stderr",
     "output_type": "stream",
     "text": [
      "C:\\Users\\ombha\\AppData\\Local\\Temp\\ipykernel_16468\\2145657351.py:4: LangChainDeprecationWarning: The class `HuggingFaceEmbeddings` was deprecated in LangChain 0.2.2 and will be removed in 1.0. An updated version of the class exists in the :class:`~langchain-huggingface package and should be used instead. To use it run `pip install -U :class:`~langchain-huggingface` and import as `from :class:`~langchain_huggingface import HuggingFaceEmbeddings``.\n",
      "  embeddings=SentenceTransformerEmbeddings(model_name='all-MiniLM-L6-v2')\n",
      "b:\\Major_Git\\LangChain models\\venv\\Lib\\site-packages\\tqdm\\auto.py:21: TqdmWarning: IProgress not found. Please update jupyter and ipywidgets. See https://ipywidgets.readthedocs.io/en/stable/user_install.html\n",
      "  from .autonotebook import tqdm as notebook_tqdm\n"
     ]
    }
   ],
   "source": [
    "# We will create embeddings of that created chunk of document.\n",
    "# convert text into numerical format .So our model can understand\n",
    "from langchain.embeddings import SentenceTransformerEmbeddings\n",
    "embeddings=SentenceTransformerEmbeddings(model_name='all-MiniLM-L6-v2')"
   ]
  },
  {
   "cell_type": "code",
   "execution_count": null,
   "metadata": {},
   "outputs": [
    {
     "data": {
      "text/plain": [
       "{\n",
       "    \"name\": \"langchain-chatbot\",\n",
       "    \"metric\": \"cosine\",\n",
       "    \"host\": \"langchain-chatbot-gru85pp.svc.aped-4627-b74a.pinecone.io\",\n",
       "    \"spec\": {\n",
       "        \"serverless\": {\n",
       "            \"cloud\": \"aws\",\n",
       "            \"region\": \"us-east-1\"\n",
       "        }\n",
       "    },\n",
       "    \"status\": {\n",
       "        \"ready\": true,\n",
       "        \"state\": \"Ready\"\n",
       "    },\n",
       "    \"vector_type\": \"dense\",\n",
       "    \"dimension\": 384,\n",
       "    \"deletion_protection\": \"disabled\",\n",
       "    \"tags\": null\n",
       "}"
      ]
     },
     "execution_count": 37,
     "metadata": {},
     "output_type": "execute_result"
    }
   ],
   "source": [
    "''' We are going to store this Embeddings into our Database- Pinecone'''\n",
    "import os\n",
    "import pinecone\n",
    "from pinecone import Pinecone ,ServerlessSpec ,ServerlessSpec, CloudProvider, AwsRegion,VectorType\n",
    "from langchain.vectorstores import Pinecone as PineconeStores\n",
    "\n",
    "pc=Pinecone(api_key='PINECONE_API_KEY',environment=\"us-east-1\")\n",
    "index='langchain-chatbot'\n",
    "pc.create_index(\n",
    "    name=index,\n",
    "    dimension=384,\n",
    "    metric='cosine',\n",
    "    spec=ServerlessSpec(cloud=\"aws\", region=\"us-east-1\")\n",
    ")\n"
   ]
  },
  {
   "cell_type": "code",
   "execution_count": 50,
   "metadata": {},
   "outputs": [],
   "source": [
    "from langchain_pinecone import PineconeVectorStore\n",
    "from dotenv import load_dotenv\n",
    "load_dotenv()\n",
    "index=PineconeVectorStore.from_documents(docs,embeddings,index_name=index)"
   ]
  },
  {
   "cell_type": "code",
   "execution_count": 51,
   "metadata": {},
   "outputs": [],
   "source": [
    "# Checking the Similiraty of Question\n",
    "def get_similar_docs(query,k=1,score=False):\n",
    "    if score:\n",
    "        similar_docs=index.similarity_search_with_score(query,k=k)\n",
    "    else:\n",
    "        similar_docs=index.similarity_search(query,k=k)\n",
    "    return similar_docs"
   ]
  },
  {
   "cell_type": "code",
   "execution_count": 52,
   "metadata": {},
   "outputs": [
    {
     "data": {
      "text/plain": [
       "[Document(id='688f1c31-d4fa-4b93-8ba6-44bdf1a896d6', metadata={'source': 'B:\\\\Major_Git\\\\LangChain models\\\\Chatbot_Answering_from_Your_Own_Knowledge_Base\\\\book\\\\india.txt'}, page_content=\"India's economy\\n\\nis estimated to have been the largestin the world, having between one-third and one-quarter of the world's wealth, from 1 CE to 1000CE.\\n\\n[\\n\\n127\\n\\n]\\n\\n[\\n\\n128\\n\\n]\\n\\nClassical period (c. 200 BCE – 650 CE)\\n\\n26/03/2025, 14:17 History of India - Wikipedia\\n\\nhttps://en.wikipedia.org/wiki/History_of_India 12/75\\n\\nShunga Empire\\n\\nEast Gateway and Railings,\\n\\nBharhut\\n\\nStupa\\n\\n, 2nd century BCE.\\n\\nShunga art\\n\\nAncient vina\\n\\n, 1stcentury BCE.\\n\\nRoyal family, 1stcentury BCE inWest Bengal.\")]"
      ]
     },
     "execution_count": 52,
     "metadata": {},
     "output_type": "execute_result"
    }
   ],
   "source": [
    "query='Tell me about India'\n",
    "similar_docs=get_similar_docs(query)\n",
    "similar_docs"
   ]
  },
  {
   "cell_type": "code",
   "execution_count": null,
   "metadata": {},
   "outputs": [],
   "source": []
  }
 ],
 "metadata": {
  "kernelspec": {
   "display_name": "venv",
   "language": "python",
   "name": "python3"
  },
  "language_info": {
   "codemirror_mode": {
    "name": "ipython",
    "version": 3
   },
   "file_extension": ".py",
   "mimetype": "text/x-python",
   "name": "python",
   "nbconvert_exporter": "python",
   "pygments_lexer": "ipython3",
   "version": "3.11.5"
  }
 },
 "nbformat": 4,
 "nbformat_minor": 2
}
