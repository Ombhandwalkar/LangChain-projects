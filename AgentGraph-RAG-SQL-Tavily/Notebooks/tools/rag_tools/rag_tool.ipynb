{
 "cells": [
  {
   "cell_type": "code",
   "execution_count": 28,
   "id": "b8f1db3b",
   "metadata": {},
   "outputs": [
    {
     "data": {
      "text/plain": [
       "True"
      ]
     },
     "execution_count": 28,
     "metadata": {},
     "output_type": "execute_result"
    }
   ],
   "source": [
    "from langchain_chroma import Chroma\n",
    "import google.generativeai as genai\n",
    "from pyprojroot import here\n",
    "from pprint import pprint\n",
    "import os \n",
    "from langchain_google_genai import ChatGoogleGenerativeAI, GoogleGenerativeAIEmbeddings\n",
    "from langchain.document_loaders import PyPDFLoader\n",
    "from dotenv import load_dotenv\n",
    "load_dotenv()"
   ]
  },
  {
   "cell_type": "code",
   "execution_count": 20,
   "id": "88f484ac",
   "metadata": {},
   "outputs": [],
   "source": [
    "EMBEDDING_MODEL=\"models/embedding-001\"\n",
    "VECTOR_DIR='data/airline_policy_vectordb'\n",
    "K=2"
   ]
  },
  {
   "cell_type": "code",
   "execution_count": 29,
   "id": "1c10ad35",
   "metadata": {},
   "outputs": [],
   "source": [
    "pdf_path=r'B:\\QueryBot_AI-Powered_SQL_Agent_for_Multi-Database_Interaction\\data\\unstructured_docs\\swiss_airline_policy\\swiss_faq.pdf'\n",
    "loader=PyPDFLoader(pdf_path)\n",
    "documents=loader.load()"
   ]
  },
  {
   "cell_type": "code",
   "execution_count": 30,
   "id": "997261f4",
   "metadata": {},
   "outputs": [],
   "source": [
    "texts=[doc.page_content for doc in documents]"
   ]
  },
  {
   "cell_type": "code",
   "execution_count": 31,
   "id": "1ea65201",
   "metadata": {},
   "outputs": [
    {
     "name": "stdout",
     "output_type": "stream",
     "text": [
      "Number of vector in VectorDB : 12 \n",
      "\n",
      "\n"
     ]
    }
   ],
   "source": [
    "# Load vectorDB\n",
    "vectordb=Chroma(\n",
    "    collection_name='rag-chroma',\n",
    "    persist_directory=str(here(VECTOR_DIR)),\n",
    "    embedding_function=GoogleGenerativeAIEmbeddings(model=EMBEDDING_MODEL)\n",
    ")\n",
    "vectordb.add_texts(texts)\n",
    "print('Number of vector in VectorDB :',vectordb._collection.count(),'\\n\\n')"
   ]
  },
  {
   "cell_type": "code",
   "execution_count": 32,
   "id": "4ffc725f",
   "metadata": {},
   "outputs": [
    {
     "data": {
      "text/plain": [
       "[Document(id='92b616d2-ac92-44fa-b86a-a8a18b7331ff', metadata={}, page_content='How to Cancel a Swiss Air Flight: 877-\\n5O7-7341 Step-by-Step Guide\\nSwiss Air is a premium airline based in Switzerland that offers a range of domestic and international flights to\\npassengers. However, sometimes situations arise where passengers may need to cancel their flights. In such cases, it is\\nimportant to understand the Swiss Air Cancellation Policy to avoid any confusion or additional charges.\\nSwiss International Airlines Cancellation Policy In this article, we will provide you with everything you need to know about\\nthe Swiss Air Cancellation Policy, including how to cancel a Swiss Air flight, the fees associated with cancelling a flight,\\nand the refund policy.\\nIf you have booked a flight with Swiss Airlines but need to cancel it, it\\'s important to understand their cancellation policy\\nto avoid any unnecessary fees or charges. Swiss Airlines offers different fare types, each with their own specific\\ncancellation terms and conditions. The most flexible fare types such as Flex and Business Flex allow you to cancel your\\nflight up to 24 hours before departure without any penalty. For other fare types, cancellation fees may apply. If you cancel\\nyour Swiss Airlines flight outside of the 24-hour window, cancellation fees will be charged depending on your fare type\\nand the time of cancellation. For example, if you cancel a non-flexible economy class ticket, a cancellation fee will be\\ncharged. The closer you cancel to the departure date, the higher the cancellation fee. In some cases, Swiss Airlines may\\nallow you to make changes to your flight instead of cancelling it outright. However, these changes may also come with\\nfees or penalties depending on your fare type and the type of change requested. If Swiss Airlines cancels your flight, you\\nmay be entitled to a full refund or rebooking on another flight. However, if the cancellation is due to extraordinary\\ncircumstances such as bad weather or political unrest, Swiss Airlines may not be obligated to offer any compensation. In\\nsummary, Swiss Airlines\\' cancellation policy varies depending on your fare type and the time of cancellation. To avoid any\\nunnecessary fees or charges, it\\'s important to familiarise yourself with the terms and conditions of your ticket and to\\ncontact Swiss Airlines as soon as possible if you need to make changes or cancel your flight.\\nHow to Cancel a Swiss Air Flight? If you need to cancel a Swiss Air flight, you can do so online, through the mobile app,\\nor by contacting the Swiss Air Customer Service team. To cancel a flight online, you can log in to your Swiss Air account\\nand follow the instructions provided.\\nSwiss Air Flight Cancellations Online If you need to cancel a Swiss Air flight, you can do so by following these steps:\\nVisit the Swiss Air website or app and navigate to the \"My Bookings\" section. Log in with your booking details. Find the\\nflight you want to cancel and click on the \"Cancel\" button. Follow the prompts to confirm your cancellation. Review the\\ncancellation policy and any fees that may apply. If eligible for a refund, submit a refund request through the website or\\napp. Alternatively, you can also cancel your Swiss Air flight by contacting their customer service department via phone,\\nemail or live chat. Be sure to have your booking details ready when you contact them. Keep in mind that depending on\\nthe fare type and the timing of your cancellation, you may be subject to fees or penalties.\\nIf you choose to cancel your flight through the Swiss Air Customer Service team, you can contact them through the\\nphone or email. It is important to note that cancellation fees may apply depending on the type of ticket you have\\npurchased.\\nSwiss Air Flight Cancellations via Call Step 1: Find the Customer Service Number'),\n",
       " Document(id='850d9a35-a3e2-487d-8710-75e120936229', metadata={}, page_content='hour cancellation policy that allows passengers to cancel their flights within 24 hours of booking at +1-877-507-7341\\nwithout penalty. This policy applies to all fare types, including non-refundable tickets. If you cancel your Swiss Airlines\\nflight within 24 hours of booking, you\\'ll receive a full refund of your ticket price.\\nHow to Cancel Swiss Airlines Flight within 24 Hours? If you need to cancel your Swiss Airlines flight within 24 hours of\\nbooking, you can do so easily online. Here are the steps to follow:\\nGo to Swiss Airlines\\' website and click on the \"Manage your bookings\" tab. Enter your booking reference number and last\\nname to access your booking. Select the flight you want to cancel and click on \"Cancel flight.\" Confirm your cancellation\\nand you\\'ll receive a full refund of your ticket price. If you booked your Swiss Airlines flight through a travel agent, you\\'ll\\nneed to contact them directly to cancel your flight within 24 hours.\\nImportant Things to Keep in Mind for Swiss Airlines 24 Hour Cancellation Here are some important things to keep in mind\\nwhen cancelling your Swiss Airlines flight within 24 hours:\\nSwiss Airlines\\' 24 hour cancellation policy only applies to flights booked directly through Swiss Airlines. If you booked\\nyour flight through a travel agent or third-party website, you\\'ll need to check their cancellation policy. If you cancel your\\nSwiss Airlines flight after the 24 hour window, you may be subject to cancellation fees or penalties. If you have a non-\\nrefundable ticket and cancel your flight within 24 hours of booking, you\\'ll receive a full refund of your ticket price.\\nHowever, if you cancel your flight after the 24 hour window, you may not be eligible for a refund. Swiss Airlines\\' 24 hour\\ncancellation policy allows passengers to cancel their flights within 24 hours of booking without penalty. If you need to\\ncancel your Swiss Airlines flight within 24 hours, you can do so easily online. Just remember to check the terms and\\nconditions of your ticket to make sure you\\'re eligible for a refund.\\nSwiss Air Cancellation Fees The cancellation fees for Swiss Air flights may vary depending on the type of ticket you have\\npurchased. The airline offers three different types of tickets, which are:\\nFlex Ticket - This ticket offers the most flexibility and allows passengers to make changes or cancel their flight without\\nincurring any additional fees. Standard Ticket - This ticket offers some flexibility but charges a fee for changes and\\ncancellations. The fee for cancelling a standard ticket can range from 100 to 250 CHF, depending on the route and time\\nof cancellation. Economy Ticket - This ticket offers the least flexibility and charges a fee for any changes or cancellations.\\nThe fee for cancelling an economy ticket can range from 150 to 350 CHF, depending on the route and time of\\ncancellation. It is important to note that the fees listed above are subject to change and may vary depending on the\\nspecific ticket you have purchased. Additionally, if you have purchased any add-ons or upgrades, such as extra baggage\\nor seat selection, the fees associated with cancelling those may also apply.\\nSwiss Air Refund Policy If you cancel your Swiss Air flight, you may be eligible for a refund depending on the type of\\nticket you have purchased and the time of cancellation. Here are the details:\\nFlex Ticket - If you have purchased a Flex Ticket, you can cancel your flight without incurring any fees and receive a full\\nrefund. Standard Ticket - If you have purchased a Standard Ticket and cancel your flight within 24 hours of booking, you\\ncan receive a full refund. If you cancel your flight after 24 hours, you may be charged a cancellation fee and receive a\\npartial refund. Economy Ticket - If you have purchased an Economy Ticket and cancel your flight within 24 hours of\\nbooking, you can receive a full refund. If you cancel your flight after 24 hours, you may be charged a cancellation fee and')]"
      ]
     },
     "execution_count": 32,
     "metadata": {},
     "output_type": "execute_result"
    }
   ],
   "source": [
    "message = \"What is the cancelation rule for a flight ticket at swiss airline policy?\"\n",
    "docs = vectordb.similarity_search(message, k=K)\n",
    "docs"
   ]
  },
  {
   "cell_type": "code",
   "execution_count": 33,
   "id": "78cf3f79",
   "metadata": {},
   "outputs": [],
   "source": [
    "question = \"# User new question:\\n\" + message\n",
    "retrieved_content = \"\"\n",
    "for doc in docs:\n",
    "    retrieved_content += f\"{doc.page_content}\\n\\n\"\n",
    "prompt = f\"# Content:\\n{retrieved_content}\\n\\n{question}\""
   ]
  },
  {
   "cell_type": "code",
   "execution_count": 34,
   "id": "240ceef5",
   "metadata": {},
   "outputs": [
    {
     "name": "stdout",
     "output_type": "stream",
     "text": [
      "('# Content:\\n'\n",
      " 'How to Cancel a Swiss Air Flight: 877-\\n'\n",
      " '5O7-7341 Step-by-Step Guide\\n'\n",
      " 'Swiss Air is a premium airline based in Switzerland that offers a range of '\n",
      " 'domestic and international flights to\\n'\n",
      " 'passengers. However, sometimes situations arise where passengers may need to '\n",
      " 'cancel their flights. In such cases, it is\\n'\n",
      " 'important to understand the Swiss Air Cancellation Policy to avoid any '\n",
      " 'confusion or additional charges.\\n'\n",
      " 'Swiss International Airlines Cancellation Policy In this article, we will '\n",
      " 'provide you with everything you need to know about\\n'\n",
      " 'the Swiss Air Cancellation Policy, including how to cancel a Swiss Air '\n",
      " 'flight, the fees associated with cancelling a flight,\\n'\n",
      " 'and the refund policy.\\n'\n",
      " \"If you have booked a flight with Swiss Airlines but need to cancel it, it's \"\n",
      " 'important to understand their cancellation policy\\n'\n",
      " 'to avoid any unnecessary fees or charges. Swiss Airlines offers different '\n",
      " 'fare types, each with their own specific\\n'\n",
      " 'cancellation terms and conditions. The most flexible fare types such as Flex '\n",
      " 'and Business Flex allow you to cancel your\\n'\n",
      " 'flight up to 24 hours before departure without any penalty. For other fare '\n",
      " 'types, cancellation fees may apply. If you cancel\\n'\n",
      " 'your Swiss Airlines flight outside of the 24-hour window, cancellation fees '\n",
      " 'will be charged depending on your fare type\\n'\n",
      " 'and the time of cancellation. For example, if you cancel a non-flexible '\n",
      " 'economy class ticket, a cancellation fee will be\\n'\n",
      " 'charged. The closer you cancel to the departure date, the higher the '\n",
      " 'cancellation fee. In some cases, Swiss Airlines may\\n'\n",
      " 'allow you to make changes to your flight instead of cancelling it outright. '\n",
      " 'However, these changes may also come with\\n'\n",
      " 'fees or penalties depending on your fare type and the type of change '\n",
      " 'requested. If Swiss Airlines cancels your flight, you\\n'\n",
      " 'may be entitled to a full refund or rebooking on another flight. However, if '\n",
      " 'the cancellation is due to extraordinary\\n'\n",
      " 'circumstances such as bad weather or political unrest, Swiss Airlines may '\n",
      " 'not be obligated to offer any compensation. In\\n'\n",
      " \"summary, Swiss Airlines' cancellation policy varies depending on your fare \"\n",
      " 'type and the time of cancellation. To avoid any\\n'\n",
      " \"unnecessary fees or charges, it's important to familiarise yourself with the \"\n",
      " 'terms and conditions of your ticket and to\\n'\n",
      " 'contact Swiss Airlines as soon as possible if you need to make changes or '\n",
      " 'cancel your flight.\\n'\n",
      " 'How to Cancel a Swiss Air Flight? If you need to cancel a Swiss Air flight, '\n",
      " 'you can do so online, through the mobile app,\\n'\n",
      " 'or by contacting the Swiss Air Customer Service team. To cancel a flight '\n",
      " 'online, you can log in to your Swiss Air account\\n'\n",
      " 'and follow the instructions provided.\\n'\n",
      " 'Swiss Air Flight Cancellations Online If you need to cancel a Swiss Air '\n",
      " 'flight, you can do so by following these steps:\\n'\n",
      " 'Visit the Swiss Air website or app and navigate to the \"My Bookings\" '\n",
      " 'section. Log in with your booking details. Find the\\n'\n",
      " 'flight you want to cancel and click on the \"Cancel\" button. Follow the '\n",
      " 'prompts to confirm your cancellation. Review the\\n'\n",
      " 'cancellation policy and any fees that may apply. If eligible for a refund, '\n",
      " 'submit a refund request through the website or\\n'\n",
      " 'app. Alternatively, you can also cancel your Swiss Air flight by contacting '\n",
      " 'their customer service department via phone,\\n'\n",
      " 'email or live chat. Be sure to have your booking details ready when you '\n",
      " 'contact them. Keep in mind that depending on\\n'\n",
      " 'the fare type and the timing of your cancellation, you may be subject to '\n",
      " 'fees or penalties.\\n'\n",
      " 'If you choose to cancel your flight through the Swiss Air Customer Service '\n",
      " 'team, you can contact them through the\\n'\n",
      " 'phone or email. It is important to note that cancellation fees may apply '\n",
      " 'depending on the type of ticket you have\\n'\n",
      " 'purchased.\\n'\n",
      " 'Swiss Air Flight Cancellations via Call Step 1: Find the Customer Service '\n",
      " 'Number\\n'\n",
      " '\\n'\n",
      " 'hour cancellation policy that allows passengers to cancel their flights '\n",
      " 'within 24 hours of booking at +1-877-507-7341\\n'\n",
      " 'without penalty. This policy applies to all fare types, including '\n",
      " 'non-refundable tickets. If you cancel your Swiss Airlines\\n'\n",
      " \"flight within 24 hours of booking, you'll receive a full refund of your \"\n",
      " 'ticket price.\\n'\n",
      " 'How to Cancel Swiss Airlines Flight within 24 Hours? If you need to cancel '\n",
      " 'your Swiss Airlines flight within 24 hours of\\n'\n",
      " 'booking, you can do so easily online. Here are the steps to follow:\\n'\n",
      " 'Go to Swiss Airlines\\' website and click on the \"Manage your bookings\" tab. '\n",
      " 'Enter your booking reference number and last\\n'\n",
      " 'name to access your booking. Select the flight you want to cancel and click '\n",
      " 'on \"Cancel flight.\" Confirm your cancellation\\n'\n",
      " \"and you'll receive a full refund of your ticket price. If you booked your \"\n",
      " \"Swiss Airlines flight through a travel agent, you'll\\n\"\n",
      " 'need to contact them directly to cancel your flight within 24 hours.\\n'\n",
      " 'Important Things to Keep in Mind for Swiss Airlines 24 Hour Cancellation '\n",
      " 'Here are some important things to keep in mind\\n'\n",
      " 'when cancelling your Swiss Airlines flight within 24 hours:\\n'\n",
      " \"Swiss Airlines' 24 hour cancellation policy only applies to flights booked \"\n",
      " 'directly through Swiss Airlines. If you booked\\n'\n",
      " \"your flight through a travel agent or third-party website, you'll need to \"\n",
      " 'check their cancellation policy. If you cancel your\\n'\n",
      " 'Swiss Airlines flight after the 24 hour window, you may be subject to '\n",
      " 'cancellation fees or penalties. If you have a non-\\n'\n",
      " \"refundable ticket and cancel your flight within 24 hours of booking, you'll \"\n",
      " 'receive a full refund of your ticket price.\\n'\n",
      " 'However, if you cancel your flight after the 24 hour window, you may not be '\n",
      " \"eligible for a refund. Swiss Airlines' 24 hour\\n\"\n",
      " 'cancellation policy allows passengers to cancel their flights within 24 '\n",
      " 'hours of booking without penalty. If you need to\\n'\n",
      " 'cancel your Swiss Airlines flight within 24 hours, you can do so easily '\n",
      " 'online. Just remember to check the terms and\\n'\n",
      " \"conditions of your ticket to make sure you're eligible for a refund.\\n\"\n",
      " 'Swiss Air Cancellation Fees The cancellation fees for Swiss Air flights may '\n",
      " 'vary depending on the type of ticket you have\\n'\n",
      " 'purchased. The airline offers three different types of tickets, which are:\\n'\n",
      " 'Flex Ticket - This ticket offers the most flexibility and allows passengers '\n",
      " 'to make changes or cancel their flight without\\n'\n",
      " 'incurring any additional fees. Standard Ticket - This ticket offers some '\n",
      " 'flexibility but charges a fee for changes and\\n'\n",
      " 'cancellations. The fee for cancelling a standard ticket can range from 100 '\n",
      " 'to 250 CHF, depending on the route and time\\n'\n",
      " 'of cancellation. Economy Ticket - This ticket offers the least flexibility '\n",
      " 'and charges a fee for any changes or cancellations.\\n'\n",
      " 'The fee for cancelling an economy ticket can range from 150 to 350 CHF, '\n",
      " 'depending on the route and time of\\n'\n",
      " 'cancellation. It is important to note that the fees listed above are subject '\n",
      " 'to change and may vary depending on the\\n'\n",
      " 'specific ticket you have purchased. Additionally, if you have purchased any '\n",
      " 'add-ons or upgrades, such as extra baggage\\n'\n",
      " 'or seat selection, the fees associated with cancelling those may also '\n",
      " 'apply.\\n'\n",
      " 'Swiss Air Refund Policy If you cancel your Swiss Air flight, you may be '\n",
      " 'eligible for a refund depending on the type of\\n'\n",
      " 'ticket you have purchased and the time of cancellation. Here are the '\n",
      " 'details:\\n'\n",
      " 'Flex Ticket - If you have purchased a Flex Ticket, you can cancel your '\n",
      " 'flight without incurring any fees and receive a full\\n'\n",
      " 'refund. Standard Ticket - If you have purchased a Standard Ticket and cancel '\n",
      " 'your flight within 24 hours of booking, you\\n'\n",
      " 'can receive a full refund. If you cancel your flight after 24 hours, you may '\n",
      " 'be charged a cancellation fee and receive a\\n'\n",
      " 'partial refund. Economy Ticket - If you have purchased an Economy Ticket and '\n",
      " 'cancel your flight within 24 hours of\\n'\n",
      " 'booking, you can receive a full refund. If you cancel your flight after 24 '\n",
      " 'hours, you may be charged a cancellation fee and\\n'\n",
      " '\\n'\n",
      " '\\n'\n",
      " '\\n'\n",
      " '# User new question:\\n'\n",
      " 'What is the cancelation rule for a flight ticket at swiss airline policy?')\n"
     ]
    }
   ],
   "source": [
    "pprint(prompt)"
   ]
  },
  {
   "cell_type": "code",
   "execution_count": null,
   "id": "45604b94",
   "metadata": {},
   "outputs": [],
   "source": []
  }
 ],
 "metadata": {
  "kernelspec": {
   "display_name": "venv",
   "language": "python",
   "name": "python3"
  },
  "language_info": {
   "codemirror_mode": {
    "name": "ipython",
    "version": 3
   },
   "file_extension": ".py",
   "mimetype": "text/x-python",
   "name": "python",
   "nbconvert_exporter": "python",
   "pygments_lexer": "ipython3",
   "version": "3.12.3"
  }
 },
 "nbformat": 4,
 "nbformat_minor": 5
}
